{
 "cells": [
  {
   "cell_type": "code",
   "execution_count": 183,
   "metadata": {
    "scrolled": true
   },
   "outputs": [],
   "source": [
    "# special IPython command to prepare the notebook for matplotlib and other libraries\n",
    "%matplotlib inline \n",
    "\n",
    "import numpy as np\n",
    "import pandas as pd\n",
    "import scipy.stats as stats\n",
    "import matplotlib.pyplot as plt\n",
    "import sklearn\n",
    "\n",
    "import seaborn as sns\n",
    "\n",
    "# special matplotlib argument for improved plots\n",
    "from matplotlib import rcParams\n",
    "sns.set_style(\"whitegrid\")\n",
    "sns.set_context(\"poster\")\n"
   ]
  },
  {
   "cell_type": "code",
   "execution_count": 184,
   "metadata": {
    "scrolled": true
   },
   "outputs": [],
   "source": [
    "from sklearn.datasets import load_boston\n",
    "import pandas as pd\n",
    "\n",
    "#boston = load_boston()"
   ]
  },
  {
   "cell_type": "code",
   "execution_count": 185,
   "metadata": {},
   "outputs": [],
   "source": [
    "\n",
    "from sklearn import cluster\n",
    "from sklearn.cluster import KMeans\n",
    "import networkx as nx\n",
    "from collections import defaultdict\n",
    "import matplotlib.pyplot as plt\n",
    "from matplotlib import cm\n",
    "import seaborn as sns\n",
    "import pandas as pd\n",
    "import numpy as np\n",
    "from sklearn.metrics.cluster import normalized_mutual_info_score\n",
    "from sklearn.metrics.cluster import adjusted_rand_score\n",
    "   \n",
    "import os\n",
    "import pandas as pd\n",
    "import numpy as np\n",
    "import matplotlib\n",
    "import matplotlib.pyplot as plt"
   ]
  },
  {
   "cell_type": "code",
   "execution_count": 186,
   "metadata": {},
   "outputs": [],
   "source": [
    "#setting OS\n",
    "\n",
    "os.chdir('/Users/ruchikasi/Documents/Personal/Springboard/')"
   ]
  },
  {
   "cell_type": "code",
   "execution_count": 187,
   "metadata": {},
   "outputs": [],
   "source": [
    "df = pd.read_csv('/Users/ruchikasi/Documents/Personal/Springboard/csdf.csv')"
   ]
  },
  {
   "cell_type": "markdown",
   "metadata": {},
   "source": [
    "Exploring the shape and datatypes for the airbnb singapore listings dataset"
   ]
  },
  {
   "cell_type": "markdown",
   "metadata": {},
   "source": [
    "**Data Wrangling Summary**\n",
    "\n",
    "This Dataset is a listings dataset from AirBNB Singapore. The key features are neighbourhood descriptions, host id, listing id, room type , and other specifications around availability and minimum nights.\n",
    "\n",
    "Data Cleaning Summarry:\n",
    "\n",
    "Initial Steps: \n",
    "Summarized the dataset using methods like info,and describe to see which columns have missing values and which columns are not required for the analysis. The overall goal of my analysis two fold.\n",
    "A) to understand if there are different cohorts of neighbourhoods in Singapore for AirBNB.\n",
    "b) to understand what impacts price\n",
    "\n",
    "Variable Elimination : some of the columns like name, host_id( as analysis is done at id level) are arbitrary and removed from analysis.\n",
    "\n",
    "Variable Transformation: For , the two object type columns  neighbourhood_group and room_type - I created nominal variables so that they can be used in the analysis.\n",
    "\n",
    "Variable Selection :I did not remove last_review and number of reviews is kept as my hypothesis is that listings with review are higher priced than listings without review. I plan to do a t-test before eliminating these columns as possible predictors for my analysis.\n",
    "\n",
    "Outlier : analysis was done using z value for all continous variables. all rows with all of the z values > 3 were removed. i have not removed rows using individual outlier criteria and will do it later as I try out some models.\n",
    "\n",
    "Outlier : I removed all listings with 0 avbailability. \n",
    "\n"
   ]
  },
  {
   "cell_type": "code",
   "execution_count": 188,
   "metadata": {
    "scrolled": false
   },
   "outputs": [
    {
     "data": {
      "text/html": [
       "<div>\n",
       "<style scoped>\n",
       "    .dataframe tbody tr th:only-of-type {\n",
       "        vertical-align: middle;\n",
       "    }\n",
       "\n",
       "    .dataframe tbody tr th {\n",
       "        vertical-align: top;\n",
       "    }\n",
       "\n",
       "    .dataframe thead th {\n",
       "        text-align: right;\n",
       "    }\n",
       "</style>\n",
       "<table border=\"1\" class=\"dataframe\">\n",
       "  <thead>\n",
       "    <tr style=\"text-align: right;\">\n",
       "      <th></th>\n",
       "      <th>id</th>\n",
       "      <th>name</th>\n",
       "      <th>host_id</th>\n",
       "      <th>host_name</th>\n",
       "      <th>neighbourhood_group</th>\n",
       "      <th>neighbourhood</th>\n",
       "      <th>room_type</th>\n",
       "      <th>price</th>\n",
       "      <th>minimum_nights</th>\n",
       "      <th>number_of_reviews</th>\n",
       "      <th>last_review</th>\n",
       "      <th>Review_Recency</th>\n",
       "      <th>reviews_per_month</th>\n",
       "      <th>calculated_host_listings_count</th>\n",
       "      <th>availability_365</th>\n",
       "    </tr>\n",
       "  </thead>\n",
       "  <tbody>\n",
       "    <tr>\n",
       "      <td>0</td>\n",
       "      <td>21408571</td>\n",
       "      <td>1 BR @ Little India &amp; Farrer Park MRT</td>\n",
       "      <td>114674497</td>\n",
       "      <td>Mitul</td>\n",
       "      <td>Central Region</td>\n",
       "      <td>Rochor</td>\n",
       "      <td>Entire home/apt</td>\n",
       "      <td>0</td>\n",
       "      <td>3</td>\n",
       "      <td>9</td>\n",
       "      <td>8/11/19</td>\n",
       "      <td>NaN</td>\n",
       "      <td>0.51</td>\n",
       "      <td>6</td>\n",
       "      <td>351</td>\n",
       "    </tr>\n",
       "    <tr>\n",
       "      <td>1</td>\n",
       "      <td>18656726</td>\n",
       "      <td>Master Bedroom at The Clearwater Condo</td>\n",
       "      <td>21900076</td>\n",
       "      <td>Mary</td>\n",
       "      <td>East Region</td>\n",
       "      <td>Bedok</td>\n",
       "      <td>Shared room</td>\n",
       "      <td>14</td>\n",
       "      <td>1</td>\n",
       "      <td>0</td>\n",
       "      <td>NaN</td>\n",
       "      <td>NaN</td>\n",
       "      <td>NaN</td>\n",
       "      <td>2</td>\n",
       "      <td>0</td>\n",
       "    </tr>\n",
       "    <tr>\n",
       "      <td>2</td>\n",
       "      <td>37506711</td>\n",
       "      <td>Central 1BR Apt in Foodie Haven Hipster Paradise</td>\n",
       "      <td>29799617</td>\n",
       "      <td>John</td>\n",
       "      <td>Central Region</td>\n",
       "      <td>Geylang</td>\n",
       "      <td>Entire home/apt</td>\n",
       "      <td>14</td>\n",
       "      <td>3</td>\n",
       "      <td>4</td>\n",
       "      <td>8/26/19</td>\n",
       "      <td>NaN</td>\n",
       "      <td>4.00</td>\n",
       "      <td>1</td>\n",
       "      <td>34</td>\n",
       "    </tr>\n",
       "    <tr>\n",
       "      <td>3</td>\n",
       "      <td>35947264</td>\n",
       "      <td>Senja cozy</td>\n",
       "      <td>75175440</td>\n",
       "      <td>Rain</td>\n",
       "      <td>West Region</td>\n",
       "      <td>Bukit Panjang</td>\n",
       "      <td>Entire home/apt</td>\n",
       "      <td>14</td>\n",
       "      <td>1</td>\n",
       "      <td>1</td>\n",
       "      <td>6/24/19</td>\n",
       "      <td>NaN</td>\n",
       "      <td>0.45</td>\n",
       "      <td>2</td>\n",
       "      <td>0</td>\n",
       "    </tr>\n",
       "    <tr>\n",
       "      <td>4</td>\n",
       "      <td>18679631</td>\n",
       "      <td>Small room for you</td>\n",
       "      <td>108408404</td>\n",
       "      <td>Sutthida</td>\n",
       "      <td>Central Region</td>\n",
       "      <td>Marine Parade</td>\n",
       "      <td>Private room</td>\n",
       "      <td>14</td>\n",
       "      <td>2</td>\n",
       "      <td>1</td>\n",
       "      <td>5/14/17</td>\n",
       "      <td>NaN</td>\n",
       "      <td>0.04</td>\n",
       "      <td>1</td>\n",
       "      <td>0</td>\n",
       "    </tr>\n",
       "  </tbody>\n",
       "</table>\n",
       "</div>"
      ],
      "text/plain": [
       "         id                                              name    host_id  \\\n",
       "0  21408571             1 BR @ Little India & Farrer Park MRT  114674497   \n",
       "1  18656726            Master Bedroom at The Clearwater Condo   21900076   \n",
       "2  37506711  Central 1BR Apt in Foodie Haven Hipster Paradise   29799617   \n",
       "3  35947264                                        Senja cozy   75175440   \n",
       "4  18679631                                Small room for you  108408404   \n",
       "\n",
       "  host_name neighbourhood_group  neighbourhood        room_type  price  \\\n",
       "0     Mitul      Central Region         Rochor  Entire home/apt      0   \n",
       "1      Mary         East Region          Bedok      Shared room     14   \n",
       "2      John      Central Region        Geylang  Entire home/apt     14   \n",
       "3      Rain         West Region  Bukit Panjang  Entire home/apt     14   \n",
       "4  Sutthida      Central Region  Marine Parade     Private room     14   \n",
       "\n",
       "   minimum_nights  number_of_reviews last_review  Review_Recency  \\\n",
       "0               3                  9     8/11/19             NaN   \n",
       "1               1                  0         NaN             NaN   \n",
       "2               3                  4     8/26/19             NaN   \n",
       "3               1                  1     6/24/19             NaN   \n",
       "4               2                  1     5/14/17             NaN   \n",
       "\n",
       "   reviews_per_month  calculated_host_listings_count  availability_365  \n",
       "0               0.51                               6               351  \n",
       "1                NaN                               2                 0  \n",
       "2               4.00                               1                34  \n",
       "3               0.45                               2                 0  \n",
       "4               0.04                               1                 0  "
      ]
     },
     "execution_count": 188,
     "metadata": {},
     "output_type": "execute_result"
    }
   ],
   "source": [
    "df.head()"
   ]
  },
  {
   "cell_type": "code",
   "execution_count": null,
   "metadata": {},
   "outputs": [],
   "source": []
  },
  {
   "cell_type": "code",
   "execution_count": 189,
   "metadata": {
    "scrolled": true
   },
   "outputs": [
    {
     "name": "stdout",
     "output_type": "stream",
     "text": [
      "<class 'pandas.core.frame.DataFrame'>\n",
      "RangeIndex: 7907 entries, 0 to 7906\n",
      "Data columns (total 15 columns):\n",
      "id                                7907 non-null int64\n",
      "name                              7905 non-null object\n",
      "host_id                           7907 non-null int64\n",
      "host_name                         7907 non-null object\n",
      "neighbourhood_group               7907 non-null object\n",
      "neighbourhood                     7907 non-null object\n",
      "room_type                         7907 non-null object\n",
      "price                             7907 non-null int64\n",
      "minimum_nights                    7907 non-null int64\n",
      "number_of_reviews                 7907 non-null int64\n",
      "last_review                       5149 non-null object\n",
      "Review_Recency                    0 non-null float64\n",
      "reviews_per_month                 5149 non-null float64\n",
      "calculated_host_listings_count    7907 non-null int64\n",
      "availability_365                  7907 non-null int64\n",
      "dtypes: float64(2), int64(7), object(6)\n",
      "memory usage: 926.7+ KB\n"
     ]
    }
   ],
   "source": [
    "df.info()"
   ]
  },
  {
   "cell_type": "code",
   "execution_count": 190,
   "metadata": {
    "scrolled": false
   },
   "outputs": [
    {
     "data": {
      "text/plain": [
       "(7907, 15)"
      ]
     },
     "execution_count": 190,
     "metadata": {},
     "output_type": "execute_result"
    }
   ],
   "source": [
    "df.shape"
   ]
  },
  {
   "cell_type": "markdown",
   "metadata": {},
   "source": [
    "total of 7907 rows and 15 columns. next step is to find total sum of na values per columns"
   ]
  },
  {
   "cell_type": "code",
   "execution_count": 14,
   "metadata": {
    "scrolled": true
   },
   "outputs": [
    {
     "data": {
      "text/plain": [
       "id                                   0\n",
       "name                                 2\n",
       "host_id                              0\n",
       "host_name                            0\n",
       "neighbourhood_group                  0\n",
       "neighbourhood                        0\n",
       "room_type                            0\n",
       "price                                0\n",
       "minimum_nights                       0\n",
       "number_of_reviews                    0\n",
       "last_review                       2758\n",
       "Review_Recency                    7907\n",
       "reviews_per_month                 2758\n",
       "calculated_host_listings_count       0\n",
       "availability_365                     0\n",
       "dtype: int64"
      ]
     },
     "execution_count": 14,
     "metadata": {},
     "output_type": "execute_result"
    }
   ],
   "source": [
    "df.isna().sum()"
   ]
  },
  {
   "cell_type": "markdown",
   "metadata": {},
   "source": [
    "** Findings of intial review of data \n",
    "*  Name as 2 missing names but that shoul not be an issue as we will be using id as our index for most analysis.\n",
    "\n",
    "* Drop Review_Recency as it is totally blank.\n",
    "\n",
    "* last review has 35% missing data. But would still like to use it as a variable as it may have an impact on price.\n",
    "\n",
    "* last review and review per month are correlated as last review data is blank for all the listings with no review. I will keep the data as is for now and may impute missing values at the time of modelling\n",
    "\n",
    "\n"
   ]
  },
  {
   "cell_type": "code",
   "execution_count": 191,
   "metadata": {
    "scrolled": false
   },
   "outputs": [
    {
     "data": {
      "text/plain": [
       "Index(['id', 'name', 'host_id', 'host_name', 'neighbourhood_group',\n",
       "       'neighbourhood', 'room_type', 'price', 'minimum_nights',\n",
       "       'number_of_reviews', 'last_review', 'Review_Recency',\n",
       "       'reviews_per_month', 'calculated_host_listings_count',\n",
       "       'availability_365'],\n",
       "      dtype='object')"
      ]
     },
     "execution_count": 191,
     "metadata": {},
     "output_type": "execute_result"
    }
   ],
   "source": [
    "df.keys()"
   ]
  },
  {
   "cell_type": "markdown",
   "metadata": {},
   "source": [
    "Now let's explore the data set itself. "
   ]
  },
  {
   "cell_type": "code",
   "execution_count": 192,
   "metadata": {
    "scrolled": true
   },
   "outputs": [
    {
     "data": {
      "text/html": [
       "<div>\n",
       "<style scoped>\n",
       "    .dataframe tbody tr th:only-of-type {\n",
       "        vertical-align: middle;\n",
       "    }\n",
       "\n",
       "    .dataframe tbody tr th {\n",
       "        vertical-align: top;\n",
       "    }\n",
       "\n",
       "    .dataframe thead th {\n",
       "        text-align: right;\n",
       "    }\n",
       "</style>\n",
       "<table border=\"1\" class=\"dataframe\">\n",
       "  <thead>\n",
       "    <tr style=\"text-align: right;\">\n",
       "      <th></th>\n",
       "      <th>id</th>\n",
       "      <th>name</th>\n",
       "      <th>host_id</th>\n",
       "      <th>host_name</th>\n",
       "      <th>neighbourhood_group</th>\n",
       "      <th>neighbourhood</th>\n",
       "      <th>room_type</th>\n",
       "      <th>price</th>\n",
       "      <th>minimum_nights</th>\n",
       "      <th>number_of_reviews</th>\n",
       "      <th>last_review</th>\n",
       "      <th>Review_Recency</th>\n",
       "      <th>reviews_per_month</th>\n",
       "      <th>calculated_host_listings_count</th>\n",
       "      <th>availability_365</th>\n",
       "    </tr>\n",
       "  </thead>\n",
       "  <tbody>\n",
       "    <tr>\n",
       "      <td>0</td>\n",
       "      <td>21408571</td>\n",
       "      <td>1 BR @ Little India &amp; Farrer Park MRT</td>\n",
       "      <td>114674497</td>\n",
       "      <td>Mitul</td>\n",
       "      <td>Central Region</td>\n",
       "      <td>Rochor</td>\n",
       "      <td>Entire home/apt</td>\n",
       "      <td>0</td>\n",
       "      <td>3</td>\n",
       "      <td>9</td>\n",
       "      <td>8/11/19</td>\n",
       "      <td>NaN</td>\n",
       "      <td>0.51</td>\n",
       "      <td>6</td>\n",
       "      <td>351</td>\n",
       "    </tr>\n",
       "    <tr>\n",
       "      <td>1</td>\n",
       "      <td>18656726</td>\n",
       "      <td>Master Bedroom at The Clearwater Condo</td>\n",
       "      <td>21900076</td>\n",
       "      <td>Mary</td>\n",
       "      <td>East Region</td>\n",
       "      <td>Bedok</td>\n",
       "      <td>Shared room</td>\n",
       "      <td>14</td>\n",
       "      <td>1</td>\n",
       "      <td>0</td>\n",
       "      <td>NaN</td>\n",
       "      <td>NaN</td>\n",
       "      <td>NaN</td>\n",
       "      <td>2</td>\n",
       "      <td>0</td>\n",
       "    </tr>\n",
       "    <tr>\n",
       "      <td>2</td>\n",
       "      <td>37506711</td>\n",
       "      <td>Central 1BR Apt in Foodie Haven Hipster Paradise</td>\n",
       "      <td>29799617</td>\n",
       "      <td>John</td>\n",
       "      <td>Central Region</td>\n",
       "      <td>Geylang</td>\n",
       "      <td>Entire home/apt</td>\n",
       "      <td>14</td>\n",
       "      <td>3</td>\n",
       "      <td>4</td>\n",
       "      <td>8/26/19</td>\n",
       "      <td>NaN</td>\n",
       "      <td>4.00</td>\n",
       "      <td>1</td>\n",
       "      <td>34</td>\n",
       "    </tr>\n",
       "  </tbody>\n",
       "</table>\n",
       "</div>"
      ],
      "text/plain": [
       "         id                                              name    host_id  \\\n",
       "0  21408571             1 BR @ Little India & Farrer Park MRT  114674497   \n",
       "1  18656726            Master Bedroom at The Clearwater Condo   21900076   \n",
       "2  37506711  Central 1BR Apt in Foodie Haven Hipster Paradise   29799617   \n",
       "\n",
       "  host_name neighbourhood_group neighbourhood        room_type  price  \\\n",
       "0     Mitul      Central Region        Rochor  Entire home/apt      0   \n",
       "1      Mary         East Region         Bedok      Shared room     14   \n",
       "2      John      Central Region       Geylang  Entire home/apt     14   \n",
       "\n",
       "   minimum_nights  number_of_reviews last_review  Review_Recency  \\\n",
       "0               3                  9     8/11/19             NaN   \n",
       "1               1                  0         NaN             NaN   \n",
       "2               3                  4     8/26/19             NaN   \n",
       "\n",
       "   reviews_per_month  calculated_host_listings_count  availability_365  \n",
       "0               0.51                               6               351  \n",
       "1                NaN                               2                 0  \n",
       "2               4.00                               1                34  "
      ]
     },
     "execution_count": 192,
     "metadata": {},
     "output_type": "execute_result"
    }
   ],
   "source": [
    "df.head(3)"
   ]
  },
  {
   "cell_type": "code",
   "execution_count": 193,
   "metadata": {},
   "outputs": [],
   "source": [
    "# dropping variables which are not required.\n",
    "\n",
    "#Fields not needed to our problem\n",
    "to_drop = [\"name\",\"host_name\", \"Review_Recency\",]\n",
    "    \n",
    "# Drop selected fields in place\n",
    "df.drop(to_drop, inplace=True, axis=1)"
   ]
  },
  {
   "cell_type": "code",
   "execution_count": 194,
   "metadata": {
    "scrolled": true
   },
   "outputs": [
    {
     "data": {
      "text/html": [
       "<div>\n",
       "<style scoped>\n",
       "    .dataframe tbody tr th:only-of-type {\n",
       "        vertical-align: middle;\n",
       "    }\n",
       "\n",
       "    .dataframe tbody tr th {\n",
       "        vertical-align: top;\n",
       "    }\n",
       "\n",
       "    .dataframe thead th {\n",
       "        text-align: right;\n",
       "    }\n",
       "</style>\n",
       "<table border=\"1\" class=\"dataframe\">\n",
       "  <thead>\n",
       "    <tr style=\"text-align: right;\">\n",
       "      <th></th>\n",
       "      <th>id</th>\n",
       "      <th>host_id</th>\n",
       "      <th>neighbourhood_group</th>\n",
       "      <th>neighbourhood</th>\n",
       "      <th>room_type</th>\n",
       "      <th>price</th>\n",
       "      <th>minimum_nights</th>\n",
       "      <th>number_of_reviews</th>\n",
       "      <th>last_review</th>\n",
       "      <th>reviews_per_month</th>\n",
       "      <th>calculated_host_listings_count</th>\n",
       "      <th>availability_365</th>\n",
       "    </tr>\n",
       "  </thead>\n",
       "  <tbody>\n",
       "    <tr>\n",
       "      <td>0</td>\n",
       "      <td>21408571</td>\n",
       "      <td>114674497</td>\n",
       "      <td>Central Region</td>\n",
       "      <td>Rochor</td>\n",
       "      <td>Entire home/apt</td>\n",
       "      <td>0</td>\n",
       "      <td>3</td>\n",
       "      <td>9</td>\n",
       "      <td>8/11/19</td>\n",
       "      <td>0.51</td>\n",
       "      <td>6</td>\n",
       "      <td>351</td>\n",
       "    </tr>\n",
       "    <tr>\n",
       "      <td>1</td>\n",
       "      <td>18656726</td>\n",
       "      <td>21900076</td>\n",
       "      <td>East Region</td>\n",
       "      <td>Bedok</td>\n",
       "      <td>Shared room</td>\n",
       "      <td>14</td>\n",
       "      <td>1</td>\n",
       "      <td>0</td>\n",
       "      <td>NaN</td>\n",
       "      <td>NaN</td>\n",
       "      <td>2</td>\n",
       "      <td>0</td>\n",
       "    </tr>\n",
       "    <tr>\n",
       "      <td>2</td>\n",
       "      <td>37506711</td>\n",
       "      <td>29799617</td>\n",
       "      <td>Central Region</td>\n",
       "      <td>Geylang</td>\n",
       "      <td>Entire home/apt</td>\n",
       "      <td>14</td>\n",
       "      <td>3</td>\n",
       "      <td>4</td>\n",
       "      <td>8/26/19</td>\n",
       "      <td>4.00</td>\n",
       "      <td>1</td>\n",
       "      <td>34</td>\n",
       "    </tr>\n",
       "  </tbody>\n",
       "</table>\n",
       "</div>"
      ],
      "text/plain": [
       "         id    host_id neighbourhood_group neighbourhood        room_type  \\\n",
       "0  21408571  114674497      Central Region        Rochor  Entire home/apt   \n",
       "1  18656726   21900076         East Region         Bedok      Shared room   \n",
       "2  37506711   29799617      Central Region       Geylang  Entire home/apt   \n",
       "\n",
       "   price  minimum_nights  number_of_reviews last_review  reviews_per_month  \\\n",
       "0      0               3                  9     8/11/19               0.51   \n",
       "1     14               1                  0         NaN                NaN   \n",
       "2     14               3                  4     8/26/19               4.00   \n",
       "\n",
       "   calculated_host_listings_count  availability_365  \n",
       "0                               6               351  \n",
       "1                               2                 0  \n",
       "2                               1                34  "
      ]
     },
     "execution_count": 194,
     "metadata": {},
     "output_type": "execute_result"
    }
   ],
   "source": [
    "#reviewing new dataset\n",
    "df.head(3)"
   ]
  },
  {
   "cell_type": "code",
   "execution_count": 195,
   "metadata": {
    "scrolled": false
   },
   "outputs": [
    {
     "data": {
      "text/html": [
       "<div>\n",
       "<style scoped>\n",
       "    .dataframe tbody tr th:only-of-type {\n",
       "        vertical-align: middle;\n",
       "    }\n",
       "\n",
       "    .dataframe tbody tr th {\n",
       "        vertical-align: top;\n",
       "    }\n",
       "\n",
       "    .dataframe thead th {\n",
       "        text-align: right;\n",
       "    }\n",
       "</style>\n",
       "<table border=\"1\" class=\"dataframe\">\n",
       "  <thead>\n",
       "    <tr style=\"text-align: right;\">\n",
       "      <th></th>\n",
       "      <th>id</th>\n",
       "      <th>host_id</th>\n",
       "      <th>price</th>\n",
       "      <th>minimum_nights</th>\n",
       "      <th>number_of_reviews</th>\n",
       "      <th>reviews_per_month</th>\n",
       "      <th>calculated_host_listings_count</th>\n",
       "      <th>availability_365</th>\n",
       "    </tr>\n",
       "  </thead>\n",
       "  <tbody>\n",
       "    <tr>\n",
       "      <td>count</td>\n",
       "      <td>7.907000e+03</td>\n",
       "      <td>7.907000e+03</td>\n",
       "      <td>7907.000000</td>\n",
       "      <td>7907.000000</td>\n",
       "      <td>7907.000000</td>\n",
       "      <td>5149.000000</td>\n",
       "      <td>7907.000000</td>\n",
       "      <td>7907.000000</td>\n",
       "    </tr>\n",
       "    <tr>\n",
       "      <td>mean</td>\n",
       "      <td>2.338862e+07</td>\n",
       "      <td>9.114481e+07</td>\n",
       "      <td>169.332996</td>\n",
       "      <td>17.510054</td>\n",
       "      <td>12.807386</td>\n",
       "      <td>1.043669</td>\n",
       "      <td>40.607689</td>\n",
       "      <td>208.726318</td>\n",
       "    </tr>\n",
       "    <tr>\n",
       "      <td>std</td>\n",
       "      <td>1.016416e+07</td>\n",
       "      <td>8.190910e+07</td>\n",
       "      <td>340.187599</td>\n",
       "      <td>42.094616</td>\n",
       "      <td>29.707746</td>\n",
       "      <td>1.285851</td>\n",
       "      <td>65.135253</td>\n",
       "      <td>146.120034</td>\n",
       "    </tr>\n",
       "    <tr>\n",
       "      <td>min</td>\n",
       "      <td>4.909100e+04</td>\n",
       "      <td>2.366600e+04</td>\n",
       "      <td>0.000000</td>\n",
       "      <td>1.000000</td>\n",
       "      <td>0.000000</td>\n",
       "      <td>0.010000</td>\n",
       "      <td>1.000000</td>\n",
       "      <td>0.000000</td>\n",
       "    </tr>\n",
       "    <tr>\n",
       "      <td>25%</td>\n",
       "      <td>1.582180e+07</td>\n",
       "      <td>2.305808e+07</td>\n",
       "      <td>65.000000</td>\n",
       "      <td>1.000000</td>\n",
       "      <td>0.000000</td>\n",
       "      <td>0.180000</td>\n",
       "      <td>2.000000</td>\n",
       "      <td>54.000000</td>\n",
       "    </tr>\n",
       "    <tr>\n",
       "      <td>50%</td>\n",
       "      <td>2.470627e+07</td>\n",
       "      <td>6.344891e+07</td>\n",
       "      <td>124.000000</td>\n",
       "      <td>3.000000</td>\n",
       "      <td>2.000000</td>\n",
       "      <td>0.550000</td>\n",
       "      <td>9.000000</td>\n",
       "      <td>260.000000</td>\n",
       "    </tr>\n",
       "    <tr>\n",
       "      <td>75%</td>\n",
       "      <td>3.234850e+07</td>\n",
       "      <td>1.553811e+08</td>\n",
       "      <td>199.000000</td>\n",
       "      <td>10.000000</td>\n",
       "      <td>10.000000</td>\n",
       "      <td>1.370000</td>\n",
       "      <td>48.000000</td>\n",
       "      <td>355.000000</td>\n",
       "    </tr>\n",
       "    <tr>\n",
       "      <td>max</td>\n",
       "      <td>3.811276e+07</td>\n",
       "      <td>2.885676e+08</td>\n",
       "      <td>10000.000000</td>\n",
       "      <td>1000.000000</td>\n",
       "      <td>323.000000</td>\n",
       "      <td>13.000000</td>\n",
       "      <td>274.000000</td>\n",
       "      <td>365.000000</td>\n",
       "    </tr>\n",
       "  </tbody>\n",
       "</table>\n",
       "</div>"
      ],
      "text/plain": [
       "                 id       host_id         price  minimum_nights  \\\n",
       "count  7.907000e+03  7.907000e+03   7907.000000     7907.000000   \n",
       "mean   2.338862e+07  9.114481e+07    169.332996       17.510054   \n",
       "std    1.016416e+07  8.190910e+07    340.187599       42.094616   \n",
       "min    4.909100e+04  2.366600e+04      0.000000        1.000000   \n",
       "25%    1.582180e+07  2.305808e+07     65.000000        1.000000   \n",
       "50%    2.470627e+07  6.344891e+07    124.000000        3.000000   \n",
       "75%    3.234850e+07  1.553811e+08    199.000000       10.000000   \n",
       "max    3.811276e+07  2.885676e+08  10000.000000     1000.000000   \n",
       "\n",
       "       number_of_reviews  reviews_per_month  calculated_host_listings_count  \\\n",
       "count        7907.000000        5149.000000                     7907.000000   \n",
       "mean           12.807386           1.043669                       40.607689   \n",
       "std            29.707746           1.285851                       65.135253   \n",
       "min             0.000000           0.010000                        1.000000   \n",
       "25%             0.000000           0.180000                        2.000000   \n",
       "50%             2.000000           0.550000                        9.000000   \n",
       "75%            10.000000           1.370000                       48.000000   \n",
       "max           323.000000          13.000000                      274.000000   \n",
       "\n",
       "       availability_365  \n",
       "count       7907.000000  \n",
       "mean         208.726318  \n",
       "std          146.120034  \n",
       "min            0.000000  \n",
       "25%           54.000000  \n",
       "50%          260.000000  \n",
       "75%          355.000000  \n",
       "max          365.000000  "
      ]
     },
     "execution_count": 195,
     "metadata": {},
     "output_type": "execute_result"
    }
   ],
   "source": [
    "df.describe()"
   ]
  },
  {
   "cell_type": "code",
   "execution_count": 196,
   "metadata": {},
   "outputs": [],
   "source": [
    "#list of continuous variables\n",
    "#list of continous columns\n",
    "col = ['price','minimum_nights','number_of_reviews','availability_365','calculated_host_listings_count']"
   ]
  },
  {
   "cell_type": "code",
   "execution_count": 197,
   "metadata": {},
   "outputs": [],
   "source": [
    "\n",
    "#plotting box plots to discover outliers\n",
    "\n",
    "def drawhist(col):\n",
    "    for i in col:\n",
    "        sns.boxplot(x = df[i])\n",
    "        \n",
    "        plt.xlabel(i)\n",
    "        plt.show()\n",
    "    return()\n",
    "\n"
   ]
  },
  {
   "cell_type": "code",
   "execution_count": 42,
   "metadata": {
    "scrolled": false
   },
   "outputs": [
    {
     "name": "stderr",
     "output_type": "stream",
     "text": [
      "/opt/anaconda3/lib/python3.7/site-packages/pandas/plotting/_matplotlib/hist.py:62: MatplotlibDeprecationWarning: \n",
      "The 'normed' kwarg was deprecated in Matplotlib 2.1 and will be removed in 3.1. Use 'density' instead.\n",
      "  n, bins, patches = ax.hist(y, bins=bins, bottom=bottom, **kwds)\n"
     ]
    },
    {
     "data": {
      "image/png": "[encoded data removed]",
      "text/plain": [
       "<Figure size 432x288 with 1 Axes>"
      ]
     },
     "metadata": {
      "needs_background": "light"
     },
     "output_type": "display_data"
    },
    {
     "name": "stderr",
     "output_type": "stream",
     "text": [
      "/opt/anaconda3/lib/python3.7/site-packages/pandas/plotting/_matplotlib/hist.py:62: MatplotlibDeprecationWarning: \n",
      "The 'normed' kwarg was deprecated in Matplotlib 2.1 and will be removed in 3.1. Use 'density' instead.\n",
      "  n, bins, patches = ax.hist(y, bins=bins, bottom=bottom, **kwds)\n"
     ]
    },
    {
     "data": {
      "image/png": "[encoded data removed]",
      "text/plain": [
       "<Figure size 432x288 with 1 Axes>"
      ]
     },
     "metadata": {
      "needs_background": "light"
     },
     "output_type": "display_data"
    },
    {
     "name": "stderr",
     "output_type": "stream",
     "text": [
      "/opt/anaconda3/lib/python3.7/site-packages/pandas/plotting/_matplotlib/hist.py:62: MatplotlibDeprecationWarning: \n",
      "The 'normed' kwarg was deprecated in Matplotlib 2.1 and will be removed in 3.1. Use 'density' instead.\n",
      "  n, bins, patches = ax.hist(y, bins=bins, bottom=bottom, **kwds)\n"
     ]
    },
    {
     "data": {
      "image/png": "[encoded data removed]",
      "text/plain": [
       "<Figure size 432x288 with 1 Axes>"
      ]
     },
     "metadata": {
      "needs_background": "light"
     },
     "output_type": "display_data"
    },
    {
     "name": "stderr",
     "output_type": "stream",
     "text": [
      "/opt/anaconda3/lib/python3.7/site-packages/pandas/plotting/_matplotlib/hist.py:62: MatplotlibDeprecationWarning: \n",
      "The 'normed' kwarg was deprecated in Matplotlib 2.1 and will be removed in 3.1. Use 'density' instead.\n",
      "  n, bins, patches = ax.hist(y, bins=bins, bottom=bottom, **kwds)\n"
     ]
    },
    {
     "data": {
      "image/png": "[encoded data removed]",
      "text/plain": [
       "<Figure size 432x288 with 1 Axes>"
      ]
     },
     "metadata": {
      "needs_background": "light"
     },
     "output_type": "display_data"
    },
    {
     "name": "stderr",
     "output_type": "stream",
     "text": [
      "/opt/anaconda3/lib/python3.7/site-packages/pandas/plotting/_matplotlib/hist.py:62: MatplotlibDeprecationWarning: \n",
      "The 'normed' kwarg was deprecated in Matplotlib 2.1 and will be removed in 3.1. Use 'density' instead.\n",
      "  n, bins, patches = ax.hist(y, bins=bins, bottom=bottom, **kwds)\n"
     ]
    },
    {
     "data": {
      "image/png": "[encoded data removed]",
      "text/plain": [
       "<Figure size 432x288 with 1 Axes>"
      ]
     },
     "metadata": {
      "needs_background": "light"
     },
     "output_type": "display_data"
    },
    {
     "data": {
      "text/plain": [
       "()"
      ]
     },
     "execution_count": 42,
     "metadata": {},
     "output_type": "execute_result"
    }
   ],
   "source": [
    "drawhist(col)"
   ]
  },
  {
   "cell_type": "code",
   "execution_count": 198,
   "metadata": {},
   "outputs": [],
   "source": [
    "#using z scores to identify outliers\n",
    "\n",
    "from scipy import stats\n",
    "import numpy as np\n"
   ]
  },
  {
   "cell_type": "code",
   "execution_count": 94,
   "metadata": {},
   "outputs": [],
   "source": [
    "#syntax : df = pd.DataFrame(data, columns = ['Name', 'Age'])\n"
   ]
  },
  {
   "cell_type": "code",
   "execution_count": 199,
   "metadata": {},
   "outputs": [],
   "source": [
    "# writing a function to create additional columns in df for z values for each variable \n",
    "def zvalues(col):\n",
    "    for i in col:\n",
    "        z = pd.DataFrame(np.abs(stats.zscore(df[i])),columns = [i+\" zval\"])\n",
    "        df[i+\" zval\"]= z[i+\" zval\"]\n",
    "    return()"
   ]
  },
  {
   "cell_type": "code",
   "execution_count": 200,
   "metadata": {
    "scrolled": true
   },
   "outputs": [
    {
     "data": {
      "text/plain": [
       "()"
      ]
     },
     "execution_count": 200,
     "metadata": {},
     "output_type": "execute_result"
    }
   ],
   "source": [
    "zvalues(col)"
   ]
  },
  {
   "cell_type": "code",
   "execution_count": 201,
   "metadata": {
    "scrolled": false
   },
   "outputs": [
    {
     "data": {
      "text/html": [
       "<div>\n",
       "<style scoped>\n",
       "    .dataframe tbody tr th:only-of-type {\n",
       "        vertical-align: middle;\n",
       "    }\n",
       "\n",
       "    .dataframe tbody tr th {\n",
       "        vertical-align: top;\n",
       "    }\n",
       "\n",
       "    .dataframe thead th {\n",
       "        text-align: right;\n",
       "    }\n",
       "</style>\n",
       "<table border=\"1\" class=\"dataframe\">\n",
       "  <thead>\n",
       "    <tr style=\"text-align: right;\">\n",
       "      <th></th>\n",
       "      <th>id</th>\n",
       "      <th>host_id</th>\n",
       "      <th>neighbourhood_group</th>\n",
       "      <th>neighbourhood</th>\n",
       "      <th>room_type</th>\n",
       "      <th>price</th>\n",
       "      <th>minimum_nights</th>\n",
       "      <th>number_of_reviews</th>\n",
       "      <th>last_review</th>\n",
       "      <th>reviews_per_month</th>\n",
       "      <th>calculated_host_listings_count</th>\n",
       "      <th>availability_365</th>\n",
       "      <th>price zval</th>\n",
       "      <th>minimum_nights zval</th>\n",
       "      <th>number_of_reviews zval</th>\n",
       "      <th>availability_365 zval</th>\n",
       "      <th>calculated_host_listings_count zval</th>\n",
       "    </tr>\n",
       "  </thead>\n",
       "  <tbody>\n",
       "    <tr>\n",
       "      <td>0</td>\n",
       "      <td>21408571</td>\n",
       "      <td>114674497</td>\n",
       "      <td>Central Region</td>\n",
       "      <td>Rochor</td>\n",
       "      <td>Entire home/apt</td>\n",
       "      <td>0</td>\n",
       "      <td>3</td>\n",
       "      <td>9</td>\n",
       "      <td>8/11/19</td>\n",
       "      <td>0.51</td>\n",
       "      <td>6</td>\n",
       "      <td>351</td>\n",
       "      <td>0.497795</td>\n",
       "      <td>0.344723</td>\n",
       "      <td>0.128169</td>\n",
       "      <td>0.973738</td>\n",
       "      <td>0.531354</td>\n",
       "    </tr>\n",
       "    <tr>\n",
       "      <td>1</td>\n",
       "      <td>18656726</td>\n",
       "      <td>21900076</td>\n",
       "      <td>East Region</td>\n",
       "      <td>Bedok</td>\n",
       "      <td>Shared room</td>\n",
       "      <td>14</td>\n",
       "      <td>1</td>\n",
       "      <td>0</td>\n",
       "      <td>NaN</td>\n",
       "      <td>NaN</td>\n",
       "      <td>2</td>\n",
       "      <td>0</td>\n",
       "      <td>0.456639</td>\n",
       "      <td>0.392238</td>\n",
       "      <td>0.431140</td>\n",
       "      <td>1.428548</td>\n",
       "      <td>0.592769</td>\n",
       "    </tr>\n",
       "    <tr>\n",
       "      <td>2</td>\n",
       "      <td>37506711</td>\n",
       "      <td>29799617</td>\n",
       "      <td>Central Region</td>\n",
       "      <td>Geylang</td>\n",
       "      <td>Entire home/apt</td>\n",
       "      <td>14</td>\n",
       "      <td>3</td>\n",
       "      <td>4</td>\n",
       "      <td>8/26/19</td>\n",
       "      <td>4.00</td>\n",
       "      <td>1</td>\n",
       "      <td>34</td>\n",
       "      <td>0.456639</td>\n",
       "      <td>0.344723</td>\n",
       "      <td>0.296486</td>\n",
       "      <td>1.195848</td>\n",
       "      <td>0.608122</td>\n",
       "    </tr>\n",
       "    <tr>\n",
       "      <td>3</td>\n",
       "      <td>35947264</td>\n",
       "      <td>75175440</td>\n",
       "      <td>West Region</td>\n",
       "      <td>Bukit Panjang</td>\n",
       "      <td>Entire home/apt</td>\n",
       "      <td>14</td>\n",
       "      <td>1</td>\n",
       "      <td>1</td>\n",
       "      <td>6/24/19</td>\n",
       "      <td>0.45</td>\n",
       "      <td>2</td>\n",
       "      <td>0</td>\n",
       "      <td>0.456639</td>\n",
       "      <td>0.392238</td>\n",
       "      <td>0.397477</td>\n",
       "      <td>1.428548</td>\n",
       "      <td>0.592769</td>\n",
       "    </tr>\n",
       "    <tr>\n",
       "      <td>4</td>\n",
       "      <td>18679631</td>\n",
       "      <td>108408404</td>\n",
       "      <td>Central Region</td>\n",
       "      <td>Marine Parade</td>\n",
       "      <td>Private room</td>\n",
       "      <td>14</td>\n",
       "      <td>2</td>\n",
       "      <td>1</td>\n",
       "      <td>5/14/17</td>\n",
       "      <td>0.04</td>\n",
       "      <td>1</td>\n",
       "      <td>0</td>\n",
       "      <td>0.456639</td>\n",
       "      <td>0.368480</td>\n",
       "      <td>0.397477</td>\n",
       "      <td>1.428548</td>\n",
       "      <td>0.608122</td>\n",
       "    </tr>\n",
       "  </tbody>\n",
       "</table>\n",
       "</div>"
      ],
      "text/plain": [
       "         id    host_id neighbourhood_group  neighbourhood        room_type  \\\n",
       "0  21408571  114674497      Central Region         Rochor  Entire home/apt   \n",
       "1  18656726   21900076         East Region          Bedok      Shared room   \n",
       "2  37506711   29799617      Central Region        Geylang  Entire home/apt   \n",
       "3  35947264   75175440         West Region  Bukit Panjang  Entire home/apt   \n",
       "4  18679631  108408404      Central Region  Marine Parade     Private room   \n",
       "\n",
       "   price  minimum_nights  number_of_reviews last_review  reviews_per_month  \\\n",
       "0      0               3                  9     8/11/19               0.51   \n",
       "1     14               1                  0         NaN                NaN   \n",
       "2     14               3                  4     8/26/19               4.00   \n",
       "3     14               1                  1     6/24/19               0.45   \n",
       "4     14               2                  1     5/14/17               0.04   \n",
       "\n",
       "   calculated_host_listings_count  availability_365  price zval  \\\n",
       "0                               6               351    0.497795   \n",
       "1                               2                 0    0.456639   \n",
       "2                               1                34    0.456639   \n",
       "3                               2                 0    0.456639   \n",
       "4                               1                 0    0.456639   \n",
       "\n",
       "   minimum_nights zval  number_of_reviews zval  availability_365 zval  \\\n",
       "0             0.344723                0.128169               0.973738   \n",
       "1             0.392238                0.431140               1.428548   \n",
       "2             0.344723                0.296486               1.195848   \n",
       "3             0.392238                0.397477               1.428548   \n",
       "4             0.368480                0.397477               1.428548   \n",
       "\n",
       "   calculated_host_listings_count zval  \n",
       "0                             0.531354  \n",
       "1                             0.592769  \n",
       "2                             0.608122  \n",
       "3                             0.592769  \n",
       "4                             0.608122  "
      ]
     },
     "execution_count": 201,
     "metadata": {},
     "output_type": "execute_result"
    }
   ],
   "source": [
    "df.head()"
   ]
  },
  {
   "cell_type": "code",
   "execution_count": 202,
   "metadata": {},
   "outputs": [],
   "source": [
    "# removing outliers based on 3 variables i found relevant\n",
    "\n",
    "df_o = df[(df['price zval']<3) & (df['minimum_nights zval']<3) & (df['availability_365 zval'] <3)]"
   ]
  },
  {
   "cell_type": "code",
   "execution_count": 203,
   "metadata": {
    "scrolled": true
   },
   "outputs": [
    {
     "data": {
      "text/plain": [
       "(7699, 17)"
      ]
     },
     "execution_count": 203,
     "metadata": {},
     "output_type": "execute_result"
    }
   ],
   "source": [
    "df_o.shape"
   ]
  },
  {
   "cell_type": "code",
   "execution_count": 204,
   "metadata": {
    "scrolled": false
   },
   "outputs": [
    {
     "data": {
      "text/html": [
       "<div>\n",
       "<style scoped>\n",
       "    .dataframe tbody tr th:only-of-type {\n",
       "        vertical-align: middle;\n",
       "    }\n",
       "\n",
       "    .dataframe tbody tr th {\n",
       "        vertical-align: top;\n",
       "    }\n",
       "\n",
       "    .dataframe thead th {\n",
       "        text-align: right;\n",
       "    }\n",
       "</style>\n",
       "<table border=\"1\" class=\"dataframe\">\n",
       "  <thead>\n",
       "    <tr style=\"text-align: right;\">\n",
       "      <th></th>\n",
       "      <th>id</th>\n",
       "      <th>host_id</th>\n",
       "      <th>neighbourhood_group</th>\n",
       "      <th>neighbourhood</th>\n",
       "      <th>room_type</th>\n",
       "      <th>price</th>\n",
       "      <th>minimum_nights</th>\n",
       "      <th>number_of_reviews</th>\n",
       "      <th>last_review</th>\n",
       "      <th>reviews_per_month</th>\n",
       "      <th>calculated_host_listings_count</th>\n",
       "      <th>availability_365</th>\n",
       "      <th>price zval</th>\n",
       "      <th>minimum_nights zval</th>\n",
       "      <th>number_of_reviews zval</th>\n",
       "      <th>availability_365 zval</th>\n",
       "      <th>calculated_host_listings_count zval</th>\n",
       "    </tr>\n",
       "  </thead>\n",
       "  <tbody>\n",
       "    <tr>\n",
       "      <td>0</td>\n",
       "      <td>21408571</td>\n",
       "      <td>114674497</td>\n",
       "      <td>Central Region</td>\n",
       "      <td>Rochor</td>\n",
       "      <td>Entire home/apt</td>\n",
       "      <td>0</td>\n",
       "      <td>3</td>\n",
       "      <td>9</td>\n",
       "      <td>8/11/19</td>\n",
       "      <td>0.51</td>\n",
       "      <td>6</td>\n",
       "      <td>351</td>\n",
       "      <td>0.497795</td>\n",
       "      <td>0.344723</td>\n",
       "      <td>0.128169</td>\n",
       "      <td>0.973738</td>\n",
       "      <td>0.531354</td>\n",
       "    </tr>\n",
       "    <tr>\n",
       "      <td>1</td>\n",
       "      <td>18656726</td>\n",
       "      <td>21900076</td>\n",
       "      <td>East Region</td>\n",
       "      <td>Bedok</td>\n",
       "      <td>Shared room</td>\n",
       "      <td>14</td>\n",
       "      <td>1</td>\n",
       "      <td>0</td>\n",
       "      <td>NaN</td>\n",
       "      <td>NaN</td>\n",
       "      <td>2</td>\n",
       "      <td>0</td>\n",
       "      <td>0.456639</td>\n",
       "      <td>0.392238</td>\n",
       "      <td>0.431140</td>\n",
       "      <td>1.428548</td>\n",
       "      <td>0.592769</td>\n",
       "    </tr>\n",
       "    <tr>\n",
       "      <td>2</td>\n",
       "      <td>37506711</td>\n",
       "      <td>29799617</td>\n",
       "      <td>Central Region</td>\n",
       "      <td>Geylang</td>\n",
       "      <td>Entire home/apt</td>\n",
       "      <td>14</td>\n",
       "      <td>3</td>\n",
       "      <td>4</td>\n",
       "      <td>8/26/19</td>\n",
       "      <td>4.00</td>\n",
       "      <td>1</td>\n",
       "      <td>34</td>\n",
       "      <td>0.456639</td>\n",
       "      <td>0.344723</td>\n",
       "      <td>0.296486</td>\n",
       "      <td>1.195848</td>\n",
       "      <td>0.608122</td>\n",
       "    </tr>\n",
       "    <tr>\n",
       "      <td>3</td>\n",
       "      <td>35947264</td>\n",
       "      <td>75175440</td>\n",
       "      <td>West Region</td>\n",
       "      <td>Bukit Panjang</td>\n",
       "      <td>Entire home/apt</td>\n",
       "      <td>14</td>\n",
       "      <td>1</td>\n",
       "      <td>1</td>\n",
       "      <td>6/24/19</td>\n",
       "      <td>0.45</td>\n",
       "      <td>2</td>\n",
       "      <td>0</td>\n",
       "      <td>0.456639</td>\n",
       "      <td>0.392238</td>\n",
       "      <td>0.397477</td>\n",
       "      <td>1.428548</td>\n",
       "      <td>0.592769</td>\n",
       "    </tr>\n",
       "    <tr>\n",
       "      <td>4</td>\n",
       "      <td>18679631</td>\n",
       "      <td>108408404</td>\n",
       "      <td>Central Region</td>\n",
       "      <td>Marine Parade</td>\n",
       "      <td>Private room</td>\n",
       "      <td>14</td>\n",
       "      <td>2</td>\n",
       "      <td>1</td>\n",
       "      <td>5/14/17</td>\n",
       "      <td>0.04</td>\n",
       "      <td>1</td>\n",
       "      <td>0</td>\n",
       "      <td>0.456639</td>\n",
       "      <td>0.368480</td>\n",
       "      <td>0.397477</td>\n",
       "      <td>1.428548</td>\n",
       "      <td>0.608122</td>\n",
       "    </tr>\n",
       "  </tbody>\n",
       "</table>\n",
       "</div>"
      ],
      "text/plain": [
       "         id    host_id neighbourhood_group  neighbourhood        room_type  \\\n",
       "0  21408571  114674497      Central Region         Rochor  Entire home/apt   \n",
       "1  18656726   21900076         East Region          Bedok      Shared room   \n",
       "2  37506711   29799617      Central Region        Geylang  Entire home/apt   \n",
       "3  35947264   75175440         West Region  Bukit Panjang  Entire home/apt   \n",
       "4  18679631  108408404      Central Region  Marine Parade     Private room   \n",
       "\n",
       "   price  minimum_nights  number_of_reviews last_review  reviews_per_month  \\\n",
       "0      0               3                  9     8/11/19               0.51   \n",
       "1     14               1                  0         NaN                NaN   \n",
       "2     14               3                  4     8/26/19               4.00   \n",
       "3     14               1                  1     6/24/19               0.45   \n",
       "4     14               2                  1     5/14/17               0.04   \n",
       "\n",
       "   calculated_host_listings_count  availability_365  price zval  \\\n",
       "0                               6               351    0.497795   \n",
       "1                               2                 0    0.456639   \n",
       "2                               1                34    0.456639   \n",
       "3                               2                 0    0.456639   \n",
       "4                               1                 0    0.456639   \n",
       "\n",
       "   minimum_nights zval  number_of_reviews zval  availability_365 zval  \\\n",
       "0             0.344723                0.128169               0.973738   \n",
       "1             0.392238                0.431140               1.428548   \n",
       "2             0.344723                0.296486               1.195848   \n",
       "3             0.392238                0.397477               1.428548   \n",
       "4             0.368480                0.397477               1.428548   \n",
       "\n",
       "   calculated_host_listings_count zval  \n",
       "0                             0.531354  \n",
       "1                             0.592769  \n",
       "2                             0.608122  \n",
       "3                             0.592769  \n",
       "4                             0.608122  "
      ]
     },
     "execution_count": 204,
     "metadata": {},
     "output_type": "execute_result"
    }
   ],
   "source": [
    "df_o.head()"
   ]
  },
  {
   "cell_type": "code",
   "execution_count": 205,
   "metadata": {
    "scrolled": true
   },
   "outputs": [
    {
     "name": "stdout",
     "output_type": "stream",
     "text": [
      "0.02630580498292652 outliers removed\n"
     ]
    }
   ],
   "source": [
    "print((7907- 7699)/7907,\"outliers removed\")"
   ]
  },
  {
   "cell_type": "markdown",
   "metadata": {},
   "source": [
    "**The next set of code snippets is converting categorical variables into nominal-numerical variables after looking for missing values**"
   ]
  },
  {
   "cell_type": "code",
   "execution_count": 207,
   "metadata": {
    "scrolled": false
   },
   "outputs": [
    {
     "name": "stdout",
     "output_type": "stream",
     "text": [
      "id                                        0\n",
      "host_id                                   0\n",
      "neighbourhood_group                       0\n",
      "neighbourhood                             0\n",
      "room_type                                 0\n",
      "price                                     0\n",
      "minimum_nights                            0\n",
      "number_of_reviews                         0\n",
      "last_review                            2613\n",
      "reviews_per_month                      2613\n",
      "calculated_host_listings_count            0\n",
      "availability_365                          0\n",
      "price zval                                0\n",
      "minimum_nights zval                       0\n",
      "number_of_reviews zval                    0\n",
      "availability_365 zval                     0\n",
      "calculated_host_listings_count zval       0\n",
      "dtype: int64\n"
     ]
    }
   ],
   "source": [
    "print(df_o.isnull().sum())"
   ]
  },
  {
   "cell_type": "code",
   "execution_count": 208,
   "metadata": {},
   "outputs": [
    {
     "name": "stderr",
     "output_type": "stream",
     "text": [
      "/opt/anaconda3/lib/python3.7/site-packages/ipykernel_launcher.py:3: SettingWithCopyWarning: \n",
      "A value is trying to be set on a copy of a slice from a DataFrame.\n",
      "Try using .loc[row_indexer,col_indexer] = value instead\n",
      "\n",
      "See the caveats in the documentation: http://pandas.pydata.org/pandas-docs/stable/user_guide/indexing.html#returning-a-view-versus-a-copy\n",
      "  This is separate from the ipykernel package so we can avoid doing imports until\n"
     ]
    }
   ],
   "source": [
    "# Converting last_review to datetime\n",
    "\n",
    "df_o['last_rev'] =  pd.to_datetime(df_o['last_review'], infer_datetime_format=True)"
   ]
  },
  {
   "cell_type": "code",
   "execution_count": 209,
   "metadata": {
    "scrolled": true
   },
   "outputs": [
    {
     "data": {
      "text/plain": [
       "id                                              int64\n",
       "host_id                                         int64\n",
       "neighbourhood_group                            object\n",
       "neighbourhood                                  object\n",
       "room_type                                      object\n",
       "price                                           int64\n",
       "minimum_nights                                  int64\n",
       "number_of_reviews                               int64\n",
       "last_review                                    object\n",
       "reviews_per_month                             float64\n",
       "calculated_host_listings_count                  int64\n",
       "availability_365                                int64\n",
       "price zval                                    float64\n",
       "minimum_nights zval                           float64\n",
       "number_of_reviews zval                        float64\n",
       "availability_365 zval                         float64\n",
       "calculated_host_listings_count zval           float64\n",
       "last_rev                               datetime64[ns]\n",
       "dtype: object"
      ]
     },
     "execution_count": 209,
     "metadata": {},
     "output_type": "execute_result"
    }
   ],
   "source": [
    "df_o.dtypes"
   ]
  },
  {
   "cell_type": "code",
   "execution_count": 211,
   "metadata": {},
   "outputs": [
    {
     "name": "stderr",
     "output_type": "stream",
     "text": [
      "/opt/anaconda3/lib/python3.7/site-packages/ipykernel_launcher.py:3: SettingWithCopyWarning: \n",
      "A value is trying to be set on a copy of a slice from a DataFrame.\n",
      "Try using .loc[row_indexer,col_indexer] = value instead\n",
      "\n",
      "See the caveats in the documentation: http://pandas.pydata.org/pandas-docs/stable/user_guide/indexing.html#returning-a-view-versus-a-copy\n",
      "  This is separate from the ipykernel package so we can avoid doing imports until\n",
      "/opt/anaconda3/lib/python3.7/site-packages/ipykernel_launcher.py:4: SettingWithCopyWarning: \n",
      "A value is trying to be set on a copy of a slice from a DataFrame.\n",
      "Try using .loc[row_indexer,col_indexer] = value instead\n",
      "\n",
      "See the caveats in the documentation: http://pandas.pydata.org/pandas-docs/stable/user_guide/indexing.html#returning-a-view-versus-a-copy\n",
      "  after removing the cwd from sys.path.\n",
      "/opt/anaconda3/lib/python3.7/site-packages/ipykernel_launcher.py:5: SettingWithCopyWarning: \n",
      "A value is trying to be set on a copy of a slice from a DataFrame.\n",
      "Try using .loc[row_indexer,col_indexer] = value instead\n",
      "\n",
      "See the caveats in the documentation: http://pandas.pydata.org/pandas-docs/stable/user_guide/indexing.html#returning-a-view-versus-a-copy\n",
      "  \"\"\"\n",
      "/opt/anaconda3/lib/python3.7/site-packages/ipykernel_launcher.py:7: SettingWithCopyWarning: \n",
      "A value is trying to be set on a copy of a slice from a DataFrame.\n",
      "Try using .loc[row_indexer,col_indexer] = value instead\n",
      "\n",
      "See the caveats in the documentation: http://pandas.pydata.org/pandas-docs/stable/user_guide/indexing.html#returning-a-view-versus-a-copy\n",
      "  import sys\n",
      "/opt/anaconda3/lib/python3.7/site-packages/ipykernel_launcher.py:8: SettingWithCopyWarning: \n",
      "A value is trying to be set on a copy of a slice from a DataFrame.\n",
      "Try using .loc[row_indexer,col_indexer] = value instead\n",
      "\n",
      "See the caveats in the documentation: http://pandas.pydata.org/pandas-docs/stable/user_guide/indexing.html#returning-a-view-versus-a-copy\n",
      "  \n",
      "/opt/anaconda3/lib/python3.7/site-packages/ipykernel_launcher.py:9: SettingWithCopyWarning: \n",
      "A value is trying to be set on a copy of a slice from a DataFrame.\n",
      "Try using .loc[row_indexer,col_indexer] = value instead\n",
      "\n",
      "See the caveats in the documentation: http://pandas.pydata.org/pandas-docs/stable/user_guide/indexing.html#returning-a-view-versus-a-copy\n",
      "  if __name__ == '__main__':\n"
     ]
    }
   ],
   "source": [
    "#using catcodes to code the variable\n",
    "\n",
    "df_o['neighbourhood_group'] = df_o['neighbourhood_group'].astype('category')\n",
    "df_o['neighbourhood'] = df_o['neighbourhood'].astype('category')\n",
    "df_o['room_type'] = df_o['room_type'].astype('category')\n",
    "\n",
    "df_o['ng'] = df_o['neighbourhood_group'].cat.codes\n",
    "df_o['nb'] = df_o['neighbourhood'].cat.codes\n",
    "df_o['room_t'] = df_o['room_type'].cat.codes"
   ]
  },
  {
   "cell_type": "code",
   "execution_count": 212,
   "metadata": {
    "scrolled": false
   },
   "outputs": [
    {
     "data": {
      "text/html": [
       "<div>\n",
       "<style scoped>\n",
       "    .dataframe tbody tr th:only-of-type {\n",
       "        vertical-align: middle;\n",
       "    }\n",
       "\n",
       "    .dataframe tbody tr th {\n",
       "        vertical-align: top;\n",
       "    }\n",
       "\n",
       "    .dataframe thead th {\n",
       "        text-align: right;\n",
       "    }\n",
       "</style>\n",
       "<table border=\"1\" class=\"dataframe\">\n",
       "  <thead>\n",
       "    <tr style=\"text-align: right;\">\n",
       "      <th></th>\n",
       "      <th>id</th>\n",
       "      <th>host_id</th>\n",
       "      <th>neighbourhood_group</th>\n",
       "      <th>neighbourhood</th>\n",
       "      <th>room_type</th>\n",
       "      <th>price</th>\n",
       "      <th>minimum_nights</th>\n",
       "      <th>number_of_reviews</th>\n",
       "      <th>last_review</th>\n",
       "      <th>reviews_per_month</th>\n",
       "      <th>...</th>\n",
       "      <th>availability_365</th>\n",
       "      <th>price zval</th>\n",
       "      <th>minimum_nights zval</th>\n",
       "      <th>number_of_reviews zval</th>\n",
       "      <th>availability_365 zval</th>\n",
       "      <th>calculated_host_listings_count zval</th>\n",
       "      <th>last_rev</th>\n",
       "      <th>ng</th>\n",
       "      <th>nb</th>\n",
       "      <th>room_t</th>\n",
       "    </tr>\n",
       "  </thead>\n",
       "  <tbody>\n",
       "    <tr>\n",
       "      <td>0</td>\n",
       "      <td>21408571</td>\n",
       "      <td>114674497</td>\n",
       "      <td>Central Region</td>\n",
       "      <td>Rochor</td>\n",
       "      <td>Entire home/apt</td>\n",
       "      <td>0</td>\n",
       "      <td>3</td>\n",
       "      <td>9</td>\n",
       "      <td>8/11/19</td>\n",
       "      <td>0.51</td>\n",
       "      <td>...</td>\n",
       "      <td>351</td>\n",
       "      <td>0.497795</td>\n",
       "      <td>0.344723</td>\n",
       "      <td>0.128169</td>\n",
       "      <td>0.973738</td>\n",
       "      <td>0.531354</td>\n",
       "      <td>2019-08-11</td>\n",
       "      <td>0</td>\n",
       "      <td>29</td>\n",
       "      <td>0</td>\n",
       "    </tr>\n",
       "    <tr>\n",
       "      <td>1</td>\n",
       "      <td>18656726</td>\n",
       "      <td>21900076</td>\n",
       "      <td>East Region</td>\n",
       "      <td>Bedok</td>\n",
       "      <td>Shared room</td>\n",
       "      <td>14</td>\n",
       "      <td>1</td>\n",
       "      <td>0</td>\n",
       "      <td>NaN</td>\n",
       "      <td>NaN</td>\n",
       "      <td>...</td>\n",
       "      <td>0</td>\n",
       "      <td>0.456639</td>\n",
       "      <td>0.392238</td>\n",
       "      <td>0.431140</td>\n",
       "      <td>1.428548</td>\n",
       "      <td>0.592769</td>\n",
       "      <td>NaT</td>\n",
       "      <td>1</td>\n",
       "      <td>1</td>\n",
       "      <td>2</td>\n",
       "    </tr>\n",
       "    <tr>\n",
       "      <td>2</td>\n",
       "      <td>37506711</td>\n",
       "      <td>29799617</td>\n",
       "      <td>Central Region</td>\n",
       "      <td>Geylang</td>\n",
       "      <td>Entire home/apt</td>\n",
       "      <td>14</td>\n",
       "      <td>3</td>\n",
       "      <td>4</td>\n",
       "      <td>8/26/19</td>\n",
       "      <td>4.00</td>\n",
       "      <td>...</td>\n",
       "      <td>34</td>\n",
       "      <td>0.456639</td>\n",
       "      <td>0.344723</td>\n",
       "      <td>0.296486</td>\n",
       "      <td>1.195848</td>\n",
       "      <td>0.608122</td>\n",
       "      <td>2019-08-26</td>\n",
       "      <td>0</td>\n",
       "      <td>11</td>\n",
       "      <td>0</td>\n",
       "    </tr>\n",
       "    <tr>\n",
       "      <td>3</td>\n",
       "      <td>35947264</td>\n",
       "      <td>75175440</td>\n",
       "      <td>West Region</td>\n",
       "      <td>Bukit Panjang</td>\n",
       "      <td>Entire home/apt</td>\n",
       "      <td>14</td>\n",
       "      <td>1</td>\n",
       "      <td>1</td>\n",
       "      <td>6/24/19</td>\n",
       "      <td>0.45</td>\n",
       "      <td>...</td>\n",
       "      <td>0</td>\n",
       "      <td>0.456639</td>\n",
       "      <td>0.392238</td>\n",
       "      <td>0.397477</td>\n",
       "      <td>1.428548</td>\n",
       "      <td>0.592769</td>\n",
       "      <td>2019-06-24</td>\n",
       "      <td>4</td>\n",
       "      <td>5</td>\n",
       "      <td>0</td>\n",
       "    </tr>\n",
       "    <tr>\n",
       "      <td>4</td>\n",
       "      <td>18679631</td>\n",
       "      <td>108408404</td>\n",
       "      <td>Central Region</td>\n",
       "      <td>Marine Parade</td>\n",
       "      <td>Private room</td>\n",
       "      <td>14</td>\n",
       "      <td>2</td>\n",
       "      <td>1</td>\n",
       "      <td>5/14/17</td>\n",
       "      <td>0.04</td>\n",
       "      <td>...</td>\n",
       "      <td>0</td>\n",
       "      <td>0.456639</td>\n",
       "      <td>0.368480</td>\n",
       "      <td>0.397477</td>\n",
       "      <td>1.428548</td>\n",
       "      <td>0.608122</td>\n",
       "      <td>2017-05-14</td>\n",
       "      <td>0</td>\n",
       "      <td>19</td>\n",
       "      <td>1</td>\n",
       "    </tr>\n",
       "  </tbody>\n",
       "</table>\n",
       "<p>5 rows × 21 columns</p>\n",
       "</div>"
      ],
      "text/plain": [
       "         id    host_id neighbourhood_group  neighbourhood        room_type  \\\n",
       "0  21408571  114674497      Central Region         Rochor  Entire home/apt   \n",
       "1  18656726   21900076         East Region          Bedok      Shared room   \n",
       "2  37506711   29799617      Central Region        Geylang  Entire home/apt   \n",
       "3  35947264   75175440         West Region  Bukit Panjang  Entire home/apt   \n",
       "4  18679631  108408404      Central Region  Marine Parade     Private room   \n",
       "\n",
       "   price  minimum_nights  number_of_reviews last_review  reviews_per_month  \\\n",
       "0      0               3                  9     8/11/19               0.51   \n",
       "1     14               1                  0         NaN                NaN   \n",
       "2     14               3                  4     8/26/19               4.00   \n",
       "3     14               1                  1     6/24/19               0.45   \n",
       "4     14               2                  1     5/14/17               0.04   \n",
       "\n",
       "   ...  availability_365  price zval  minimum_nights zval  \\\n",
       "0  ...               351    0.497795             0.344723   \n",
       "1  ...                 0    0.456639             0.392238   \n",
       "2  ...                34    0.456639             0.344723   \n",
       "3  ...                 0    0.456639             0.392238   \n",
       "4  ...                 0    0.456639             0.368480   \n",
       "\n",
       "   number_of_reviews zval  availability_365 zval  \\\n",
       "0                0.128169               0.973738   \n",
       "1                0.431140               1.428548   \n",
       "2                0.296486               1.195848   \n",
       "3                0.397477               1.428548   \n",
       "4                0.397477               1.428548   \n",
       "\n",
       "   calculated_host_listings_count zval   last_rev ng  nb  room_t  \n",
       "0                             0.531354 2019-08-11  0  29       0  \n",
       "1                             0.592769        NaT  1   1       2  \n",
       "2                             0.608122 2019-08-26  0  11       0  \n",
       "3                             0.592769 2019-06-24  4   5       0  \n",
       "4                             0.608122 2017-05-14  0  19       1  \n",
       "\n",
       "[5 rows x 21 columns]"
      ]
     },
     "execution_count": 212,
     "metadata": {},
     "output_type": "execute_result"
    }
   ],
   "source": [
    "df_o.head()"
   ]
  },
  {
   "cell_type": "code",
   "execution_count": 213,
   "metadata": {},
   "outputs": [
    {
     "data": {
      "text/plain": [
       "(7699, 21)"
      ]
     },
     "execution_count": 213,
     "metadata": {},
     "output_type": "execute_result"
    }
   ],
   "source": [
    "df_o.shape"
   ]
  },
  {
   "cell_type": "code",
   "execution_count": 216,
   "metadata": {
    "scrolled": false
   },
   "outputs": [
    {
     "data": {
      "text/plain": [
       "Index(['id', 'host_id', 'neighbourhood_group', 'neighbourhood', 'room_type',\n",
       "       'price', 'minimum_nights', 'number_of_reviews', 'last_review',\n",
       "       'reviews_per_month', 'calculated_host_listings_count',\n",
       "       'availability_365', 'price zval', 'minimum_nights zval',\n",
       "       'number_of_reviews zval', 'availability_365 zval',\n",
       "       'calculated_host_listings_count zval', 'last_rev', 'ng', 'nb',\n",
       "       'room_t'],\n",
       "      dtype='object')"
      ]
     },
     "execution_count": 216,
     "metadata": {},
     "output_type": "execute_result"
    }
   ],
   "source": [
    "df_o.columns"
   ]
  },
  {
   "cell_type": "code",
   "execution_count": 32,
   "metadata": {},
   "outputs": [],
   "source": [
    "#%matplotlib inline\n",
    "#changing font size of the plots\n",
    "#matplotlib.rcParams.update({'font.size': 18})"
   ]
  },
  {
   "cell_type": "markdown",
   "metadata": {},
   "source": [
    "*End of Captstone Data Wrangling Submission*"
   ]
  },
  {
   "cell_type": "markdown",
   "metadata": {},
   "source": [
    "#### EDA CODE"
   ]
  },
  {
   "cell_type": "code",
   "execution_count": 36,
   "metadata": {},
   "outputs": [],
   "source": [
    "# function to plot histograms for continuos variables\n",
    "\n",
    "#list of continous columns\n",
    "col = ['price','minimum_nights','number_of_reviews','availability_365','calculated_host_listings_count']\n",
    "\n",
    "def drawhist(col):\n",
    "    for i in col:\n",
    "        df[i].plot(kind = 'hist',bins = 50,normed = True)\n",
    "        plt.xlabel(i)\n",
    "        plt.show()\n",
    "    return()"
   ]
  },
  {
   "cell_type": "code",
   "execution_count": 34,
   "metadata": {
    "scrolled": true
   },
   "outputs": [
    {
     "data": {
      "image/png": "[encoded data removed]",
      "text/plain": [
       "<Figure size 432x288 with 1 Axes>"
      ]
     },
     "metadata": {
      "needs_background": "light"
     },
     "output_type": "display_data"
    },
    {
     "data": {
      "image/png": "[encoded data removed]",
      "text/plain": [
       "<Figure size 432x288 with 1 Axes>"
      ]
     },
     "metadata": {
      "needs_background": "light"
     },
     "output_type": "display_data"
    },
    {
     "data": {
      "image/png": "[encoded data removed]",
      "text/plain": [
       "<Figure size 432x288 with 1 Axes>"
      ]
     },
     "metadata": {
      "needs_background": "light"
     },
     "output_type": "display_data"
    },
    {
     "data": {
      "image/png": "[encoded data removed]",
      "text/plain": [
       "<Figure size 432x288 with 1 Axes>"
      ]
     },
     "metadata": {
      "needs_background": "light"
     },
     "output_type": "display_data"
    },
    {
     "data": {
      "image/png": "[encoded data removed]",
      "text/plain": [
       "<Figure size 432x288 with 1 Axes>"
      ]
     },
     "metadata": {
      "needs_background": "light"
     },
     "output_type": "display_data"
    },
    {
     "data": {
      "text/plain": [
       "()"
      ]
     },
     "execution_count": 34,
     "metadata": {},
     "output_type": "execute_result"
    }
   ],
   "source": [
    "drawhist(col)"
   ]
  },
  {
   "cell_type": "code",
   "execution_count": 217,
   "metadata": {
    "scrolled": true
   },
   "outputs": [
    {
     "data": {
      "image/png": "[encoded data removed]",
      "text/plain": [
       "<Figure size 432x288 with 1 Axes>"
      ]
     },
     "metadata": {},
     "output_type": "display_data"
    }
   ],
   "source": [
    "# cross tab for categorical variables\n",
    "ng_count = df_o['neighbourhood_group'].value_counts()\n",
    "sns.set(style=\"darkgrid\")\n",
    "sns.barplot(ng_count.index, ng_count.values, alpha=0.9)\n",
    "plt.title('Frequency Distribution of neighbourhood')\n",
    "plt.ylabel('Number of Occurrences', fontsize=12)\n",
    "plt.xlabel('Neighbourhood Group', fontsize=12)\n",
    "plt.show()"
   ]
  },
  {
   "cell_type": "code",
   "execution_count": 220,
   "metadata": {},
   "outputs": [],
   "source": [
    "# exporting to view in tablea\n",
    "\n",
    "df_o.to_csv(\"df_capst.csv\",index=False)"
   ]
  },
  {
   "cell_type": "markdown",
   "metadata": {},
   "source": [
    "## CAPTSTONE INFERENTIAL STATS - SECTION ##"
   ]
  },
  {
   "cell_type": "markdown",
   "metadata": {},
   "source": [
    "**APPROACH**\n",
    "\n",
    "As I reviewed the dataset and looked at some preliminary box plots and histograms, I built the following hypthesis which I wanted to validate. See below\n"
   ]
  },
  {
   "cell_type": "markdown",
   "metadata": {},
   "source": [
    "**HYPOTHESIS 1**\n",
    "\n",
    "34% of the listings did not have any review and NaN in last review data and reviews per month. So I wanted to test if not having reviews has a significant impact on price given all things constant. My null hypothesis : Not having reviews has no impact on the median price of the listing. I ran a t-test to find out if my null hypothesis is valid or not.\n",
    " "
   ]
  },
  {
   "cell_type": "code",
   "execution_count": 251,
   "metadata": {},
   "outputs": [
    {
     "name": "stderr",
     "output_type": "stream",
     "text": [
      "/opt/anaconda3/lib/python3.7/site-packages/ipykernel_launcher.py:3: SettingWithCopyWarning: \n",
      "A value is trying to be set on a copy of a slice from a DataFrame.\n",
      "Try using .loc[row_indexer,col_indexer] = value instead\n",
      "\n",
      "See the caveats in the documentation: http://pandas.pydata.org/pandas-docs/stable/user_guide/indexing.html#returning-a-view-versus-a-copy\n",
      "  This is separate from the ipykernel package so we can avoid doing imports until\n"
     ]
    }
   ],
   "source": [
    "#Creating a new variable \"Rev_Flag : 1 for some review , 0 for no review\n",
    "\n",
    "df_o['rev_flag'] = np.where(df_o['reviews_per_month'] > 0, 1, 0)"
   ]
  },
  {
   "cell_type": "code",
   "execution_count": 253,
   "metadata": {
    "scrolled": true
   },
   "outputs": [
    {
     "data": {
      "text/plain": [
       "1    5086\n",
       "0    2613\n",
       "Name: rev_flag, dtype: int64"
      ]
     },
     "execution_count": 253,
     "metadata": {},
     "output_type": "execute_result"
    }
   ],
   "source": [
    "df_o['rev_flag'].value_counts()"
   ]
  },
  {
   "cell_type": "code",
   "execution_count": 255,
   "metadata": {},
   "outputs": [],
   "source": [
    "rev_0 = df_o.loc[df_o.rev_flag == 0,'price']\n",
    "rev_1 = df_o.loc[df_o.rev_flag == 1,'price']"
   ]
  },
  {
   "cell_type": "code",
   "execution_count": 266,
   "metadata": {
    "scrolled": false
   },
   "outputs": [
    {
     "data": {
      "image/png": "[encoded data removed]",
      "text/plain": [
       "<Figure size 432x288 with 1 Axes>"
      ]
     },
     "metadata": {},
     "output_type": "display_data"
    }
   ],
   "source": [
    "_ = plt.hist(rev_0, color = 'green', alpha = 0.5)\n",
    "_ = plt.hist(rev_1, color = 'red', alpha = 0.5)\n",
    "_ = plt.xlabel('Price')\n",
    "_ = plt.ylabel('No of listings')\n",
    "_ = plt.legend(['rev_0', 'rev_1'])\n"
   ]
  },
  {
   "cell_type": "code",
   "execution_count": 269,
   "metadata": {
    "scrolled": true
   },
   "outputs": [
    {
     "name": "stdout",
     "output_type": "stream",
     "text": [
      "Mean of non review and some review listing prices are 137.00 and 118.00 dollars.\n"
     ]
    }
   ],
   "source": [
    "print('Mean of non review and some review listing prices are {:.2f} and {:.2f} dollars.'.format(np.median(rev_0), np.median(rev_1)))"
   ]
  },
  {
   "cell_type": "markdown",
   "metadata": {},
   "source": [
    "The bar charts overlap but it looks like listings with reviews overindex on lower prices. But that may be a bias for occupying and reviewing lower priced listings."
   ]
  },
  {
   "cell_type": "code",
   "execution_count": 264,
   "metadata": {},
   "outputs": [],
   "source": [
    "alpha = 0.05"
   ]
  },
  {
   "cell_type": "code",
   "execution_count": 270,
   "metadata": {},
   "outputs": [
    {
     "name": "stdout",
     "output_type": "stream",
     "text": [
      "t = 8.194987645288192\tp = 2.911657896745438e-16\n",
      "Null hypothesis rejected.\n"
     ]
    }
   ],
   "source": [
    "#Run two sample t test, because sample sizes are smaller now. \n",
    "t, p = stats.ttest_ind(rev_0, rev_1)\n",
    "print('t = {}\\tp = {}'.format(t, p))\n",
    "if p < alpha:\n",
    "    print('Null hypothesis rejected.')\n",
    "else:\n",
    "    print('Null hypothesis cannot be rejected')"
   ]
  },
  {
   "cell_type": "markdown",
   "metadata": {},
   "source": [
    "**HYPOTHESIS 1 CONCLUSION**\n",
    "Both the grops seem to have signficantly different prices so I decided to not eliminate the variable"
   ]
  },
  {
   "cell_type": "markdown",
   "metadata": {},
   "source": [
    "**HYPOTHESIS 2**\n",
    "\n",
    "Before analyzing the relationship between other independent factors and price, I wanted to check for correlation amongst independent variables. Next section of code will analyse the correlation amongst independent variables."
   ]
  },
  {
   "cell_type": "markdown",
   "metadata": {},
   "source": [
    "## Building a initial linear model"
   ]
  },
  {
   "cell_type": "code",
   "execution_count": 385,
   "metadata": {
    "scrolled": true
   },
   "outputs": [
    {
     "data": {
      "image/png": "[encoded data removed]",
      "text/plain": [
       "<Figure size 1080x1080 with 42 Axes>"
      ]
     },
     "metadata": {},
     "output_type": "display_data"
    }
   ],
   "source": [
    "#building correlationplots for all variables\n",
    "\n",
    "#Plot correlations of predictors\n",
    "_ = sns.pairplot(df_o, vars = ['price', 'minimum_nights', 'number_of_reviews', 'ng','nb','room_t'], plot_kws={\"s\": 10})"
   ]
  },
  {
   "cell_type": "markdown",
   "metadata": {},
   "source": [
    "It seems like room type and price may have a specific relationship as room 2 on visual inspection room type 2 seems to have a lower price index than other room types. to be checked if this relationship is significant.\n",
    "\n",
    "There also seems to be a relationship between review count and price, indicating that lower priced listings get more review. but this relationship is probably because of the availability factor. \n",
    "\n",
    "Before doing more inferential stats tests, I will create basic model and see what it outputs and how well it predicts"
   ]
  },
  {
   "cell_type": "markdown",
   "metadata": {},
   "source": [
    "**Encoding Variables**"
   ]
  },
  {
   "cell_type": "code",
   "execution_count": 379,
   "metadata": {},
   "outputs": [],
   "source": [
    "from sklearn import preprocessing"
   ]
  },
  {
   "cell_type": "code",
   "execution_count": 380,
   "metadata": {},
   "outputs": [],
   "source": [
    "'''Encode labels with value between 0 and n_classes-1.'''\n",
    "le = preprocessing.LabelEncoder() "
   ]
  },
  {
   "cell_type": "code",
   "execution_count": null,
   "metadata": {},
   "outputs": [],
   "source": [
    "# Fit label encoder\n",
    "\n",
    "le.fit(df_o['neighbourhood_group'])\n",
    "df_o['neighbourhood_group']=le.transform(df_o['neighbourhood_group'])"
   ]
  },
  {
   "cell_type": "code",
   "execution_count": 321,
   "metadata": {
    "scrolled": false
   },
   "outputs": [
    {
     "name": "stderr",
     "output_type": "stream",
     "text": [
      "/opt/anaconda3/lib/python3.7/site-packages/ipykernel_launcher.py:2: SettingWithCopyWarning: \n",
      "A value is trying to be set on a copy of a slice from a DataFrame.\n",
      "Try using .loc[row_indexer,col_indexer] = value instead\n",
      "\n",
      "See the caveats in the documentation: http://pandas.pydata.org/pandas-docs/stable/user_guide/indexing.html#returning-a-view-versus-a-copy\n",
      "  \n"
     ]
    }
   ],
   "source": [
    "le.fit(df_o['neighbourhood'])\n",
    "df_o['neighbourhood']=le.transform(df_o['neighbourhood'])"
   ]
  },
  {
   "cell_type": "code",
   "execution_count": 322,
   "metadata": {
    "scrolled": true
   },
   "outputs": [
    {
     "name": "stderr",
     "output_type": "stream",
     "text": [
      "/opt/anaconda3/lib/python3.7/site-packages/ipykernel_launcher.py:2: SettingWithCopyWarning: \n",
      "A value is trying to be set on a copy of a slice from a DataFrame.\n",
      "Try using .loc[row_indexer,col_indexer] = value instead\n",
      "\n",
      "See the caveats in the documentation: http://pandas.pydata.org/pandas-docs/stable/user_guide/indexing.html#returning-a-view-versus-a-copy\n",
      "  \n"
     ]
    }
   ],
   "source": [
    "le.fit(df_o['room_type'])\n",
    "df_o['room_type']=le.transform(df_o['room_type'])\n",
    "\n"
   ]
  },
  {
   "cell_type": "markdown",
   "metadata": {},
   "source": [
    "**USING SCIKIT LEARN TO BUILD A MODEL FIRST AND AND THEN WILL USE STATS MODEL**"
   ]
  },
  {
   "cell_type": "code",
   "execution_count": 388,
   "metadata": {
    "scrolled": true
   },
   "outputs": [],
   "source": [
    "# CHECKING COLUMN NAMES#df_o.columns"
   ]
  },
  {
   "cell_type": "code",
   "execution_count": 360,
   "metadata": {},
   "outputs": [
    {
     "data": {
      "text/plain": [
       "LinearRegression(copy_X=True, fit_intercept=True, n_jobs=None, normalize=False)"
      ]
     },
     "execution_count": 360,
     "metadata": {},
     "output_type": "execute_result"
    }
   ],
   "source": [
    "from sklearn.linear_model import LinearRegression\n",
    "X = df_o.drop(['price','last_review',\n",
    "               'price zval','minimum_nights zval',\n",
    "               'availability_365 zval',\n",
    "               'calculated_host_listings_count zval',\n",
    "               'last_rev','reviews_per_month',\n",
    "               'number_of_reviews zval','ng','nb','room_t',], axis = 1)\n",
    "\n",
    "# This creates a LinearRegression object\n",
    "lm = LinearRegression()\n",
    "lm"
   ]
  },
  {
   "cell_type": "code",
   "execution_count": 362,
   "metadata": {},
   "outputs": [],
   "source": [
    "# Use all 13 predictors to fit linear regression model\n",
    "a = lm.fit(X, df_o.price)"
   ]
  },
  {
   "cell_type": "code",
   "execution_count": 363,
   "metadata": {},
   "outputs": [
    {
     "data": {
      "text/plain": [
       "207.18630244005288"
      ]
     },
     "execution_count": 363,
     "metadata": {},
     "output_type": "execute_result"
    }
   ],
   "source": [
    "# your turn\n",
    "lm.coef_\n",
    "lm.intercept_"
   ]
  },
  {
   "cell_type": "code",
   "execution_count": 364,
   "metadata": {
    "scrolled": true
   },
   "outputs": [
    {
     "data": {
      "text/plain": [
       "array([-3.45335856e-07,  5.67190339e-08, -5.57640168e+00,  4.74077362e-01,\n",
       "       -1.04579493e+02, -6.88618456e-01, -2.13685163e-01, -1.70320933e-01,\n",
       "        1.46188169e-01, -2.11508094e+01])"
      ]
     },
     "execution_count": 364,
     "metadata": {},
     "output_type": "execute_result"
    }
   ],
   "source": [
    "lm.coef_"
   ]
  },
  {
   "cell_type": "code",
   "execution_count": 511,
   "metadata": {},
   "outputs": [
    {
     "data": {
      "text/plain": [
       "array([-3.39051366e-07,  4.64162906e-08, -6.05546891e+00,  4.43749400e-01,\n",
       "       -1.04954918e+02, -6.98562679e-01, -2.32389768e-01, -1.69931871e-01,\n",
       "        1.46530187e-01, -2.21421381e+01])"
      ]
     },
     "execution_count": 511,
     "metadata": {},
     "output_type": "execute_result"
    }
   ],
   "source": [
    "lm."
   ]
  },
  {
   "cell_type": "code",
   "execution_count": 389,
   "metadata": {
    "scrolled": false
   },
   "outputs": [
    {
     "data": {
      "text/html": [
       "<div>\n",
       "<style scoped>\n",
       "    .dataframe tbody tr th:only-of-type {\n",
       "        vertical-align: middle;\n",
       "    }\n",
       "\n",
       "    .dataframe tbody tr th {\n",
       "        vertical-align: top;\n",
       "    }\n",
       "\n",
       "    .dataframe thead th {\n",
       "        text-align: right;\n",
       "    }\n",
       "</style>\n",
       "<table border=\"1\" class=\"dataframe\">\n",
       "  <thead>\n",
       "    <tr style=\"text-align: right;\">\n",
       "      <th></th>\n",
       "      <th>features</th>\n",
       "      <th>estimatedCoefficients</th>\n",
       "    </tr>\n",
       "  </thead>\n",
       "  <tbody>\n",
       "    <tr>\n",
       "      <td>0</td>\n",
       "      <td>id</td>\n",
       "      <td>-3.390514e-07</td>\n",
       "    </tr>\n",
       "    <tr>\n",
       "      <td>1</td>\n",
       "      <td>host_id</td>\n",
       "      <td>4.641629e-08</td>\n",
       "    </tr>\n",
       "    <tr>\n",
       "      <td>2</td>\n",
       "      <td>neighbourhood_group</td>\n",
       "      <td>-6.055469e+00</td>\n",
       "    </tr>\n",
       "    <tr>\n",
       "      <td>3</td>\n",
       "      <td>neighbourhood</td>\n",
       "      <td>4.437494e-01</td>\n",
       "    </tr>\n",
       "    <tr>\n",
       "      <td>4</td>\n",
       "      <td>room_type</td>\n",
       "      <td>-1.049549e+02</td>\n",
       "    </tr>\n",
       "    <tr>\n",
       "      <td>5</td>\n",
       "      <td>minimum_nights</td>\n",
       "      <td>-6.985627e-01</td>\n",
       "    </tr>\n",
       "    <tr>\n",
       "      <td>6</td>\n",
       "      <td>number_of_reviews</td>\n",
       "      <td>-2.323898e-01</td>\n",
       "    </tr>\n",
       "    <tr>\n",
       "      <td>7</td>\n",
       "      <td>calculated_host_listings_count</td>\n",
       "      <td>-1.699319e-01</td>\n",
       "    </tr>\n",
       "    <tr>\n",
       "      <td>8</td>\n",
       "      <td>availability_365</td>\n",
       "      <td>1.465302e-01</td>\n",
       "    </tr>\n",
       "    <tr>\n",
       "      <td>9</td>\n",
       "      <td>rev_flag</td>\n",
       "      <td>-2.214214e+01</td>\n",
       "    </tr>\n",
       "  </tbody>\n",
       "</table>\n",
       "</div>"
      ],
      "text/plain": [
       "                         features  estimatedCoefficients\n",
       "0                              id          -3.390514e-07\n",
       "1                         host_id           4.641629e-08\n",
       "2             neighbourhood_group          -6.055469e+00\n",
       "3                   neighbourhood           4.437494e-01\n",
       "4                       room_type          -1.049549e+02\n",
       "5                  minimum_nights          -6.985627e-01\n",
       "6               number_of_reviews          -2.323898e-01\n",
       "7  calculated_host_listings_count          -1.699319e-01\n",
       "8                availability_365           1.465302e-01\n",
       "9                        rev_flag          -2.214214e+01"
      ]
     },
     "execution_count": 389,
     "metadata": {},
     "output_type": "execute_result"
    }
   ],
   "source": [
    "# MAKING A DATAFRAME WITH THE COEFFICIENTS#\n",
    "pd.DataFrame({'features': X.columns, 'estimatedCoefficients': lm.coef_})[['features', 'estimatedCoefficients']]"
   ]
  },
  {
   "cell_type": "code",
   "execution_count": 393,
   "metadata": {},
   "outputs": [],
   "source": [
    "#making y dataset\n",
    "\n",
    "y = df_o['price']"
   ]
  },
  {
   "cell_type": "markdown",
   "metadata": {},
   "source": [
    "Now splitting training and testing dataset and trying the model"
   ]
  },
  {
   "cell_type": "code",
   "execution_count": 394,
   "metadata": {},
   "outputs": [
    {
     "data": {
      "text/html": [
       "<div>\n",
       "<style scoped>\n",
       "    .dataframe tbody tr th:only-of-type {\n",
       "        vertical-align: middle;\n",
       "    }\n",
       "\n",
       "    .dataframe tbody tr th {\n",
       "        vertical-align: top;\n",
       "    }\n",
       "\n",
       "    .dataframe thead th {\n",
       "        text-align: right;\n",
       "    }\n",
       "</style>\n",
       "<table border=\"1\" class=\"dataframe\">\n",
       "  <thead>\n",
       "    <tr style=\"text-align: right;\">\n",
       "      <th></th>\n",
       "      <th>id</th>\n",
       "      <th>host_id</th>\n",
       "      <th>neighbourhood_group</th>\n",
       "      <th>neighbourhood</th>\n",
       "      <th>room_type</th>\n",
       "      <th>minimum_nights</th>\n",
       "      <th>number_of_reviews</th>\n",
       "      <th>calculated_host_listings_count</th>\n",
       "      <th>availability_365</th>\n",
       "      <th>rev_flag</th>\n",
       "    </tr>\n",
       "  </thead>\n",
       "  <tbody>\n",
       "    <tr>\n",
       "      <td>0</td>\n",
       "      <td>21408571</td>\n",
       "      <td>114674497</td>\n",
       "      <td>0</td>\n",
       "      <td>29</td>\n",
       "      <td>0</td>\n",
       "      <td>3</td>\n",
       "      <td>9</td>\n",
       "      <td>6</td>\n",
       "      <td>351</td>\n",
       "      <td>1</td>\n",
       "    </tr>\n",
       "    <tr>\n",
       "      <td>1</td>\n",
       "      <td>18656726</td>\n",
       "      <td>21900076</td>\n",
       "      <td>1</td>\n",
       "      <td>1</td>\n",
       "      <td>2</td>\n",
       "      <td>1</td>\n",
       "      <td>0</td>\n",
       "      <td>2</td>\n",
       "      <td>0</td>\n",
       "      <td>0</td>\n",
       "    </tr>\n",
       "    <tr>\n",
       "      <td>2</td>\n",
       "      <td>37506711</td>\n",
       "      <td>29799617</td>\n",
       "      <td>0</td>\n",
       "      <td>11</td>\n",
       "      <td>0</td>\n",
       "      <td>3</td>\n",
       "      <td>4</td>\n",
       "      <td>1</td>\n",
       "      <td>34</td>\n",
       "      <td>1</td>\n",
       "    </tr>\n",
       "    <tr>\n",
       "      <td>3</td>\n",
       "      <td>35947264</td>\n",
       "      <td>75175440</td>\n",
       "      <td>4</td>\n",
       "      <td>5</td>\n",
       "      <td>0</td>\n",
       "      <td>1</td>\n",
       "      <td>1</td>\n",
       "      <td>2</td>\n",
       "      <td>0</td>\n",
       "      <td>1</td>\n",
       "    </tr>\n",
       "    <tr>\n",
       "      <td>4</td>\n",
       "      <td>18679631</td>\n",
       "      <td>108408404</td>\n",
       "      <td>0</td>\n",
       "      <td>19</td>\n",
       "      <td>1</td>\n",
       "      <td>2</td>\n",
       "      <td>1</td>\n",
       "      <td>1</td>\n",
       "      <td>0</td>\n",
       "      <td>1</td>\n",
       "    </tr>\n",
       "  </tbody>\n",
       "</table>\n",
       "</div>"
      ],
      "text/plain": [
       "         id    host_id  neighbourhood_group  neighbourhood  room_type  \\\n",
       "0  21408571  114674497                    0             29          0   \n",
       "1  18656726   21900076                    1              1          2   \n",
       "2  37506711   29799617                    0             11          0   \n",
       "3  35947264   75175440                    4              5          0   \n",
       "4  18679631  108408404                    0             19          1   \n",
       "\n",
       "   minimum_nights  number_of_reviews  calculated_host_listings_count  \\\n",
       "0               3                  9                               6   \n",
       "1               1                  0                               2   \n",
       "2               3                  4                               1   \n",
       "3               1                  1                               2   \n",
       "4               2                  1                               1   \n",
       "\n",
       "   availability_365  rev_flag  \n",
       "0               351         1  \n",
       "1                 0         0  \n",
       "2                34         1  \n",
       "3                 0         1  \n",
       "4                 0         1  "
      ]
     },
     "execution_count": 394,
     "metadata": {},
     "output_type": "execute_result"
    }
   ],
   "source": [
    "X.head()"
   ]
  },
  {
   "cell_type": "code",
   "execution_count": 367,
   "metadata": {},
   "outputs": [],
   "source": [
    "from sklearn.model_selection import train_test_split"
   ]
  },
  {
   "cell_type": "code",
   "execution_count": 396,
   "metadata": {},
   "outputs": [],
   "source": [
    "X_train, X_test, y_train, y_test = train_test_split(X, y, test_size=0.2, random_state=101)"
   ]
  },
  {
   "cell_type": "code",
   "execution_count": 395,
   "metadata": {},
   "outputs": [
    {
     "data": {
      "text/plain": [
       "LinearRegression(copy_X=True, fit_intercept=True, n_jobs=None, normalize=False)"
      ]
     },
     "execution_count": 395,
     "metadata": {},
     "output_type": "execute_result"
    }
   ],
   "source": [
    "lm.fit(X_train,y_train)"
   ]
  },
  {
   "cell_type": "code",
   "execution_count": 369,
   "metadata": {
    "scrolled": true
   },
   "outputs": [
    {
     "data": {
      "text/html": [
       "<div>\n",
       "<style scoped>\n",
       "    .dataframe tbody tr th:only-of-type {\n",
       "        vertical-align: middle;\n",
       "    }\n",
       "\n",
       "    .dataframe tbody tr th {\n",
       "        vertical-align: top;\n",
       "    }\n",
       "\n",
       "    .dataframe thead th {\n",
       "        text-align: right;\n",
       "    }\n",
       "</style>\n",
       "<table border=\"1\" class=\"dataframe\">\n",
       "  <thead>\n",
       "    <tr style=\"text-align: right;\">\n",
       "      <th></th>\n",
       "      <th>Actual Values</th>\n",
       "      <th>Predicted Values</th>\n",
       "    </tr>\n",
       "  </thead>\n",
       "  <tbody>\n",
       "    <tr>\n",
       "      <td>0</td>\n",
       "      <td>87</td>\n",
       "      <td>118.574412</td>\n",
       "    </tr>\n",
       "    <tr>\n",
       "      <td>1</td>\n",
       "      <td>75</td>\n",
       "      <td>194.013043</td>\n",
       "    </tr>\n",
       "    <tr>\n",
       "      <td>2</td>\n",
       "      <td>150</td>\n",
       "      <td>234.654263</td>\n",
       "    </tr>\n",
       "    <tr>\n",
       "      <td>3</td>\n",
       "      <td>67</td>\n",
       "      <td>66.308263</td>\n",
       "    </tr>\n",
       "    <tr>\n",
       "      <td>4</td>\n",
       "      <td>131</td>\n",
       "      <td>204.207539</td>\n",
       "    </tr>\n",
       "  </tbody>\n",
       "</table>\n",
       "</div>"
      ],
      "text/plain": [
       "   Actual Values  Predicted Values\n",
       "0             87        118.574412\n",
       "1             75        194.013043\n",
       "2            150        234.654263\n",
       "3             67         66.308263\n",
       "4            131        204.207539"
      ]
     },
     "execution_count": 369,
     "metadata": {},
     "output_type": "execute_result"
    }
   ],
   "source": [
    "predicts = lm.predict(X_test)\n",
    "error_airbnb = pd.DataFrame({\n",
    "        'Actual Values': np.array(y_test).flatten(),\n",
    "        'Predicted Values': predicts.flatten()})\n",
    "error_airbnb.head()"
   ]
  },
  {
   "cell_type": "code",
   "execution_count": 370,
   "metadata": {},
   "outputs": [
    {
     "name": "stdout",
     "output_type": "stream",
     "text": [
      "      Actual Values  Predicted Values\n",
      "0                87        118.574412\n",
      "1                75        194.013043\n",
      "2               150        234.654263\n",
      "3                67         66.308263\n",
      "4               131        204.207539\n",
      "...             ...               ...\n",
      "1535            450        241.614739\n",
      "1536            319        230.623593\n",
      "1537            292        229.466977\n",
      "1538            131        224.344397\n",
      "1539            144        130.100178\n",
      "\n",
      "[1540 rows x 2 columns]\n"
     ]
    }
   ],
   "source": [
    "print(error_airbnb)"
   ]
  },
  {
   "cell_type": "code",
   "execution_count": 371,
   "metadata": {
    "scrolled": false
   },
   "outputs": [
    {
     "data": {
      "image/png": "[encoded data removed]",
      "text/plain": [
       "<Figure size 432x288 with 1 Axes>"
      ]
     },
     "metadata": {},
     "output_type": "display_data"
    }
   ],
   "source": [
    "_ = plt.hist(y_test, color = 'green')\n",
    "_ = plt.hist(predicts, color = 'red')"
   ]
  },
  {
   "cell_type": "code",
   "execution_count": 372,
   "metadata": {},
   "outputs": [],
   "source": [
    "error_airbnb.to_csv(\"lm_error1.csv\",index=False)"
   ]
  },
  {
   "cell_type": "code",
   "execution_count": 373,
   "metadata": {},
   "outputs": [],
   "source": [
    "from sklearn.metrics import mean_squared_error\n",
    "from math import sqrt\n",
    "\n",
    "rms = sqrt(mean_squared_error(y_test, predicts))"
   ]
  },
  {
   "cell_type": "code",
   "execution_count": 374,
   "metadata": {},
   "outputs": [
    {
     "name": "stdout",
     "output_type": "stream",
     "text": [
      "98.0376405835658\n"
     ]
    }
   ],
   "source": [
    "print(rms)"
   ]
  },
  {
   "cell_type": "code",
   "execution_count": 375,
   "metadata": {},
   "outputs": [],
   "source": [
    "y_pred = predicts"
   ]
  },
  {
   "cell_type": "code",
   "execution_count": 376,
   "metadata": {},
   "outputs": [],
   "source": [
    "y_true = y_test"
   ]
  },
  {
   "cell_type": "code",
   "execution_count": 548,
   "metadata": {},
   "outputs": [],
   "source": [
    "#calculating mean absolute percentage error\n",
    "\n",
    "import numpy as np\n",
    "\n",
    "def MAPE(y_true, y_pred): \n",
    "    y_true, y_pred = np.array(y_true), np.array(y_pred)\n",
    "    return np.mean(np.abs((y_true - y_pred) / y_true)) * 100"
   ]
  },
  {
   "cell_type": "markdown",
   "metadata": {},
   "source": [
    "**USING STATSMODEL TO BUILD THE SAME MODEL SO THAT I CAN READ MODEL OUTPUT EASILY**"
   ]
  },
  {
   "cell_type": "code",
   "execution_count": 326,
   "metadata": {},
   "outputs": [],
   "source": [
    "# Import regression modules\n",
    "import statsmodels.api as sm\n",
    "from statsmodels.formula.api import ols"
   ]
  },
  {
   "cell_type": "code",
   "execution_count": 382,
   "metadata": {
    "scrolled": true
   },
   "outputs": [
    {
     "data": {
      "text/plain": [
       "Index(['id', 'host_id', 'neighbourhood_group', 'neighbourhood', 'room_type',\n",
       "       'minimum_nights', 'number_of_reviews', 'calculated_host_listings_count',\n",
       "       'availability_365', 'rev_flag'],\n",
       "      dtype='object')"
      ]
     },
     "execution_count": 382,
     "metadata": {},
     "output_type": "execute_result"
    }
   ],
   "source": [
    "X.columns"
   ]
  },
  {
   "cell_type": "code",
   "execution_count": 451,
   "metadata": {},
   "outputs": [],
   "source": [
    "X_train_sm, X_test_sm = train_test_split(X_sm,test_size=0.5, random_state=101)"
   ]
  },
  {
   "cell_type": "code",
   "execution_count": 454,
   "metadata": {
    "scrolled": true
   },
   "outputs": [
    {
     "name": "stdout",
     "output_type": "stream",
     "text": [
      "                            OLS Regression Results                            \n",
      "==============================================================================\n",
      "Dep. Variable:                  price   R-squared:                       0.279\n",
      "Model:                            OLS   Adj. R-squared:                  0.277\n",
      "Method:                 Least Squares   F-statistic:                     165.1\n",
      "Date:                Tue, 24 Dec 2019   Prob (F-statistic):          6.10e-265\n",
      "Time:                        13:04:02   Log-Likelihood:                -23443.\n",
      "No. Observations:                3849   AIC:                         4.691e+04\n",
      "Df Residuals:                    3839   BIC:                         4.697e+04\n",
      "Df Model:                           9                                         \n",
      "Covariance Type:            nonrobust                                         \n",
      "=======================================================================================\n",
      "                          coef    std err          t      P>|t|      [0.025      0.975]\n",
      "---------------------------------------------------------------------------------------\n",
      "Intercept             200.2904      7.564     26.478      0.000     185.460     215.121\n",
      "id                  -4.817e-07   2.21e-07     -2.181      0.029   -9.15e-07   -4.87e-08\n",
      "host_id               8.68e-08   2.51e-08      3.462      0.001    3.77e-08    1.36e-07\n",
      "neighbourhood           0.6292      0.171      3.675      0.000       0.293       0.965\n",
      "neighbourhood_group    -3.9208      1.547     -2.534      0.011      -6.955      -0.887\n",
      "room_type            -103.3432      3.082    -33.526      0.000    -109.387     -97.300\n",
      "minimum_nights         -0.6377      0.075     -8.551      0.000      -0.784      -0.492\n",
      "number_of_reviews      -0.2199      0.064     -3.416      0.001      -0.346      -0.094\n",
      "rev_flag              -18.3884      3.983     -4.617      0.000     -26.197     -10.580\n",
      "availability_365        0.1285      0.012     10.563      0.000       0.105       0.152\n",
      "==============================================================================\n",
      "Omnibus:                     2637.307   Durbin-Watson:                   2.040\n",
      "Prob(Omnibus):                  0.000   Jarque-Bera (JB):            42425.979\n",
      "Skew:                           3.096   Prob(JB):                         0.00\n",
      "Kurtosis:                      18.040   Cond. No.                     5.73e+08\n",
      "==============================================================================\n",
      "\n",
      "Warnings:\n",
      "[1] Standard Errors assume that the covariance matrix of the errors is correctly specified.\n",
      "[2] The condition number is large, 5.73e+08. This might indicate that there are\n",
      "strong multicollinearity or other numerical problems.\n"
     ]
    }
   ],
   "source": [
    "# Take the reduced model from Part 3\n",
    "m = ols('price ~ id+host_id+neighbourhood+neighbourhood_group+room_type+minimum_nights+number_of_reviews+rev_flag+availability_365',X_train_sm).fit()\n",
    "print(m.summary())\n",
    "# "
   ]
  },
  {
   "cell_type": "code",
   "execution_count": 455,
   "metadata": {
    "scrolled": true
   },
   "outputs": [
    {
     "data": {
      "text/plain": [
       "array([202.63775053, 208.23551335, 114.35471686, ...,  92.20656373,\n",
       "        88.65284497, 234.80351061])"
      ]
     },
     "execution_count": 455,
     "metadata": {},
     "output_type": "execute_result"
    }
   ],
   "source": [
    "m.predict()"
   ]
  },
  {
   "cell_type": "code",
   "execution_count": 456,
   "metadata": {
    "scrolled": false
   },
   "outputs": [
    {
     "data": {
      "text/html": [
       "<div>\n",
       "<style scoped>\n",
       "    .dataframe tbody tr th:only-of-type {\n",
       "        vertical-align: middle;\n",
       "    }\n",
       "\n",
       "    .dataframe tbody tr th {\n",
       "        vertical-align: top;\n",
       "    }\n",
       "\n",
       "    .dataframe thead th {\n",
       "        text-align: right;\n",
       "    }\n",
       "</style>\n",
       "<table border=\"1\" class=\"dataframe\">\n",
       "  <thead>\n",
       "    <tr style=\"text-align: right;\">\n",
       "      <th></th>\n",
       "      <th>id</th>\n",
       "      <th>host_id</th>\n",
       "      <th>neighbourhood_group</th>\n",
       "      <th>neighbourhood</th>\n",
       "      <th>room_type</th>\n",
       "      <th>minimum_nights</th>\n",
       "      <th>number_of_reviews</th>\n",
       "      <th>calculated_host_listings_count</th>\n",
       "      <th>availability_365</th>\n",
       "      <th>rev_flag</th>\n",
       "      <th>price</th>\n",
       "    </tr>\n",
       "  </thead>\n",
       "  <tbody>\n",
       "    <tr>\n",
       "      <td>2777</td>\n",
       "      <td>33149902</td>\n",
       "      <td>249590675</td>\n",
       "      <td>3</td>\n",
       "      <td>12</td>\n",
       "      <td>1</td>\n",
       "      <td>1</td>\n",
       "      <td>0</td>\n",
       "      <td>1</td>\n",
       "      <td>180</td>\n",
       "      <td>0</td>\n",
       "      <td>87</td>\n",
       "    </tr>\n",
       "    <tr>\n",
       "      <td>2307</td>\n",
       "      <td>34819352</td>\n",
       "      <td>73166292</td>\n",
       "      <td>0</td>\n",
       "      <td>11</td>\n",
       "      <td>0</td>\n",
       "      <td>2</td>\n",
       "      <td>3</td>\n",
       "      <td>1</td>\n",
       "      <td>78</td>\n",
       "      <td>1</td>\n",
       "      <td>75</td>\n",
       "    </tr>\n",
       "    <tr>\n",
       "      <td>4961</td>\n",
       "      <td>19936126</td>\n",
       "      <td>114674497</td>\n",
       "      <td>0</td>\n",
       "      <td>29</td>\n",
       "      <td>0</td>\n",
       "      <td>4</td>\n",
       "      <td>31</td>\n",
       "      <td>6</td>\n",
       "      <td>313</td>\n",
       "      <td>1</td>\n",
       "      <td>150</td>\n",
       "    </tr>\n",
       "    <tr>\n",
       "      <td>2003</td>\n",
       "      <td>5186243</td>\n",
       "      <td>4705949</td>\n",
       "      <td>1</td>\n",
       "      <td>1</td>\n",
       "      <td>1</td>\n",
       "      <td>3</td>\n",
       "      <td>71</td>\n",
       "      <td>13</td>\n",
       "      <td>74</td>\n",
       "      <td>1</td>\n",
       "      <td>67</td>\n",
       "    </tr>\n",
       "    <tr>\n",
       "      <td>4173</td>\n",
       "      <td>26435121</td>\n",
       "      <td>29420853</td>\n",
       "      <td>0</td>\n",
       "      <td>15</td>\n",
       "      <td>0</td>\n",
       "      <td>10</td>\n",
       "      <td>4</td>\n",
       "      <td>141</td>\n",
       "      <td>332</td>\n",
       "      <td>1</td>\n",
       "      <td>131</td>\n",
       "    </tr>\n",
       "  </tbody>\n",
       "</table>\n",
       "</div>"
      ],
      "text/plain": [
       "            id    host_id  neighbourhood_group  neighbourhood  room_type  \\\n",
       "2777  33149902  249590675                    3             12          1   \n",
       "2307  34819352   73166292                    0             11          0   \n",
       "4961  19936126  114674497                    0             29          0   \n",
       "2003   5186243    4705949                    1              1          1   \n",
       "4173  26435121   29420853                    0             15          0   \n",
       "\n",
       "      minimum_nights  number_of_reviews  calculated_host_listings_count  \\\n",
       "2777               1                  0                               1   \n",
       "2307               2                  3                               1   \n",
       "4961               4                 31                               6   \n",
       "2003               3                 71                              13   \n",
       "4173              10                  4                             141   \n",
       "\n",
       "      availability_365  rev_flag  price  \n",
       "2777               180         0     87  \n",
       "2307                78         1     75  \n",
       "4961               313         1    150  \n",
       "2003                74         1     67  \n",
       "4173               332         1    131  "
      ]
     },
     "execution_count": 456,
     "metadata": {},
     "output_type": "execute_result"
    }
   ],
   "source": [
    "X_test_sm.head()"
   ]
  },
  {
   "cell_type": "code",
   "execution_count": 457,
   "metadata": {
    "scrolled": true
   },
   "outputs": [
    {
     "data": {
      "text/plain": [
       "Index(['id', 'host_id', 'neighbourhood_group', 'neighbourhood', 'room_type',\n",
       "       'minimum_nights', 'number_of_reviews', 'calculated_host_listings_count',\n",
       "       'availability_365', 'rev_flag', 'price'],\n",
       "      dtype='object')"
      ]
     },
     "execution_count": 457,
     "metadata": {},
     "output_type": "execute_result"
    }
   ],
   "source": [
    "X_test_sm.columns"
   ]
  },
  {
   "cell_type": "code",
   "execution_count": 459,
   "metadata": {},
   "outputs": [],
   "source": [
    "X_test_sm_a = X_test_sm.drop(columns = 'price')"
   ]
  },
  {
   "cell_type": "code",
   "execution_count": 462,
   "metadata": {},
   "outputs": [],
   "source": [
    "ytestpred = pd.DataFrame({'test_pred':m.predict(X_test_sm_a)})"
   ]
  },
  {
   "cell_type": "code",
   "execution_count": 463,
   "metadata": {
    "scrolled": true
   },
   "outputs": [
    {
     "data": {
      "text/plain": [
       "(3850, 1)"
      ]
     },
     "execution_count": 463,
     "metadata": {},
     "output_type": "execute_result"
    }
   ],
   "source": [
    "ytestpred.shape"
   ]
  },
  {
   "cell_type": "code",
   "execution_count": 468,
   "metadata": {
    "scrolled": true
   },
   "outputs": [],
   "source": [
    "ytrainpred = pd.DataFrame({'train_pred':m.predict()})"
   ]
  },
  {
   "cell_type": "code",
   "execution_count": 469,
   "metadata": {
    "scrolled": true
   },
   "outputs": [
    {
     "data": {
      "text/plain": [
       "(3849, 1)"
      ]
     },
     "execution_count": 469,
     "metadata": {},
     "output_type": "execute_result"
    }
   ],
   "source": [
    "ytrainpred.shape"
   ]
  },
  {
   "cell_type": "code",
   "execution_count": 472,
   "metadata": {
    "scrolled": false
   },
   "outputs": [
    {
     "data": {
      "image/png": "[encoded data removed]",
      "text/plain": [
       "<Figure size 432x288 with 1 Axes>"
      ]
     },
     "metadata": {},
     "output_type": "display_data"
    }
   ],
   "source": [
    "_ = plt.hist(ytestpred['test_pred'], color = 'red')\n",
    "_ = plt.hist(X_test_sm['price'], color = 'green')"
   ]
  },
  {
   "cell_type": "code",
   "execution_count": 473,
   "metadata": {},
   "outputs": [],
   "source": [
    "rms = sqrt(mean_squared_error(ytestpred.test_pred, X_test_sm.price))"
   ]
  },
  {
   "cell_type": "code",
   "execution_count": 475,
   "metadata": {
    "scrolled": true
   },
   "outputs": [
    {
     "name": "stdout",
     "output_type": "stream",
     "text": [
      "100.25461362803063\n"
     ]
    }
   ],
   "source": [
    "print (rms)"
   ]
  },
  {
   "cell_type": "code",
   "execution_count": 489,
   "metadata": {},
   "outputs": [],
   "source": [
    "y_true = X_test_sm['price']\n",
    "y_pred = ytestpred['test_pred']"
   ]
  },
  {
   "cell_type": "code",
   "execution_count": 488,
   "metadata": {
    "scrolled": true
   },
   "outputs": [
    {
     "name": "stderr",
     "output_type": "stream",
     "text": [
      "/opt/anaconda3/lib/python3.7/site-packages/ipykernel_launcher.py:7: RuntimeWarning: divide by zero encountered in true_divide\n",
      "  import sys\n"
     ]
    },
    {
     "data": {
      "text/plain": [
       "inf"
      ]
     },
     "execution_count": 488,
     "metadata": {},
     "output_type": "execute_result"
    }
   ],
   "source": [
    "#MAPE\n",
    "MAPE(y_true,y_pred)"
   ]
  },
  {
   "cell_type": "code",
   "execution_count": 497,
   "metadata": {},
   "outputs": [],
   "source": []
  },
  {
   "cell_type": "markdown",
   "metadata": {},
   "source": [
    "Looks like the residuals are increasing as the price is going up. so will see if there are price outliers"
   ]
  },
  {
   "cell_type": "code",
   "execution_count": 498,
   "metadata": {},
   "outputs": [
    {
     "data": {
      "text/plain": [
       "152.7701000129887"
      ]
     },
     "execution_count": 498,
     "metadata": {},
     "output_type": "execute_result"
    }
   ],
   "source": [
    "#Checking for outliers on target variable\n",
    "np.mean(df_o['price'])"
   ]
  },
  {
   "cell_type": "code",
   "execution_count": 580,
   "metadata": {},
   "outputs": [
    {
     "data": {
      "text/plain": [
       "98.17455928102316"
      ]
     },
     "execution_count": 580,
     "metadata": {},
     "output_type": "execute_result"
    }
   ],
   "source": [
    "np.mean(y_true)"
   ]
  },
  {
   "cell_type": "code",
   "execution_count": 581,
   "metadata": {},
   "outputs": [
    {
     "data": {
      "text/plain": [
       "99.51847830149876"
      ]
     },
     "execution_count": 581,
     "metadata": {},
     "output_type": "execute_result"
    }
   ],
   "source": [
    "np.mean(y_pred)"
   ]
  },
  {
   "cell_type": "code",
   "execution_count": 582,
   "metadata": {
    "scrolled": true
   },
   "outputs": [
    {
     "data": {
      "text/plain": [
       "94.0"
      ]
     },
     "execution_count": 582,
     "metadata": {},
     "output_type": "execute_result"
    }
   ],
   "source": [
    "np.median(y_true)"
   ]
  },
  {
   "cell_type": "code",
   "execution_count": 583,
   "metadata": {
    "scrolled": true
   },
   "outputs": [
    {
     "data": {
      "text/plain": [
       "87.81401817690295"
      ]
     },
     "execution_count": 583,
     "metadata": {},
     "output_type": "execute_result"
    }
   ],
   "source": [
    "np.median(y_pred)"
   ]
  },
  {
   "cell_type": "code",
   "execution_count": 507,
   "metadata": {
    "scrolled": true
   },
   "outputs": [
    {
     "data": {
      "text/plain": [
       "(array([ 12.,  67., 152., 315., 692., 533., 243., 687., 801., 348.]),\n",
       " array([-46.87254071, -15.01933933,  16.83386205,  48.68706343,\n",
       "         80.54026481, 112.39346619, 144.24666756, 176.09986894,\n",
       "        207.95307032, 239.8062717 , 271.65947308]),\n",
       " <a list of 10 Patch objects>)"
      ]
     },
     "execution_count": 507,
     "metadata": {},
     "output_type": "execute_result"
    },
    {
     "data": {
      "image/png": "[encoded data removed]",
      "text/plain": [
       "<Figure size 432x288 with 1 Axes>"
      ]
     },
     "metadata": {},
     "output_type": "display_data"
    }
   ],
   "source": [
    "# on test data set\n",
    "plt.hist(y_true,color = 'blue')\n",
    "plt.hist(y_pred,color = 'red')"
   ]
  },
  {
   "cell_type": "code",
   "execution_count": 512,
   "metadata": {},
   "outputs": [],
   "source": [
    "residual = y_true - y_pred"
   ]
  },
  {
   "cell_type": "code",
   "execution_count": 515,
   "metadata": {},
   "outputs": [],
   "source": [
    "rms = sqrt(mean_squared_error(y_true, y_pred))"
   ]
  },
  {
   "cell_type": "code",
   "execution_count": 516,
   "metadata": {},
   "outputs": [
    {
     "name": "stdout",
     "output_type": "stream",
     "text": [
      "100.25461362803063\n"
     ]
    }
   ],
   "source": [
    "print(rms)"
   ]
  },
  {
   "cell_type": "code",
   "execution_count": 517,
   "metadata": {},
   "outputs": [
    {
     "data": {
      "text/plain": [
       "Text(0, 0.5, 'residual')"
      ]
     },
     "execution_count": 517,
     "metadata": {},
     "output_type": "execute_result"
    },
    {
     "data": {
      "image/png": "[encoded data removed]",
      "text/plain": [
       "<Figure size 432x288 with 1 Axes>"
      ]
     },
     "metadata": {},
     "output_type": "display_data"
    }
   ],
   "source": [
    "plt.scatter(y_true,residual)\n",
    "plt.xlabel(\"trueval\")\n",
    "plt.ylabel(\"residual\")"
   ]
  },
  {
   "cell_type": "markdown",
   "metadata": {},
   "source": [
    "The model is not predicting higher error values. So trying to identify what is different abiout higher price value and checking if the model predicts better for lower price"
   ]
  },
  {
   "cell_type": "code",
   "execution_count": 529,
   "metadata": {},
   "outputs": [],
   "source": [
    "#Import regression modules\n",
    "import statsmodels.api as sm\n",
    "from statsmodels.formula.api import ols"
   ]
  },
  {
   "cell_type": "code",
   "execution_count": 530,
   "metadata": {
    "scrolled": false
   },
   "outputs": [
    {
     "data": {
      "text/plain": [
       "Index(['id', 'host_id', 'neighbourhood_group', 'neighbourhood', 'room_type',\n",
       "       'minimum_nights', 'number_of_reviews', 'calculated_host_listings_count',\n",
       "       'availability_365', 'rev_flag', 'price'],\n",
       "      dtype='object')"
      ]
     },
     "execution_count": 530,
     "metadata": {},
     "output_type": "execute_result"
    }
   ],
   "source": [
    "X.columns"
   ]
  },
  {
   "cell_type": "code",
   "execution_count": 593,
   "metadata": {},
   "outputs": [],
   "source": [
    "X_sm = df_o"
   ]
  },
  {
   "cell_type": "code",
   "execution_count": 651,
   "metadata": {
    "scrolled": false
   },
   "outputs": [],
   "source": [
    "X_sm_p1 = X_sm[X_sm['price'] <= 300]"
   ]
  },
  {
   "cell_type": "code",
   "execution_count": 705,
   "metadata": {},
   "outputs": [
    {
     "data": {
      "text/plain": [
       "(7063, 24)"
      ]
     },
     "execution_count": 705,
     "metadata": {},
     "output_type": "execute_result"
    }
   ],
   "source": [
    "X_sm_p1.shape"
   ]
  },
  {
   "cell_type": "raw",
   "metadata": {},
   "source": [
    "X_train_sm, X_test_sm = train_test_split(X_sm_p1,test_size=0.5, random_state=101)"
   ]
  },
  {
   "cell_type": "code",
   "execution_count": 706,
   "metadata": {},
   "outputs": [],
   "source": [
    "X_train_sm, X_test_sm = train_test_split(X_sm_p1,test_size=0.5, random_state=101)"
   ]
  },
  {
   "cell_type": "code",
   "execution_count": 707,
   "metadata": {
    "scrolled": false
   },
   "outputs": [
    {
     "name": "stdout",
     "output_type": "stream",
     "text": [
      "                            OLS Regression Results                            \n",
      "==============================================================================\n",
      "Dep. Variable:                  price   R-squared:                       0.473\n",
      "Model:                            OLS   Adj. R-squared:                  0.471\n",
      "Method:                 Least Squares   F-statistic:                     315.4\n",
      "Date:                Thu, 26 Dec 2019   Prob (F-statistic):               0.00\n",
      "Time:                        13:32:06   Log-Likelihood:                -19049.\n",
      "No. Observations:                3531   AIC:                         3.812e+04\n",
      "Df Residuals:                    3520   BIC:                         3.819e+04\n",
      "Df Model:                          10                                         \n",
      "Covariance Type:            nonrobust                                         \n",
      "=======================================================================================\n",
      "                          coef    std err          t      P>|t|      [0.025      0.975]\n",
      "---------------------------------------------------------------------------------------\n",
      "Intercept             166.1073      5.524     30.070      0.000     155.277     176.938\n",
      "id                  -4.738e-07   1.14e-07     -4.148      0.000   -6.98e-07    -2.5e-07\n",
      "host_id              6.709e-08   1.32e-08      5.076      0.000    4.12e-08     9.3e-08\n",
      "neighbourhood           0.3119      0.090      3.482      0.001       0.136       0.487\n",
      "neighbourhood_group    -1.8702      1.538     -1.216      0.224      -4.886       1.146\n",
      "room_type             -80.6520      1.605    -50.249      0.000     -83.799     -77.505\n",
      "minimum_nights         -0.3913      0.038    -10.168      0.000      -0.467      -0.316\n",
      "number_of_reviews      -0.1254      0.032     -3.883      0.000      -0.189      -0.062\n",
      "rev_flag              -13.2042      2.069     -6.381      0.000     -17.261      -9.147\n",
      "availability_365        0.0795      0.006     12.583      0.000       0.067       0.092\n",
      "ng_flag                 6.5261      4.512      1.446      0.148      -2.321      15.373\n",
      "==============================================================================\n",
      "Omnibus:                      336.950   Durbin-Watson:                   1.981\n",
      "Prob(Omnibus):                  0.000   Jarque-Bera (JB):              439.144\n",
      "Skew:                           0.822   Prob(JB):                     4.38e-96\n",
      "Kurtosis:                       3.531   Cond. No.                     9.30e+08\n",
      "==============================================================================\n",
      "\n",
      "Warnings:\n",
      "[1] Standard Errors assume that the covariance matrix of the errors is correctly specified.\n",
      "[2] The condition number is large, 9.3e+08. This might indicate that there are\n",
      "strong multicollinearity or other numerical problems.\n"
     ]
    }
   ],
   "source": [
    "# Take the reduced model from Part 3\n",
    "m = ols('price ~ id+host_id+neighbourhood+neighbourhood_group+room_type+minimum_nights+number_of_reviews+rev_flag+availability_365+ng_flag',X_train_sm).fit()\n",
    "print(m.summary())\n",
    "# "
   ]
  },
  {
   "cell_type": "code",
   "execution_count": 708,
   "metadata": {
    "scrolled": false
   },
   "outputs": [
    {
     "data": {
      "text/plain": [
       "array([163.06154674,  55.43084804, 184.11225005, ...,  84.10684954,\n",
       "        78.79780776, 187.63490155])"
      ]
     },
     "execution_count": 708,
     "metadata": {},
     "output_type": "execute_result"
    }
   ],
   "source": [
    "m.predict()"
   ]
  },
  {
   "cell_type": "code",
   "execution_count": 709,
   "metadata": {
    "scrolled": true
   },
   "outputs": [
    {
     "data": {
      "text/plain": [
       "Index(['id', 'host_id', 'neighbourhood_group', 'neighbourhood', 'room_type',\n",
       "       'price', 'minimum_nights', 'number_of_reviews', 'last_review',\n",
       "       'reviews_per_month', 'calculated_host_listings_count',\n",
       "       'availability_365', 'price zval', 'minimum_nights zval',\n",
       "       'number_of_reviews zval', 'availability_365 zval',\n",
       "       'calculated_host_listings_count zval', 'last_rev', 'ng', 'nb', 'room_t',\n",
       "       'rev_flag', 'Ng_Flag', 'ng_flag'],\n",
       "      dtype='object')"
      ]
     },
     "execution_count": 709,
     "metadata": {},
     "output_type": "execute_result"
    }
   ],
   "source": [
    "X_test_sm.columns"
   ]
  },
  {
   "cell_type": "code",
   "execution_count": 710,
   "metadata": {},
   "outputs": [],
   "source": [
    "X_test_sm_a = X_test_sm.drop(columns = 'price')"
   ]
  },
  {
   "cell_type": "code",
   "execution_count": 711,
   "metadata": {},
   "outputs": [],
   "source": [
    "ytestpred = pd.DataFrame({'test_pred':m.predict(X_test_sm_a)})"
   ]
  },
  {
   "cell_type": "code",
   "execution_count": 712,
   "metadata": {
    "scrolled": true
   },
   "outputs": [
    {
     "data": {
      "text/plain": [
       "(3532, 1)"
      ]
     },
     "execution_count": 712,
     "metadata": {},
     "output_type": "execute_result"
    }
   ],
   "source": [
    "ytestpred.shape"
   ]
  },
  {
   "cell_type": "code",
   "execution_count": 713,
   "metadata": {
    "scrolled": true
   },
   "outputs": [],
   "source": [
    "ytrainpred = pd.DataFrame({'train_pred':m.predict()})"
   ]
  },
  {
   "cell_type": "code",
   "execution_count": 714,
   "metadata": {
    "scrolled": true
   },
   "outputs": [
    {
     "data": {
      "text/plain": [
       "(3531, 1)"
      ]
     },
     "execution_count": 714,
     "metadata": {},
     "output_type": "execute_result"
    }
   ],
   "source": [
    "ytrainpred.shape"
   ]
  },
  {
   "cell_type": "code",
   "execution_count": 715,
   "metadata": {
    "scrolled": true
   },
   "outputs": [
    {
     "data": {
      "image/png": "[encoded data removed]",
      "text/plain": [
       "<Figure size 432x288 with 1 Axes>"
      ]
     },
     "metadata": {},
     "output_type": "display_data"
    }
   ],
   "source": [
    "_ = plt.hist(ytestpred['test_pred'], color = 'green')\n",
    "_ = plt.hist(X_test_sm['price'], color = 'red')"
   ]
  },
  {
   "cell_type": "code",
   "execution_count": 716,
   "metadata": {},
   "outputs": [],
   "source": [
    "rms = sqrt(mean_squared_error(ytestpred.test_pred, X_test_sm.price))"
   ]
  },
  {
   "cell_type": "code",
   "execution_count": 717,
   "metadata": {
    "scrolled": true
   },
   "outputs": [
    {
     "name": "stdout",
     "output_type": "stream",
     "text": [
      "54.04696949842849\n"
     ]
    }
   ],
   "source": [
    "print (rms)"
   ]
  },
  {
   "cell_type": "code",
   "execution_count": 718,
   "metadata": {},
   "outputs": [],
   "source": [
    "y_true = X_test_sm['price']\n",
    "y_pred = ytestpred['test_pred']"
   ]
  },
  {
   "cell_type": "markdown",
   "metadata": {},
   "source": [
    "MAPE(y_true,y_pred)"
   ]
  },
  {
   "cell_type": "code",
   "execution_count": 719,
   "metadata": {},
   "outputs": [
    {
     "name": "stderr",
     "output_type": "stream",
     "text": [
      "/opt/anaconda3/lib/python3.7/site-packages/ipykernel_launcher.py:7: RuntimeWarning: divide by zero encountered in true_divide\n",
      "  import sys\n"
     ]
    },
    {
     "data": {
      "text/plain": [
       "inf"
      ]
     },
     "execution_count": 719,
     "metadata": {},
     "output_type": "execute_result"
    }
   ],
   "source": [
    "MAPE(y_true,y_pred)"
   ]
  },
  {
   "cell_type": "markdown",
   "metadata": {},
   "source": [
    "1. price < 771 (upper whisker) - rms 89\n",
    "2. price < 500 ( upper hinge)  - rms 71\n",
    "3. price < 300                 - rms 50       \n"
   ]
  },
  {
   "cell_type": "markdown",
   "metadata": {},
   "source": [
    "On further data inspection, found out that 92% of datapoints < 300 dollars so proceeding with improving the model for all listings less than 300 dollars"
   ]
  },
  {
   "cell_type": "code",
   "execution_count": 668,
   "metadata": {},
   "outputs": [
    {
     "data": {
      "text/plain": [
       "<matplotlib.collections.PathCollection at 0x1a291402d0>"
      ]
     },
     "execution_count": 668,
     "metadata": {},
     "output_type": "execute_result"
    },
    {
     "data": {
      "image/png": "[encoded data removed]",
      "text/plain": [
       "<Figure size 432x288 with 1 Axes>"
      ]
     },
     "metadata": {},
     "output_type": "display_data"
    }
   ],
   "source": [
    "#analyzing the relation of other features to price for all listings less than $300\n",
    "\n",
    "plt.scatter(X_sm_p1.minimum_nights,X_sm_p1.price)\n"
   ]
  },
  {
   "cell_type": "code",
   "execution_count": 669,
   "metadata": {
    "scrolled": true
   },
   "outputs": [
    {
     "data": {
      "text/html": [
       "<div>\n",
       "<style scoped>\n",
       "    .dataframe tbody tr th:only-of-type {\n",
       "        vertical-align: middle;\n",
       "    }\n",
       "\n",
       "    .dataframe tbody tr th {\n",
       "        vertical-align: top;\n",
       "    }\n",
       "\n",
       "    .dataframe thead th {\n",
       "        text-align: right;\n",
       "    }\n",
       "</style>\n",
       "<table border=\"1\" class=\"dataframe\">\n",
       "  <thead>\n",
       "    <tr style=\"text-align: right;\">\n",
       "      <th></th>\n",
       "      <th>id</th>\n",
       "      <th>host_id</th>\n",
       "      <th>neighbourhood_group</th>\n",
       "      <th>neighbourhood</th>\n",
       "      <th>room_type</th>\n",
       "      <th>price</th>\n",
       "      <th>minimum_nights</th>\n",
       "      <th>number_of_reviews</th>\n",
       "      <th>reviews_per_month</th>\n",
       "      <th>calculated_host_listings_count</th>\n",
       "      <th>availability_365</th>\n",
       "      <th>price zval</th>\n",
       "      <th>minimum_nights zval</th>\n",
       "      <th>number_of_reviews zval</th>\n",
       "      <th>availability_365 zval</th>\n",
       "      <th>calculated_host_listings_count zval</th>\n",
       "      <th>ng</th>\n",
       "      <th>nb</th>\n",
       "      <th>room_t</th>\n",
       "      <th>rev_flag</th>\n",
       "    </tr>\n",
       "  </thead>\n",
       "  <tbody>\n",
       "    <tr>\n",
       "      <td>count</td>\n",
       "      <td>7.063000e+03</td>\n",
       "      <td>7.063000e+03</td>\n",
       "      <td>7063.000000</td>\n",
       "      <td>7063.000000</td>\n",
       "      <td>7063.000000</td>\n",
       "      <td>7063.000000</td>\n",
       "      <td>7063.000000</td>\n",
       "      <td>7063.000000</td>\n",
       "      <td>4687.000000</td>\n",
       "      <td>7063.000000</td>\n",
       "      <td>7063.000000</td>\n",
       "      <td>7063.000000</td>\n",
       "      <td>7063.000000</td>\n",
       "      <td>7063.000000</td>\n",
       "      <td>7063.000000</td>\n",
       "      <td>7063.000000</td>\n",
       "      <td>7063.000000</td>\n",
       "      <td>7063.000000</td>\n",
       "      <td>7063.000000</td>\n",
       "      <td>7063.000000</td>\n",
       "    </tr>\n",
       "    <tr>\n",
       "      <td>mean</td>\n",
       "      <td>2.331574e+07</td>\n",
       "      <td>8.972630e+07</td>\n",
       "      <td>0.514795</td>\n",
       "      <td>17.738780</td>\n",
       "      <td>0.556562</td>\n",
       "      <td>125.888857</td>\n",
       "      <td>13.389778</td>\n",
       "      <td>13.256407</td>\n",
       "      <td>1.029358</td>\n",
       "      <td>41.753646</td>\n",
       "      <td>203.092454</td>\n",
       "      <td>0.217732</td>\n",
       "      <td>0.441917</td>\n",
       "      <td>0.568160</td>\n",
       "      <td>0.936048</td>\n",
       "      <td>0.735317</td>\n",
       "      <td>0.514795</td>\n",
       "      <td>17.738780</td>\n",
       "      <td>0.556562</td>\n",
       "      <td>0.663599</td>\n",
       "    </tr>\n",
       "    <tr>\n",
       "      <td>std</td>\n",
       "      <td>1.018557e+07</td>\n",
       "      <td>8.234366e+07</td>\n",
       "      <td>1.168609</td>\n",
       "      <td>10.149192</td>\n",
       "      <td>0.595598</td>\n",
       "      <td>73.137140</td>\n",
       "      <td>24.739011</td>\n",
       "      <td>30.033392</td>\n",
       "      <td>1.260478</td>\n",
       "      <td>66.281485</td>\n",
       "      <td>146.848960</td>\n",
       "      <td>0.122988</td>\n",
       "      <td>0.399625</td>\n",
       "      <td>0.836391</td>\n",
       "      <td>0.367842</td>\n",
       "      <td>0.703689</td>\n",
       "      <td>1.168609</td>\n",
       "      <td>10.149192</td>\n",
       "      <td>0.595598</td>\n",
       "      <td>0.472511</td>\n",
       "    </tr>\n",
       "    <tr>\n",
       "      <td>min</td>\n",
       "      <td>5.064600e+04</td>\n",
       "      <td>2.366600e+04</td>\n",
       "      <td>0.000000</td>\n",
       "      <td>0.000000</td>\n",
       "      <td>0.000000</td>\n",
       "      <td>0.000000</td>\n",
       "      <td>1.000000</td>\n",
       "      <td>0.000000</td>\n",
       "      <td>0.020000</td>\n",
       "      <td>1.000000</td>\n",
       "      <td>0.000000</td>\n",
       "      <td>0.000979</td>\n",
       "      <td>0.011640</td>\n",
       "      <td>0.006484</td>\n",
       "      <td>0.001873</td>\n",
       "      <td>0.006023</td>\n",
       "      <td>0.000000</td>\n",
       "      <td>0.000000</td>\n",
       "      <td>0.000000</td>\n",
       "      <td>0.000000</td>\n",
       "    </tr>\n",
       "    <tr>\n",
       "      <td>25%</td>\n",
       "      <td>1.565402e+07</td>\n",
       "      <td>2.138628e+07</td>\n",
       "      <td>0.000000</td>\n",
       "      <td>11.000000</td>\n",
       "      <td>0.000000</td>\n",
       "      <td>62.000000</td>\n",
       "      <td>1.000000</td>\n",
       "      <td>0.000000</td>\n",
       "      <td>0.180000</td>\n",
       "      <td>2.000000</td>\n",
       "      <td>48.000000</td>\n",
       "      <td>0.100930</td>\n",
       "      <td>0.297208</td>\n",
       "      <td>0.330150</td>\n",
       "      <td>0.747882</td>\n",
       "      <td>0.423879</td>\n",
       "      <td>0.000000</td>\n",
       "      <td>11.000000</td>\n",
       "      <td>0.000000</td>\n",
       "      <td>0.000000</td>\n",
       "    </tr>\n",
       "    <tr>\n",
       "      <td>50%</td>\n",
       "      <td>2.461080e+07</td>\n",
       "      <td>6.035200e+07</td>\n",
       "      <td>0.000000</td>\n",
       "      <td>15.000000</td>\n",
       "      <td>1.000000</td>\n",
       "      <td>112.000000</td>\n",
       "      <td>3.000000</td>\n",
       "      <td>2.000000</td>\n",
       "      <td>0.550000</td>\n",
       "      <td>9.000000</td>\n",
       "      <td>251.000000</td>\n",
       "      <td>0.221459</td>\n",
       "      <td>0.368480</td>\n",
       "      <td>0.397477</td>\n",
       "      <td>1.011057</td>\n",
       "      <td>0.592769</td>\n",
       "      <td>0.000000</td>\n",
       "      <td>15.000000</td>\n",
       "      <td>1.000000</td>\n",
       "      <td>1.000000</td>\n",
       "    </tr>\n",
       "    <tr>\n",
       "      <td>75%</td>\n",
       "      <td>3.234057e+07</td>\n",
       "      <td>1.532258e+08</td>\n",
       "      <td>0.000000</td>\n",
       "      <td>27.000000</td>\n",
       "      <td>1.000000</td>\n",
       "      <td>169.000000</td>\n",
       "      <td>10.000000</td>\n",
       "      <td>11.000000</td>\n",
       "      <td>1.365000</td>\n",
       "      <td>48.000000</td>\n",
       "      <td>352.000000</td>\n",
       "      <td>0.328272</td>\n",
       "      <td>0.392238</td>\n",
       "      <td>0.431140</td>\n",
       "      <td>1.100030</td>\n",
       "      <td>0.608122</td>\n",
       "      <td>0.000000</td>\n",
       "      <td>27.000000</td>\n",
       "      <td>1.000000</td>\n",
       "      <td>1.000000</td>\n",
       "    </tr>\n",
       "    <tr>\n",
       "      <td>max</td>\n",
       "      <td>3.811276e+07</td>\n",
       "      <td>2.885676e+08</td>\n",
       "      <td>4.000000</td>\n",
       "      <td>41.000000</td>\n",
       "      <td>2.000000</td>\n",
       "      <td>300.000000</td>\n",
       "      <td>120.000000</td>\n",
       "      <td>323.000000</td>\n",
       "      <td>13.000000</td>\n",
       "      <td>274.000000</td>\n",
       "      <td>365.000000</td>\n",
       "      <td>0.497795</td>\n",
       "      <td>2.434906</td>\n",
       "      <td>10.442133</td>\n",
       "      <td>1.428548</td>\n",
       "      <td>3.583422</td>\n",
       "      <td>4.000000</td>\n",
       "      <td>41.000000</td>\n",
       "      <td>2.000000</td>\n",
       "      <td>1.000000</td>\n",
       "    </tr>\n",
       "  </tbody>\n",
       "</table>\n",
       "</div>"
      ],
      "text/plain": [
       "                 id       host_id  neighbourhood_group  neighbourhood  \\\n",
       "count  7.063000e+03  7.063000e+03          7063.000000    7063.000000   \n",
       "mean   2.331574e+07  8.972630e+07             0.514795      17.738780   \n",
       "std    1.018557e+07  8.234366e+07             1.168609      10.149192   \n",
       "min    5.064600e+04  2.366600e+04             0.000000       0.000000   \n",
       "25%    1.565402e+07  2.138628e+07             0.000000      11.000000   \n",
       "50%    2.461080e+07  6.035200e+07             0.000000      15.000000   \n",
       "75%    3.234057e+07  1.532258e+08             0.000000      27.000000   \n",
       "max    3.811276e+07  2.885676e+08             4.000000      41.000000   \n",
       "\n",
       "         room_type        price  minimum_nights  number_of_reviews  \\\n",
       "count  7063.000000  7063.000000     7063.000000        7063.000000   \n",
       "mean      0.556562   125.888857       13.389778          13.256407   \n",
       "std       0.595598    73.137140       24.739011          30.033392   \n",
       "min       0.000000     0.000000        1.000000           0.000000   \n",
       "25%       0.000000    62.000000        1.000000           0.000000   \n",
       "50%       1.000000   112.000000        3.000000           2.000000   \n",
       "75%       1.000000   169.000000       10.000000          11.000000   \n",
       "max       2.000000   300.000000      120.000000         323.000000   \n",
       "\n",
       "       reviews_per_month  calculated_host_listings_count  availability_365  \\\n",
       "count        4687.000000                     7063.000000       7063.000000   \n",
       "mean            1.029358                       41.753646        203.092454   \n",
       "std             1.260478                       66.281485        146.848960   \n",
       "min             0.020000                        1.000000          0.000000   \n",
       "25%             0.180000                        2.000000         48.000000   \n",
       "50%             0.550000                        9.000000        251.000000   \n",
       "75%             1.365000                       48.000000        352.000000   \n",
       "max            13.000000                      274.000000        365.000000   \n",
       "\n",
       "        price zval  minimum_nights zval  number_of_reviews zval  \\\n",
       "count  7063.000000          7063.000000             7063.000000   \n",
       "mean      0.217732             0.441917                0.568160   \n",
       "std       0.122988             0.399625                0.836391   \n",
       "min       0.000979             0.011640                0.006484   \n",
       "25%       0.100930             0.297208                0.330150   \n",
       "50%       0.221459             0.368480                0.397477   \n",
       "75%       0.328272             0.392238                0.431140   \n",
       "max       0.497795             2.434906               10.442133   \n",
       "\n",
       "       availability_365 zval  calculated_host_listings_count zval  \\\n",
       "count            7063.000000                          7063.000000   \n",
       "mean                0.936048                             0.735317   \n",
       "std                 0.367842                             0.703689   \n",
       "min                 0.001873                             0.006023   \n",
       "25%                 0.747882                             0.423879   \n",
       "50%                 1.011057                             0.592769   \n",
       "75%                 1.100030                             0.608122   \n",
       "max                 1.428548                             3.583422   \n",
       "\n",
       "                ng           nb       room_t     rev_flag  \n",
       "count  7063.000000  7063.000000  7063.000000  7063.000000  \n",
       "mean      0.514795    17.738780     0.556562     0.663599  \n",
       "std       1.168609    10.149192     0.595598     0.472511  \n",
       "min       0.000000     0.000000     0.000000     0.000000  \n",
       "25%       0.000000    11.000000     0.000000     0.000000  \n",
       "50%       0.000000    15.000000     1.000000     1.000000  \n",
       "75%       0.000000    27.000000     1.000000     1.000000  \n",
       "max       4.000000    41.000000     2.000000     1.000000  "
      ]
     },
     "execution_count": 669,
     "metadata": {},
     "output_type": "execute_result"
    }
   ],
   "source": [
    "X_sm_p1.describe()"
   ]
  },
  {
   "cell_type": "code",
   "execution_count": 689,
   "metadata": {},
   "outputs": [],
   "source": [
    "table = pd.pivot_table(X_sm_p1, values='id', index=['neighbourhood_group','room_type']\n",
    "                              , aggfunc='count', fill_value=0)"
   ]
  },
  {
   "cell_type": "code",
   "execution_count": 690,
   "metadata": {
    "scrolled": true
   },
   "outputs": [
    {
     "name": "stdout",
     "output_type": "stream",
     "text": [
      "                                 id\n",
      "neighbourhood_group room_type      \n",
      "0                   0          3193\n",
      "                    1          2104\n",
      "                    2           341\n",
      "1                   0           114\n",
      "                    1           347\n",
      "                    2             8\n",
      "2                   0            46\n",
      "                    1           121\n",
      "                    2             8\n",
      "3                   0            52\n",
      "                    1           246\n",
      "                    2             9\n",
      "4                   0           108\n",
      "                    1           351\n",
      "                    2            15\n"
     ]
    }
   ],
   "source": [
    "print(table)"
   ]
  },
  {
   "cell_type": "code",
   "execution_count": 691,
   "metadata": {},
   "outputs": [
    {
     "name": "stdout",
     "output_type": "stream",
     "text": [
      "                                   id  % of Total  % of roomtype\n",
      "neighbourhood_group room_type                                   \n",
      "0                   0          3193.0   45.207419      56.633558\n",
      "                    1          2104.0   29.789041      37.318198\n",
      "                    2           341.0    4.827977       6.048244\n",
      "1                   0           114.0    1.614045      24.307036\n",
      "                    1           347.0    4.912927      73.987207\n",
      "                    2             8.0    0.113266       1.705757\n",
      "2                   0            46.0    0.651281      26.285714\n",
      "                    1           121.0    1.713153      69.142857\n",
      "                    2             8.0    0.113266       4.571429\n",
      "3                   0            52.0    0.736231      16.938111\n",
      "                    1           246.0    3.482939      80.130293\n",
      "                    2             9.0    0.127425       2.931596\n",
      "4                   0           108.0    1.529095      22.784810\n",
      "                    1           351.0    4.969560      74.050633\n",
      "                    2            15.0    0.212374       3.164557\n",
      "total                          7063.0  100.000000     500.000000\n"
     ]
    }
   ],
   "source": [
    "table['% of Total'] = (table.id / table.id.sum() * 100)\n",
    "table['% of roomtype'] = (table.id / table.groupby(level=0).id.transform(sum) * 100)\n",
    "table.loc['total', :] = table.sum().values\n",
    "print (table)"
   ]
  },
  {
   "cell_type": "markdown",
   "metadata": {},
   "source": [
    "Note : based on above cross tab room type 0 constitutes greater share of neighbour hood group 0 so making a dummy variable for neighbour group 0 versus others"
   ]
  },
  {
   "cell_type": "code",
   "execution_count": 703,
   "metadata": {
    "scrolled": false
   },
   "outputs": [
    {
     "name": "stderr",
     "output_type": "stream",
     "text": [
      "/opt/anaconda3/lib/python3.7/site-packages/ipykernel_launcher.py:1: SettingWithCopyWarning: \n",
      "A value is trying to be set on a copy of a slice from a DataFrame.\n",
      "Try using .loc[row_indexer,col_indexer] = value instead\n",
      "\n",
      "See the caveats in the documentation: http://pandas.pydata.org/pandas-docs/stable/user_guide/indexing.html#returning-a-view-versus-a-copy\n",
      "  \"\"\"Entry point for launching an IPython kernel.\n"
     ]
    }
   ],
   "source": [
    "X_sm_p1['ng_flag'] = np.where(X_sm_p1['neighbourhood_group']== 0,1,0)"
   ]
  },
  {
   "cell_type": "code",
   "execution_count": 702,
   "metadata": {},
   "outputs": [
    {
     "data": {
      "text/html": [
       "<div>\n",
       "<style scoped>\n",
       "    .dataframe tbody tr th:only-of-type {\n",
       "        vertical-align: middle;\n",
       "    }\n",
       "\n",
       "    .dataframe tbody tr th {\n",
       "        vertical-align: top;\n",
       "    }\n",
       "\n",
       "    .dataframe thead th {\n",
       "        text-align: right;\n",
       "    }\n",
       "</style>\n",
       "<table border=\"1\" class=\"dataframe\">\n",
       "  <thead>\n",
       "    <tr style=\"text-align: right;\">\n",
       "      <th></th>\n",
       "      <th>id</th>\n",
       "      <th>host_id</th>\n",
       "      <th>neighbourhood_group</th>\n",
       "      <th>neighbourhood</th>\n",
       "      <th>room_type</th>\n",
       "      <th>price</th>\n",
       "      <th>minimum_nights</th>\n",
       "      <th>number_of_reviews</th>\n",
       "      <th>last_review</th>\n",
       "      <th>reviews_per_month</th>\n",
       "      <th>...</th>\n",
       "      <th>minimum_nights zval</th>\n",
       "      <th>number_of_reviews zval</th>\n",
       "      <th>availability_365 zval</th>\n",
       "      <th>calculated_host_listings_count zval</th>\n",
       "      <th>last_rev</th>\n",
       "      <th>ng</th>\n",
       "      <th>nb</th>\n",
       "      <th>room_t</th>\n",
       "      <th>rev_flag</th>\n",
       "      <th>Ng_Flag</th>\n",
       "    </tr>\n",
       "  </thead>\n",
       "  <tbody>\n",
       "    <tr>\n",
       "      <td>0</td>\n",
       "      <td>21408571</td>\n",
       "      <td>114674497</td>\n",
       "      <td>0</td>\n",
       "      <td>29</td>\n",
       "      <td>0</td>\n",
       "      <td>0</td>\n",
       "      <td>3</td>\n",
       "      <td>9</td>\n",
       "      <td>8/11/19</td>\n",
       "      <td>0.51</td>\n",
       "      <td>...</td>\n",
       "      <td>0.344723</td>\n",
       "      <td>0.128169</td>\n",
       "      <td>0.973738</td>\n",
       "      <td>0.531354</td>\n",
       "      <td>2019-08-11</td>\n",
       "      <td>0</td>\n",
       "      <td>29</td>\n",
       "      <td>0</td>\n",
       "      <td>1</td>\n",
       "      <td>1</td>\n",
       "    </tr>\n",
       "    <tr>\n",
       "      <td>1</td>\n",
       "      <td>18656726</td>\n",
       "      <td>21900076</td>\n",
       "      <td>1</td>\n",
       "      <td>1</td>\n",
       "      <td>2</td>\n",
       "      <td>14</td>\n",
       "      <td>1</td>\n",
       "      <td>0</td>\n",
       "      <td>NaN</td>\n",
       "      <td>NaN</td>\n",
       "      <td>...</td>\n",
       "      <td>0.392238</td>\n",
       "      <td>0.431140</td>\n",
       "      <td>1.428548</td>\n",
       "      <td>0.592769</td>\n",
       "      <td>NaT</td>\n",
       "      <td>1</td>\n",
       "      <td>1</td>\n",
       "      <td>2</td>\n",
       "      <td>0</td>\n",
       "      <td>0</td>\n",
       "    </tr>\n",
       "    <tr>\n",
       "      <td>2</td>\n",
       "      <td>37506711</td>\n",
       "      <td>29799617</td>\n",
       "      <td>0</td>\n",
       "      <td>11</td>\n",
       "      <td>0</td>\n",
       "      <td>14</td>\n",
       "      <td>3</td>\n",
       "      <td>4</td>\n",
       "      <td>8/26/19</td>\n",
       "      <td>4.00</td>\n",
       "      <td>...</td>\n",
       "      <td>0.344723</td>\n",
       "      <td>0.296486</td>\n",
       "      <td>1.195848</td>\n",
       "      <td>0.608122</td>\n",
       "      <td>2019-08-26</td>\n",
       "      <td>0</td>\n",
       "      <td>11</td>\n",
       "      <td>0</td>\n",
       "      <td>1</td>\n",
       "      <td>1</td>\n",
       "    </tr>\n",
       "    <tr>\n",
       "      <td>3</td>\n",
       "      <td>35947264</td>\n",
       "      <td>75175440</td>\n",
       "      <td>4</td>\n",
       "      <td>5</td>\n",
       "      <td>0</td>\n",
       "      <td>14</td>\n",
       "      <td>1</td>\n",
       "      <td>1</td>\n",
       "      <td>6/24/19</td>\n",
       "      <td>0.45</td>\n",
       "      <td>...</td>\n",
       "      <td>0.392238</td>\n",
       "      <td>0.397477</td>\n",
       "      <td>1.428548</td>\n",
       "      <td>0.592769</td>\n",
       "      <td>2019-06-24</td>\n",
       "      <td>4</td>\n",
       "      <td>5</td>\n",
       "      <td>0</td>\n",
       "      <td>1</td>\n",
       "      <td>0</td>\n",
       "    </tr>\n",
       "    <tr>\n",
       "      <td>4</td>\n",
       "      <td>18679631</td>\n",
       "      <td>108408404</td>\n",
       "      <td>0</td>\n",
       "      <td>19</td>\n",
       "      <td>1</td>\n",
       "      <td>14</td>\n",
       "      <td>2</td>\n",
       "      <td>1</td>\n",
       "      <td>5/14/17</td>\n",
       "      <td>0.04</td>\n",
       "      <td>...</td>\n",
       "      <td>0.368480</td>\n",
       "      <td>0.397477</td>\n",
       "      <td>1.428548</td>\n",
       "      <td>0.608122</td>\n",
       "      <td>2017-05-14</td>\n",
       "      <td>0</td>\n",
       "      <td>19</td>\n",
       "      <td>1</td>\n",
       "      <td>1</td>\n",
       "      <td>1</td>\n",
       "    </tr>\n",
       "  </tbody>\n",
       "</table>\n",
       "<p>5 rows × 23 columns</p>\n",
       "</div>"
      ],
      "text/plain": [
       "         id    host_id  neighbourhood_group  neighbourhood  room_type  price  \\\n",
       "0  21408571  114674497                    0             29          0      0   \n",
       "1  18656726   21900076                    1              1          2     14   \n",
       "2  37506711   29799617                    0             11          0     14   \n",
       "3  35947264   75175440                    4              5          0     14   \n",
       "4  18679631  108408404                    0             19          1     14   \n",
       "\n",
       "   minimum_nights  number_of_reviews last_review  reviews_per_month  ...  \\\n",
       "0               3                  9     8/11/19               0.51  ...   \n",
       "1               1                  0         NaN                NaN  ...   \n",
       "2               3                  4     8/26/19               4.00  ...   \n",
       "3               1                  1     6/24/19               0.45  ...   \n",
       "4               2                  1     5/14/17               0.04  ...   \n",
       "\n",
       "   minimum_nights zval  number_of_reviews zval  availability_365 zval  \\\n",
       "0             0.344723                0.128169               0.973738   \n",
       "1             0.392238                0.431140               1.428548   \n",
       "2             0.344723                0.296486               1.195848   \n",
       "3             0.392238                0.397477               1.428548   \n",
       "4             0.368480                0.397477               1.428548   \n",
       "\n",
       "   calculated_host_listings_count zval   last_rev  ng  nb room_t  rev_flag  \\\n",
       "0                             0.531354 2019-08-11   0  29      0         1   \n",
       "1                             0.592769        NaT   1   1      2         0   \n",
       "2                             0.608122 2019-08-26   0  11      0         1   \n",
       "3                             0.592769 2019-06-24   4   5      0         1   \n",
       "4                             0.608122 2017-05-14   0  19      1         1   \n",
       "\n",
       "   Ng_Flag  \n",
       "0        1  \n",
       "1        0  \n",
       "2        1  \n",
       "3        0  \n",
       "4        1  \n",
       "\n",
       "[5 rows x 23 columns]"
      ]
     },
     "execution_count": 702,
     "metadata": {},
     "output_type": "execute_result"
    }
   ],
   "source": [
    "X_sm_p1.head()"
   ]
  },
  {
   "cell_type": "markdown",
   "metadata": {},
   "source": [
    "No change in RMS by adding this new flag"
   ]
  },
  {
   "cell_type": "code",
   "execution_count": null,
   "metadata": {},
   "outputs": [],
   "source": []
  }
 ],
 "metadata": {
  "kernelspec": {
   "display_name": "Python 3",
   "language": "python",
   "name": "python3"
  },
  "language_info": {
   "codemirror_mode": {
    "name": "ipython",
    "version": 3
   },
   "file_extension": ".py",
   "mimetype": "text/x-python",
   "name": "python",
   "nbconvert_exporter": "python",
   "pygments_lexer": "ipython3",
   "version": "3.7.4"
  }
 },
 "nbformat": 4,
 "nbformat_minor": 1
}
