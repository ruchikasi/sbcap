{
 "cells": [
  {
   "cell_type": "code",
   "execution_count": 2,
   "metadata": {},
   "outputs": [],
   "source": [
    "from sklearn import cluster\n",
    "from sklearn.cluster import KMeans\n",
    "import networkx as nx\n",
    "from collections import defaultdict\n",
    "import matplotlib.pyplot as plt\n",
    "from matplotlib import cm\n",
    "import seaborn as sns\n",
    "import pandas as pd\n",
    "import numpy as np\n",
    "from sklearn.metrics.cluster import normalized_mutual_info_score\n",
    "from sklearn.metrics.cluster import adjusted_rand_score\n",
    "   \n",
    "import os\n",
    "import pandas as pd\n",
    "import numpy as np\n",
    "import matplotlib\n",
    "import matplotlib.pyplot as plt\n",
    "\n",
    "os.chdir('/Users/ruchikasingh/Documents/NYUSPS/PY/\\')"
   ]
  },
  {
   "cell_type": "code",
   "execution_count": 3,
   "metadata": {},
   "outputs": [],
   "source": [
    "df = pd.read_csv(\"moddata.csv\")"
   ]
  },
  {
   "cell_type": "code",
   "execution_count": 4,
   "metadata": {},
   "outputs": [
    {
     "data": {
      "text/plain": [
       "pandas.core.frame.DataFrame"
      ]
     },
     "execution_count": 4,
     "metadata": {},
     "output_type": "execute_result"
    }
   ],
   "source": [
    "type(df)"
   ]
  },
  {
   "cell_type": "code",
   "execution_count": 5,
   "metadata": {
    "scrolled": true
   },
   "outputs": [
    {
     "name": "stdout",
     "output_type": "stream",
     "text": [
      "<class 'pandas.core.frame.DataFrame'>\n",
      "RangeIndex: 3289 entries, 0 to 3288\n",
      "Columns: 113 entries, Target Text to Question.in.sub.headline\n",
      "dtypes: float64(7), int64(15), object(91)\n",
      "memory usage: 2.8+ MB\n"
     ]
    }
   ],
   "source": [
    "df.info()"
   ]
  },
  {
   "cell_type": "code",
   "execution_count": 11,
   "metadata": {},
   "outputs": [
    {
     "data": {
      "text/html": [
       "<div>\n",
       "<style scoped>\n",
       "    .dataframe tbody tr th:only-of-type {\n",
       "        vertical-align: middle;\n",
       "    }\n",
       "\n",
       "    .dataframe tbody tr th {\n",
       "        vertical-align: top;\n",
       "    }\n",
       "\n",
       "    .dataframe thead th {\n",
       "        text-align: right;\n",
       "    }\n",
       "</style>\n",
       "<table border=\"1\" class=\"dataframe\">\n",
       "  <thead>\n",
       "    <tr style=\"text-align: right;\">\n",
       "      <th></th>\n",
       "      <th>Target Text</th>\n",
       "      <th>Target</th>\n",
       "      <th>Static Target Median</th>\n",
       "      <th>Dynamic Target Median Vendor Plan Only</th>\n",
       "      <th>Dynamic Target Median Vendor Plan Size</th>\n",
       "      <th>Dynamic Target Mean</th>\n",
       "      <th>Dynamic Target Mean +1STDV</th>\n",
       "      <th>idkey</th>\n",
       "      <th>plan_name</th>\n",
       "      <th>Cloud.Audience.Led</th>\n",
       "      <th>...</th>\n",
       "      <th>Fear.in.headline</th>\n",
       "      <th>Fear...threat.in.sub.headline</th>\n",
       "      <th>Product.Mention.in.headline</th>\n",
       "      <th>Product.Mention.in.sub.headline</th>\n",
       "      <th>IBM.in.headline</th>\n",
       "      <th>IBM.named.in.sub.headline</th>\n",
       "      <th>Statistic.in.headline</th>\n",
       "      <th>Statistic.in.sub.headline</th>\n",
       "      <th>Question.in.headline</th>\n",
       "      <th>Question.in.sub.headline</th>\n",
       "    </tr>\n",
       "  </thead>\n",
       "  <tbody>\n",
       "    <tr>\n",
       "      <th>0</th>\n",
       "      <td>High</td>\n",
       "      <td>1</td>\n",
       "      <td>1</td>\n",
       "      <td>1</td>\n",
       "      <td>1</td>\n",
       "      <td>1</td>\n",
       "      <td>0</td>\n",
       "      <td>Watson Customer EngagementMediaMath</td>\n",
       "      <td>Watson Customer Engagement</td>\n",
       "      <td>No</td>\n",
       "      <td>...</td>\n",
       "      <td>No</td>\n",
       "      <td>No</td>\n",
       "      <td>No</td>\n",
       "      <td>No</td>\n",
       "      <td>No</td>\n",
       "      <td>No</td>\n",
       "      <td>No</td>\n",
       "      <td>No</td>\n",
       "      <td>No</td>\n",
       "      <td>No</td>\n",
       "    </tr>\n",
       "    <tr>\n",
       "      <th>1</th>\n",
       "      <td>High</td>\n",
       "      <td>1</td>\n",
       "      <td>1</td>\n",
       "      <td>1</td>\n",
       "      <td>1</td>\n",
       "      <td>1</td>\n",
       "      <td>0</td>\n",
       "      <td>Watson Customer EngagementMediaMath</td>\n",
       "      <td>Watson Customer Engagement</td>\n",
       "      <td>No</td>\n",
       "      <td>...</td>\n",
       "      <td>No</td>\n",
       "      <td>No</td>\n",
       "      <td>No</td>\n",
       "      <td>No</td>\n",
       "      <td>No</td>\n",
       "      <td>No</td>\n",
       "      <td>No</td>\n",
       "      <td>No</td>\n",
       "      <td>No</td>\n",
       "      <td>No</td>\n",
       "    </tr>\n",
       "    <tr>\n",
       "      <th>2</th>\n",
       "      <td>High</td>\n",
       "      <td>1</td>\n",
       "      <td>1</td>\n",
       "      <td>1</td>\n",
       "      <td>1</td>\n",
       "      <td>1</td>\n",
       "      <td>1</td>\n",
       "      <td>Watson Customer EngagementMediaMath</td>\n",
       "      <td>Watson Customer Engagement</td>\n",
       "      <td>No</td>\n",
       "      <td>...</td>\n",
       "      <td>No</td>\n",
       "      <td>No</td>\n",
       "      <td>No</td>\n",
       "      <td>No</td>\n",
       "      <td>No</td>\n",
       "      <td>No</td>\n",
       "      <td>No</td>\n",
       "      <td>No</td>\n",
       "      <td>No</td>\n",
       "      <td>No</td>\n",
       "    </tr>\n",
       "    <tr>\n",
       "      <th>3</th>\n",
       "      <td>Low</td>\n",
       "      <td>0</td>\n",
       "      <td>0</td>\n",
       "      <td>0</td>\n",
       "      <td>0</td>\n",
       "      <td>0</td>\n",
       "      <td>0</td>\n",
       "      <td>Watson Customer EngagementMediaMath</td>\n",
       "      <td>Watson Customer Engagement</td>\n",
       "      <td>No</td>\n",
       "      <td>...</td>\n",
       "      <td>No</td>\n",
       "      <td>No</td>\n",
       "      <td>No</td>\n",
       "      <td>No</td>\n",
       "      <td>No</td>\n",
       "      <td>No</td>\n",
       "      <td>No</td>\n",
       "      <td>No</td>\n",
       "      <td>No</td>\n",
       "      <td>No</td>\n",
       "    </tr>\n",
       "    <tr>\n",
       "      <th>4</th>\n",
       "      <td>Low</td>\n",
       "      <td>0</td>\n",
       "      <td>0</td>\n",
       "      <td>0</td>\n",
       "      <td>0</td>\n",
       "      <td>0</td>\n",
       "      <td>0</td>\n",
       "      <td>Watson Customer EngagementMediaMath</td>\n",
       "      <td>Watson Customer Engagement</td>\n",
       "      <td>No</td>\n",
       "      <td>...</td>\n",
       "      <td>No</td>\n",
       "      <td>No</td>\n",
       "      <td>No</td>\n",
       "      <td>No</td>\n",
       "      <td>No</td>\n",
       "      <td>No</td>\n",
       "      <td>No</td>\n",
       "      <td>No</td>\n",
       "      <td>No</td>\n",
       "      <td>No</td>\n",
       "    </tr>\n",
       "  </tbody>\n",
       "</table>\n",
       "<p>5 rows × 113 columns</p>\n",
       "</div>"
      ],
      "text/plain": [
       "  Target Text  Target  Static Target Median  \\\n",
       "0        High       1                     1   \n",
       "1        High       1                     1   \n",
       "2        High       1                     1   \n",
       "3         Low       0                     0   \n",
       "4         Low       0                     0   \n",
       "\n",
       "   Dynamic Target Median Vendor Plan Only  \\\n",
       "0                                       1   \n",
       "1                                       1   \n",
       "2                                       1   \n",
       "3                                       0   \n",
       "4                                       0   \n",
       "\n",
       "   Dynamic Target Median Vendor Plan Size  Dynamic Target Mean  \\\n",
       "0                                       1                    1   \n",
       "1                                       1                    1   \n",
       "2                                       1                    1   \n",
       "3                                       0                    0   \n",
       "4                                       0                    0   \n",
       "\n",
       "   Dynamic Target Mean +1STDV                                idkey  \\\n",
       "0                           0  Watson Customer EngagementMediaMath   \n",
       "1                           0  Watson Customer EngagementMediaMath   \n",
       "2                           1  Watson Customer EngagementMediaMath   \n",
       "3                           0  Watson Customer EngagementMediaMath   \n",
       "4                           0  Watson Customer EngagementMediaMath   \n",
       "\n",
       "                    plan_name Cloud.Audience.Led  ... Fear.in.headline  \\\n",
       "0  Watson Customer Engagement                 No  ...               No   \n",
       "1  Watson Customer Engagement                 No  ...               No   \n",
       "2  Watson Customer Engagement                 No  ...               No   \n",
       "3  Watson Customer Engagement                 No  ...               No   \n",
       "4  Watson Customer Engagement                 No  ...               No   \n",
       "\n",
       "  Fear...threat.in.sub.headline Product.Mention.in.headline  \\\n",
       "0                            No                          No   \n",
       "1                            No                          No   \n",
       "2                            No                          No   \n",
       "3                            No                          No   \n",
       "4                            No                          No   \n",
       "\n",
       "  Product.Mention.in.sub.headline IBM.in.headline IBM.named.in.sub.headline  \\\n",
       "0                              No              No                        No   \n",
       "1                              No              No                        No   \n",
       "2                              No              No                        No   \n",
       "3                              No              No                        No   \n",
       "4                              No              No                        No   \n",
       "\n",
       "  Statistic.in.headline  Statistic.in.sub.headline  Question.in.headline  \\\n",
       "0                    No                         No                    No   \n",
       "1                    No                         No                    No   \n",
       "2                    No                         No                    No   \n",
       "3                    No                         No                    No   \n",
       "4                    No                         No                    No   \n",
       "\n",
       "   Question.in.sub.headline  \n",
       "0                        No  \n",
       "1                        No  \n",
       "2                        No  \n",
       "3                        No  \n",
       "4                        No  \n",
       "\n",
       "[5 rows x 113 columns]"
      ]
     },
     "execution_count": 11,
     "metadata": {},
     "output_type": "execute_result"
    }
   ],
   "source": [
    "df.head()"
   ]
  },
  {
   "cell_type": "code",
   "execution_count": 6,
   "metadata": {},
   "outputs": [
    {
     "data": {
      "text/plain": [
       "['Target Text',\n",
       " 'Target',\n",
       " 'Static Target Median',\n",
       " 'Dynamic Target Median Vendor Plan Only',\n",
       " 'Dynamic Target Median Vendor Plan Size',\n",
       " 'Dynamic Target Mean',\n",
       " 'Dynamic Target Mean +1STDV',\n",
       " 'idkey',\n",
       " 'plan_name',\n",
       " 'Cloud.Audience.Led',\n",
       " 'vendor',\n",
       " 'CBSi',\n",
       " 'IDGE',\n",
       " 'unit_size',\n",
       " 'size1',\n",
       " 'size2',\n",
       " 'size3',\n",
       " 'banner.area',\n",
       " 'total.text.char.banner',\n",
       " 'text.proportion.banner',\n",
       " 'delivery',\n",
       " 'Logo.visible.',\n",
       " 'Logo.colour',\n",
       " 'CTA.used.',\n",
       " 'Body.text.Y.N.',\n",
       " 'Banner.background.Type',\n",
       " 'Banner.font.Type',\n",
       " 'Banner.font.over.background',\n",
       " 'CTA.background',\n",
       " 'CTA.background.type',\n",
       " 'CTA.font',\n",
       " 'CTA.font.type',\n",
       " 'Image.used.',\n",
       " 'Humans.Used',\n",
       " 'Human.Type',\n",
       " 'Explicit.offer.',\n",
       " 'Offer.type',\n",
       " 'Product.in.text..Y.N.',\n",
       " 'Social...tag.used.',\n",
       " 'Headline.length',\n",
       " 'Sub.headline.length',\n",
       " 'CTA.length',\n",
       " 'Question.in.text',\n",
       " 'Statistic.in.text',\n",
       " 'IBM.in.text',\n",
       " 'Product.Mention.Text',\n",
       " 'Fear.in.text',\n",
       " 'Pain.Point.in.text',\n",
       " 'Educational.in.text',\n",
       " 'Aspirational.in.text',\n",
       " 'IBM.as.leader.in.text',\n",
       " 'Free.in.CTA',\n",
       " 'Urgency.in.CTA',\n",
       " 'Business.action.in.CTA',\n",
       " 'Trial..Demo.in.CTA',\n",
       " 'Learn.in.CTA',\n",
       " 'Get..Download..Report..Study..Guide.in.CTA',\n",
       " 'Abstract.in.CTA',\n",
       " 'IBM.in.CTA',\n",
       " 'Generic.in.CTA',\n",
       " 'Commments',\n",
       " 'Body.length',\n",
       " 'impressions',\n",
       " 'clicks',\n",
       " 'ctr',\n",
       " 'Static Threshold Median',\n",
       " 'Dynamic Threshold Median Vendor Plan Only',\n",
       " 'Dynamic Threshold Median',\n",
       " 'Dynamic Threshold Mean',\n",
       " 'Dynamic Threshold Mean + 1STDV',\n",
       " 'Product.in.text',\n",
       " 'Product.in.text.Y.N',\n",
       " 'Product.name',\n",
       " 'Plan',\n",
       " 'Headline.text',\n",
       " 'Concept',\n",
       " 'Sub.headline.text',\n",
       " 'CTA.text',\n",
       " 'id',\n",
       " 'sizmek_id',\n",
       " 'targeting',\n",
       " 'buy',\n",
       " 'Body.text',\n",
       " 'Banner.background',\n",
       " 'Banner.font',\n",
       " 'program_name',\n",
       " 'C.suite.in.headline',\n",
       " 'Benefits.in.headline',\n",
       " 'Industry.Norms.in.sub.headline',\n",
       " 'Product.Benefits.in.sub.headline',\n",
       " 'Technical.in.headline',\n",
       " 'Technical.in.sub.headline',\n",
       " 'Technical.in.text',\n",
       " 'RTB.in.sub.headline',\n",
       " 'Abstract..Generic.in.sub.headline',\n",
       " 'Aspirational.in.headline',\n",
       " 'Aspirational.in.sub.headline',\n",
       " 'IBM.Leader.in.headline',\n",
       " 'IBM.as.a.leader..Gartner.mentions.etc...in.sub.headline',\n",
       " 'Educational.in.headline',\n",
       " 'Educational.in.sub.headline',\n",
       " 'Pain.Point.in.headline',\n",
       " 'Pain.point.in.sub.headline',\n",
       " 'Fear.in.headline',\n",
       " 'Fear...threat.in.sub.headline',\n",
       " 'Product.Mention.in.headline',\n",
       " 'Product.Mention.in.sub.headline',\n",
       " 'IBM.in.headline',\n",
       " 'IBM.named.in.sub.headline',\n",
       " 'Statistic.in.headline',\n",
       " 'Statistic.in.sub.headline',\n",
       " 'Question.in.headline',\n",
       " 'Question.in.sub.headline']"
      ]
     },
     "execution_count": 6,
     "metadata": {},
     "output_type": "execute_result"
    }
   ],
   "source": [
    "list(df.columns)"
   ]
  },
  {
   "cell_type": "code",
   "execution_count": 7,
   "metadata": {
    "scrolled": true
   },
   "outputs": [
    {
     "data": {
      "text/plain": [
       "1639"
      ]
     },
     "execution_count": 7,
     "metadata": {},
     "output_type": "execute_result"
    }
   ],
   "source": [
    "df['Target'].values.sum()"
   ]
  },
  {
   "cell_type": "code",
   "execution_count": 8,
   "metadata": {},
   "outputs": [
    {
     "data": {
      "text/plain": [
       "1650"
      ]
     },
     "execution_count": 8,
     "metadata": {},
     "output_type": "execute_result"
    }
   ],
   "source": [
    "3289-1639"
   ]
  },
  {
   "cell_type": "code",
   "execution_count": 9,
   "metadata": {},
   "outputs": [
    {
     "data": {
      "text/plain": [
       "0.4983277591973244"
      ]
     },
     "execution_count": 9,
     "metadata": {},
     "output_type": "execute_result"
    }
   ],
   "source": [
    "1639/3289"
   ]
  },
  {
   "cell_type": "code",
   "execution_count": 10,
   "metadata": {},
   "outputs": [],
   "source": [
    "#49.8% 1 and 50.2% 0s\n"
   ]
  },
  {
   "cell_type": "code",
   "execution_count": 12,
   "metadata": {},
   "outputs": [],
   "source": [
    "#readingrawdatawithimpressions\n",
    "df_raw = pd.read_csv(\"rawdf.csv\")"
   ]
  },
  {
   "cell_type": "code",
   "execution_count": 19,
   "metadata": {},
   "outputs": [
    {
     "data": {
      "text/html": [
       "<div>\n",
       "<style scoped>\n",
       "    .dataframe tbody tr th:only-of-type {\n",
       "        vertical-align: middle;\n",
       "    }\n",
       "\n",
       "    .dataframe tbody tr th {\n",
       "        vertical-align: top;\n",
       "    }\n",
       "\n",
       "    .dataframe thead th {\n",
       "        text-align: right;\n",
       "    }\n",
       "</style>\n",
       "<table border=\"1\" class=\"dataframe\">\n",
       "  <thead>\n",
       "    <tr style=\"text-align: right;\">\n",
       "      <th></th>\n",
       "      <th>S.no.</th>\n",
       "      <th>sizmek_id</th>\n",
       "      <th>Weekday</th>\n",
       "      <th>plan_name</th>\n",
       "      <th>program_name</th>\n",
       "      <th>vendor</th>\n",
       "      <th>unit_size</th>\n",
       "      <th>delivery</th>\n",
       "      <th>Logo.visible.</th>\n",
       "      <th>Logo.colour</th>\n",
       "      <th>...</th>\n",
       "      <th>Product.in.text..Y.N.</th>\n",
       "      <th>Social...tag.used.</th>\n",
       "      <th>Commments</th>\n",
       "      <th>Headline.length</th>\n",
       "      <th>Sub.headline.length</th>\n",
       "      <th>CTA.length</th>\n",
       "      <th>impressions</th>\n",
       "      <th>clicks</th>\n",
       "      <th>ctr</th>\n",
       "      <th>clickthru</th>\n",
       "    </tr>\n",
       "  </thead>\n",
       "  <tbody>\n",
       "    <tr>\n",
       "      <th>0</th>\n",
       "      <td>1</td>\n",
       "      <td>26,219,271</td>\n",
       "      <td>Weekday</td>\n",
       "      <td>Watson Customer Engagement</td>\n",
       "      <td>Watson Supply Chain - Supply Chain Insights</td>\n",
       "      <td>MediaMath</td>\n",
       "      <td>300x250</td>\n",
       "      <td>web</td>\n",
       "      <td>Yes</td>\n",
       "      <td>White</td>\n",
       "      <td>...</td>\n",
       "      <td>No</td>\n",
       "      <td>No</td>\n",
       "      <td>0</td>\n",
       "      <td>46</td>\n",
       "      <td>0</td>\n",
       "      <td>0</td>\n",
       "      <td>23696</td>\n",
       "      <td>29</td>\n",
       "      <td>0.12%</td>\n",
       "      <td>0.122384</td>\n",
       "    </tr>\n",
       "    <tr>\n",
       "      <th>1</th>\n",
       "      <td>2</td>\n",
       "      <td>26,219,302</td>\n",
       "      <td>Weekday</td>\n",
       "      <td>Watson Customer Engagement</td>\n",
       "      <td>Watson Supply Chain - Supply Chain Insights</td>\n",
       "      <td>MediaMath</td>\n",
       "      <td>300x250</td>\n",
       "      <td>web</td>\n",
       "      <td>Yes</td>\n",
       "      <td>White</td>\n",
       "      <td>...</td>\n",
       "      <td>No</td>\n",
       "      <td>No</td>\n",
       "      <td>0</td>\n",
       "      <td>46</td>\n",
       "      <td>0</td>\n",
       "      <td>0</td>\n",
       "      <td>212055</td>\n",
       "      <td>445</td>\n",
       "      <td>0.21%</td>\n",
       "      <td>0.209851</td>\n",
       "    </tr>\n",
       "    <tr>\n",
       "      <th>2</th>\n",
       "      <td>3</td>\n",
       "      <td>26,219,331</td>\n",
       "      <td>Weekday</td>\n",
       "      <td>Watson Customer Engagement</td>\n",
       "      <td>Watson Supply Chain - Supply Chain Insights</td>\n",
       "      <td>MediaMath</td>\n",
       "      <td>300x250</td>\n",
       "      <td>web</td>\n",
       "      <td>Yes</td>\n",
       "      <td>White</td>\n",
       "      <td>...</td>\n",
       "      <td>No</td>\n",
       "      <td>No</td>\n",
       "      <td>0</td>\n",
       "      <td>46</td>\n",
       "      <td>0</td>\n",
       "      <td>0</td>\n",
       "      <td>18020</td>\n",
       "      <td>4</td>\n",
       "      <td>0.02%</td>\n",
       "      <td>0.022198</td>\n",
       "    </tr>\n",
       "    <tr>\n",
       "      <th>3</th>\n",
       "      <td>4</td>\n",
       "      <td>26,219,417</td>\n",
       "      <td>Weekday</td>\n",
       "      <td>Watson Customer Engagement</td>\n",
       "      <td>Watson Supply Chain - Supply Chain Insights</td>\n",
       "      <td>MediaMath</td>\n",
       "      <td>300x250</td>\n",
       "      <td>web</td>\n",
       "      <td>Yes</td>\n",
       "      <td>White</td>\n",
       "      <td>...</td>\n",
       "      <td>No</td>\n",
       "      <td>No</td>\n",
       "      <td>0</td>\n",
       "      <td>46</td>\n",
       "      <td>0</td>\n",
       "      <td>0</td>\n",
       "      <td>18046</td>\n",
       "      <td>1</td>\n",
       "      <td>0.01%</td>\n",
       "      <td>0.005541</td>\n",
       "    </tr>\n",
       "    <tr>\n",
       "      <th>4</th>\n",
       "      <td>5</td>\n",
       "      <td>26,278,246</td>\n",
       "      <td>Weekday</td>\n",
       "      <td>Watson Customer Engagement</td>\n",
       "      <td>Watson Supply Chain - Supply Chain Insights</td>\n",
       "      <td>MediaMath</td>\n",
       "      <td>300x250</td>\n",
       "      <td>web</td>\n",
       "      <td>Yes</td>\n",
       "      <td>White</td>\n",
       "      <td>...</td>\n",
       "      <td>No</td>\n",
       "      <td>No</td>\n",
       "      <td>0</td>\n",
       "      <td>46</td>\n",
       "      <td>0</td>\n",
       "      <td>0</td>\n",
       "      <td>12298</td>\n",
       "      <td>5</td>\n",
       "      <td>0.04%</td>\n",
       "      <td>0.040657</td>\n",
       "    </tr>\n",
       "  </tbody>\n",
       "</table>\n",
       "<p>5 rows × 38 columns</p>\n",
       "</div>"
      ],
      "text/plain": [
       "   S.no.   sizmek_id  Weekday                   plan_name  \\\n",
       "0      1  26,219,271  Weekday  Watson Customer Engagement   \n",
       "1      2  26,219,302  Weekday  Watson Customer Engagement   \n",
       "2      3  26,219,331  Weekday  Watson Customer Engagement   \n",
       "3      4  26,219,417  Weekday  Watson Customer Engagement   \n",
       "4      5  26,278,246  Weekday  Watson Customer Engagement   \n",
       "\n",
       "                                  program_name     vendor unit_size delivery  \\\n",
       "0  Watson Supply Chain - Supply Chain Insights  MediaMath   300x250      web   \n",
       "1  Watson Supply Chain - Supply Chain Insights  MediaMath   300x250      web   \n",
       "2  Watson Supply Chain - Supply Chain Insights  MediaMath   300x250      web   \n",
       "3  Watson Supply Chain - Supply Chain Insights  MediaMath   300x250      web   \n",
       "4  Watson Supply Chain - Supply Chain Insights  MediaMath   300x250      web   \n",
       "\n",
       "  Logo.visible. Logo.colour  ... Product.in.text..Y.N. Social...tag.used.  \\\n",
       "0           Yes       White  ...                    No                 No   \n",
       "1           Yes       White  ...                    No                 No   \n",
       "2           Yes       White  ...                    No                 No   \n",
       "3           Yes       White  ...                    No                 No   \n",
       "4           Yes       White  ...                    No                 No   \n",
       "\n",
       "  Commments Headline.length Sub.headline.length CTA.length impressions clicks  \\\n",
       "0         0              46                   0          0       23696     29   \n",
       "1         0              46                   0          0      212055    445   \n",
       "2         0              46                   0          0       18020      4   \n",
       "3         0              46                   0          0       18046      1   \n",
       "4         0              46                   0          0       12298      5   \n",
       "\n",
       "     ctr clickthru  \n",
       "0  0.12%  0.122384  \n",
       "1  0.21%  0.209851  \n",
       "2  0.02%  0.022198  \n",
       "3  0.01%  0.005541  \n",
       "4  0.04%  0.040657  \n",
       "\n",
       "[5 rows x 38 columns]"
      ]
     },
     "execution_count": 19,
     "metadata": {},
     "output_type": "execute_result"
    }
   ],
   "source": [
    "df_raw.head()"
   ]
  },
  {
   "cell_type": "code",
   "execution_count": 22,
   "metadata": {
    "scrolled": true
   },
   "outputs": [
    {
     "name": "stdout",
     "output_type": "stream",
     "text": [
      "<class 'pandas.core.frame.DataFrame'>\n",
      "RangeIndex: 3543 entries, 0 to 3542\n",
      "Data columns (total 37 columns):\n",
      "S.no.                    3543 non-null int64\n",
      "sizmek_id                3543 non-null object\n",
      "Weekday                  3543 non-null object\n",
      "plan_name                3543 non-null object\n",
      "program_name             3543 non-null object\n",
      "vendor                   3543 non-null object\n",
      "unit_size                3543 non-null object\n",
      "delivery                 3543 non-null object\n",
      "Logo.visible.            3543 non-null object\n",
      "Logo.colour              3543 non-null object\n",
      "CTA.used.                3543 non-null object\n",
      "Body.text                3543 non-null object\n",
      "Plan                     3543 non-null object\n",
      "Headline.text            3543 non-null object\n",
      "Concept                  3543 non-null object\n",
      "Sub.headline.text        3543 non-null object\n",
      "CTA.text                 3543 non-null object\n",
      "Banner.background        3543 non-null object\n",
      "Banner.font              3543 non-null object\n",
      "CTA.background           3543 non-null object\n",
      "CTA.font                 3543 non-null object\n",
      "Image.used.              3543 non-null object\n",
      "Humans.Used              3543 non-null object\n",
      "Human.Type               3543 non-null object\n",
      "Explicit.offer.          3543 non-null object\n",
      "Offer.type               3543 non-null object\n",
      "Product.name             3543 non-null object\n",
      "Product.in.text          3543 non-null object\n",
      "Product.in.text..Y.N.    3543 non-null object\n",
      "Social...tag.used.       3543 non-null object\n",
      "Commments                3543 non-null object\n",
      "Headline.length          3543 non-null int64\n",
      "Sub.headline.length      3543 non-null int64\n",
      "CTA.length               3543 non-null int64\n",
      "impressions              3543 non-null int64\n",
      "clicks                   3543 non-null int64\n",
      "ctr                      3543 non-null object\n",
      "dtypes: int64(6), object(31)\n",
      "memory usage: 1.0+ MB\n"
     ]
    }
   ],
   "source": [
    "df_raw.info()"
   ]
  },
  {
   "cell_type": "code",
   "execution_count": 13,
   "metadata": {},
   "outputs": [],
   "source": [
    "cols = list(df_raw.columns)"
   ]
  },
  {
   "cell_type": "code",
   "execution_count": 14,
   "metadata": {},
   "outputs": [],
   "source": [
    "coltype = df_raw.dtypes"
   ]
  },
  {
   "cell_type": "code",
   "execution_count": 15,
   "metadata": {
    "scrolled": true
   },
   "outputs": [
    {
     "name": "stdout",
     "output_type": "stream",
     "text": [
      "S.no.                     int64\n",
      "sizmek_id                object\n",
      "Weekday                  object\n",
      "plan_name                object\n",
      "program_name             object\n",
      "vendor                   object\n",
      "unit_size                object\n",
      "delivery                 object\n",
      "Logo.visible.            object\n",
      "Logo.colour              object\n",
      "CTA.used.                object\n",
      "Body.text                object\n",
      "Plan                     object\n",
      "Headline.text            object\n",
      "Concept                  object\n",
      "Sub.headline.text        object\n",
      "CTA.text                 object\n",
      "Banner.background        object\n",
      "Banner.font              object\n",
      "CTA.background           object\n",
      "CTA.font                 object\n",
      "Image.used.              object\n",
      "Humans.Used              object\n",
      "Human.Type               object\n",
      "Explicit.offer.          object\n",
      "Offer.type               object\n",
      "Product.name             object\n",
      "Product.in.text          object\n",
      "Product.in.text..Y.N.    object\n",
      "Social...tag.used.       object\n",
      "Commments                object\n",
      "Headline.length           int64\n",
      "Sub.headline.length       int64\n",
      "CTA.length                int64\n",
      "impressions               int64\n",
      "clicks                    int64\n",
      "ctr                      object\n",
      "dtype: object\n"
     ]
    }
   ],
   "source": [
    "print(coltype)"
   ]
  },
  {
   "cell_type": "code",
   "execution_count": 16,
   "metadata": {},
   "outputs": [],
   "source": [
    "df_raw['clickthru'] = (df_raw.clicks/df_raw.impressions)*100"
   ]
  },
  {
   "cell_type": "code",
   "execution_count": 17,
   "metadata": {},
   "outputs": [
    {
     "data": {
      "text/plain": [
       "pandas.core.series.Series"
      ]
     },
     "execution_count": 17,
     "metadata": {},
     "output_type": "execute_result"
    }
   ],
   "source": [
    "type(df_raw.clickthru)"
   ]
  },
  {
   "cell_type": "code",
   "execution_count": 25,
   "metadata": {
    "scrolled": true
   },
   "outputs": [],
   "source": [
    "#Question 1 : Can you count something interesting?\n",
    "# looking for impressions and CTR for weekend vs. Weekday\n",
    "\n",
    "wday_trend = pd.DataFrame(pd.pivot_table(df_raw,values = ['impressions','clicks'],index=['Weekday'], aggfunc='sum'))\n"
   ]
  },
  {
   "cell_type": "code",
   "execution_count": 34,
   "metadata": {
    "scrolled": true
   },
   "outputs": [
    {
     "name": "stdout",
     "output_type": "stream",
     "text": [
      "         clicks  impressions       CTR  Share_Imp  Share_Click\n",
      "Weekday                                                       \n",
      "Weekday  149120    260533227  0.000572   0.766989     0.721676\n",
      "Weekend   57510     79149965  0.000727   0.233011     0.278324\n"
     ]
    }
   ],
   "source": [
    "print(wday_trend)"
   ]
  },
  {
   "cell_type": "code",
   "execution_count": 33,
   "metadata": {
    "scrolled": true
   },
   "outputs": [],
   "source": [
    "#Calculating CTR for weekday vs. weekend\n",
    "\n",
    "wday_trend['CTR'] = wday_trend['clicks']/wday_trend['impressions']\n",
    "wday_trend['Share_Imp'] = wday_trend['impressions']/wday_trend['impressions'].sum()\n",
    "wday_trend['Share_Click'] = wday_trend['clicks']/wday_trend['clicks'].sum()"
   ]
  },
  {
   "cell_type": "code",
   "execution_count": null,
   "metadata": {},
   "outputs": [],
   "source": [
    "#Question 1 : Can you count something interesting?\n",
    "#Answer 1 : Weekday impression make 77% of total impressions. however CTR is higher for weekend. probably \n",
    "#due to lower volumes"
   ]
  },
  {
   "cell_type": "code",
   "execution_count": null,
   "metadata": {},
   "outputs": [],
   "source": [
    "#can you make histograms\n",
    "# historgrams for impressions,clicks and CTR"
   ]
  },
  {
   "cell_type": "code",
   "execution_count": 18,
   "metadata": {
    "scrolled": true
   },
   "outputs": [
    {
     "name": "stderr",
     "output_type": "stream",
     "text": [
      "//anaconda3/lib/python3.7/site-packages/pandas/plotting/_core.py:1344: MatplotlibDeprecationWarning: \n",
      "The 'normed' kwarg was deprecated in Matplotlib 2.1 and will be removed in 3.1. Use 'density' instead.\n",
      "  n, bins, patches = ax.hist(y, bins=bins, bottom=bottom, **kwds)\n"
     ]
    },
    {
     "data": {
      "text/plain": [
       "<matplotlib.axes._subplots.AxesSubplot at 0x1a1d0c60b8>"
      ]
     },
     "execution_count": 18,
     "metadata": {},
     "output_type": "execute_result"
    },
    {
     "data": {
      "image/png": "[encoded data removed]",
      "text/plain": [
       "<Figure size 432x288 with 1 Axes>"
      ]
     },
     "metadata": {
      "needs_background": "light"
     },
     "output_type": "display_data"
    }
   ],
   "source": [
    "df_raw['clickthru'].plot(kind = 'hist',bins = 50,normed = True,range = (0, 0.5))"
   ]
  },
  {
   "cell_type": "code",
   "execution_count": 54,
   "metadata": {},
   "outputs": [],
   "source": [
    "col = ['clicks','clickthru','impressions']"
   ]
  },
  {
   "cell_type": "code",
   "execution_count": 61,
   "metadata": {},
   "outputs": [],
   "source": [
    "def drawhist(col):\n",
    "    for i in col:\n",
    "        df_raw[i].plot(kind = 'hist',bins = 50,normed = True)\n",
    "        plt.show()\n",
    "    return()"
   ]
  },
  {
   "cell_type": "code",
   "execution_count": 62,
   "metadata": {},
   "outputs": [
    {
     "name": "stderr",
     "output_type": "stream",
     "text": [
      "/anaconda3/lib/python3.7/site-packages/matplotlib/axes/_axes.py:6521: MatplotlibDeprecationWarning: \n",
      "The 'normed' kwarg was deprecated in Matplotlib 2.1 and will be removed in 3.1. Use 'density' instead.\n",
      "  alternative=\"'density'\", removal=\"3.1\")\n"
     ]
    },
    {
     "data": {
      "image/png": "[encoded data removed]",
      "text/plain": [
       "<Figure size 432x288 with 1 Axes>"
      ]
     },
     "metadata": {
      "needs_background": "light"
     },
     "output_type": "display_data"
    },
    {
     "name": "stderr",
     "output_type": "stream",
     "text": [
      "/anaconda3/lib/python3.7/site-packages/matplotlib/axes/_axes.py:6521: MatplotlibDeprecationWarning: \n",
      "The 'normed' kwarg was deprecated in Matplotlib 2.1 and will be removed in 3.1. Use 'density' instead.\n",
      "  alternative=\"'density'\", removal=\"3.1\")\n"
     ]
    },
    {
     "data": {
      "image/png": "[encoded data removed]",
      "text/plain": [
       "<Figure size 432x288 with 1 Axes>"
      ]
     },
     "metadata": {
      "needs_background": "light"
     },
     "output_type": "display_data"
    },
    {
     "name": "stderr",
     "output_type": "stream",
     "text": [
      "/anaconda3/lib/python3.7/site-packages/matplotlib/axes/_axes.py:6521: MatplotlibDeprecationWarning: \n",
      "The 'normed' kwarg was deprecated in Matplotlib 2.1 and will be removed in 3.1. Use 'density' instead.\n",
      "  alternative=\"'density'\", removal=\"3.1\")\n"
     ]
    },
    {
     "data": {
      "image/png": "[encoded data removed]",
      "text/plain": [
       "<Figure size 432x288 with 1 Axes>"
      ]
     },
     "metadata": {
      "needs_background": "light"
     },
     "output_type": "display_data"
    },
    {
     "data": {
      "text/plain": [
       "()"
      ]
     },
     "execution_count": 62,
     "metadata": {},
     "output_type": "execute_result"
    }
   ],
   "source": [
    "drawhist(col)"
   ]
  },
  {
   "cell_type": "code",
   "execution_count": 63,
   "metadata": {},
   "outputs": [
    {
     "name": "stdout",
     "output_type": "stream",
     "text": [
      "RangeIndex(start=0, stop=3543, step=1)\n"
     ]
    }
   ],
   "source": [
    "#findingindex of df_raw\n",
    "print(df_raw.index)"
   ]
  },
  {
   "cell_type": "code",
   "execution_count": 64,
   "metadata": {},
   "outputs": [
    {
     "data": {
      "text/plain": [
       "pandas.core.indexes.range.RangeIndex"
      ]
     },
     "execution_count": 64,
     "metadata": {},
     "output_type": "execute_result"
    }
   ],
   "source": [
    "type(df_raw.index)"
   ]
  },
  {
   "cell_type": "code",
   "execution_count": 65,
   "metadata": {},
   "outputs": [],
   "source": [
    "#deleting old ctr column\n",
    "del df_raw['ctr']"
   ]
  },
  {
   "cell_type": "code",
   "execution_count": 36,
   "metadata": {},
   "outputs": [],
   "source": [
    "df = df_raw"
   ]
  },
  {
   "cell_type": "code",
   "execution_count": 37,
   "metadata": {},
   "outputs": [
    {
     "data": {
      "text/html": [
       "<div>\n",
       "<style scoped>\n",
       "    .dataframe tbody tr th:only-of-type {\n",
       "        vertical-align: middle;\n",
       "    }\n",
       "\n",
       "    .dataframe tbody tr th {\n",
       "        vertical-align: top;\n",
       "    }\n",
       "\n",
       "    .dataframe thead th {\n",
       "        text-align: right;\n",
       "    }\n",
       "</style>\n",
       "<table border=\"1\" class=\"dataframe\">\n",
       "  <thead>\n",
       "    <tr style=\"text-align: right;\">\n",
       "      <th></th>\n",
       "      <th>S.no.</th>\n",
       "      <th>sizmek_id</th>\n",
       "      <th>Weekday</th>\n",
       "      <th>plan_name</th>\n",
       "      <th>program_name</th>\n",
       "      <th>vendor</th>\n",
       "      <th>unit_size</th>\n",
       "      <th>delivery</th>\n",
       "      <th>Logo.visible.</th>\n",
       "      <th>Logo.colour</th>\n",
       "      <th>...</th>\n",
       "      <th>Product.in.text..Y.N.</th>\n",
       "      <th>Social...tag.used.</th>\n",
       "      <th>Commments</th>\n",
       "      <th>Headline.length</th>\n",
       "      <th>Sub.headline.length</th>\n",
       "      <th>CTA.length</th>\n",
       "      <th>impressions</th>\n",
       "      <th>clicks</th>\n",
       "      <th>ctr</th>\n",
       "      <th>clickthru</th>\n",
       "    </tr>\n",
       "  </thead>\n",
       "  <tbody>\n",
       "    <tr>\n",
       "      <th>0</th>\n",
       "      <td>1</td>\n",
       "      <td>26,219,271</td>\n",
       "      <td>Weekday</td>\n",
       "      <td>Watson Customer Engagement</td>\n",
       "      <td>Watson Supply Chain - Supply Chain Insights</td>\n",
       "      <td>MediaMath</td>\n",
       "      <td>300x250</td>\n",
       "      <td>web</td>\n",
       "      <td>Yes</td>\n",
       "      <td>White</td>\n",
       "      <td>...</td>\n",
       "      <td>No</td>\n",
       "      <td>No</td>\n",
       "      <td>0</td>\n",
       "      <td>46</td>\n",
       "      <td>0</td>\n",
       "      <td>0</td>\n",
       "      <td>23696</td>\n",
       "      <td>29</td>\n",
       "      <td>0.12%</td>\n",
       "      <td>0.122384</td>\n",
       "    </tr>\n",
       "    <tr>\n",
       "      <th>1</th>\n",
       "      <td>2</td>\n",
       "      <td>26,219,302</td>\n",
       "      <td>Weekday</td>\n",
       "      <td>Watson Customer Engagement</td>\n",
       "      <td>Watson Supply Chain - Supply Chain Insights</td>\n",
       "      <td>MediaMath</td>\n",
       "      <td>300x250</td>\n",
       "      <td>web</td>\n",
       "      <td>Yes</td>\n",
       "      <td>White</td>\n",
       "      <td>...</td>\n",
       "      <td>No</td>\n",
       "      <td>No</td>\n",
       "      <td>0</td>\n",
       "      <td>46</td>\n",
       "      <td>0</td>\n",
       "      <td>0</td>\n",
       "      <td>212055</td>\n",
       "      <td>445</td>\n",
       "      <td>0.21%</td>\n",
       "      <td>0.209851</td>\n",
       "    </tr>\n",
       "    <tr>\n",
       "      <th>2</th>\n",
       "      <td>3</td>\n",
       "      <td>26,219,331</td>\n",
       "      <td>Weekday</td>\n",
       "      <td>Watson Customer Engagement</td>\n",
       "      <td>Watson Supply Chain - Supply Chain Insights</td>\n",
       "      <td>MediaMath</td>\n",
       "      <td>300x250</td>\n",
       "      <td>web</td>\n",
       "      <td>Yes</td>\n",
       "      <td>White</td>\n",
       "      <td>...</td>\n",
       "      <td>No</td>\n",
       "      <td>No</td>\n",
       "      <td>0</td>\n",
       "      <td>46</td>\n",
       "      <td>0</td>\n",
       "      <td>0</td>\n",
       "      <td>18020</td>\n",
       "      <td>4</td>\n",
       "      <td>0.02%</td>\n",
       "      <td>0.022198</td>\n",
       "    </tr>\n",
       "    <tr>\n",
       "      <th>3</th>\n",
       "      <td>4</td>\n",
       "      <td>26,219,417</td>\n",
       "      <td>Weekday</td>\n",
       "      <td>Watson Customer Engagement</td>\n",
       "      <td>Watson Supply Chain - Supply Chain Insights</td>\n",
       "      <td>MediaMath</td>\n",
       "      <td>300x250</td>\n",
       "      <td>web</td>\n",
       "      <td>Yes</td>\n",
       "      <td>White</td>\n",
       "      <td>...</td>\n",
       "      <td>No</td>\n",
       "      <td>No</td>\n",
       "      <td>0</td>\n",
       "      <td>46</td>\n",
       "      <td>0</td>\n",
       "      <td>0</td>\n",
       "      <td>18046</td>\n",
       "      <td>1</td>\n",
       "      <td>0.01%</td>\n",
       "      <td>0.005541</td>\n",
       "    </tr>\n",
       "    <tr>\n",
       "      <th>4</th>\n",
       "      <td>5</td>\n",
       "      <td>26,278,246</td>\n",
       "      <td>Weekday</td>\n",
       "      <td>Watson Customer Engagement</td>\n",
       "      <td>Watson Supply Chain - Supply Chain Insights</td>\n",
       "      <td>MediaMath</td>\n",
       "      <td>300x250</td>\n",
       "      <td>web</td>\n",
       "      <td>Yes</td>\n",
       "      <td>White</td>\n",
       "      <td>...</td>\n",
       "      <td>No</td>\n",
       "      <td>No</td>\n",
       "      <td>0</td>\n",
       "      <td>46</td>\n",
       "      <td>0</td>\n",
       "      <td>0</td>\n",
       "      <td>12298</td>\n",
       "      <td>5</td>\n",
       "      <td>0.04%</td>\n",
       "      <td>0.040657</td>\n",
       "    </tr>\n",
       "  </tbody>\n",
       "</table>\n",
       "<p>5 rows × 38 columns</p>\n",
       "</div>"
      ],
      "text/plain": [
       "   S.no.   sizmek_id  Weekday                   plan_name  \\\n",
       "0      1  26,219,271  Weekday  Watson Customer Engagement   \n",
       "1      2  26,219,302  Weekday  Watson Customer Engagement   \n",
       "2      3  26,219,331  Weekday  Watson Customer Engagement   \n",
       "3      4  26,219,417  Weekday  Watson Customer Engagement   \n",
       "4      5  26,278,246  Weekday  Watson Customer Engagement   \n",
       "\n",
       "                                  program_name     vendor unit_size delivery  \\\n",
       "0  Watson Supply Chain - Supply Chain Insights  MediaMath   300x250      web   \n",
       "1  Watson Supply Chain - Supply Chain Insights  MediaMath   300x250      web   \n",
       "2  Watson Supply Chain - Supply Chain Insights  MediaMath   300x250      web   \n",
       "3  Watson Supply Chain - Supply Chain Insights  MediaMath   300x250      web   \n",
       "4  Watson Supply Chain - Supply Chain Insights  MediaMath   300x250      web   \n",
       "\n",
       "  Logo.visible. Logo.colour  ... Product.in.text..Y.N. Social...tag.used.  \\\n",
       "0           Yes       White  ...                    No                 No   \n",
       "1           Yes       White  ...                    No                 No   \n",
       "2           Yes       White  ...                    No                 No   \n",
       "3           Yes       White  ...                    No                 No   \n",
       "4           Yes       White  ...                    No                 No   \n",
       "\n",
       "  Commments Headline.length Sub.headline.length CTA.length impressions clicks  \\\n",
       "0         0              46                   0          0       23696     29   \n",
       "1         0              46                   0          0      212055    445   \n",
       "2         0              46                   0          0       18020      4   \n",
       "3         0              46                   0          0       18046      1   \n",
       "4         0              46                   0          0       12298      5   \n",
       "\n",
       "     ctr clickthru  \n",
       "0  0.12%  0.122384  \n",
       "1  0.21%  0.209851  \n",
       "2  0.02%  0.022198  \n",
       "3  0.01%  0.005541  \n",
       "4  0.04%  0.040657  \n",
       "\n",
       "[5 rows x 38 columns]"
      ]
     },
     "execution_count": 37,
     "metadata": {},
     "output_type": "execute_result"
    }
   ],
   "source": [
    "df.head()"
   ]
  },
  {
   "cell_type": "code",
   "execution_count": 38,
   "metadata": {},
   "outputs": [
    {
     "data": {
      "text/html": [
       "<div>\n",
       "<style scoped>\n",
       "    .dataframe tbody tr th:only-of-type {\n",
       "        vertical-align: middle;\n",
       "    }\n",
       "\n",
       "    .dataframe tbody tr th {\n",
       "        vertical-align: top;\n",
       "    }\n",
       "\n",
       "    .dataframe thead th {\n",
       "        text-align: right;\n",
       "    }\n",
       "</style>\n",
       "<table border=\"1\" class=\"dataframe\">\n",
       "  <thead>\n",
       "    <tr style=\"text-align: right;\">\n",
       "      <th></th>\n",
       "      <th>S.no.</th>\n",
       "      <th>Headline.length</th>\n",
       "      <th>Sub.headline.length</th>\n",
       "      <th>CTA.length</th>\n",
       "      <th>impressions</th>\n",
       "      <th>clicks</th>\n",
       "      <th>clickthru</th>\n",
       "    </tr>\n",
       "  </thead>\n",
       "  <tbody>\n",
       "    <tr>\n",
       "      <th>count</th>\n",
       "      <td>3543.000000</td>\n",
       "      <td>3543.000000</td>\n",
       "      <td>3543.000000</td>\n",
       "      <td>3543.000000</td>\n",
       "      <td>3.543000e+03</td>\n",
       "      <td>3543.000000</td>\n",
       "      <td>3543.000000</td>\n",
       "    </tr>\n",
       "    <tr>\n",
       "      <th>mean</th>\n",
       "      <td>1772.000000</td>\n",
       "      <td>49.482924</td>\n",
       "      <td>9.066328</td>\n",
       "      <td>14.160316</td>\n",
       "      <td>9.587445e+04</td>\n",
       "      <td>58.320632</td>\n",
       "      <td>0.068298</td>\n",
       "    </tr>\n",
       "    <tr>\n",
       "      <th>std</th>\n",
       "      <td>1022.920329</td>\n",
       "      <td>18.741584</td>\n",
       "      <td>20.156008</td>\n",
       "      <td>7.040957</td>\n",
       "      <td>3.113060e+05</td>\n",
       "      <td>200.493413</td>\n",
       "      <td>0.071022</td>\n",
       "    </tr>\n",
       "    <tr>\n",
       "      <th>min</th>\n",
       "      <td>1.000000</td>\n",
       "      <td>0.000000</td>\n",
       "      <td>0.000000</td>\n",
       "      <td>0.000000</td>\n",
       "      <td>1.002000e+03</td>\n",
       "      <td>0.000000</td>\n",
       "      <td>0.000000</td>\n",
       "    </tr>\n",
       "    <tr>\n",
       "      <th>25%</th>\n",
       "      <td>886.500000</td>\n",
       "      <td>34.000000</td>\n",
       "      <td>0.000000</td>\n",
       "      <td>10.000000</td>\n",
       "      <td>4.920500e+03</td>\n",
       "      <td>2.000000</td>\n",
       "      <td>0.024674</td>\n",
       "    </tr>\n",
       "    <tr>\n",
       "      <th>50%</th>\n",
       "      <td>1772.000000</td>\n",
       "      <td>50.000000</td>\n",
       "      <td>0.000000</td>\n",
       "      <td>11.000000</td>\n",
       "      <td>1.875000e+04</td>\n",
       "      <td>9.000000</td>\n",
       "      <td>0.049334</td>\n",
       "    </tr>\n",
       "    <tr>\n",
       "      <th>75%</th>\n",
       "      <td>2657.500000</td>\n",
       "      <td>61.000000</td>\n",
       "      <td>0.000000</td>\n",
       "      <td>18.000000</td>\n",
       "      <td>6.769950e+04</td>\n",
       "      <td>35.000000</td>\n",
       "      <td>0.088980</td>\n",
       "    </tr>\n",
       "    <tr>\n",
       "      <th>max</th>\n",
       "      <td>3543.000000</td>\n",
       "      <td>105.000000</td>\n",
       "      <td>108.000000</td>\n",
       "      <td>42.000000</td>\n",
       "      <td>6.525232e+06</td>\n",
       "      <td>3739.000000</td>\n",
       "      <td>0.827815</td>\n",
       "    </tr>\n",
       "  </tbody>\n",
       "</table>\n",
       "</div>"
      ],
      "text/plain": [
       "             S.no.  Headline.length  Sub.headline.length   CTA.length  \\\n",
       "count  3543.000000      3543.000000          3543.000000  3543.000000   \n",
       "mean   1772.000000        49.482924             9.066328    14.160316   \n",
       "std    1022.920329        18.741584            20.156008     7.040957   \n",
       "min       1.000000         0.000000             0.000000     0.000000   \n",
       "25%     886.500000        34.000000             0.000000    10.000000   \n",
       "50%    1772.000000        50.000000             0.000000    11.000000   \n",
       "75%    2657.500000        61.000000             0.000000    18.000000   \n",
       "max    3543.000000       105.000000           108.000000    42.000000   \n",
       "\n",
       "        impressions       clicks    clickthru  \n",
       "count  3.543000e+03  3543.000000  3543.000000  \n",
       "mean   9.587445e+04    58.320632     0.068298  \n",
       "std    3.113060e+05   200.493413     0.071022  \n",
       "min    1.002000e+03     0.000000     0.000000  \n",
       "25%    4.920500e+03     2.000000     0.024674  \n",
       "50%    1.875000e+04     9.000000     0.049334  \n",
       "75%    6.769950e+04    35.000000     0.088980  \n",
       "max    6.525232e+06  3739.000000     0.827815  "
      ]
     },
     "execution_count": 38,
     "metadata": {},
     "output_type": "execute_result"
    }
   ],
   "source": [
    "#can you compare two quantities?\n",
    "#how do median clickthrus of plans compare to each other.\n",
    "#first look at univariate analysis of all columsn\n",
    "\n",
    "df.describe()\n",
    "\n"
   ]
  },
  {
   "cell_type": "code",
   "execution_count": null,
   "metadata": {},
   "outputs": [],
   "source": [
    "#How do click thrus compare by plan, program and vendor\n",
    "\n"
   ]
  },
  {
   "cell_type": "code",
   "execution_count": 47,
   "metadata": {
    "scrolled": true
   },
   "outputs": [],
   "source": [
    "plan_Comp = pd.DataFrame(pd.pivot_table(df,values = ['impressions','clickthru'],index=['plan_name'], aggfunc={'impressions':np.sum,'clickthru':np.median}))\n"
   ]
  },
  {
   "cell_type": "code",
   "execution_count": 48,
   "metadata": {
    "scrolled": false
   },
   "outputs": [
    {
     "name": "stdout",
     "output_type": "stream",
     "text": [
      "                            clickthru  impressions\n",
      "plan_name                                         \n",
      "Cloud Audience-Led           0.074506     13203031\n",
      "Hybrid Cloud                 0.053964     90738557\n",
      "Security                     0.035288     83064817\n",
      "Systems                      0.071974     45853702\n",
      "Watson Customer Engagement   0.045610    106823085\n"
     ]
    }
   ],
   "source": [
    "print(plan_Comp)"
   ]
  },
  {
   "cell_type": "code",
   "execution_count": 60,
   "metadata": {
    "scrolled": true
   },
   "outputs": [
    {
     "data": {
      "text/plain": [
       "<Figure size 1440x5760 with 0 Axes>"
      ]
     },
     "execution_count": 60,
     "metadata": {},
     "output_type": "execute_result"
    },
    {
     "data": {
      "text/plain": [
       "<Figure size 1440x5760 with 0 Axes>"
      ]
     },
     "metadata": {},
     "output_type": "display_data"
    }
   ],
   "source": [
    "\n"
   ]
  },
  {
   "cell_type": "code",
   "execution_count": 90,
   "metadata": {
    "scrolled": true
   },
   "outputs": [],
   "source": [
    "#how do i increase the size of the chart?\n",
    "plt.rcParams['figure.figsize'] = (25,10)\n",
    "#make your plot appear within  notebook\n",
    "%matplotlib inline"
   ]
  },
  {
   "cell_type": "code",
   "execution_count": 94,
   "metadata": {},
   "outputs": [],
   "source": [
    "#changing font size of the plots\n",
    "matplotlib.rcParams.update({'font.size': 18})"
   ]
  },
  {
   "cell_type": "code",
   "execution_count": 88,
   "metadata": {
    "scrolled": true
   },
   "outputs": [],
   "source": [
    "plan_Comp = pd.DataFrame(pd.pivot_table(df,values = ['impressions','clickthru'],index=['plan_name'], aggfunc={'impressions':np.sum,'clickthru':np.median}))\n"
   ]
  },
  {
   "cell_type": "code",
   "execution_count": 95,
   "metadata": {
    "scrolled": false
   },
   "outputs": [
    {
     "data": {
      "text/plain": [
       "<BarContainer object of 3543 artists>"
      ]
     },
     "execution_count": 95,
     "metadata": {},
     "output_type": "execute_result"
    },
    {
     "data": {
      "image/png": "[encoded data removed]",
      "text/plain": [
       "<Figure size 1800x720 with 1 Axes>"
      ]
     },
     "metadata": {
      "needs_background": "light"
     },
     "output_type": "display_data"
    }
   ],
   "source": [
    "plt.bar(df['plan_name'],df['clickthru'])"
   ]
  },
  {
   "cell_type": "code",
   "execution_count": null,
   "metadata": {},
   "outputs": [],
   "source": [
    "# Cloud audience led and Systems have the highest CTR# CTR ranges from 0.4 to 0.8 across plans"
   ]
  },
  {
   "cell_type": "code",
   "execution_count": null,
   "metadata": {},
   "outputs": [],
   "source": [
    "#cloud audience led and Systems have higher CTR than the rest of the plans and I want to understand why but before further investigation I am checking if is it happening becvause of the volumes and if the differece is significant\n"
   ]
  },
  {
   "cell_type": "code",
   "execution_count": null,
   "metadata": {},
   "outputs": [],
   "source": [
    "#looking at impression volumes these differences seem signficant. \n",
    "#Hypothesis 1 : these campaigns are using a different vendor mix and may be impacting the CTR\n"
   ]
  },
  {
   "cell_type": "code",
   "execution_count": 45,
   "metadata": {
    "scrolled": true
   },
   "outputs": [],
   "source": [
    "#checking hypothesis 1 if CTR is variable by vendor\n",
    "ven_Comp = pd.DataFrame(pd.pivot_table(df,values = ['impressions','clickthru'],index=['vendor'], aggfunc={'impressions':np.sum,'clickthru':np.median}))\n"
   ]
  },
  {
   "cell_type": "code",
   "execution_count": 46,
   "metadata": {
    "scrolled": true
   },
   "outputs": [
    {
     "name": "stdout",
     "output_type": "stream",
     "text": [
      "                   clickthru  impressions\n",
      "vendor                                   \n",
      "BBC                 0.164693       949367\n",
      "BusinessInsider     0.037143     25992335\n",
      "CBSi                0.027396      2896764\n",
      "DONOTUSEDzone.com   0.221522        11737\n",
      "Dzone.com           0.165947       294027\n",
      "Forbes              0.062844       856308\n",
      "IDGE                0.134028      1427509\n",
      "LINKEDIN.COM_MM     0.028201      2376138\n",
      "MediaMath           0.048132    249002163\n",
      "NYT                 0.221696     11595856\n",
      "QuinStreet          0.247517       585922\n",
      "StackOverflow       0.028180     21945648\n",
      "Stackoverflow       0.035244      3594995\n",
      "TechTarget          0.088392         4751\n",
      "TheRegister         0.163757       270566\n",
      "WashingtonPost      0.112592     13319073\n",
      "Wired               0.017482      4227087\n",
      "ZiffDavis           0.010209       332946\n"
     ]
    }
   ],
   "source": [
    "print(ven_Comp)"
   ]
  },
  {
   "cell_type": "code",
   "execution_count": null,
   "metadata": {},
   "outputs": [],
   "source": []
  },
  {
   "cell_type": "code",
   "execution_count": 107,
   "metadata": {
    "scrolled": true
   },
   "outputs": [
    {
     "data": {
      "text/plain": [
       "<BarContainer object of 18 artists>"
      ]
     },
     "execution_count": 107,
     "metadata": {},
     "output_type": "execute_result"
    },
    {
     "data": {
      "image/png": "[encoded data removed]",
      "text/plain": [
       "<Figure size 1800x720 with 1 Axes>"
      ]
     },
     "metadata": {
      "needs_background": "light"
     },
     "output_type": "display_data"
    }
   ],
   "source": [
    "plt.bar(ven_Comp.index,ven_Comp['clickthru'])\n",
    "#how to increase the size of the x axis?"
   ]
  },
  {
   "cell_type": "code",
   "execution_count": 106,
   "metadata": {
    "scrolled": true
   },
   "outputs": [],
   "source": [
    "plt.rcParams.update({'font.size': 12})"
   ]
  },
  {
   "cell_type": "code",
   "execution_count": 83,
   "metadata": {
    "scrolled": true
   },
   "outputs": [],
   "source": [
    "#sorting the output\n",
    "\n",
    "ven_Comp_sorted['share_imp'] = ven_Comp_sorted['impressions']/ven_Comp_sorted['impressions'].sum()\n"
   ]
  },
  {
   "cell_type": "code",
   "execution_count": 85,
   "metadata": {},
   "outputs": [
    {
     "name": "stdout",
     "output_type": "stream",
     "text": [
      "                   clickthru  impressions  share_imp\n",
      "vendor                                              \n",
      "QuinStreet          0.247517       585922   0.001725\n",
      "NYT                 0.221696     11595856   0.034137\n",
      "DONOTUSEDzone.com   0.221522        11737   0.000035\n",
      "Dzone.com           0.165947       294027   0.000866\n",
      "BBC                 0.164693       949367   0.002795\n",
      "TheRegister         0.163757       270566   0.000797\n",
      "IDGE                0.134028      1427509   0.004202\n",
      "WashingtonPost      0.112592     13319073   0.039210\n",
      "TechTarget          0.088392         4751   0.000014\n",
      "Forbes              0.062844       856308   0.002521\n",
      "MediaMath           0.048132    249002163   0.733042\n",
      "BusinessInsider     0.037143     25992335   0.076519\n",
      "Stackoverflow       0.035244      3594995   0.010583\n",
      "LINKEDIN.COM_MM     0.028201      2376138   0.006995\n",
      "StackOverflow       0.028180     21945648   0.064606\n",
      "CBSi                0.027396      2896764   0.008528\n",
      "Wired               0.017482      4227087   0.012444\n",
      "ZiffDavis           0.010209       332946   0.000980\n"
     ]
    }
   ],
   "source": [
    "print(ven_Comp_sorted)"
   ]
  },
  {
   "cell_type": "code",
   "execution_count": null,
   "metadata": {},
   "outputs": [],
   "source": [
    "#Observation\n",
    "# NYT and Washington post have high CTRs. Media Math has low CTR with highest share of impressions\n",
    "#mediamath as 73% of total shares"
   ]
  },
  {
   "cell_type": "code",
   "execution_count": 117,
   "metadata": {},
   "outputs": [],
   "source": [
    "# Some vendors such as NYT and Quinstreet  have higher CTR than the others. \n",
    "#next step is to check if Cloud Audience Led and Systems have higher share of impressions from these vendors.\n",
    "\n",
    "Plan_Vendor = pd.DataFrame(pd.pivot_table(df,values = ['impressions','clickthru'],\n",
    "                                       index=['vendor'], columns = ['plan_name'],\n",
    "                                       aggfunc={'impressions':np.sum}))\n"
   ]
  },
  {
   "cell_type": "code",
   "execution_count": 118,
   "metadata": {},
   "outputs": [
    {
     "name": "stdout",
     "output_type": "stream",
     "text": [
      "                         impressions                                       \\\n",
      "plan_name         Cloud Audience-Led Hybrid Cloud    Security     Systems   \n",
      "vendor                                                                      \n",
      "BBC                              NaN          NaN         NaN    949367.0   \n",
      "BusinessInsider                  NaN     103499.0         NaN         NaN   \n",
      "CBSi                             NaN    2146623.0         NaN    750141.0   \n",
      "DONOTUSEDzone.com                NaN          NaN     11737.0         NaN   \n",
      "Dzone.com                        NaN          NaN    294027.0         NaN   \n",
      "Forbes                           NaN          NaN         NaN    856308.0   \n",
      "IDGE                             NaN          NaN         NaN   1427509.0   \n",
      "LINKEDIN.COM_MM                  NaN    2376138.0         NaN         NaN   \n",
      "MediaMath                 13203031.0   82184356.0  60222732.0  12457795.0   \n",
      "NYT                              NaN          NaN         NaN  11595856.0   \n",
      "QuinStreet                       NaN          NaN    585922.0         NaN   \n",
      "StackOverflow                    NaN          NaN  21945648.0         NaN   \n",
      "Stackoverflow                    NaN    3594995.0         NaN         NaN   \n",
      "TechTarget                       NaN          NaN      4751.0         NaN   \n",
      "TheRegister                      NaN          NaN         NaN    270566.0   \n",
      "WashingtonPost                   NaN          NaN         NaN  13319073.0   \n",
      "Wired                            NaN          NaN         NaN   4227087.0   \n",
      "ZiffDavis                        NaN     332946.0         NaN         NaN   \n",
      "\n",
      "                                              \n",
      "plan_name         Watson Customer Engagement  \n",
      "vendor                                        \n",
      "BBC                                      NaN  \n",
      "BusinessInsider                   25888836.0  \n",
      "CBSi                                     NaN  \n",
      "DONOTUSEDzone.com                        NaN  \n",
      "Dzone.com                                NaN  \n",
      "Forbes                                   NaN  \n",
      "IDGE                                     NaN  \n",
      "LINKEDIN.COM_MM                          NaN  \n",
      "MediaMath                         80934249.0  \n",
      "NYT                                      NaN  \n",
      "QuinStreet                               NaN  \n",
      "StackOverflow                            NaN  \n",
      "Stackoverflow                            NaN  \n",
      "TechTarget                               NaN  \n",
      "TheRegister                              NaN  \n",
      "WashingtonPost                           NaN  \n",
      "Wired                                    NaN  \n",
      "ZiffDavis                                NaN  \n"
     ]
    }
   ],
   "source": [
    "#printing Plan_Vendor\n",
    "print(Plan_Vendor)"
   ]
  },
  {
   "cell_type": "code",
   "execution_count": null,
   "metadata": {},
   "outputs": [],
   "source": [
    "#Answer to hypothesis1 : Cloud Audience Led Performance is not driven by higher impression from nYT \n",
    "#but systems performance may be driven by it\n",
    "\n"
   ]
  },
  {
   "cell_type": "code",
   "execution_count": null,
   "metadata": {},
   "outputs": [],
   "source": [
    "#Hypothesis 2 : Higher CTR may be just a function of lower volume. In essence CTR decreases as Impressions go up\n",
    "# method of analysis : Draw a scatter plot between impression and CTR"
   ]
  },
  {
   "cell_type": "code",
   "execution_count": 122,
   "metadata": {
    "scrolled": true
   },
   "outputs": [
    {
     "data": {
      "text/plain": [
       "<matplotlib.collections.PathCollection at 0x1a36b239e8>"
      ]
     },
     "execution_count": 122,
     "metadata": {},
     "output_type": "execute_result"
    },
    {
     "data": {
      "image/png": "[encoded data removed]",
      "text/plain": [
       "<Figure size 1800x720 with 1 Axes>"
      ]
     },
     "metadata": {
      "needs_background": "light"
     },
     "output_type": "display_data"
    }
   ],
   "source": [
    "#scatter plot between impression and clickthru\n",
    "\n",
    "plt.scatter(df['impressions'], df['clickthru'])"
   ]
  },
  {
   "cell_type": "code",
   "execution_count": null,
   "metadata": {},
   "outputs": [],
   "source": [
    "#Answer to hypothesis one : high variance within impressions so replotting scatter after removing outliers"
   ]
  },
  {
   "cell_type": "code",
   "execution_count": 127,
   "metadata": {
    "scrolled": true
   },
   "outputs": [
    {
     "data": {
      "text/plain": [
       "<matplotlib.axes._subplots.AxesSubplot at 0x1a391dc278>"
      ]
     },
     "execution_count": 127,
     "metadata": {},
     "output_type": "execute_result"
    },
    {
     "data": {
      "image/png": "[encoded data removed]",
      "text/plain": [
       "<Figure size 1800x720 with 1 Axes>"
      ]
     },
     "metadata": {
      "needs_background": "light"
     },
     "output_type": "display_data"
    }
   ],
   "source": [
    "# removing outliers in terms of impressions\n",
    "\n",
    "import seaborn as sns\n",
    "sns.boxplot(x=df['impressions'])"
   ]
  },
  {
   "cell_type": "code",
   "execution_count": 133,
   "metadata": {},
   "outputs": [],
   "source": [
    "# replotting scatter with all ads less than 1M impressions.\n",
    "\n",
    "df_Scat = df[df['impressions'] < 161000]"
   ]
  },
  {
   "cell_type": "code",
   "execution_count": 134,
   "metadata": {
    "scrolled": true
   },
   "outputs": [
    {
     "data": {
      "text/plain": [
       "<matplotlib.collections.PathCollection at 0x1a39dc5f98>"
      ]
     },
     "execution_count": 134,
     "metadata": {},
     "output_type": "execute_result"
    },
    {
     "data": {
      "image/png": "[encoded data removed]",
      "text/plain": [
       "<Figure size 1800x720 with 1 Axes>"
      ]
     },
     "metadata": {
      "needs_background": "light"
     },
     "output_type": "display_data"
    }
   ],
   "source": [
    "\n",
    "plt.scatter(df_Scat['impressions'], df_Scat['clickthru'])"
   ]
  },
  {
   "cell_type": "code",
   "execution_count": null,
   "metadata": {},
   "outputs": [],
   "source": [
    "# answer to hyp 2 : there may be a hig CTR for really low impressions but not so much of a reverse relationship"
   ]
  }
 ],
 "metadata": {
  "kernelspec": {
   "display_name": "Python 3",
   "language": "python",
   "name": "python3"
  },
  "language_info": {
   "codemirror_mode": {
    "name": "ipython",
    "version": 3
   },
   "file_extension": ".py",
   "mimetype": "text/x-python",
   "name": "python",
   "nbconvert_exporter": "python",
   "pygments_lexer": "ipython3",
   "version": "3.7.3"
  }
 },
 "nbformat": 4,
 "nbformat_minor": 2
}
