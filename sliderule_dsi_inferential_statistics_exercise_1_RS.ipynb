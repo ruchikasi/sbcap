{
 "cells": [
  {
   "cell_type": "markdown",
   "metadata": {},
   "source": [
    "# What is the True Normal Human Body Temperature? \n",
    "\n",
    "#### Background\n",
    "\n",
    "The mean normal body temperature was held to be 37$^{\\circ}$C or 98.6$^{\\circ}$F for more than 120 years since it was first conceptualized and reported by Carl Wunderlich in a famous 1868 book. But, is this value statistically correct?"
   ]
  },
  {
   "cell_type": "markdown",
   "metadata": {},
   "source": [
    "<h3>Exercises</h3>\n",
    "\n",
    "<p>In this exercise, you will analyze a dataset of human body temperatures and employ the concepts of hypothesis testing, confidence intervals, and statistical significance.</p>\n",
    "\n",
    "<p>Answer the following questions <b>in this notebook below and submit to your Github account</b>.</p> \n",
    "\n",
    "<ol>\n",
    "<li>  Is the distribution of body temperatures normal? \n",
    "    <ul>\n",
    "    <li> Although this is not a requirement for the Central Limit Theorem to hold (read the introduction on Wikipedia's page about the CLT carefully: https://en.wikipedia.org/wiki/Central_limit_theorem), it gives us some peace of mind that the population may also be normally distributed if we assume that this sample is representative of the population.\n",
    "    <li> Think about the way you're going to check for the normality of the distribution. Graphical methods are usually used first, but there are also other ways: https://en.wikipedia.org/wiki/Normality_test\n",
    "    </ul>\n",
    "<li>  Is the sample size large? Are the observations independent?\n",
    "    <ul>\n",
    "    <li> Remember that this is a condition for the Central Limit Theorem, and hence the statistical tests we are using, to apply.\n",
    "    </ul>\n",
    "<li>  Is the true population mean really 98.6 degrees F?\n",
    "    <ul>\n",
    "    <li> First, try a bootstrap hypothesis test.\n",
    "    <li> Now, let's try frequentist statistical testing. Would you use a one-sample or two-sample test? Why?\n",
    "    <li> In this situation, is it appropriate to use the $t$ or $z$ statistic? \n",
    "    <li> Now try using the other test. How is the result be different? Why?\n",
    "    </ul>\n",
    "<li>  Draw a small sample of size 10 from the data and repeat both frequentist tests. \n",
    "    <ul>\n",
    "    <li> Which one is the correct one to use? \n",
    "    <li> What do you notice? What does this tell you about the difference in application of the $t$ and $z$ statistic?\n",
    "    </ul>\n",
    "<li>  At what temperature should we consider someone's temperature to be \"abnormal\"?\n",
    "    <ul>\n",
    "    <li> As in the previous example, try calculating everything using the boostrap approach, as well as the frequentist approach.\n",
    "    <li> Start by computing the margin of error and confidence interval. When calculating the confidence interval, keep in mind that you should use the appropriate formula for one draw, and not N draws.\n",
    "    </ul>\n",
    "<li>  Is there a significant difference between males and females in normal temperature?\n",
    "    <ul>\n",
    "    <li> What testing approach did you use and why?\n",
    "    <li> Write a story with your conclusion in the context of the original problem.\n",
    "    </ul>\n",
    "</ol>\n",
    "\n",
    "You can include written notes in notebook cells using Markdown: \n",
    "   - In the control panel at the top, choose Cell > Cell Type > Markdown\n",
    "   - Markdown syntax: http://nestacms.com/docs/creating-content/markdown-cheat-sheet\n",
    "\n",
    "#### Resources\n",
    "\n",
    "+ Information and data sources: http://www.amstat.org/publications/jse/datasets/normtemp.txt, http://www.amstat.org/publications/jse/jse_data_archive.htm\n",
    "+ Markdown syntax: http://nestacms.com/docs/creating-content/markdown-cheat-sheet\n",
    "\n",
    "****"
   ]
  },
  {
   "cell_type": "code",
   "execution_count": 1,
   "metadata": {},
   "outputs": [],
   "source": [
    "import pandas as pd\n",
    "\n",
    "df = pd.read_csv('data/human_body_temperature.csv')"
   ]
  },
  {
   "cell_type": "code",
   "execution_count": 2,
   "metadata": {},
   "outputs": [
    {
     "data": {
      "text/html": [
       "<div>\n",
       "<style scoped>\n",
       "    .dataframe tbody tr th:only-of-type {\n",
       "        vertical-align: middle;\n",
       "    }\n",
       "\n",
       "    .dataframe tbody tr th {\n",
       "        vertical-align: top;\n",
       "    }\n",
       "\n",
       "    .dataframe thead th {\n",
       "        text-align: right;\n",
       "    }\n",
       "</style>\n",
       "<table border=\"1\" class=\"dataframe\">\n",
       "  <thead>\n",
       "    <tr style=\"text-align: right;\">\n",
       "      <th></th>\n",
       "      <th>temperature</th>\n",
       "      <th>gender</th>\n",
       "      <th>heart_rate</th>\n",
       "    </tr>\n",
       "  </thead>\n",
       "  <tbody>\n",
       "    <tr>\n",
       "      <td>0</td>\n",
       "      <td>99.3</td>\n",
       "      <td>F</td>\n",
       "      <td>68.0</td>\n",
       "    </tr>\n",
       "    <tr>\n",
       "      <td>1</td>\n",
       "      <td>98.4</td>\n",
       "      <td>F</td>\n",
       "      <td>81.0</td>\n",
       "    </tr>\n",
       "    <tr>\n",
       "      <td>2</td>\n",
       "      <td>97.8</td>\n",
       "      <td>M</td>\n",
       "      <td>73.0</td>\n",
       "    </tr>\n",
       "    <tr>\n",
       "      <td>3</td>\n",
       "      <td>99.2</td>\n",
       "      <td>F</td>\n",
       "      <td>66.0</td>\n",
       "    </tr>\n",
       "    <tr>\n",
       "      <td>4</td>\n",
       "      <td>98.0</td>\n",
       "      <td>F</td>\n",
       "      <td>73.0</td>\n",
       "    </tr>\n",
       "  </tbody>\n",
       "</table>\n",
       "</div>"
      ],
      "text/plain": [
       "   temperature gender  heart_rate\n",
       "0         99.3      F        68.0\n",
       "1         98.4      F        81.0\n",
       "2         97.8      M        73.0\n",
       "3         99.2      F        66.0\n",
       "4         98.0      F        73.0"
      ]
     },
     "execution_count": 2,
     "metadata": {},
     "output_type": "execute_result"
    }
   ],
   "source": [
    "df.head()"
   ]
  },
  {
   "cell_type": "code",
   "execution_count": 3,
   "metadata": {},
   "outputs": [
    {
     "name": "stdout",
     "output_type": "stream",
     "text": [
      "<class 'pandas.core.frame.DataFrame'>\n",
      "RangeIndex: 130 entries, 0 to 129\n",
      "Data columns (total 3 columns):\n",
      "temperature    130 non-null float64\n",
      "gender         130 non-null object\n",
      "heart_rate     130 non-null float64\n",
      "dtypes: float64(2), object(1)\n",
      "memory usage: 3.2+ KB\n"
     ]
    }
   ],
   "source": [
    "df.info()"
   ]
  },
  {
   "cell_type": "code",
   "execution_count": 4,
   "metadata": {},
   "outputs": [
    {
     "data": {
      "text/html": [
       "<div>\n",
       "<style scoped>\n",
       "    .dataframe tbody tr th:only-of-type {\n",
       "        vertical-align: middle;\n",
       "    }\n",
       "\n",
       "    .dataframe tbody tr th {\n",
       "        vertical-align: top;\n",
       "    }\n",
       "\n",
       "    .dataframe thead th {\n",
       "        text-align: right;\n",
       "    }\n",
       "</style>\n",
       "<table border=\"1\" class=\"dataframe\">\n",
       "  <thead>\n",
       "    <tr style=\"text-align: right;\">\n",
       "      <th></th>\n",
       "      <th>temperature</th>\n",
       "      <th>heart_rate</th>\n",
       "    </tr>\n",
       "  </thead>\n",
       "  <tbody>\n",
       "    <tr>\n",
       "      <td>count</td>\n",
       "      <td>130.000000</td>\n",
       "      <td>130.000000</td>\n",
       "    </tr>\n",
       "    <tr>\n",
       "      <td>mean</td>\n",
       "      <td>98.249231</td>\n",
       "      <td>73.761538</td>\n",
       "    </tr>\n",
       "    <tr>\n",
       "      <td>std</td>\n",
       "      <td>0.733183</td>\n",
       "      <td>7.062077</td>\n",
       "    </tr>\n",
       "    <tr>\n",
       "      <td>min</td>\n",
       "      <td>96.300000</td>\n",
       "      <td>57.000000</td>\n",
       "    </tr>\n",
       "    <tr>\n",
       "      <td>25%</td>\n",
       "      <td>97.800000</td>\n",
       "      <td>69.000000</td>\n",
       "    </tr>\n",
       "    <tr>\n",
       "      <td>50%</td>\n",
       "      <td>98.300000</td>\n",
       "      <td>74.000000</td>\n",
       "    </tr>\n",
       "    <tr>\n",
       "      <td>75%</td>\n",
       "      <td>98.700000</td>\n",
       "      <td>79.000000</td>\n",
       "    </tr>\n",
       "    <tr>\n",
       "      <td>max</td>\n",
       "      <td>100.800000</td>\n",
       "      <td>89.000000</td>\n",
       "    </tr>\n",
       "  </tbody>\n",
       "</table>\n",
       "</div>"
      ],
      "text/plain": [
       "       temperature  heart_rate\n",
       "count   130.000000  130.000000\n",
       "mean     98.249231   73.761538\n",
       "std       0.733183    7.062077\n",
       "min      96.300000   57.000000\n",
       "25%      97.800000   69.000000\n",
       "50%      98.300000   74.000000\n",
       "75%      98.700000   79.000000\n",
       "max     100.800000   89.000000"
      ]
     },
     "execution_count": 4,
     "metadata": {},
     "output_type": "execute_result"
    }
   ],
   "source": [
    "df.describe()"
   ]
  },
  {
   "cell_type": "code",
   "execution_count": 5,
   "metadata": {},
   "outputs": [],
   "source": [
    "\n",
    "#import some libraries\n",
    "import numpy as np\n",
    "from scipy import stats\n",
    "import matplotlib.pyplot as plt\n",
    "import seaborn as sns\n",
    "%matplotlib inline\n",
    "plt.style.use('fivethirtyeight')"
   ]
  },
  {
   "cell_type": "markdown",
   "metadata": {},
   "source": [
    "### Q1 : Is the distribution of body temperature normal?\n"
   ]
  },
  {
   "cell_type": "code",
   "execution_count": 8,
   "metadata": {
    "scrolled": false
   },
   "outputs": [
    {
     "name": "stderr",
     "output_type": "stream",
     "text": [
      "/opt/anaconda3/lib/python3.7/site-packages/ipykernel_launcher.py:1: MatplotlibDeprecationWarning: \n",
      "The 'normed' kwarg was deprecated in Matplotlib 2.1 and will be removed in 3.1. Use 'density' instead.\n",
      "  \"\"\"Entry point for launching an IPython kernel.\n"
     ]
    },
    {
     "data": {
      "image/png": "[encoded data removed]",
      "text/plain": [
       "<Figure size 432x288 with 1 Axes>"
      ]
     },
     "metadata": {
      "needs_background": "light"
     },
     "output_type": "display_data"
    }
   ],
   "source": [
    "_ = plt.hist(df['temperature'], bins = 20, normed = True)\n",
    "_ = plt.xlabel ('Temperature')\n",
    "_ = plt.ylabel ('frequency')"
   ]
  },
  {
   "cell_type": "markdown",
   "metadata": {},
   "source": [
    " the distribution is mostly normal but with a little bit of right skew but not sure so looking at ECDF function"
   ]
  },
  {
   "cell_type": "code",
   "execution_count": 10,
   "metadata": {},
   "outputs": [
    {
     "data": {
      "image/png": "[encoded data removed]",
      "text/plain": [
       "<Figure size 432x288 with 1 Axes>"
      ]
     },
     "metadata": {
      "needs_background": "light"
     },
     "output_type": "display_data"
    }
   ],
   "source": [
    "#Define ECDF function\n",
    "def ecdf(data):\n",
    "    n = len(data)\n",
    "    x = np.sort(data)\n",
    "    y = np.arange(1, n+1) / n\n",
    "    return x, y\n",
    "#Plot the ECDF of observed data\n",
    "x, y = ecdf(df['temperature'])\n",
    "_ = plt.plot(x, y, marker = '.', linestyle = 'none', color = 'blue')\n",
    "#Simulate a normal distribution of the same mean, std, and size, for 100 times, and plot the ecdf\n",
    "m, s, n = np.mean(df['temperature']), np.std(df['temperature']), len(df['temperature'])\n",
    "for i in range(100):\n",
    "    simulation = np.random.normal(m, s, n)\n",
    "    x, y = ecdf(simulation)\n",
    "    _ = plt.plot(x, y, marker = '.', alpha = 0.02, linestyle = 'none', color = 'red')\n",
    "_ = plt.xlabel('Temperature')\n",
    "_ = plt.ylabel('ECDF')"
   ]
  },
  {
   "cell_type": "markdown",
   "metadata": {},
   "source": [
    "looks normal looking at ECDF. Now running a normality test"
   ]
  },
  {
   "cell_type": "code",
   "execution_count": 11,
   "metadata": {},
   "outputs": [
    {
     "name": "stdout",
     "output_type": "stream",
     "text": [
      "p = 0.2587479863488254\n",
      "Null hypothesis cannot be rejected. This is likely a normal distribution.\n"
     ]
    }
   ],
   "source": [
    "alpha = 0.05\n",
    "k2, p = stats.normaltest(df['temperature'])\n",
    "print('p = {}'.format(p))\n",
    "if p < alpha:\n",
    "    print('Null hypothesis rejected. This is unlikely a normal distribution.')\n",
    "else:\n",
    "    print('Null hypothesis cannot be rejected. This is likely a normal distribution.')"
   ]
  },
  {
   "cell_type": "markdown",
   "metadata": {},
   "source": [
    "\n",
    "### Is the sample size large? Are the observations independent?\n",
    "From df.info() above, I know there are 130 samples. This should be large enough for the Central Limit Theorom to apply. The observations are temperatures of different people, which are independent of each other."
   ]
  },
  {
   "cell_type": "markdown",
   "metadata": {},
   "source": [
    "### 3.Is the true population mean really 98.6 degrees F"
   ]
  },
  {
   "cell_type": "code",
   "execution_count": 12,
   "metadata": {},
   "outputs": [
    {
     "name": "stdout",
     "output_type": "stream",
     "text": [
      "p = 0.0\n",
      "Null hypothesis rejectd. True population mean is unlikely to be 98.6 degrees F.\n"
     ]
    }
   ],
   "source": [
    "#Shift the data so the mean is actually 98.6\n",
    "t_shifted = df['temperature'] - np.mean(df['temperature']) + 98.6\n",
    "#Bootstrap the data 10000 times, and collect means.\n",
    "bs_mean = np.empty(10000)\n",
    "for i in range(10000):\n",
    "    sample = np.random.choice(t_shifted, size = len(t_shifted))\n",
    "    bs_mean[i] = np.mean(sample)\n",
    "p = np.sum(abs(bs_mean-98.6) >= abs(np.mean(df['temperature'])-98.6)) / len(bs_mean)\n",
    "alpha = 0.05\n",
    "print ('p = {}'.format(p))\n",
    "if p < alpha:\n",
    "    print('Null hypothesis rejectd. True population mean is unlikely to be 98.6 degrees F.')\n",
    "else:\n",
    "    print('Null hypothesis cannot be rejected. It is likely true population mean is 98.6 degrees F.')"
   ]
  },
  {
   "cell_type": "markdown",
   "metadata": {},
   "source": [
    "Now, let's try frequentist statistical testing. Would you use a one-sample or two-sample test? Why?\n",
    "#### I would use one-sample test, because I am comparing a sample to a number, not comparing two different samples.\n",
    "\n",
    "In this situation, is it appropriate to use the t or z statistic?\n",
    "#### Because the sample size is large (130) and sample has normal distribution, I think z test should be used here."
   ]
  },
  {
   "cell_type": "code",
   "execution_count": 14,
   "metadata": {},
   "outputs": [
    {
     "name": "stdout",
     "output_type": "stream",
     "text": [
      "z = -5.475925202078116\tp = 4.3523151658821886e-08\n"
     ]
    }
   ],
   "source": [
    "#Calculate z statistic\n",
    "z = (np.mean(df['temperature']) - 98.6) / np.sqrt(np.var(df['temperature']) / len(df['temperature']))\n",
    "#Lookup p according to z, because this is two-tailed test, multiply it by 2\n",
    "p = stats.norm.cdf(z) * 2\n",
    "print('z = {}\\tp = {}'.format(z, p))"
   ]
  },
  {
   "cell_type": "code",
   "execution_count": 15,
   "metadata": {},
   "outputs": [
    {
     "name": "stdout",
     "output_type": "stream",
     "text": [
      "t = -5.4548232923645195\tp = 2.4106320415561276e-07\n"
     ]
    }
   ],
   "source": [
    "#Run the t test\n",
    "t, p = stats.ttest_1samp(df['temperature'], 98.6)\n",
    "print('t = {}\\tp = {}'.format(t, p))"
   ]
  },
  {
   "cell_type": "markdown",
   "metadata": {},
   "source": [
    "both results show that null hyp to be rejected. Expected as sample sizes are big enuf for z and t test to give similar results"
   ]
  },
  {
   "cell_type": "code",
   "execution_count": 17,
   "metadata": {
    "scrolled": true
   },
   "outputs": [
    {
     "name": "stdout",
     "output_type": "stream",
     "text": [
      "z = -2.3996024656566077\tp = 0.01641288553502685\n",
      "t = -2.2764627811292555\tp = 0.04884420122389833\n"
     ]
    }
   ],
   "source": [
    "#Draw a sample of 10\n",
    "sample = np.random.choice(df['temperature'], 10)\n",
    "#Run z test\n",
    "z = (np.mean(sample) - 98.6) / np.sqrt(np.var(sample) / len(sample))\n",
    "p = stats.norm.cdf(z) * 2\n",
    "print('z = {}\\tp = {}'.format(z, p))\n",
    "#Run t test\n",
    "t, p = stats.ttest_1samp(sample, 98.6)\n",
    "print('t = {}\\tp = {}'.format(t, p))"
   ]
  },
  {
   "cell_type": "markdown",
   "metadata": {},
   "source": [
    "### 5. At what temperature should we consider someone's temperature to be \"abnormal\"?"
   ]
  },
  {
   "cell_type": "code",
   "execution_count": 18,
   "metadata": {},
   "outputs": [
    {
     "name": "stdout",
     "output_type": "stream",
     "text": [
      "Using bootstrap approach,\n",
      "95% confidence interval is between 96.7 and 99.5 degrees.\n",
      "margin of error is 1.4 degrees.\n",
      "Using frequentist approach,\n",
      "95% confidence interval is between 96.8 and 99.7 degrees.\n",
      "margin of error is 1.4 degrees.\n"
     ]
    }
   ],
   "source": [
    "#Define any temperature outside 95% confidence interval as \"abnormal\" \n",
    "#Use the bootstrap approach first\n",
    "sample = np.random.choice(df['temperature'], 100000)\n",
    "ci =  np.percentile(sample, [2.5, 97.5])\n",
    "print('Using bootstrap approach,')\n",
    "print('95% confidence interval is between {} and {} degrees.'.format(ci[0], ci[1]))\n",
    "print('margin of error is {:.1f} degrees.'.format((ci[1]-ci[0])/2))\n",
    "#Use frequetist approach\n",
    "ci = stats.norm.interval(0.95, np.mean(df['temperature']), np.std(df['temperature']))\n",
    "print('Using frequentist approach,')\n",
    "print('95% confidence interval is between {:.1f} and {:.1f} degrees.'.format(ci[0], ci[1]))\n",
    "print('margin of error is {:.1f} degrees.'.format((ci[1]-ci[0])/2))"
   ]
  },
  {
   "cell_type": "markdown",
   "metadata": {},
   "source": [
    "###  6. Is there a significant difference between males and females in normal temperature?"
   ]
  },
  {
   "cell_type": "code",
   "execution_count": 21,
   "metadata": {},
   "outputs": [
    {
     "name": "stdout",
     "output_type": "stream",
     "text": [
      "Mean of male and female temperatures are 98.10 and 98.39 degrees.\n"
     ]
    },
    {
     "data": {
      "image/png": "[encoded data removed]",
      "text/plain": [
       "<Figure size 432x288 with 1 Axes>"
      ]
     },
     "metadata": {
      "needs_background": "light"
     },
     "output_type": "display_data"
    }
   ],
   "source": [
    "#Take a quick look at the data first\n",
    "male = df.loc[df.gender == 'M', 'temperature']\n",
    "female = df.loc[df.gender == 'F', 'temperature']\n",
    "_ = plt.hist(male, color = 'green', alpha = 0.5)\n",
    "_ = plt.hist(female, color = 'red', alpha = 0.5)\n",
    "_ = plt.xlabel('Temperature')\n",
    "_ = plt.ylabel('No. of people')\n",
    "_ = plt.legend(['Male', 'Female'])\n",
    "print('Mean of male and female temperatures are {:.2f} and {:.2f} degrees.'.format(np.mean(male), np.mean(female)))"
   ]
  },
  {
   "cell_type": "markdown",
   "metadata": {},
   "source": [
    "Female temperature looks slightly higher"
   ]
  },
  {
   "cell_type": "markdown",
   "metadata": {},
   "source": [
    "####  Testing approach for male and female temperatures"
   ]
  },
  {
   "cell_type": "code",
   "execution_count": 23,
   "metadata": {},
   "outputs": [
    {
     "name": "stdout",
     "output_type": "stream",
     "text": [
      "t = -2.2854345381656103\tp = 0.02393188312239561\n",
      "Null hypothesis rejected. Temperatures of male and female are likely different.\n"
     ]
    }
   ],
   "source": [
    "#Run two sample t test, because sample sizes are smaller now. \n",
    "t, p = stats.ttest_ind(male, female)\n",
    "print('t = {}\\tp = {}'.format(t, p))\n",
    "if p < alpha:\n",
    "    print('Null hypothesis rejected. Temperatures of male and female are likely different.')\n",
    "else:\n",
    "    print('Null hypothesis cannot be rejected. Temperatures of male and female are likely the same.')"
   ]
  },
  {
   "cell_type": "markdown",
   "metadata": {},
   "source": [
    "Based on the this dataset of 130 samples, the true mean body temperature of this population is statistically different from 98.6 degree F. However, the difference is likely very small (less than half degree). The mean body temperature of women are statistically higher, though only slightly, than that of men in this population."
   ]
  },
  {
   "cell_type": "code",
   "execution_count": null,
   "metadata": {},
   "outputs": [],
   "source": []
  }
 ],
 "metadata": {
  "kernelspec": {
   "display_name": "Python 3",
   "language": "python",
   "name": "python3"
  },
  "language_info": {
   "codemirror_mode": {
    "name": "ipython",
    "version": 3
   },
   "file_extension": ".py",
   "mimetype": "text/x-python",
   "name": "python",
   "nbconvert_exporter": "python",
   "pygments_lexer": "ipython3",
   "version": "3.7.4"
  }
 },
 "nbformat": 4,
 "nbformat_minor": 1
}
