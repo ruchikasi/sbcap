{
 "cells": [
  {
   "cell_type": "code",
   "execution_count": 1,
   "metadata": {
    "scrolled": true
   },
   "outputs": [],
   "source": [
    "# special IPython command to prepare the notebook for matplotlib and other libraries\n",
    "%matplotlib inline \n",
    "\n",
    "import numpy as np\n",
    "import pandas as pd\n",
    "import scipy.stats as stats\n",
    "import matplotlib.pyplot as plt\n",
    "import sklearn\n",
    "\n",
    "import seaborn as sns\n",
    "\n",
    "# special matplotlib argument for improved plots\n",
    "from matplotlib import rcParams\n",
    "sns.set_style(\"whitegrid\")\n",
    "sns.set_context(\"poster\")\n",
    "from sklearn.datasets import load_boston\n",
    "import pandas as pd"
   ]
  },
  {
   "cell_type": "code",
   "execution_count": 2,
   "metadata": {},
   "outputs": [],
   "source": [
    "from sklearn import cluster\n",
    "from sklearn.cluster import KMeans\n",
    "import networkx as nx\n",
    "from collections import defaultdict\n",
    "import matplotlib.pyplot as plt\n",
    "from matplotlib import cm\n",
    "import seaborn as sns\n",
    "import pandas as pd\n",
    "import numpy as np\n",
    "from sklearn.metrics.cluster import normalized_mutual_info_score\n",
    "from sklearn.metrics.cluster import adjusted_rand_score\n",
    "   \n",
    "import os\n",
    "import pandas as pd\n",
    "import numpy as np\n",
    "import matplotlib\n",
    "import matplotlib.pyplot as plt"
   ]
  },
  {
   "cell_type": "code",
   "execution_count": 3,
   "metadata": {},
   "outputs": [],
   "source": [
    "#setting OS\n",
    "\n",
    "os.chdir('/Users/ruchikasi/Documents/Personal/Springboard/')"
   ]
  },
  {
   "cell_type": "code",
   "execution_count": 4,
   "metadata": {},
   "outputs": [],
   "source": [
    "df = pd.read_csv('/Users/ruchikasi/Documents/Personal/Springboard/csdf.csv')"
   ]
  },
  {
   "cell_type": "markdown",
   "metadata": {},
   "source": [
    "Exploring the shape and datatypes for the airbnb singapore listings dataset"
   ]
  },
  {
   "cell_type": "markdown",
   "metadata": {},
   "source": [
    "**Data Wrangling Summary**\n",
    "\n",
    "This Dataset is a listings dataset from AirBNB Singapore. The key features are neighbourhood descriptions, host id, listing id, room type , and other specifications around availability and minimum nights.\n",
    "\n",
    "Data Cleaning Summarry:\n",
    "\n",
    "Initial Steps: \n",
    "Summarized the dataset using methods like info,and describe to see which columns have missing values and which columns are not required for the analysis. The overall goal of my analysis two fold.\n",
    "A) to understand if there are different cohorts of neighbourhoods in Singapore for AirBNB.\n",
    "b) to understand what impacts price\n",
    "\n",
    "Variable Elimination : some of the columns like name, host_id( as analysis is done at id level) are arbitrary and removed from analysis.\n",
    "\n",
    "Variable Transformation: For , the two object type columns  neighbourhood_group and room_type - I created nominal variables so that they can be used in the analysis.\n",
    "\n",
    "Variable Selection :I did not remove last_review and number of reviews is kept as my hypothesis is that listings with review are higher priced than listings without review. I plan to do a t-test before eliminating these columns as possible predictors for my analysis.\n",
    "\n",
    "Outlier : analysis was done using z value for all continous variables. all rows with all of the z values > 3 were removed. i have not removed rows using individual outlier criteria and will do it later as I try out some models.\n",
    "\n",
    "Outlier : I removed all listings with 0 avbailability. \n",
    "\n"
   ]
  },
  {
   "cell_type": "code",
   "execution_count": 5,
   "metadata": {
    "scrolled": false
   },
   "outputs": [
    {
     "data": {
      "text/html": [
       "<div>\n",
       "<style scoped>\n",
       "    .dataframe tbody tr th:only-of-type {\n",
       "        vertical-align: middle;\n",
       "    }\n",
       "\n",
       "    .dataframe tbody tr th {\n",
       "        vertical-align: top;\n",
       "    }\n",
       "\n",
       "    .dataframe thead th {\n",
       "        text-align: right;\n",
       "    }\n",
       "</style>\n",
       "<table border=\"1\" class=\"dataframe\">\n",
       "  <thead>\n",
       "    <tr style=\"text-align: right;\">\n",
       "      <th></th>\n",
       "      <th>id</th>\n",
       "      <th>name</th>\n",
       "      <th>host_id</th>\n",
       "      <th>host_name</th>\n",
       "      <th>neighbourhood_group</th>\n",
       "      <th>neighbourhood</th>\n",
       "      <th>room_type</th>\n",
       "      <th>price</th>\n",
       "      <th>minimum_nights</th>\n",
       "      <th>number_of_reviews</th>\n",
       "      <th>last_review</th>\n",
       "      <th>Review_Recency</th>\n",
       "      <th>reviews_per_month</th>\n",
       "      <th>calculated_host_listings_count</th>\n",
       "      <th>availability_365</th>\n",
       "    </tr>\n",
       "  </thead>\n",
       "  <tbody>\n",
       "    <tr>\n",
       "      <td>0</td>\n",
       "      <td>21408571</td>\n",
       "      <td>1 BR @ Little India &amp; Farrer Park MRT</td>\n",
       "      <td>114674497</td>\n",
       "      <td>Mitul</td>\n",
       "      <td>Central Region</td>\n",
       "      <td>Rochor</td>\n",
       "      <td>Entire home/apt</td>\n",
       "      <td>0</td>\n",
       "      <td>3</td>\n",
       "      <td>9</td>\n",
       "      <td>8/11/19</td>\n",
       "      <td>NaN</td>\n",
       "      <td>0.51</td>\n",
       "      <td>6</td>\n",
       "      <td>351</td>\n",
       "    </tr>\n",
       "    <tr>\n",
       "      <td>1</td>\n",
       "      <td>18656726</td>\n",
       "      <td>Master Bedroom at The Clearwater Condo</td>\n",
       "      <td>21900076</td>\n",
       "      <td>Mary</td>\n",
       "      <td>East Region</td>\n",
       "      <td>Bedok</td>\n",
       "      <td>Shared room</td>\n",
       "      <td>14</td>\n",
       "      <td>1</td>\n",
       "      <td>0</td>\n",
       "      <td>NaN</td>\n",
       "      <td>NaN</td>\n",
       "      <td>NaN</td>\n",
       "      <td>2</td>\n",
       "      <td>0</td>\n",
       "    </tr>\n",
       "    <tr>\n",
       "      <td>2</td>\n",
       "      <td>37506711</td>\n",
       "      <td>Central 1BR Apt in Foodie Haven Hipster Paradise</td>\n",
       "      <td>29799617</td>\n",
       "      <td>John</td>\n",
       "      <td>Central Region</td>\n",
       "      <td>Geylang</td>\n",
       "      <td>Entire home/apt</td>\n",
       "      <td>14</td>\n",
       "      <td>3</td>\n",
       "      <td>4</td>\n",
       "      <td>8/26/19</td>\n",
       "      <td>NaN</td>\n",
       "      <td>4.00</td>\n",
       "      <td>1</td>\n",
       "      <td>34</td>\n",
       "    </tr>\n",
       "    <tr>\n",
       "      <td>3</td>\n",
       "      <td>35947264</td>\n",
       "      <td>Senja cozy</td>\n",
       "      <td>75175440</td>\n",
       "      <td>Rain</td>\n",
       "      <td>West Region</td>\n",
       "      <td>Bukit Panjang</td>\n",
       "      <td>Entire home/apt</td>\n",
       "      <td>14</td>\n",
       "      <td>1</td>\n",
       "      <td>1</td>\n",
       "      <td>6/24/19</td>\n",
       "      <td>NaN</td>\n",
       "      <td>0.45</td>\n",
       "      <td>2</td>\n",
       "      <td>0</td>\n",
       "    </tr>\n",
       "    <tr>\n",
       "      <td>4</td>\n",
       "      <td>18679631</td>\n",
       "      <td>Small room for you</td>\n",
       "      <td>108408404</td>\n",
       "      <td>Sutthida</td>\n",
       "      <td>Central Region</td>\n",
       "      <td>Marine Parade</td>\n",
       "      <td>Private room</td>\n",
       "      <td>14</td>\n",
       "      <td>2</td>\n",
       "      <td>1</td>\n",
       "      <td>5/14/17</td>\n",
       "      <td>NaN</td>\n",
       "      <td>0.04</td>\n",
       "      <td>1</td>\n",
       "      <td>0</td>\n",
       "    </tr>\n",
       "  </tbody>\n",
       "</table>\n",
       "</div>"
      ],
      "text/plain": [
       "         id                                              name    host_id  \\\n",
       "0  21408571             1 BR @ Little India & Farrer Park MRT  114674497   \n",
       "1  18656726            Master Bedroom at The Clearwater Condo   21900076   \n",
       "2  37506711  Central 1BR Apt in Foodie Haven Hipster Paradise   29799617   \n",
       "3  35947264                                        Senja cozy   75175440   \n",
       "4  18679631                                Small room for you  108408404   \n",
       "\n",
       "  host_name neighbourhood_group  neighbourhood        room_type  price  \\\n",
       "0     Mitul      Central Region         Rochor  Entire home/apt      0   \n",
       "1      Mary         East Region          Bedok      Shared room     14   \n",
       "2      John      Central Region        Geylang  Entire home/apt     14   \n",
       "3      Rain         West Region  Bukit Panjang  Entire home/apt     14   \n",
       "4  Sutthida      Central Region  Marine Parade     Private room     14   \n",
       "\n",
       "   minimum_nights  number_of_reviews last_review  Review_Recency  \\\n",
       "0               3                  9     8/11/19             NaN   \n",
       "1               1                  0         NaN             NaN   \n",
       "2               3                  4     8/26/19             NaN   \n",
       "3               1                  1     6/24/19             NaN   \n",
       "4               2                  1     5/14/17             NaN   \n",
       "\n",
       "   reviews_per_month  calculated_host_listings_count  availability_365  \n",
       "0               0.51                               6               351  \n",
       "1                NaN                               2                 0  \n",
       "2               4.00                               1                34  \n",
       "3               0.45                               2                 0  \n",
       "4               0.04                               1                 0  "
      ]
     },
     "execution_count": 5,
     "metadata": {},
     "output_type": "execute_result"
    }
   ],
   "source": [
    "df.head()"
   ]
  },
  {
   "cell_type": "code",
   "execution_count": 6,
   "metadata": {
    "scrolled": false
   },
   "outputs": [
    {
     "name": "stdout",
     "output_type": "stream",
     "text": [
      "<class 'pandas.core.frame.DataFrame'>\n",
      "RangeIndex: 7907 entries, 0 to 7906\n",
      "Data columns (total 15 columns):\n",
      "id                                7907 non-null int64\n",
      "name                              7905 non-null object\n",
      "host_id                           7907 non-null int64\n",
      "host_name                         7907 non-null object\n",
      "neighbourhood_group               7907 non-null object\n",
      "neighbourhood                     7907 non-null object\n",
      "room_type                         7907 non-null object\n",
      "price                             7907 non-null int64\n",
      "minimum_nights                    7907 non-null int64\n",
      "number_of_reviews                 7907 non-null int64\n",
      "last_review                       5149 non-null object\n",
      "Review_Recency                    0 non-null float64\n",
      "reviews_per_month                 5149 non-null float64\n",
      "calculated_host_listings_count    7907 non-null int64\n",
      "availability_365                  7907 non-null int64\n",
      "dtypes: float64(2), int64(7), object(6)\n",
      "memory usage: 926.7+ KB\n"
     ]
    }
   ],
   "source": [
    "df.info()"
   ]
  },
  {
   "cell_type": "markdown",
   "metadata": {},
   "source": [
    "total of 7907 rows and 15 columns. next step is to find total sum of na values per columns"
   ]
  },
  {
   "cell_type": "code",
   "execution_count": 7,
   "metadata": {
    "scrolled": false
   },
   "outputs": [
    {
     "data": {
      "text/plain": [
       "id                                   0\n",
       "name                                 2\n",
       "host_id                              0\n",
       "host_name                            0\n",
       "neighbourhood_group                  0\n",
       "neighbourhood                        0\n",
       "room_type                            0\n",
       "price                                0\n",
       "minimum_nights                       0\n",
       "number_of_reviews                    0\n",
       "last_review                       2758\n",
       "Review_Recency                    7907\n",
       "reviews_per_month                 2758\n",
       "calculated_host_listings_count       0\n",
       "availability_365                     0\n",
       "dtype: int64"
      ]
     },
     "execution_count": 7,
     "metadata": {},
     "output_type": "execute_result"
    }
   ],
   "source": [
    "df.isna().sum()"
   ]
  },
  {
   "cell_type": "markdown",
   "metadata": {},
   "source": [
    "** Findings of intial review of data \n",
    "*  Name as 2 missing names but that shoul not be an issue as we will be using id as our index for most analysis.\n",
    "\n",
    "* Drop Review_Recency as it is totally blank.\n",
    "\n",
    "* last review has 35% missing data. But would still like to use it as a variable as it may have an impact on price.\n",
    "\n",
    "* last review and review per month are correlated as last review data is blank for all the listings with no review. I will keep the data as is for now and may impute missing values at the time of modelling\n",
    "\n",
    "\n"
   ]
  },
  {
   "cell_type": "code",
   "execution_count": 8,
   "metadata": {
    "scrolled": true
   },
   "outputs": [
    {
     "data": {
      "text/plain": [
       "Index(['id', 'name', 'host_id', 'host_name', 'neighbourhood_group',\n",
       "       'neighbourhood', 'room_type', 'price', 'minimum_nights',\n",
       "       'number_of_reviews', 'last_review', 'Review_Recency',\n",
       "       'reviews_per_month', 'calculated_host_listings_count',\n",
       "       'availability_365'],\n",
       "      dtype='object')"
      ]
     },
     "execution_count": 8,
     "metadata": {},
     "output_type": "execute_result"
    }
   ],
   "source": [
    "df.keys()"
   ]
  },
  {
   "cell_type": "markdown",
   "metadata": {},
   "source": [
    "Now let's explore the data set itself. "
   ]
  },
  {
   "cell_type": "code",
   "execution_count": 9,
   "metadata": {},
   "outputs": [],
   "source": [
    "# dropping variables which are not required.\n",
    "\n",
    "#Fields not needed to our problem\n",
    "to_drop = [\"name\",\"host_name\", \"Review_Recency\",]\n",
    "    \n",
    "# Drop selected fields in place\n",
    "df.drop(to_drop, inplace=True, axis=1)"
   ]
  },
  {
   "cell_type": "code",
   "execution_count": 11,
   "metadata": {
    "scrolled": false
   },
   "outputs": [
    {
     "data": {
      "text/html": [
       "<div>\n",
       "<style scoped>\n",
       "    .dataframe tbody tr th:only-of-type {\n",
       "        vertical-align: middle;\n",
       "    }\n",
       "\n",
       "    .dataframe tbody tr th {\n",
       "        vertical-align: top;\n",
       "    }\n",
       "\n",
       "    .dataframe thead th {\n",
       "        text-align: right;\n",
       "    }\n",
       "</style>\n",
       "<table border=\"1\" class=\"dataframe\">\n",
       "  <thead>\n",
       "    <tr style=\"text-align: right;\">\n",
       "      <th></th>\n",
       "      <th>id</th>\n",
       "      <th>host_id</th>\n",
       "      <th>neighbourhood_group</th>\n",
       "      <th>neighbourhood</th>\n",
       "      <th>room_type</th>\n",
       "      <th>price</th>\n",
       "      <th>minimum_nights</th>\n",
       "      <th>number_of_reviews</th>\n",
       "      <th>last_review</th>\n",
       "      <th>reviews_per_month</th>\n",
       "      <th>calculated_host_listings_count</th>\n",
       "      <th>availability_365</th>\n",
       "    </tr>\n",
       "  </thead>\n",
       "  <tbody>\n",
       "    <tr>\n",
       "      <td>0</td>\n",
       "      <td>21408571</td>\n",
       "      <td>114674497</td>\n",
       "      <td>Central Region</td>\n",
       "      <td>Rochor</td>\n",
       "      <td>Entire home/apt</td>\n",
       "      <td>0</td>\n",
       "      <td>3</td>\n",
       "      <td>9</td>\n",
       "      <td>8/11/19</td>\n",
       "      <td>0.51</td>\n",
       "      <td>6</td>\n",
       "      <td>351</td>\n",
       "    </tr>\n",
       "    <tr>\n",
       "      <td>1</td>\n",
       "      <td>18656726</td>\n",
       "      <td>21900076</td>\n",
       "      <td>East Region</td>\n",
       "      <td>Bedok</td>\n",
       "      <td>Shared room</td>\n",
       "      <td>14</td>\n",
       "      <td>1</td>\n",
       "      <td>0</td>\n",
       "      <td>NaN</td>\n",
       "      <td>NaN</td>\n",
       "      <td>2</td>\n",
       "      <td>0</td>\n",
       "    </tr>\n",
       "    <tr>\n",
       "      <td>2</td>\n",
       "      <td>37506711</td>\n",
       "      <td>29799617</td>\n",
       "      <td>Central Region</td>\n",
       "      <td>Geylang</td>\n",
       "      <td>Entire home/apt</td>\n",
       "      <td>14</td>\n",
       "      <td>3</td>\n",
       "      <td>4</td>\n",
       "      <td>8/26/19</td>\n",
       "      <td>4.00</td>\n",
       "      <td>1</td>\n",
       "      <td>34</td>\n",
       "    </tr>\n",
       "  </tbody>\n",
       "</table>\n",
       "</div>"
      ],
      "text/plain": [
       "         id    host_id neighbourhood_group neighbourhood        room_type  \\\n",
       "0  21408571  114674497      Central Region        Rochor  Entire home/apt   \n",
       "1  18656726   21900076         East Region         Bedok      Shared room   \n",
       "2  37506711   29799617      Central Region       Geylang  Entire home/apt   \n",
       "\n",
       "   price  minimum_nights  number_of_reviews last_review  reviews_per_month  \\\n",
       "0      0               3                  9     8/11/19               0.51   \n",
       "1     14               1                  0         NaN                NaN   \n",
       "2     14               3                  4     8/26/19               4.00   \n",
       "\n",
       "   calculated_host_listings_count  availability_365  \n",
       "0                               6               351  \n",
       "1                               2                 0  \n",
       "2                               1                34  "
      ]
     },
     "execution_count": 11,
     "metadata": {},
     "output_type": "execute_result"
    }
   ],
   "source": [
    "#reviewing new dataset\n",
    "df.head(3)"
   ]
  },
  {
   "cell_type": "code",
   "execution_count": 12,
   "metadata": {
    "scrolled": false
   },
   "outputs": [
    {
     "data": {
      "text/html": [
       "<div>\n",
       "<style scoped>\n",
       "    .dataframe tbody tr th:only-of-type {\n",
       "        vertical-align: middle;\n",
       "    }\n",
       "\n",
       "    .dataframe tbody tr th {\n",
       "        vertical-align: top;\n",
       "    }\n",
       "\n",
       "    .dataframe thead th {\n",
       "        text-align: right;\n",
       "    }\n",
       "</style>\n",
       "<table border=\"1\" class=\"dataframe\">\n",
       "  <thead>\n",
       "    <tr style=\"text-align: right;\">\n",
       "      <th></th>\n",
       "      <th>id</th>\n",
       "      <th>host_id</th>\n",
       "      <th>price</th>\n",
       "      <th>minimum_nights</th>\n",
       "      <th>number_of_reviews</th>\n",
       "      <th>reviews_per_month</th>\n",
       "      <th>calculated_host_listings_count</th>\n",
       "      <th>availability_365</th>\n",
       "    </tr>\n",
       "  </thead>\n",
       "  <tbody>\n",
       "    <tr>\n",
       "      <td>count</td>\n",
       "      <td>7.907000e+03</td>\n",
       "      <td>7.907000e+03</td>\n",
       "      <td>7907.000000</td>\n",
       "      <td>7907.000000</td>\n",
       "      <td>7907.000000</td>\n",
       "      <td>5149.000000</td>\n",
       "      <td>7907.000000</td>\n",
       "      <td>7907.000000</td>\n",
       "    </tr>\n",
       "    <tr>\n",
       "      <td>mean</td>\n",
       "      <td>2.338862e+07</td>\n",
       "      <td>9.114481e+07</td>\n",
       "      <td>169.332996</td>\n",
       "      <td>17.510054</td>\n",
       "      <td>12.807386</td>\n",
       "      <td>1.043669</td>\n",
       "      <td>40.607689</td>\n",
       "      <td>208.726318</td>\n",
       "    </tr>\n",
       "    <tr>\n",
       "      <td>std</td>\n",
       "      <td>1.016416e+07</td>\n",
       "      <td>8.190910e+07</td>\n",
       "      <td>340.187599</td>\n",
       "      <td>42.094616</td>\n",
       "      <td>29.707746</td>\n",
       "      <td>1.285851</td>\n",
       "      <td>65.135253</td>\n",
       "      <td>146.120034</td>\n",
       "    </tr>\n",
       "    <tr>\n",
       "      <td>min</td>\n",
       "      <td>4.909100e+04</td>\n",
       "      <td>2.366600e+04</td>\n",
       "      <td>0.000000</td>\n",
       "      <td>1.000000</td>\n",
       "      <td>0.000000</td>\n",
       "      <td>0.010000</td>\n",
       "      <td>1.000000</td>\n",
       "      <td>0.000000</td>\n",
       "    </tr>\n",
       "    <tr>\n",
       "      <td>25%</td>\n",
       "      <td>1.582180e+07</td>\n",
       "      <td>2.305808e+07</td>\n",
       "      <td>65.000000</td>\n",
       "      <td>1.000000</td>\n",
       "      <td>0.000000</td>\n",
       "      <td>0.180000</td>\n",
       "      <td>2.000000</td>\n",
       "      <td>54.000000</td>\n",
       "    </tr>\n",
       "    <tr>\n",
       "      <td>50%</td>\n",
       "      <td>2.470627e+07</td>\n",
       "      <td>6.344891e+07</td>\n",
       "      <td>124.000000</td>\n",
       "      <td>3.000000</td>\n",
       "      <td>2.000000</td>\n",
       "      <td>0.550000</td>\n",
       "      <td>9.000000</td>\n",
       "      <td>260.000000</td>\n",
       "    </tr>\n",
       "    <tr>\n",
       "      <td>75%</td>\n",
       "      <td>3.234850e+07</td>\n",
       "      <td>1.553811e+08</td>\n",
       "      <td>199.000000</td>\n",
       "      <td>10.000000</td>\n",
       "      <td>10.000000</td>\n",
       "      <td>1.370000</td>\n",
       "      <td>48.000000</td>\n",
       "      <td>355.000000</td>\n",
       "    </tr>\n",
       "    <tr>\n",
       "      <td>max</td>\n",
       "      <td>3.811276e+07</td>\n",
       "      <td>2.885676e+08</td>\n",
       "      <td>10000.000000</td>\n",
       "      <td>1000.000000</td>\n",
       "      <td>323.000000</td>\n",
       "      <td>13.000000</td>\n",
       "      <td>274.000000</td>\n",
       "      <td>365.000000</td>\n",
       "    </tr>\n",
       "  </tbody>\n",
       "</table>\n",
       "</div>"
      ],
      "text/plain": [
       "                 id       host_id         price  minimum_nights  \\\n",
       "count  7.907000e+03  7.907000e+03   7907.000000     7907.000000   \n",
       "mean   2.338862e+07  9.114481e+07    169.332996       17.510054   \n",
       "std    1.016416e+07  8.190910e+07    340.187599       42.094616   \n",
       "min    4.909100e+04  2.366600e+04      0.000000        1.000000   \n",
       "25%    1.582180e+07  2.305808e+07     65.000000        1.000000   \n",
       "50%    2.470627e+07  6.344891e+07    124.000000        3.000000   \n",
       "75%    3.234850e+07  1.553811e+08    199.000000       10.000000   \n",
       "max    3.811276e+07  2.885676e+08  10000.000000     1000.000000   \n",
       "\n",
       "       number_of_reviews  reviews_per_month  calculated_host_listings_count  \\\n",
       "count        7907.000000        5149.000000                     7907.000000   \n",
       "mean           12.807386           1.043669                       40.607689   \n",
       "std            29.707746           1.285851                       65.135253   \n",
       "min             0.000000           0.010000                        1.000000   \n",
       "25%             0.000000           0.180000                        2.000000   \n",
       "50%             2.000000           0.550000                        9.000000   \n",
       "75%            10.000000           1.370000                       48.000000   \n",
       "max           323.000000          13.000000                      274.000000   \n",
       "\n",
       "       availability_365  \n",
       "count       7907.000000  \n",
       "mean         208.726318  \n",
       "std          146.120034  \n",
       "min            0.000000  \n",
       "25%           54.000000  \n",
       "50%          260.000000  \n",
       "75%          355.000000  \n",
       "max          365.000000  "
      ]
     },
     "execution_count": 12,
     "metadata": {},
     "output_type": "execute_result"
    }
   ],
   "source": [
    "df.describe()"
   ]
  },
  {
   "cell_type": "code",
   "execution_count": 13,
   "metadata": {},
   "outputs": [],
   "source": [
    "#list of continuous variables\n",
    "#list of continous columns\n",
    "col = ['price','minimum_nights','number_of_reviews','availability_365','calculated_host_listings_count']"
   ]
  },
  {
   "cell_type": "code",
   "execution_count": 14,
   "metadata": {},
   "outputs": [],
   "source": [
    "\n",
    "#plotting box plots to discover outliers\n",
    "\n",
    "def drawhist(col):\n",
    "    for i in col:\n",
    "        sns.boxplot(x = df[i])\n",
    "        \n",
    "        plt.xlabel(i)\n",
    "        plt.show()\n",
    "    return()\n",
    "\n"
   ]
  },
  {
   "cell_type": "code",
   "execution_count": 42,
   "metadata": {
    "scrolled": false
   },
   "outputs": [
    {
     "name": "stderr",
     "output_type": "stream",
     "text": [
      "/opt/anaconda3/lib/python3.7/site-packages/pandas/plotting/_matplotlib/hist.py:62: MatplotlibDeprecationWarning: \n",
      "The 'normed' kwarg was deprecated in Matplotlib 2.1 and will be removed in 3.1. Use 'density' instead.\n",
      "  n, bins, patches = ax.hist(y, bins=bins, bottom=bottom, **kwds)\n"
     ]
    },
    {
     "data": {
      "image/png": "[encoded data removed]",
      "text/plain": [
       "<Figure size 432x288 with 1 Axes>"
      ]
     },
     "metadata": {
      "needs_background": "light"
     },
     "output_type": "display_data"
    },
    {
     "name": "stderr",
     "output_type": "stream",
     "text": [
      "/opt/anaconda3/lib/python3.7/site-packages/pandas/plotting/_matplotlib/hist.py:62: MatplotlibDeprecationWarning: \n",
      "The 'normed' kwarg was deprecated in Matplotlib 2.1 and will be removed in 3.1. Use 'density' instead.\n",
      "  n, bins, patches = ax.hist(y, bins=bins, bottom=bottom, **kwds)\n"
     ]
    },
    {
     "data": {
      "image/png": "[encoded data removed]",
      "text/plain": [
       "<Figure size 432x288 with 1 Axes>"
      ]
     },
     "metadata": {
      "needs_background": "light"
     },
     "output_type": "display_data"
    },
    {
     "name": "stderr",
     "output_type": "stream",
     "text": [
      "/opt/anaconda3/lib/python3.7/site-packages/pandas/plotting/_matplotlib/hist.py:62: MatplotlibDeprecationWarning: \n",
      "The 'normed' kwarg was deprecated in Matplotlib 2.1 and will be removed in 3.1. Use 'density' instead.\n",
      "  n, bins, patches = ax.hist(y, bins=bins, bottom=bottom, **kwds)\n"
     ]
    },
    {
     "data": {
      "image/png": "[encoded data removed]",
      "text/plain": [
       "<Figure size 432x288 with 1 Axes>"
      ]
     },
     "metadata": {
      "needs_background": "light"
     },
     "output_type": "display_data"
    },
    {
     "name": "stderr",
     "output_type": "stream",
     "text": [
      "/opt/anaconda3/lib/python3.7/site-packages/pandas/plotting/_matplotlib/hist.py:62: MatplotlibDeprecationWarning: \n",
      "The 'normed' kwarg was deprecated in Matplotlib 2.1 and will be removed in 3.1. Use 'density' instead.\n",
      "  n, bins, patches = ax.hist(y, bins=bins, bottom=bottom, **kwds)\n"
     ]
    },
    {
     "data": {
      "image/png": "[encoded data removed]",
      "text/plain": [
       "<Figure size 432x288 with 1 Axes>"
      ]
     },
     "metadata": {
      "needs_background": "light"
     },
     "output_type": "display_data"
    },
    {
     "name": "stderr",
     "output_type": "stream",
     "text": [
      "/opt/anaconda3/lib/python3.7/site-packages/pandas/plotting/_matplotlib/hist.py:62: MatplotlibDeprecationWarning: \n",
      "The 'normed' kwarg was deprecated in Matplotlib 2.1 and will be removed in 3.1. Use 'density' instead.\n",
      "  n, bins, patches = ax.hist(y, bins=bins, bottom=bottom, **kwds)\n"
     ]
    },
    {
     "data": {
      "image/png": "[encoded data removed]",
      "text/plain": [
       "<Figure size 432x288 with 1 Axes>"
      ]
     },
     "metadata": {
      "needs_background": "light"
     },
     "output_type": "display_data"
    },
    {
     "data": {
      "text/plain": [
       "()"
      ]
     },
     "execution_count": 42,
     "metadata": {},
     "output_type": "execute_result"
    }
   ],
   "source": [
    "drawhist(col)"
   ]
  },
  {
   "cell_type": "code",
   "execution_count": 15,
   "metadata": {},
   "outputs": [],
   "source": [
    "#using z scores to identify outliers\n",
    "\n",
    "from scipy import stats\n",
    "import numpy as np\n"
   ]
  },
  {
   "cell_type": "code",
   "execution_count": 16,
   "metadata": {},
   "outputs": [],
   "source": [
    "#syntax : df = pd.DataFrame(data, columns = ['Name', 'Age'])\n"
   ]
  },
  {
   "cell_type": "code",
   "execution_count": 17,
   "metadata": {},
   "outputs": [],
   "source": [
    "# writing a function to create additional columns in df for z values for each variable \n",
    "def zvalues(col):\n",
    "    for i in col:\n",
    "        z = pd.DataFrame(np.abs(stats.zscore(df[i])),columns = [i+\" zval\"])\n",
    "        df[i+\" zval\"]= z[i+\" zval\"]\n",
    "    return()"
   ]
  },
  {
   "cell_type": "code",
   "execution_count": 18,
   "metadata": {},
   "outputs": [
    {
     "data": {
      "text/plain": [
       "()"
      ]
     },
     "execution_count": 18,
     "metadata": {},
     "output_type": "execute_result"
    }
   ],
   "source": [
    "zvalues(col)"
   ]
  },
  {
   "cell_type": "code",
   "execution_count": 19,
   "metadata": {},
   "outputs": [],
   "source": [
    "# removing outliers based on 3 variables i found relevant\n",
    "\n",
    "df_o = df[(df['price zval']<3) & (df['minimum_nights zval']<3) & (df['availability_365 zval'] <3)]"
   ]
  },
  {
   "cell_type": "code",
   "execution_count": 20,
   "metadata": {
    "scrolled": true
   },
   "outputs": [
    {
     "data": {
      "text/plain": [
       "(7699, 17)"
      ]
     },
     "execution_count": 20,
     "metadata": {},
     "output_type": "execute_result"
    }
   ],
   "source": [
    "df_o.shape"
   ]
  },
  {
   "cell_type": "code",
   "execution_count": 21,
   "metadata": {
    "scrolled": false
   },
   "outputs": [
    {
     "name": "stdout",
     "output_type": "stream",
     "text": [
      "0.02630580498292652 outliers removed\n"
     ]
    }
   ],
   "source": [
    "print((7907- 7699)/7907,\"outliers removed\")"
   ]
  },
  {
   "cell_type": "markdown",
   "metadata": {},
   "source": [
    "**The next set of code snippets is converting categorical variables into nominal-numerical variables after looking for missing values**"
   ]
  },
  {
   "cell_type": "code",
   "execution_count": 22,
   "metadata": {
    "scrolled": true
   },
   "outputs": [
    {
     "name": "stdout",
     "output_type": "stream",
     "text": [
      "id                                        0\n",
      "host_id                                   0\n",
      "neighbourhood_group                       0\n",
      "neighbourhood                             0\n",
      "room_type                                 0\n",
      "price                                     0\n",
      "minimum_nights                            0\n",
      "number_of_reviews                         0\n",
      "last_review                            2613\n",
      "reviews_per_month                      2613\n",
      "calculated_host_listings_count            0\n",
      "availability_365                          0\n",
      "price zval                                0\n",
      "minimum_nights zval                       0\n",
      "number_of_reviews zval                    0\n",
      "availability_365 zval                     0\n",
      "calculated_host_listings_count zval       0\n",
      "dtype: int64\n"
     ]
    }
   ],
   "source": [
    "print(df_o.isnull().sum())"
   ]
  },
  {
   "cell_type": "code",
   "execution_count": 23,
   "metadata": {},
   "outputs": [
    {
     "name": "stderr",
     "output_type": "stream",
     "text": [
      "/opt/anaconda3/lib/python3.7/site-packages/ipykernel_launcher.py:3: SettingWithCopyWarning: \n",
      "A value is trying to be set on a copy of a slice from a DataFrame.\n",
      "Try using .loc[row_indexer,col_indexer] = value instead\n",
      "\n",
      "See the caveats in the documentation: http://pandas.pydata.org/pandas-docs/stable/user_guide/indexing.html#returning-a-view-versus-a-copy\n",
      "  This is separate from the ipykernel package so we can avoid doing imports until\n"
     ]
    }
   ],
   "source": [
    "# Converting last_review to datetime\n",
    "\n",
    "df_o['last_rev'] =  pd.to_datetime(df_o['last_review'], infer_datetime_format=True)"
   ]
  },
  {
   "cell_type": "code",
   "execution_count": 24,
   "metadata": {
    "scrolled": false
   },
   "outputs": [
    {
     "data": {
      "text/plain": [
       "id                                              int64\n",
       "host_id                                         int64\n",
       "neighbourhood_group                            object\n",
       "neighbourhood                                  object\n",
       "room_type                                      object\n",
       "price                                           int64\n",
       "minimum_nights                                  int64\n",
       "number_of_reviews                               int64\n",
       "last_review                                    object\n",
       "reviews_per_month                             float64\n",
       "calculated_host_listings_count                  int64\n",
       "availability_365                                int64\n",
       "price zval                                    float64\n",
       "minimum_nights zval                           float64\n",
       "number_of_reviews zval                        float64\n",
       "availability_365 zval                         float64\n",
       "calculated_host_listings_count zval           float64\n",
       "last_rev                               datetime64[ns]\n",
       "dtype: object"
      ]
     },
     "execution_count": 24,
     "metadata": {},
     "output_type": "execute_result"
    }
   ],
   "source": [
    "df_o.dtypes"
   ]
  },
  {
   "cell_type": "code",
   "execution_count": 25,
   "metadata": {
    "scrolled": true
   },
   "outputs": [
    {
     "name": "stderr",
     "output_type": "stream",
     "text": [
      "/opt/anaconda3/lib/python3.7/site-packages/ipykernel_launcher.py:3: SettingWithCopyWarning: \n",
      "A value is trying to be set on a copy of a slice from a DataFrame.\n",
      "Try using .loc[row_indexer,col_indexer] = value instead\n",
      "\n",
      "See the caveats in the documentation: http://pandas.pydata.org/pandas-docs/stable/user_guide/indexing.html#returning-a-view-versus-a-copy\n",
      "  This is separate from the ipykernel package so we can avoid doing imports until\n",
      "/opt/anaconda3/lib/python3.7/site-packages/ipykernel_launcher.py:4: SettingWithCopyWarning: \n",
      "A value is trying to be set on a copy of a slice from a DataFrame.\n",
      "Try using .loc[row_indexer,col_indexer] = value instead\n",
      "\n",
      "See the caveats in the documentation: http://pandas.pydata.org/pandas-docs/stable/user_guide/indexing.html#returning-a-view-versus-a-copy\n",
      "  after removing the cwd from sys.path.\n",
      "/opt/anaconda3/lib/python3.7/site-packages/ipykernel_launcher.py:5: SettingWithCopyWarning: \n",
      "A value is trying to be set on a copy of a slice from a DataFrame.\n",
      "Try using .loc[row_indexer,col_indexer] = value instead\n",
      "\n",
      "See the caveats in the documentation: http://pandas.pydata.org/pandas-docs/stable/user_guide/indexing.html#returning-a-view-versus-a-copy\n",
      "  \"\"\"\n",
      "/opt/anaconda3/lib/python3.7/site-packages/ipykernel_launcher.py:7: SettingWithCopyWarning: \n",
      "A value is trying to be set on a copy of a slice from a DataFrame.\n",
      "Try using .loc[row_indexer,col_indexer] = value instead\n",
      "\n",
      "See the caveats in the documentation: http://pandas.pydata.org/pandas-docs/stable/user_guide/indexing.html#returning-a-view-versus-a-copy\n",
      "  import sys\n",
      "/opt/anaconda3/lib/python3.7/site-packages/ipykernel_launcher.py:8: SettingWithCopyWarning: \n",
      "A value is trying to be set on a copy of a slice from a DataFrame.\n",
      "Try using .loc[row_indexer,col_indexer] = value instead\n",
      "\n",
      "See the caveats in the documentation: http://pandas.pydata.org/pandas-docs/stable/user_guide/indexing.html#returning-a-view-versus-a-copy\n",
      "  \n",
      "/opt/anaconda3/lib/python3.7/site-packages/ipykernel_launcher.py:9: SettingWithCopyWarning: \n",
      "A value is trying to be set on a copy of a slice from a DataFrame.\n",
      "Try using .loc[row_indexer,col_indexer] = value instead\n",
      "\n",
      "See the caveats in the documentation: http://pandas.pydata.org/pandas-docs/stable/user_guide/indexing.html#returning-a-view-versus-a-copy\n",
      "  if __name__ == '__main__':\n"
     ]
    }
   ],
   "source": [
    "#using catcodes to code the variable\n",
    "\n",
    "df_o['neighbourhood_group'] = df_o['neighbourhood_group'].astype('category')\n",
    "df_o['neighbourhood'] = df_o['neighbourhood'].astype('category')\n",
    "df_o['room_type'] = df_o['room_type'].astype('category')\n",
    "\n",
    "df_o['ng'] = df_o['neighbourhood_group'].cat.codes\n",
    "df_o['nb'] = df_o['neighbourhood'].cat.codes\n",
    "df_o['room_t'] = df_o['room_type'].cat.codes"
   ]
  },
  {
   "cell_type": "code",
   "execution_count": 32,
   "metadata": {},
   "outputs": [],
   "source": [
    "# function to plot histograms for continuos variables\n",
    "\n",
    "#list of continous columns\n",
    "col = ['price','minimum_nights','number_of_reviews','availability_365','calculated_host_listings_count']\n",
    "\n",
    "def drawhist(col):\n",
    "    for i in col:\n",
    "        df[i].plot(kind = 'hist',bins = 50,normed = True)\n",
    "        plt.xlabel(i)\n",
    "        plt.show()\n",
    "    return()"
   ]
  },
  {
   "cell_type": "code",
   "execution_count": 33,
   "metadata": {
    "scrolled": false
   },
   "outputs": [
    {
     "name": "stderr",
     "output_type": "stream",
     "text": [
      "/opt/anaconda3/lib/python3.7/site-packages/pandas/plotting/_matplotlib/hist.py:62: MatplotlibDeprecationWarning: \n",
      "The 'normed' kwarg was deprecated in Matplotlib 2.1 and will be removed in 3.1. Use 'density' instead.\n",
      "  n, bins, patches = ax.hist(y, bins=bins, bottom=bottom, **kwds)\n"
     ]
    },
    {
     "data": {
      "image/png": "[encoded data removed]",
      "text/plain": [
       "<Figure size 432x288 with 1 Axes>"
      ]
     },
     "metadata": {
      "needs_background": "light"
     },
     "output_type": "display_data"
    },
    {
     "data": {
      "image/png": "[encoded data removed]",
      "text/plain": [
       "<Figure size 432x288 with 1 Axes>"
      ]
     },
     "metadata": {
      "needs_background": "light"
     },
     "output_type": "display_data"
    },
    {
     "data": {
      "image/png": "[encoded data removed]",
      "text/plain": [
       "<Figure size 432x288 with 1 Axes>"
      ]
     },
     "metadata": {
      "needs_background": "light"
     },
     "output_type": "display_data"
    },
    {
     "data": {
      "image/png": "[encoded data removed]",
      "text/plain": [
       "<Figure size 432x288 with 1 Axes>"
      ]
     },
     "metadata": {
      "needs_background": "light"
     },
     "output_type": "display_data"
    },
    {
     "data": {
      "image/png": "[encoded data removed]",
      "text/plain": [
       "<Figure size 432x288 with 1 Axes>"
      ]
     },
     "metadata": {
      "needs_background": "light"
     },
     "output_type": "display_data"
    },
    {
     "data": {
      "text/plain": [
       "()"
      ]
     },
     "execution_count": 33,
     "metadata": {},
     "output_type": "execute_result"
    }
   ],
   "source": [
    "drawhist(col)"
   ]
  },
  {
   "cell_type": "code",
   "execution_count": 34,
   "metadata": {
    "scrolled": false
   },
   "outputs": [
    {
     "data": {
      "image/png": "[encoded data removed]",
      "text/plain": [
       "<Figure size 432x288 with 1 Axes>"
      ]
     },
     "metadata": {},
     "output_type": "display_data"
    }
   ],
   "source": [
    "# cross tab for categorical variables\n",
    "ng_count = df_o['neighbourhood_group'].value_counts()\n",
    "sns.set(style=\"darkgrid\")\n",
    "sns.barplot(ng_count.index, ng_count.values, alpha=0.9)\n",
    "plt.title('Frequency Distribution of neighbourhood')\n",
    "plt.ylabel('Number of Occurrences', fontsize=12)\n",
    "plt.xlabel('Neighbourhood Group', fontsize=12)\n",
    "plt.show()"
   ]
  },
  {
   "cell_type": "code",
   "execution_count": 954,
   "metadata": {},
   "outputs": [],
   "source": [
    "# exporting to view in tablea\n",
    "\n",
    "df_o.to_csv(\"df_capst.csv\",index=False)"
   ]
  },
  {
   "cell_type": "markdown",
   "metadata": {},
   "source": [
    "## CAPTSTONE INFERENTIAL STATS - SECTION ##"
   ]
  },
  {
   "cell_type": "markdown",
   "metadata": {},
   "source": [
    "**APPROACH**\n",
    "\n",
    "As I reviewed the dataset and looked at some preliminary box plots and histograms, I built the following hypthesis which I wanted to validate. See below\n"
   ]
  },
  {
   "cell_type": "markdown",
   "metadata": {},
   "source": [
    "**HYPOTHESIS 1**\n",
    "\n",
    "34% of the listings did not have any review and NaN in last review data and reviews per month. So I wanted to test if not having reviews has a significant impact on price given all things constant. My null hypothesis : Not having reviews has no impact on the median price of the listing. I ran a t-test to find out if my null hypothesis is valid or not.\n",
    " "
   ]
  },
  {
   "cell_type": "code",
   "execution_count": 26,
   "metadata": {},
   "outputs": [],
   "source": [
    "#importing file from DataWrangling Section : \n",
    "df_o= pd.read_csv('/Users/ruchikasi/Documents/Personal/Springboard/df_capst.csv')"
   ]
  },
  {
   "cell_type": "code",
   "execution_count": 27,
   "metadata": {
    "scrolled": false
   },
   "outputs": [
    {
     "data": {
      "text/html": [
       "<div>\n",
       "<style scoped>\n",
       "    .dataframe tbody tr th:only-of-type {\n",
       "        vertical-align: middle;\n",
       "    }\n",
       "\n",
       "    .dataframe tbody tr th {\n",
       "        vertical-align: top;\n",
       "    }\n",
       "\n",
       "    .dataframe thead th {\n",
       "        text-align: right;\n",
       "    }\n",
       "</style>\n",
       "<table border=\"1\" class=\"dataframe\">\n",
       "  <thead>\n",
       "    <tr style=\"text-align: right;\">\n",
       "      <th></th>\n",
       "      <th>id</th>\n",
       "      <th>name</th>\n",
       "      <th>host_id</th>\n",
       "      <th>host_name</th>\n",
       "      <th>neighbourhood_group</th>\n",
       "      <th>neighbourhood</th>\n",
       "      <th>room_type</th>\n",
       "      <th>price</th>\n",
       "      <th>minimum_nights</th>\n",
       "      <th>number_of_reviews</th>\n",
       "      <th>...</th>\n",
       "      <th>price zval</th>\n",
       "      <th>minimum_nights zval</th>\n",
       "      <th>number_of_reviews zval</th>\n",
       "      <th>availability_365 zval</th>\n",
       "      <th>calculated_host_listings_count zval</th>\n",
       "      <th>last_rev</th>\n",
       "      <th>ng</th>\n",
       "      <th>nb</th>\n",
       "      <th>room_t</th>\n",
       "      <th>rev_flag</th>\n",
       "    </tr>\n",
       "  </thead>\n",
       "  <tbody>\n",
       "    <tr>\n",
       "      <td>0</td>\n",
       "      <td>21408571</td>\n",
       "      <td>1 BR @ Little India &amp; Farrer Park MRT</td>\n",
       "      <td>114674497</td>\n",
       "      <td>Mitul</td>\n",
       "      <td>0</td>\n",
       "      <td>29</td>\n",
       "      <td>0</td>\n",
       "      <td>0</td>\n",
       "      <td>3</td>\n",
       "      <td>9</td>\n",
       "      <td>...</td>\n",
       "      <td>0.497795</td>\n",
       "      <td>0.344723</td>\n",
       "      <td>0.128169</td>\n",
       "      <td>0.973738</td>\n",
       "      <td>0.531354</td>\n",
       "      <td>2019-08-11</td>\n",
       "      <td>0</td>\n",
       "      <td>29</td>\n",
       "      <td>0</td>\n",
       "      <td>1</td>\n",
       "    </tr>\n",
       "    <tr>\n",
       "      <td>1</td>\n",
       "      <td>18656726</td>\n",
       "      <td>Master Bedroom at The Clearwater Condo</td>\n",
       "      <td>21900076</td>\n",
       "      <td>Mary</td>\n",
       "      <td>1</td>\n",
       "      <td>1</td>\n",
       "      <td>2</td>\n",
       "      <td>14</td>\n",
       "      <td>1</td>\n",
       "      <td>0</td>\n",
       "      <td>...</td>\n",
       "      <td>0.456639</td>\n",
       "      <td>0.392238</td>\n",
       "      <td>0.431140</td>\n",
       "      <td>1.428548</td>\n",
       "      <td>0.592769</td>\n",
       "      <td>NaN</td>\n",
       "      <td>1</td>\n",
       "      <td>1</td>\n",
       "      <td>2</td>\n",
       "      <td>0</td>\n",
       "    </tr>\n",
       "    <tr>\n",
       "      <td>2</td>\n",
       "      <td>37506711</td>\n",
       "      <td>Central 1BR Apt in Foodie Haven Hipster Paradise</td>\n",
       "      <td>29799617</td>\n",
       "      <td>John</td>\n",
       "      <td>0</td>\n",
       "      <td>11</td>\n",
       "      <td>0</td>\n",
       "      <td>14</td>\n",
       "      <td>3</td>\n",
       "      <td>4</td>\n",
       "      <td>...</td>\n",
       "      <td>0.456639</td>\n",
       "      <td>0.344723</td>\n",
       "      <td>0.296486</td>\n",
       "      <td>1.195848</td>\n",
       "      <td>0.608122</td>\n",
       "      <td>2019-08-26</td>\n",
       "      <td>0</td>\n",
       "      <td>11</td>\n",
       "      <td>0</td>\n",
       "      <td>1</td>\n",
       "    </tr>\n",
       "    <tr>\n",
       "      <td>3</td>\n",
       "      <td>35947264</td>\n",
       "      <td>Senja cozy</td>\n",
       "      <td>75175440</td>\n",
       "      <td>Rain</td>\n",
       "      <td>4</td>\n",
       "      <td>5</td>\n",
       "      <td>0</td>\n",
       "      <td>14</td>\n",
       "      <td>1</td>\n",
       "      <td>1</td>\n",
       "      <td>...</td>\n",
       "      <td>0.456639</td>\n",
       "      <td>0.392238</td>\n",
       "      <td>0.397477</td>\n",
       "      <td>1.428548</td>\n",
       "      <td>0.592769</td>\n",
       "      <td>2019-06-24</td>\n",
       "      <td>4</td>\n",
       "      <td>5</td>\n",
       "      <td>0</td>\n",
       "      <td>1</td>\n",
       "    </tr>\n",
       "    <tr>\n",
       "      <td>4</td>\n",
       "      <td>18679631</td>\n",
       "      <td>Small room for you</td>\n",
       "      <td>108408404</td>\n",
       "      <td>Sutthida</td>\n",
       "      <td>0</td>\n",
       "      <td>19</td>\n",
       "      <td>1</td>\n",
       "      <td>14</td>\n",
       "      <td>2</td>\n",
       "      <td>1</td>\n",
       "      <td>...</td>\n",
       "      <td>0.456639</td>\n",
       "      <td>0.368480</td>\n",
       "      <td>0.397477</td>\n",
       "      <td>1.428548</td>\n",
       "      <td>0.608122</td>\n",
       "      <td>2017-05-14</td>\n",
       "      <td>0</td>\n",
       "      <td>19</td>\n",
       "      <td>1</td>\n",
       "      <td>1</td>\n",
       "    </tr>\n",
       "  </tbody>\n",
       "</table>\n",
       "<p>5 rows × 25 columns</p>\n",
       "</div>"
      ],
      "text/plain": [
       "         id                                              name    host_id  \\\n",
       "0  21408571             1 BR @ Little India & Farrer Park MRT  114674497   \n",
       "1  18656726            Master Bedroom at The Clearwater Condo   21900076   \n",
       "2  37506711  Central 1BR Apt in Foodie Haven Hipster Paradise   29799617   \n",
       "3  35947264                                        Senja cozy   75175440   \n",
       "4  18679631                                Small room for you  108408404   \n",
       "\n",
       "  host_name  neighbourhood_group  neighbourhood  room_type  price  \\\n",
       "0     Mitul                    0             29          0      0   \n",
       "1      Mary                    1              1          2     14   \n",
       "2      John                    0             11          0     14   \n",
       "3      Rain                    4              5          0     14   \n",
       "4  Sutthida                    0             19          1     14   \n",
       "\n",
       "   minimum_nights  number_of_reviews  ... price zval  minimum_nights zval  \\\n",
       "0               3                  9  ...   0.497795             0.344723   \n",
       "1               1                  0  ...   0.456639             0.392238   \n",
       "2               3                  4  ...   0.456639             0.344723   \n",
       "3               1                  1  ...   0.456639             0.392238   \n",
       "4               2                  1  ...   0.456639             0.368480   \n",
       "\n",
       "   number_of_reviews zval  availability_365 zval  \\\n",
       "0                0.128169               0.973738   \n",
       "1                0.431140               1.428548   \n",
       "2                0.296486               1.195848   \n",
       "3                0.397477               1.428548   \n",
       "4                0.397477               1.428548   \n",
       "\n",
       "   calculated_host_listings_count zval    last_rev  ng  nb  room_t  rev_flag  \n",
       "0                             0.531354  2019-08-11   0  29       0         1  \n",
       "1                             0.592769         NaN   1   1       2         0  \n",
       "2                             0.608122  2019-08-26   0  11       0         1  \n",
       "3                             0.592769  2019-06-24   4   5       0         1  \n",
       "4                             0.608122  2017-05-14   0  19       1         1  \n",
       "\n",
       "[5 rows x 25 columns]"
      ]
     },
     "execution_count": 27,
     "metadata": {},
     "output_type": "execute_result"
    }
   ],
   "source": [
    "df_o.head()"
   ]
  },
  {
   "cell_type": "code",
   "execution_count": 28,
   "metadata": {},
   "outputs": [],
   "source": [
    "#Creating a new variable \"Rev_Flag : 1 for some review , 0 for no review\n",
    "\n",
    "df_o['rev_flag'] = np.where(df_o['reviews_per_month'] > 0, 1, 0)"
   ]
  },
  {
   "cell_type": "code",
   "execution_count": 29,
   "metadata": {
    "scrolled": true
   },
   "outputs": [
    {
     "data": {
      "text/plain": [
       "1    5086\n",
       "0    2613\n",
       "Name: rev_flag, dtype: int64"
      ]
     },
     "execution_count": 29,
     "metadata": {},
     "output_type": "execute_result"
    }
   ],
   "source": [
    "df_o['rev_flag'].value_counts()"
   ]
  },
  {
   "cell_type": "code",
   "execution_count": 30,
   "metadata": {},
   "outputs": [],
   "source": [
    "rev_0 = df_o.loc[df_o.rev_flag == 0,'price']\n",
    "rev_1 = df_o.loc[df_o.rev_flag == 1,'price']"
   ]
  },
  {
   "cell_type": "code",
   "execution_count": 31,
   "metadata": {
    "scrolled": false
   },
   "outputs": [
    {
     "data": {
      "image/png": "[encoded data removed]",
      "text/plain": [
       "<Figure size 432x288 with 1 Axes>"
      ]
     },
     "metadata": {
      "needs_background": "light"
     },
     "output_type": "display_data"
    }
   ],
   "source": [
    "_ = plt.hist(rev_0, color = 'green', alpha = 0.5)\n",
    "_ = plt.hist(rev_1, color = 'red', alpha = 0.5)\n",
    "_ = plt.xlabel('Price')\n",
    "_ = plt.ylabel('No of listings')\n",
    "_ = plt.legend(['rev_0', 'rev_1'])\n"
   ]
  },
  {
   "cell_type": "code",
   "execution_count": 32,
   "metadata": {
    "scrolled": true
   },
   "outputs": [
    {
     "name": "stdout",
     "output_type": "stream",
     "text": [
      "Mean of non review and some review listing prices are 137.00 and 118.00 dollars.\n"
     ]
    }
   ],
   "source": [
    "print('Mean of non review and some review listing prices are {:.2f} and {:.2f} dollars.'.format(np.median(rev_0), np.median(rev_1)))"
   ]
  },
  {
   "cell_type": "markdown",
   "metadata": {},
   "source": [
    "The bar charts overlap but it looks like listings with reviews overindex on lower prices. But that may be a bias for occupying and reviewing lower priced listings."
   ]
  },
  {
   "cell_type": "code",
   "execution_count": 33,
   "metadata": {},
   "outputs": [],
   "source": [
    "alpha = 0.05"
   ]
  },
  {
   "cell_type": "code",
   "execution_count": 34,
   "metadata": {},
   "outputs": [
    {
     "name": "stdout",
     "output_type": "stream",
     "text": [
      "t = 8.194987645288192\tp = 2.911657896745438e-16\n",
      "Null hypothesis rejected.\n"
     ]
    }
   ],
   "source": [
    "#Run two sample t test, because sample sizes are smaller now. \n",
    "t, p = stats.ttest_ind(rev_0, rev_1)\n",
    "print('t = {}\\tp = {}'.format(t, p))\n",
    "if p < alpha:\n",
    "    print('Null hypothesis rejected.')\n",
    "else:\n",
    "    print('Null hypothesis cannot be rejected')"
   ]
  },
  {
   "cell_type": "markdown",
   "metadata": {},
   "source": [
    "**HYPOTHESIS 1 CONCLUSION**\n",
    "Both the grops seem to have signficantly different prices so I decided to not eliminate the variable"
   ]
  },
  {
   "cell_type": "markdown",
   "metadata": {},
   "source": [
    "**HYPOTHESIS 2**\n",
    "\n",
    "Before analyzing the relationship between other independent factors and price, I wanted to check for correlation amongst independent variables. Next section of code will analyse the correlation amongst independent variables."
   ]
  },
  {
   "cell_type": "code",
   "execution_count": 35,
   "metadata": {
    "scrolled": false
   },
   "outputs": [
    {
     "data": {
      "image/png": "[encoded data removed]",
      "text/plain": [
       "<Figure size 1080x1080 with 42 Axes>"
      ]
     },
     "metadata": {
      "needs_background": "light"
     },
     "output_type": "display_data"
    }
   ],
   "source": [
    "#building correlationplots for all variables\n",
    "\n",
    "#Plot correlations of predictors\n",
    "_ = sns.pairplot(df_o, vars = ['price', 'minimum_nights', 'number_of_reviews', 'ng','nb','room_t'], plot_kws={\"s\": 10})"
   ]
  },
  {
   "cell_type": "markdown",
   "metadata": {},
   "source": [
    "The correlation shows that number of reviews seem slightly negatively correlated but not in a linear relationship.\n",
    "The correlation also shows that room type 2 has lower price than room type 0 and 1. Room type 2 also has lower number of reviews overall compared to room type 0 and 1.\n",
    "\n",
    "The independent variables don't seem to be correlated\n",
    "\n",
    "Before doing any further feature engineering , I have decided to create an initial model and see if some of the above variables explain the variance in price."
   ]
  },
  {
   "cell_type": "code",
   "execution_count": 36,
   "metadata": {},
   "outputs": [],
   "source": [
    "#exporting dataset for next section\n",
    "df_o.to_csv(\"df_capst.csv\",index=False)"
   ]
  },
  {
   "cell_type": "markdown",
   "metadata": {},
   "source": [
    "## Linear Regression Training and Validation Code to predict price based on available features"
   ]
  },
  {
   "cell_type": "markdown",
   "metadata": {},
   "source": [
    "**Approach**\n",
    "\n",
    "- Coding categorical variables\n",
    "- Building a basic model\n",
    "- Validating it using a test - train dataset\n",
    "- Validating using K fold cross validatin\n",
    "- Enhancing the model using variable transformation\n",
    "-"
   ]
  },
  {
   "cell_type": "code",
   "execution_count": 177,
   "metadata": {},
   "outputs": [],
   "source": [
    "#importing file from DataWrangling Section : \n",
    "df_o= pd.read_csv('/Users/ruchikasi/Documents/Personal/Springboard/df_capst.csv')"
   ]
  },
  {
   "cell_type": "code",
   "execution_count": 178,
   "metadata": {},
   "outputs": [],
   "source": [
    "from sklearn import preprocessing"
   ]
  },
  {
   "cell_type": "code",
   "execution_count": 179,
   "metadata": {},
   "outputs": [],
   "source": [
    "'''Encode labels with value between 0 and n_classes-1.'''\n",
    "le = preprocessing.LabelEncoder() "
   ]
  },
  {
   "cell_type": "code",
   "execution_count": 180,
   "metadata": {},
   "outputs": [],
   "source": [
    "# Fit label encoder\n",
    "\n",
    "le.fit(df_o['neighbourhood_group'])\n",
    "df_o['neighbourhood_group']=le.transform(df_o['neighbourhood_group'])"
   ]
  },
  {
   "cell_type": "code",
   "execution_count": 181,
   "metadata": {
    "scrolled": false
   },
   "outputs": [],
   "source": [
    "le.fit(df_o['neighbourhood'])\n",
    "df_o['neighbourhood']=le.transform(df_o['neighbourhood'])"
   ]
  },
  {
   "cell_type": "code",
   "execution_count": 182,
   "metadata": {
    "scrolled": true
   },
   "outputs": [],
   "source": [
    "le.fit(df_o['room_type'])\n",
    "df_o['room_type']=le.transform(df_o['room_type'])\n",
    "\n"
   ]
  },
  {
   "cell_type": "markdown",
   "metadata": {},
   "source": [
    "**USING STATSMODEL TO BUILD THE SAME MODEL SO THAT I CAN READ MODEL OUTPUT EASILY**"
   ]
  },
  {
   "cell_type": "code",
   "execution_count": 183,
   "metadata": {},
   "outputs": [],
   "source": [
    "# Import regression modules\n",
    "import statsmodels.api as sm\n",
    "from statsmodels.formula.api import ols\n",
    "from sklearn.model_selection import train_test_split"
   ]
  },
  {
   "cell_type": "code",
   "execution_count": 184,
   "metadata": {},
   "outputs": [],
   "source": [
    "X_sm = df_o"
   ]
  },
  {
   "cell_type": "code",
   "execution_count": 185,
   "metadata": {},
   "outputs": [],
   "source": [
    "X_train_sm, X_test_sm = train_test_split(X_sm ,test_size=0.5, random_state=101)"
   ]
  },
  {
   "cell_type": "code",
   "execution_count": 186,
   "metadata": {},
   "outputs": [
    {
     "data": {
      "text/html": [
       "<div>\n",
       "<style scoped>\n",
       "    .dataframe tbody tr th:only-of-type {\n",
       "        vertical-align: middle;\n",
       "    }\n",
       "\n",
       "    .dataframe tbody tr th {\n",
       "        vertical-align: top;\n",
       "    }\n",
       "\n",
       "    .dataframe thead th {\n",
       "        text-align: right;\n",
       "    }\n",
       "</style>\n",
       "<table border=\"1\" class=\"dataframe\">\n",
       "  <thead>\n",
       "    <tr style=\"text-align: right;\">\n",
       "      <th></th>\n",
       "      <th>id</th>\n",
       "      <th>name</th>\n",
       "      <th>host_id</th>\n",
       "      <th>host_name</th>\n",
       "      <th>neighbourhood_group</th>\n",
       "      <th>neighbourhood</th>\n",
       "      <th>room_type</th>\n",
       "      <th>price</th>\n",
       "      <th>minimum_nights</th>\n",
       "      <th>number_of_reviews</th>\n",
       "      <th>...</th>\n",
       "      <th>price zval</th>\n",
       "      <th>minimum_nights zval</th>\n",
       "      <th>number_of_reviews zval</th>\n",
       "      <th>availability_365 zval</th>\n",
       "      <th>calculated_host_listings_count zval</th>\n",
       "      <th>last_rev</th>\n",
       "      <th>ng</th>\n",
       "      <th>nb</th>\n",
       "      <th>room_t</th>\n",
       "      <th>rev_flag</th>\n",
       "    </tr>\n",
       "  </thead>\n",
       "  <tbody>\n",
       "    <tr>\n",
       "      <td>3229</td>\n",
       "      <td>29424787</td>\n",
       "      <td>studio unit for rent-katong area</td>\n",
       "      <td>32184450</td>\n",
       "      <td>Apollo</td>\n",
       "      <td>0</td>\n",
       "      <td>11</td>\n",
       "      <td>0</td>\n",
       "      <td>101</td>\n",
       "      <td>1</td>\n",
       "      <td>4</td>\n",
       "      <td>...</td>\n",
       "      <td>0.200881</td>\n",
       "      <td>0.392238</td>\n",
       "      <td>0.296486</td>\n",
       "      <td>1.069556</td>\n",
       "      <td>0.405218</td>\n",
       "      <td>2019-08-06</td>\n",
       "      <td>0</td>\n",
       "      <td>11</td>\n",
       "      <td>0</td>\n",
       "      <td>1</td>\n",
       "    </tr>\n",
       "    <tr>\n",
       "      <td>5346</td>\n",
       "      <td>27345919</td>\n",
       "      <td>Studio Serviced Apartment near One North MRT</td>\n",
       "      <td>151196270</td>\n",
       "      <td>Jhian</td>\n",
       "      <td>0</td>\n",
       "      <td>27</td>\n",
       "      <td>0</td>\n",
       "      <td>175</td>\n",
       "      <td>89</td>\n",
       "      <td>0</td>\n",
       "      <td>...</td>\n",
       "      <td>0.016660</td>\n",
       "      <td>1.698423</td>\n",
       "      <td>0.431140</td>\n",
       "      <td>1.049024</td>\n",
       "      <td>0.067438</td>\n",
       "      <td>NaN</td>\n",
       "      <td>0</td>\n",
       "      <td>27</td>\n",
       "      <td>0</td>\n",
       "      <td>0</td>\n",
       "    </tr>\n",
       "    <tr>\n",
       "      <td>2309</td>\n",
       "      <td>50646</td>\n",
       "      <td>Pleasant Room along Bukit Timah</td>\n",
       "      <td>227796</td>\n",
       "      <td>Sujatha</td>\n",
       "      <td>0</td>\n",
       "      <td>6</td>\n",
       "      <td>1</td>\n",
       "      <td>81</td>\n",
       "      <td>90</td>\n",
       "      <td>18</td>\n",
       "      <td>...</td>\n",
       "      <td>0.259676</td>\n",
       "      <td>1.722181</td>\n",
       "      <td>0.174801</td>\n",
       "      <td>1.069556</td>\n",
       "      <td>0.608122</td>\n",
       "      <td>2014-12-26</td>\n",
       "      <td>0</td>\n",
       "      <td>6</td>\n",
       "      <td>1</td>\n",
       "      <td>1</td>\n",
       "    </tr>\n",
       "    <tr>\n",
       "      <td>5279</td>\n",
       "      <td>24313525</td>\n",
       "      <td>2 rooms/4 people near Mustafa Center</td>\n",
       "      <td>108773366</td>\n",
       "      <td>RedDoorz</td>\n",
       "      <td>0</td>\n",
       "      <td>15</td>\n",
       "      <td>1</td>\n",
       "      <td>169</td>\n",
       "      <td>1</td>\n",
       "      <td>1</td>\n",
       "      <td>...</td>\n",
       "      <td>0.000979</td>\n",
       "      <td>0.392238</td>\n",
       "      <td>0.397477</td>\n",
       "      <td>1.069556</td>\n",
       "      <td>1.050071</td>\n",
       "      <td>2019-06-16</td>\n",
       "      <td>0</td>\n",
       "      <td>15</td>\n",
       "      <td>1</td>\n",
       "      <td>1</td>\n",
       "    </tr>\n",
       "    <tr>\n",
       "      <td>6362</td>\n",
       "      <td>9778024</td>\n",
       "      <td>WOW 4BRs, Near MRT, Cozy Apartment@Geylang</td>\n",
       "      <td>26234826</td>\n",
       "      <td>Andy</td>\n",
       "      <td>0</td>\n",
       "      <td>11</td>\n",
       "      <td>0</td>\n",
       "      <td>240</td>\n",
       "      <td>2</td>\n",
       "      <td>169</td>\n",
       "      <td>...</td>\n",
       "      <td>0.207743</td>\n",
       "      <td>0.368480</td>\n",
       "      <td>5.257972</td>\n",
       "      <td>0.617844</td>\n",
       "      <td>0.592769</td>\n",
       "      <td>2019-08-26</td>\n",
       "      <td>0</td>\n",
       "      <td>11</td>\n",
       "      <td>0</td>\n",
       "      <td>1</td>\n",
       "    </tr>\n",
       "  </tbody>\n",
       "</table>\n",
       "<p>5 rows × 25 columns</p>\n",
       "</div>"
      ],
      "text/plain": [
       "            id                                          name    host_id  \\\n",
       "3229  29424787              studio unit for rent-katong area   32184450   \n",
       "5346  27345919  Studio Serviced Apartment near One North MRT  151196270   \n",
       "2309     50646               Pleasant Room along Bukit Timah     227796   \n",
       "5279  24313525          2 rooms/4 people near Mustafa Center  108773366   \n",
       "6362   9778024    WOW 4BRs, Near MRT, Cozy Apartment@Geylang   26234826   \n",
       "\n",
       "     host_name  neighbourhood_group  neighbourhood  room_type  price  \\\n",
       "3229    Apollo                    0             11          0    101   \n",
       "5346     Jhian                    0             27          0    175   \n",
       "2309   Sujatha                    0              6          1     81   \n",
       "5279  RedDoorz                    0             15          1    169   \n",
       "6362      Andy                    0             11          0    240   \n",
       "\n",
       "      minimum_nights  number_of_reviews  ... price zval  minimum_nights zval  \\\n",
       "3229               1                  4  ...   0.200881             0.392238   \n",
       "5346              89                  0  ...   0.016660             1.698423   \n",
       "2309              90                 18  ...   0.259676             1.722181   \n",
       "5279               1                  1  ...   0.000979             0.392238   \n",
       "6362               2                169  ...   0.207743             0.368480   \n",
       "\n",
       "      number_of_reviews zval  availability_365 zval  \\\n",
       "3229                0.296486               1.069556   \n",
       "5346                0.431140               1.049024   \n",
       "2309                0.174801               1.069556   \n",
       "5279                0.397477               1.069556   \n",
       "6362                5.257972               0.617844   \n",
       "\n",
       "      calculated_host_listings_count zval    last_rev  ng  nb  room_t  \\\n",
       "3229                             0.405218  2019-08-06   0  11       0   \n",
       "5346                             0.067438         NaN   0  27       0   \n",
       "2309                             0.608122  2014-12-26   0   6       1   \n",
       "5279                             1.050071  2019-06-16   0  15       1   \n",
       "6362                             0.592769  2019-08-26   0  11       0   \n",
       "\n",
       "      rev_flag  \n",
       "3229         1  \n",
       "5346         0  \n",
       "2309         1  \n",
       "5279         1  \n",
       "6362         1  \n",
       "\n",
       "[5 rows x 25 columns]"
      ]
     },
     "execution_count": 186,
     "metadata": {},
     "output_type": "execute_result"
    }
   ],
   "source": [
    "X_train_sm.head()"
   ]
  },
  {
   "cell_type": "code",
   "execution_count": 187,
   "metadata": {
    "scrolled": false
   },
   "outputs": [
    {
     "name": "stdout",
     "output_type": "stream",
     "text": [
      "                            OLS Regression Results                            \n",
      "==============================================================================\n",
      "Dep. Variable:                  price   R-squared:                       0.275\n",
      "Model:                            OLS   Adj. R-squared:                  0.273\n",
      "Method:                 Least Squares   F-statistic:                     161.5\n",
      "Date:                Tue, 07 Jan 2020   Prob (F-statistic):          5.52e-260\n",
      "Time:                        10:38:03   Log-Likelihood:                -23454.\n",
      "No. Observations:                3849   AIC:                         4.693e+04\n",
      "Df Residuals:                    3839   BIC:                         4.699e+04\n",
      "Df Model:                           9                                         \n",
      "Covariance Type:            nonrobust                                         \n",
      "=======================================================================================\n",
      "                          coef    std err          t      P>|t|      [0.025      0.975]\n",
      "---------------------------------------------------------------------------------------\n",
      "Intercept             203.5493      7.630     26.677      0.000     188.590     218.509\n",
      "id                  -6.064e-07   2.23e-07     -2.725      0.006   -1.04e-06    -1.7e-07\n",
      "host_id              7.051e-08   2.53e-08      2.790      0.005     2.1e-08     1.2e-07\n",
      "neighbourhood           0.7100      0.176      4.032      0.000       0.365       1.055\n",
      "neighbourhood_group    -2.8083      1.540     -1.824      0.068      -5.828       0.211\n",
      "room_type            -102.8290      3.070    -33.500      0.000    -108.847     -96.811\n",
      "minimum_nights         -0.6368      0.074     -8.566      0.000      -0.783      -0.491\n",
      "number_of_reviews      -0.1741      0.064     -2.724      0.006      -0.299      -0.049\n",
      "rev_flag              -21.8738      3.955     -5.530      0.000     -29.628     -14.119\n",
      "availability_365        0.1312      0.012     10.807      0.000       0.107       0.155\n",
      "==============================================================================\n",
      "Omnibus:                     2618.453   Durbin-Watson:                   2.005\n",
      "Prob(Omnibus):                  0.000   Jarque-Bera (JB):            41100.191\n",
      "Skew:                           3.075   Prob(JB):                         0.00\n",
      "Kurtosis:                      17.780   Cond. No.                     5.78e+08\n",
      "==============================================================================\n",
      "\n",
      "Warnings:\n",
      "[1] Standard Errors assume that the covariance matrix of the errors is correctly specified.\n",
      "[2] The condition number is large, 5.78e+08. This might indicate that there are\n",
      "strong multicollinearity or other numerical problems.\n"
     ]
    }
   ],
   "source": [
    "\n",
    "m = ols('price ~ id+host_id+neighbourhood+neighbourhood_group+room_type+minimum_nights+number_of_reviews+rev_flag+availability_365',X_train_sm).fit()\n",
    "print(m.summary())\n",
    "# "
   ]
  },
  {
   "cell_type": "code",
   "execution_count": 188,
   "metadata": {
    "scrolled": false
   },
   "outputs": [
    {
     "data": {
      "text/plain": [
       "array([220.46109079, 207.6073715 ,  70.52457316, ...,  90.83673281,\n",
       "        72.10178459, 128.66065929])"
      ]
     },
     "execution_count": 188,
     "metadata": {},
     "output_type": "execute_result"
    }
   ],
   "source": [
    "m.predict()"
   ]
  },
  {
   "cell_type": "code",
   "execution_count": 189,
   "metadata": {
    "scrolled": true
   },
   "outputs": [
    {
     "data": {
      "text/plain": [
       "Index(['id', 'name', 'host_id', 'host_name', 'neighbourhood_group',\n",
       "       'neighbourhood', 'room_type', 'price', 'minimum_nights',\n",
       "       'number_of_reviews', 'last_review', 'Review_Recency',\n",
       "       'reviews_per_month', 'calculated_host_listings_count',\n",
       "       'availability_365', 'price zval', 'minimum_nights zval',\n",
       "       'number_of_reviews zval', 'availability_365 zval',\n",
       "       'calculated_host_listings_count zval', 'last_rev', 'ng', 'nb', 'room_t',\n",
       "       'rev_flag'],\n",
       "      dtype='object')"
      ]
     },
     "execution_count": 189,
     "metadata": {},
     "output_type": "execute_result"
    }
   ],
   "source": [
    "X_test_sm.columns"
   ]
  },
  {
   "cell_type": "code",
   "execution_count": 190,
   "metadata": {},
   "outputs": [],
   "source": [
    "X_test_sm_a = X_test_sm.drop(columns = 'price')"
   ]
  },
  {
   "cell_type": "code",
   "execution_count": 191,
   "metadata": {},
   "outputs": [],
   "source": [
    "ytestpred = pd.DataFrame({'test_pred':m.predict(X_test_sm_a)})"
   ]
  },
  {
   "cell_type": "code",
   "execution_count": 192,
   "metadata": {
    "scrolled": true
   },
   "outputs": [
    {
     "data": {
      "text/plain": [
       "(3850, 1)"
      ]
     },
     "execution_count": 192,
     "metadata": {},
     "output_type": "execute_result"
    }
   ],
   "source": [
    "ytestpred.shape"
   ]
  },
  {
   "cell_type": "code",
   "execution_count": 193,
   "metadata": {
    "scrolled": true
   },
   "outputs": [],
   "source": [
    "ytrainpred = pd.DataFrame({'train_pred':m.predict()})"
   ]
  },
  {
   "cell_type": "code",
   "execution_count": 194,
   "metadata": {
    "scrolled": true
   },
   "outputs": [
    {
     "data": {
      "text/plain": [
       "(3849, 1)"
      ]
     },
     "execution_count": 194,
     "metadata": {},
     "output_type": "execute_result"
    }
   ],
   "source": [
    "ytrainpred.shape"
   ]
  },
  {
   "cell_type": "code",
   "execution_count": 195,
   "metadata": {
    "scrolled": true
   },
   "outputs": [
    {
     "data": {
      "image/png": "[encoded data removed]",
      "text/plain": [
       "<Figure size 432x288 with 1 Axes>"
      ]
     },
     "metadata": {
      "needs_background": "light"
     },
     "output_type": "display_data"
    }
   ],
   "source": [
    "_ = plt.hist(ytestpred['test_pred'], color = 'red')\n",
    "_ = plt.hist(X_test_sm['price'], color = 'green')"
   ]
  },
  {
   "cell_type": "code",
   "execution_count": 196,
   "metadata": {},
   "outputs": [],
   "source": [
    "from math import sqrt\n",
    "from sklearn.metrics import mean_squared_error"
   ]
  },
  {
   "cell_type": "code",
   "execution_count": 197,
   "metadata": {},
   "outputs": [],
   "source": [
    "rms = sqrt(mean_squared_error(ytestpred.test_pred, X_test_sm.price))"
   ]
  },
  {
   "cell_type": "code",
   "execution_count": 198,
   "metadata": {
    "scrolled": true
   },
   "outputs": [
    {
     "name": "stdout",
     "output_type": "stream",
     "text": [
      "99.94429314033425\n"
     ]
    }
   ],
   "source": [
    "print (rms)"
   ]
  },
  {
   "cell_type": "code",
   "execution_count": 199,
   "metadata": {},
   "outputs": [
    {
     "data": {
      "text/plain": [
       "152.7701000129887"
      ]
     },
     "execution_count": 199,
     "metadata": {},
     "output_type": "execute_result"
    }
   ],
   "source": [
    "#Checking for outliers on target variable\n",
    "np.mean(df_o['price'])"
   ]
  },
  {
   "cell_type": "code",
   "execution_count": 200,
   "metadata": {},
   "outputs": [
    {
     "data": {
      "text/plain": [
       "122.0"
      ]
     },
     "execution_count": 200,
     "metadata": {},
     "output_type": "execute_result"
    }
   ],
   "source": [
    "np.median(X_test_sm.price)"
   ]
  },
  {
   "cell_type": "code",
   "execution_count": 201,
   "metadata": {},
   "outputs": [
    {
     "data": {
      "text/plain": [
       "170.2118891785966"
      ]
     },
     "execution_count": 201,
     "metadata": {},
     "output_type": "execute_result"
    }
   ],
   "source": [
    "np.median(ytestpred.test_pred)"
   ]
  },
  {
   "cell_type": "code",
   "execution_count": 202,
   "metadata": {},
   "outputs": [],
   "source": [
    "y_true = X_test_sm.price\n",
    "y_pred = ytestpred.test_pred"
   ]
  },
  {
   "cell_type": "code",
   "execution_count": 203,
   "metadata": {
    "scrolled": true
   },
   "outputs": [
    {
     "data": {
      "text/plain": [
       "(array([ 25.,  67., 154., 423., 666., 440., 283., 691., 821., 280.]),\n",
       " array([-35.94960144,  -5.2568798 ,  25.43584185,  56.12856349,\n",
       "         86.82128513, 117.51400677, 148.20672841, 178.89945005,\n",
       "        209.59217169, 240.28489333, 270.97761497]),\n",
       " <a list of 10 Patch objects>)"
      ]
     },
     "execution_count": 203,
     "metadata": {},
     "output_type": "execute_result"
    },
    {
     "data": {
      "image/png": "[encoded data removed]",
      "text/plain": [
       "<Figure size 432x288 with 1 Axes>"
      ]
     },
     "metadata": {
      "needs_background": "light"
     },
     "output_type": "display_data"
    }
   ],
   "source": [
    "# on test data set\n",
    "plt.hist(y_true,color = 'blue')\n",
    "plt.hist(y_pred,color = 'red')"
   ]
  },
  {
   "cell_type": "code",
   "execution_count": 208,
   "metadata": {},
   "outputs": [],
   "source": [
    "residual = y_true - y_pred"
   ]
  },
  {
   "cell_type": "code",
   "execution_count": 205,
   "metadata": {},
   "outputs": [],
   "source": [
    "rms = sqrt(mean_squared_error(y_true, y_pred))"
   ]
  },
  {
   "cell_type": "code",
   "execution_count": 209,
   "metadata": {},
   "outputs": [
    {
     "name": "stdout",
     "output_type": "stream",
     "text": [
      "99.94429314033425\n"
     ]
    }
   ],
   "source": [
    "print(rms)"
   ]
  },
  {
   "cell_type": "code",
   "execution_count": 210,
   "metadata": {},
   "outputs": [
    {
     "data": {
      "text/plain": [
       "Text(0, 0.5, 'residual')"
      ]
     },
     "execution_count": 210,
     "metadata": {},
     "output_type": "execute_result"
    },
    {
     "data": {
      "image/png": "[encoded data removed]",
      "text/plain": [
       "<Figure size 432x288 with 1 Axes>"
      ]
     },
     "metadata": {
      "needs_background": "light"
     },
     "output_type": "display_data"
    }
   ],
   "source": [
    "plt.scatter(y_true,residual)\n",
    "plt.xlabel(\"trueval\")\n",
    "plt.ylabel(\"residual\")"
   ]
  },
  {
   "cell_type": "markdown",
   "metadata": {},
   "source": [
    " The model is not predicting higher error values. So trying to identify what is different abiout higher price value and checking if the model predicts better for lower price.\n",
    "\n",
    "### Training a model on all listings priced < 300 USD"
   ]
  },
  {
   "cell_type": "code",
   "execution_count": 211,
   "metadata": {
    "scrolled": false
   },
   "outputs": [],
   "source": [
    "X_sm_p1 = X_sm[X_sm['price'] <= 300]"
   ]
  },
  {
   "cell_type": "code",
   "execution_count": 212,
   "metadata": {},
   "outputs": [
    {
     "data": {
      "text/plain": [
       "(7063, 25)"
      ]
     },
     "execution_count": 212,
     "metadata": {},
     "output_type": "execute_result"
    }
   ],
   "source": [
    "X_sm_p1.shape"
   ]
  },
  {
   "cell_type": "raw",
   "metadata": {},
   "source": [
    "X_train_sm, X_test_sm = train_test_split(X_sm_p1,test_size=0.5, random_state=101)"
   ]
  },
  {
   "cell_type": "code",
   "execution_count": 213,
   "metadata": {},
   "outputs": [],
   "source": [
    "X_train_sm, X_test_sm = train_test_split(X_sm_p1,test_size=0.5, random_state=101)"
   ]
  },
  {
   "cell_type": "code",
   "execution_count": 214,
   "metadata": {},
   "outputs": [
    {
     "data": {
      "text/html": [
       "<div>\n",
       "<style scoped>\n",
       "    .dataframe tbody tr th:only-of-type {\n",
       "        vertical-align: middle;\n",
       "    }\n",
       "\n",
       "    .dataframe tbody tr th {\n",
       "        vertical-align: top;\n",
       "    }\n",
       "\n",
       "    .dataframe thead th {\n",
       "        text-align: right;\n",
       "    }\n",
       "</style>\n",
       "<table border=\"1\" class=\"dataframe\">\n",
       "  <thead>\n",
       "    <tr style=\"text-align: right;\">\n",
       "      <th></th>\n",
       "      <th>id</th>\n",
       "      <th>name</th>\n",
       "      <th>host_id</th>\n",
       "      <th>host_name</th>\n",
       "      <th>neighbourhood_group</th>\n",
       "      <th>neighbourhood</th>\n",
       "      <th>room_type</th>\n",
       "      <th>price</th>\n",
       "      <th>minimum_nights</th>\n",
       "      <th>number_of_reviews</th>\n",
       "      <th>...</th>\n",
       "      <th>price zval</th>\n",
       "      <th>minimum_nights zval</th>\n",
       "      <th>number_of_reviews zval</th>\n",
       "      <th>availability_365 zval</th>\n",
       "      <th>calculated_host_listings_count zval</th>\n",
       "      <th>last_rev</th>\n",
       "      <th>ng</th>\n",
       "      <th>nb</th>\n",
       "      <th>room_t</th>\n",
       "      <th>rev_flag</th>\n",
       "    </tr>\n",
       "  </thead>\n",
       "  <tbody>\n",
       "    <tr>\n",
       "      <td>4066</td>\n",
       "      <td>27790457</td>\n",
       "      <td>♪Cityfringe Cozy Loft @ MRT (rg2)</td>\n",
       "      <td>31464513</td>\n",
       "      <td>Darcy</td>\n",
       "      <td>0</td>\n",
       "      <td>15</td>\n",
       "      <td>0</td>\n",
       "      <td>131</td>\n",
       "      <td>10</td>\n",
       "      <td>2</td>\n",
       "      <td>...</td>\n",
       "      <td>0.112689</td>\n",
       "      <td>0.178420</td>\n",
       "      <td>0.363813</td>\n",
       "      <td>1.069556</td>\n",
       "      <td>1.126839</td>\n",
       "      <td>2019-07-30</td>\n",
       "      <td>0</td>\n",
       "      <td>15</td>\n",
       "      <td>0</td>\n",
       "      <td>1</td>\n",
       "    </tr>\n",
       "    <tr>\n",
       "      <td>3029</td>\n",
       "      <td>35900603</td>\n",
       "      <td>100% Private Studio Apartment (Blue Line MRT)</td>\n",
       "      <td>230280001</td>\n",
       "      <td>Stacy</td>\n",
       "      <td>0</td>\n",
       "      <td>6</td>\n",
       "      <td>0</td>\n",
       "      <td>99</td>\n",
       "      <td>4</td>\n",
       "      <td>2</td>\n",
       "      <td>...</td>\n",
       "      <td>0.206761</td>\n",
       "      <td>0.320965</td>\n",
       "      <td>0.363813</td>\n",
       "      <td>0.901551</td>\n",
       "      <td>0.347110</td>\n",
       "      <td>2019-08-16</td>\n",
       "      <td>0</td>\n",
       "      <td>6</td>\n",
       "      <td>0</td>\n",
       "      <td>1</td>\n",
       "    </tr>\n",
       "    <tr>\n",
       "      <td>4494</td>\n",
       "      <td>27823327</td>\n",
       "      <td>Entire Studio Apartment nearby MRT, shops, eat...</td>\n",
       "      <td>119613097</td>\n",
       "      <td>Su Moy</td>\n",
       "      <td>0</td>\n",
       "      <td>29</td>\n",
       "      <td>0</td>\n",
       "      <td>140</td>\n",
       "      <td>2</td>\n",
       "      <td>1</td>\n",
       "      <td>...</td>\n",
       "      <td>0.086231</td>\n",
       "      <td>0.368480</td>\n",
       "      <td>0.397477</td>\n",
       "      <td>0.994271</td>\n",
       "      <td>0.208928</td>\n",
       "      <td>2018-10-28</td>\n",
       "      <td>0</td>\n",
       "      <td>29</td>\n",
       "      <td>0</td>\n",
       "      <td>1</td>\n",
       "    </tr>\n",
       "    <tr>\n",
       "      <td>4577</td>\n",
       "      <td>32223363</td>\n",
       "      <td>Sleek &amp; Modern 2BR APT 5 mins from Bishan MRT</td>\n",
       "      <td>66406177</td>\n",
       "      <td>Jay</td>\n",
       "      <td>0</td>\n",
       "      <td>2</td>\n",
       "      <td>0</td>\n",
       "      <td>144</td>\n",
       "      <td>30</td>\n",
       "      <td>0</td>\n",
       "      <td>...</td>\n",
       "      <td>0.074472</td>\n",
       "      <td>0.296730</td>\n",
       "      <td>0.431140</td>\n",
       "      <td>0.652065</td>\n",
       "      <td>3.583422</td>\n",
       "      <td>NaN</td>\n",
       "      <td>0</td>\n",
       "      <td>2</td>\n",
       "      <td>0</td>\n",
       "      <td>0</td>\n",
       "    </tr>\n",
       "    <tr>\n",
       "      <td>3394</td>\n",
       "      <td>5899156</td>\n",
       "      <td>Studio near to the City (Opposite Chinatown MRT)</td>\n",
       "      <td>14521708</td>\n",
       "      <td>Shirley</td>\n",
       "      <td>0</td>\n",
       "      <td>24</td>\n",
       "      <td>0</td>\n",
       "      <td>110</td>\n",
       "      <td>5</td>\n",
       "      <td>34</td>\n",
       "      <td>...</td>\n",
       "      <td>0.174424</td>\n",
       "      <td>0.297208</td>\n",
       "      <td>0.713415</td>\n",
       "      <td>0.573033</td>\n",
       "      <td>0.405218</td>\n",
       "      <td>2019-08-03</td>\n",
       "      <td>0</td>\n",
       "      <td>24</td>\n",
       "      <td>0</td>\n",
       "      <td>1</td>\n",
       "    </tr>\n",
       "  </tbody>\n",
       "</table>\n",
       "<p>5 rows × 25 columns</p>\n",
       "</div>"
      ],
      "text/plain": [
       "            id                                               name    host_id  \\\n",
       "4066  27790457                  ♪Cityfringe Cozy Loft @ MRT (rg2)   31464513   \n",
       "3029  35900603      100% Private Studio Apartment (Blue Line MRT)  230280001   \n",
       "4494  27823327  Entire Studio Apartment nearby MRT, shops, eat...  119613097   \n",
       "4577  32223363      Sleek & Modern 2BR APT 5 mins from Bishan MRT   66406177   \n",
       "3394   5899156   Studio near to the City (Opposite Chinatown MRT)   14521708   \n",
       "\n",
       "     host_name  neighbourhood_group  neighbourhood  room_type  price  \\\n",
       "4066     Darcy                    0             15          0    131   \n",
       "3029     Stacy                    0              6          0     99   \n",
       "4494    Su Moy                    0             29          0    140   \n",
       "4577       Jay                    0              2          0    144   \n",
       "3394   Shirley                    0             24          0    110   \n",
       "\n",
       "      minimum_nights  number_of_reviews  ... price zval  minimum_nights zval  \\\n",
       "4066              10                  2  ...   0.112689             0.178420   \n",
       "3029               4                  2  ...   0.206761             0.320965   \n",
       "4494               2                  1  ...   0.086231             0.368480   \n",
       "4577              30                  0  ...   0.074472             0.296730   \n",
       "3394               5                 34  ...   0.174424             0.297208   \n",
       "\n",
       "      number_of_reviews zval  availability_365 zval  \\\n",
       "4066                0.363813               1.069556   \n",
       "3029                0.363813               0.901551   \n",
       "4494                0.397477               0.994271   \n",
       "4577                0.431140               0.652065   \n",
       "3394                0.713415               0.573033   \n",
       "\n",
       "      calculated_host_listings_count zval    last_rev  ng  nb  room_t  \\\n",
       "4066                             1.126839  2019-07-30   0  15       0   \n",
       "3029                             0.347110  2019-08-16   0   6       0   \n",
       "4494                             0.208928  2018-10-28   0  29       0   \n",
       "4577                             3.583422         NaN   0   2       0   \n",
       "3394                             0.405218  2019-08-03   0  24       0   \n",
       "\n",
       "      rev_flag  \n",
       "4066         1  \n",
       "3029         1  \n",
       "4494         1  \n",
       "4577         0  \n",
       "3394         1  \n",
       "\n",
       "[5 rows x 25 columns]"
      ]
     },
     "execution_count": 214,
     "metadata": {},
     "output_type": "execute_result"
    }
   ],
   "source": [
    "X_train_sm.head()"
   ]
  },
  {
   "cell_type": "code",
   "execution_count": 215,
   "metadata": {
    "scrolled": true
   },
   "outputs": [
    {
     "name": "stdout",
     "output_type": "stream",
     "text": [
      "                            OLS Regression Results                            \n",
      "==============================================================================\n",
      "Dep. Variable:                  price   R-squared:                       0.461\n",
      "Model:                            OLS   Adj. R-squared:                  0.459\n",
      "Method:                 Least Squares   F-statistic:                     334.4\n",
      "Date:                Tue, 07 Jan 2020   Prob (F-statistic):               0.00\n",
      "Time:                        10:40:41   Log-Likelihood:                -19088.\n",
      "No. Observations:                3531   AIC:                         3.820e+04\n",
      "Df Residuals:                    3521   BIC:                         3.826e+04\n",
      "Df Model:                           9                                         \n",
      "Covariance Type:            nonrobust                                         \n",
      "=======================================================================================\n",
      "                          coef    std err          t      P>|t|      [0.025      0.975]\n",
      "---------------------------------------------------------------------------------------\n",
      "Intercept             168.7469      3.954     42.680      0.000     160.995     176.499\n",
      "id                  -3.262e-07   1.16e-07     -2.819      0.005   -5.53e-07   -9.93e-08\n",
      "host_id              5.473e-08   1.32e-08      4.156      0.000    2.89e-08    8.06e-08\n",
      "neighbourhood           0.2635      0.092      2.868      0.004       0.083       0.444\n",
      "neighbourhood_group    -4.3346      0.802     -5.402      0.000      -5.908      -2.761\n",
      "room_type             -79.2890      1.598    -49.614      0.000     -82.422     -76.156\n",
      "minimum_nights         -0.3554      0.038     -9.256      0.000      -0.431      -0.280\n",
      "number_of_reviews      -0.1031      0.034     -3.021      0.003      -0.170      -0.036\n",
      "rev_flag              -11.2653      2.098     -5.370      0.000     -15.379      -7.152\n",
      "availability_365        0.0767      0.006     12.061      0.000       0.064       0.089\n",
      "==============================================================================\n",
      "Omnibus:                      447.816   Durbin-Watson:                   2.000\n",
      "Prob(Omnibus):                  0.000   Jarque-Bera (JB):              653.483\n",
      "Skew:                           0.941   Prob(JB):                    1.25e-142\n",
      "Kurtosis:                       3.950   Cond. No.                     5.65e+08\n",
      "==============================================================================\n",
      "\n",
      "Warnings:\n",
      "[1] Standard Errors assume that the covariance matrix of the errors is correctly specified.\n",
      "[2] The condition number is large, 5.65e+08. This might indicate that there are\n",
      "strong multicollinearity or other numerical problems.\n"
     ]
    }
   ],
   "source": [
    "# Take the reduced model from Part 3\n",
    "m = ols('price ~ id+host_id+neighbourhood+neighbourhood_group+room_type+minimum_nights+number_of_reviews+rev_flag+availability_365',X_train_sm).fit()\n",
    "print(m.summary()) "
   ]
  },
  {
   "cell_type": "code",
   "execution_count": 216,
   "metadata": {
    "scrolled": true
   },
   "outputs": [
    {
     "data": {
      "text/plain": [
       "array([178.34231677, 164.23731147, 188.94805768, ...,  83.96396096,\n",
       "        74.09839771, 103.96953713])"
      ]
     },
     "execution_count": 216,
     "metadata": {},
     "output_type": "execute_result"
    }
   ],
   "source": [
    "m.predict()"
   ]
  },
  {
   "cell_type": "code",
   "execution_count": 217,
   "metadata": {
    "scrolled": false
   },
   "outputs": [
    {
     "data": {
      "text/plain": [
       "Index(['id', 'name', 'host_id', 'host_name', 'neighbourhood_group',\n",
       "       'neighbourhood', 'room_type', 'price', 'minimum_nights',\n",
       "       'number_of_reviews', 'last_review', 'Review_Recency',\n",
       "       'reviews_per_month', 'calculated_host_listings_count',\n",
       "       'availability_365', 'price zval', 'minimum_nights zval',\n",
       "       'number_of_reviews zval', 'availability_365 zval',\n",
       "       'calculated_host_listings_count zval', 'last_rev', 'ng', 'nb', 'room_t',\n",
       "       'rev_flag'],\n",
       "      dtype='object')"
      ]
     },
     "execution_count": 217,
     "metadata": {},
     "output_type": "execute_result"
    }
   ],
   "source": [
    "X_test_sm.columns"
   ]
  },
  {
   "cell_type": "code",
   "execution_count": 218,
   "metadata": {},
   "outputs": [],
   "source": [
    "X_test_sm_a = X_test_sm.drop(columns = 'price')"
   ]
  },
  {
   "cell_type": "code",
   "execution_count": 219,
   "metadata": {},
   "outputs": [],
   "source": [
    "ytestpred = pd.DataFrame({'test_pred':m.predict(X_test_sm_a)})"
   ]
  },
  {
   "cell_type": "code",
   "execution_count": 220,
   "metadata": {
    "scrolled": true
   },
   "outputs": [
    {
     "data": {
      "text/plain": [
       "(3532, 1)"
      ]
     },
     "execution_count": 220,
     "metadata": {},
     "output_type": "execute_result"
    }
   ],
   "source": [
    "ytestpred.shape"
   ]
  },
  {
   "cell_type": "code",
   "execution_count": 221,
   "metadata": {
    "scrolled": true
   },
   "outputs": [],
   "source": [
    "ytrainpred = pd.DataFrame({'train_pred':m.predict()})"
   ]
  },
  {
   "cell_type": "code",
   "execution_count": 222,
   "metadata": {
    "scrolled": true
   },
   "outputs": [
    {
     "data": {
      "text/plain": [
       "(3531, 1)"
      ]
     },
     "execution_count": 222,
     "metadata": {},
     "output_type": "execute_result"
    }
   ],
   "source": [
    "ytrainpred.shape"
   ]
  },
  {
   "cell_type": "code",
   "execution_count": 223,
   "metadata": {
    "scrolled": true
   },
   "outputs": [
    {
     "data": {
      "image/png": "[encoded data removed]",
      "text/plain": [
       "<Figure size 432x288 with 1 Axes>"
      ]
     },
     "metadata": {
      "needs_background": "light"
     },
     "output_type": "display_data"
    }
   ],
   "source": [
    "_ = plt.hist(ytestpred['test_pred'], color = 'green')\n",
    "_ = plt.hist(X_test_sm['price'], color = 'red')"
   ]
  },
  {
   "cell_type": "code",
   "execution_count": 224,
   "metadata": {},
   "outputs": [],
   "source": [
    "rms = sqrt(mean_squared_error(ytestpred.test_pred, X_test_sm.price))"
   ]
  },
  {
   "cell_type": "code",
   "execution_count": 225,
   "metadata": {
    "scrolled": true
   },
   "outputs": [
    {
     "name": "stdout",
     "output_type": "stream",
     "text": [
      "53.39166996040071\n"
     ]
    }
   ],
   "source": [
    "print (rms)"
   ]
  },
  {
   "cell_type": "markdown",
   "metadata": {},
   "source": [
    "1. price < 771 (upper whisker) - rms 89\n",
    "2. price < 500 ( upper hinge)  - rms 71\n",
    "3. price < 300                 - rms 50       \n"
   ]
  },
  {
   "cell_type": "markdown",
   "metadata": {},
   "source": [
    "On further data inspection, found out that 92% of datapoints < 300 dollars so proceeding with improving the model for all listings less than 300 dollars"
   ]
  },
  {
   "cell_type": "code",
   "execution_count": 226,
   "metadata": {},
   "outputs": [
    {
     "data": {
      "text/plain": [
       "<matplotlib.collections.PathCollection at 0x1a269faa90>"
      ]
     },
     "execution_count": 226,
     "metadata": {},
     "output_type": "execute_result"
    },
    {
     "data": {
      "image/png": "[encoded data removed]",
      "text/plain": [
       "<Figure size 432x288 with 1 Axes>"
      ]
     },
     "metadata": {
      "needs_background": "light"
     },
     "output_type": "display_data"
    }
   ],
   "source": [
    "#analyzing the relation of other features to price for all listings less than $300\n",
    "\n",
    "plt.scatter(X_sm_p1.minimum_nights,X_sm_p1.price)\n"
   ]
  },
  {
   "cell_type": "code",
   "execution_count": 228,
   "metadata": {},
   "outputs": [],
   "source": [
    "table = pd.pivot_table(X_sm_p1, values='id', index=['neighbourhood_group','room_type']\n",
    "                              , aggfunc='count', fill_value=0)"
   ]
  },
  {
   "cell_type": "code",
   "execution_count": 229,
   "metadata": {
    "scrolled": true
   },
   "outputs": [
    {
     "name": "stdout",
     "output_type": "stream",
     "text": [
      "                                 id\n",
      "neighbourhood_group room_type      \n",
      "0                   0          3193\n",
      "                    1          2104\n",
      "                    2           341\n",
      "1                   0           114\n",
      "                    1           347\n",
      "                    2             8\n",
      "2                   0            46\n",
      "                    1           121\n",
      "                    2             8\n",
      "3                   0            52\n",
      "                    1           246\n",
      "                    2             9\n",
      "4                   0           108\n",
      "                    1           351\n",
      "                    2            15\n"
     ]
    }
   ],
   "source": [
    "print(table)"
   ]
  },
  {
   "cell_type": "code",
   "execution_count": 230,
   "metadata": {
    "scrolled": true
   },
   "outputs": [
    {
     "name": "stdout",
     "output_type": "stream",
     "text": [
      "                                   id  % of Total  % of roomtype\n",
      "neighbourhood_group room_type                                   \n",
      "0                   0          3193.0   45.207419      56.633558\n",
      "                    1          2104.0   29.789041      37.318198\n",
      "                    2           341.0    4.827977       6.048244\n",
      "1                   0           114.0    1.614045      24.307036\n",
      "                    1           347.0    4.912927      73.987207\n",
      "                    2             8.0    0.113266       1.705757\n",
      "2                   0            46.0    0.651281      26.285714\n",
      "                    1           121.0    1.713153      69.142857\n",
      "                    2             8.0    0.113266       4.571429\n",
      "3                   0            52.0    0.736231      16.938111\n",
      "                    1           246.0    3.482939      80.130293\n",
      "                    2             9.0    0.127425       2.931596\n",
      "4                   0           108.0    1.529095      22.784810\n",
      "                    1           351.0    4.969560      74.050633\n",
      "                    2            15.0    0.212374       3.164557\n",
      "total                          7063.0  100.000000     500.000000\n"
     ]
    }
   ],
   "source": [
    "table['% of Total'] = (table.id / table.id.sum() * 100)\n",
    "table['% of roomtype'] = (table.id / table.groupby(level=0).id.transform(sum) * 100)\n",
    "table.loc['total', :] = table.sum().values\n",
    "print (table)"
   ]
  },
  {
   "cell_type": "markdown",
   "metadata": {},
   "source": [
    "Note : based on above cross tab room type 0 constitutes greater share of neighbour hood group 0 so making a dummy variable for neighbour group 0 versus others"
   ]
  },
  {
   "cell_type": "code",
   "execution_count": 231,
   "metadata": {
    "scrolled": false
   },
   "outputs": [
    {
     "name": "stderr",
     "output_type": "stream",
     "text": [
      "/opt/anaconda3/lib/python3.7/site-packages/ipykernel_launcher.py:1: SettingWithCopyWarning: \n",
      "A value is trying to be set on a copy of a slice from a DataFrame.\n",
      "Try using .loc[row_indexer,col_indexer] = value instead\n",
      "\n",
      "See the caveats in the documentation: http://pandas.pydata.org/pandas-docs/stable/user_guide/indexing.html#returning-a-view-versus-a-copy\n",
      "  \"\"\"Entry point for launching an IPython kernel.\n"
     ]
    }
   ],
   "source": [
    "X_sm_p1['ng_flag'] = np.where(X_sm_p1['neighbourhood_group']== 0,1,0)"
   ]
  },
  {
   "cell_type": "markdown",
   "metadata": {},
   "source": [
    "No change in RMS by adding this new flag"
   ]
  },
  {
   "cell_type": "markdown",
   "metadata": {},
   "source": [
    "### TRYING MODELLING ANd KFOLD CROSS VALIDATION USING SCIKIT LEARN FOR LISTINGS PRICED LESS THAN USD 300"
   ]
  },
  {
   "cell_type": "code",
   "execution_count": 232,
   "metadata": {
    "scrolled": true
   },
   "outputs": [
    {
     "name": "stderr",
     "output_type": "stream",
     "text": [
      "/opt/anaconda3/lib/python3.7/site-packages/ipykernel_launcher.py:1: UserWarning: Boolean Series key will be reindexed to match DataFrame index.\n",
      "  \"\"\"Entry point for launching an IPython kernel.\n"
     ]
    }
   ],
   "source": [
    "df_oo = df_o[df['price']<= 300]"
   ]
  },
  {
   "cell_type": "code",
   "execution_count": 233,
   "metadata": {},
   "outputs": [
    {
     "data": {
      "text/html": [
       "<div>\n",
       "<style scoped>\n",
       "    .dataframe tbody tr th:only-of-type {\n",
       "        vertical-align: middle;\n",
       "    }\n",
       "\n",
       "    .dataframe tbody tr th {\n",
       "        vertical-align: top;\n",
       "    }\n",
       "\n",
       "    .dataframe thead th {\n",
       "        text-align: right;\n",
       "    }\n",
       "</style>\n",
       "<table border=\"1\" class=\"dataframe\">\n",
       "  <thead>\n",
       "    <tr style=\"text-align: right;\">\n",
       "      <th></th>\n",
       "      <th>id</th>\n",
       "      <th>name</th>\n",
       "      <th>host_id</th>\n",
       "      <th>host_name</th>\n",
       "      <th>neighbourhood_group</th>\n",
       "      <th>neighbourhood</th>\n",
       "      <th>room_type</th>\n",
       "      <th>price</th>\n",
       "      <th>minimum_nights</th>\n",
       "      <th>number_of_reviews</th>\n",
       "      <th>...</th>\n",
       "      <th>price zval</th>\n",
       "      <th>minimum_nights zval</th>\n",
       "      <th>number_of_reviews zval</th>\n",
       "      <th>availability_365 zval</th>\n",
       "      <th>calculated_host_listings_count zval</th>\n",
       "      <th>last_rev</th>\n",
       "      <th>ng</th>\n",
       "      <th>nb</th>\n",
       "      <th>room_t</th>\n",
       "      <th>rev_flag</th>\n",
       "    </tr>\n",
       "  </thead>\n",
       "  <tbody>\n",
       "    <tr>\n",
       "      <td>0</td>\n",
       "      <td>21408571</td>\n",
       "      <td>1 BR @ Little India &amp; Farrer Park MRT</td>\n",
       "      <td>114674497</td>\n",
       "      <td>Mitul</td>\n",
       "      <td>0</td>\n",
       "      <td>29</td>\n",
       "      <td>0</td>\n",
       "      <td>0</td>\n",
       "      <td>3</td>\n",
       "      <td>9</td>\n",
       "      <td>...</td>\n",
       "      <td>0.497795</td>\n",
       "      <td>0.344723</td>\n",
       "      <td>0.128169</td>\n",
       "      <td>0.973738</td>\n",
       "      <td>0.531354</td>\n",
       "      <td>2019-08-11</td>\n",
       "      <td>0</td>\n",
       "      <td>29</td>\n",
       "      <td>0</td>\n",
       "      <td>1</td>\n",
       "    </tr>\n",
       "    <tr>\n",
       "      <td>1</td>\n",
       "      <td>18656726</td>\n",
       "      <td>Master Bedroom at The Clearwater Condo</td>\n",
       "      <td>21900076</td>\n",
       "      <td>Mary</td>\n",
       "      <td>1</td>\n",
       "      <td>1</td>\n",
       "      <td>2</td>\n",
       "      <td>14</td>\n",
       "      <td>1</td>\n",
       "      <td>0</td>\n",
       "      <td>...</td>\n",
       "      <td>0.456639</td>\n",
       "      <td>0.392238</td>\n",
       "      <td>0.431140</td>\n",
       "      <td>1.428548</td>\n",
       "      <td>0.592769</td>\n",
       "      <td>NaN</td>\n",
       "      <td>1</td>\n",
       "      <td>1</td>\n",
       "      <td>2</td>\n",
       "      <td>0</td>\n",
       "    </tr>\n",
       "  </tbody>\n",
       "</table>\n",
       "<p>2 rows × 25 columns</p>\n",
       "</div>"
      ],
      "text/plain": [
       "         id                                    name    host_id host_name  \\\n",
       "0  21408571   1 BR @ Little India & Farrer Park MRT  114674497     Mitul   \n",
       "1  18656726  Master Bedroom at The Clearwater Condo   21900076      Mary   \n",
       "\n",
       "   neighbourhood_group  neighbourhood  room_type  price  minimum_nights  \\\n",
       "0                    0             29          0      0               3   \n",
       "1                    1              1          2     14               1   \n",
       "\n",
       "   number_of_reviews  ... price zval  minimum_nights zval  \\\n",
       "0                  9  ...   0.497795             0.344723   \n",
       "1                  0  ...   0.456639             0.392238   \n",
       "\n",
       "   number_of_reviews zval  availability_365 zval  \\\n",
       "0                0.128169               0.973738   \n",
       "1                0.431140               1.428548   \n",
       "\n",
       "   calculated_host_listings_count zval    last_rev  ng  nb  room_t  rev_flag  \n",
       "0                             0.531354  2019-08-11   0  29       0         1  \n",
       "1                             0.592769         NaN   1   1       2         0  \n",
       "\n",
       "[2 rows x 25 columns]"
      ]
     },
     "execution_count": 233,
     "metadata": {},
     "output_type": "execute_result"
    }
   ],
   "source": [
    "df_oo.head(2)"
   ]
  },
  {
   "cell_type": "code",
   "execution_count": 234,
   "metadata": {
    "scrolled": false
   },
   "outputs": [
    {
     "data": {
      "text/plain": [
       "LinearRegression(copy_X=True, fit_intercept=True, n_jobs=None, normalize=False)"
      ]
     },
     "execution_count": 234,
     "metadata": {},
     "output_type": "execute_result"
    }
   ],
   "source": [
    "from sklearn.linear_model import LinearRegression\n",
    "X = df_oo.drop(['id','name','host_name','price','last_review',\n",
    "               'price zval','minimum_nights zval',\n",
    "               'availability_365 zval',\n",
    "               'calculated_host_listings_count zval',\n",
    "               'last_rev','reviews_per_month',\n",
    "               'number_of_reviews zval','ng','nb','room_t','Review_Recency'], axis = 1)\n",
    "\n",
    "# This creates a LinearRegression object\n",
    "lm = LinearRegression()\n",
    "lm"
   ]
  },
  {
   "cell_type": "code",
   "execution_count": 235,
   "metadata": {
    "scrolled": true
   },
   "outputs": [
    {
     "data": {
      "text/html": [
       "<div>\n",
       "<style scoped>\n",
       "    .dataframe tbody tr th:only-of-type {\n",
       "        vertical-align: middle;\n",
       "    }\n",
       "\n",
       "    .dataframe tbody tr th {\n",
       "        vertical-align: top;\n",
       "    }\n",
       "\n",
       "    .dataframe thead th {\n",
       "        text-align: right;\n",
       "    }\n",
       "</style>\n",
       "<table border=\"1\" class=\"dataframe\">\n",
       "  <thead>\n",
       "    <tr style=\"text-align: right;\">\n",
       "      <th></th>\n",
       "      <th>host_id</th>\n",
       "      <th>neighbourhood_group</th>\n",
       "      <th>neighbourhood</th>\n",
       "      <th>room_type</th>\n",
       "      <th>minimum_nights</th>\n",
       "      <th>number_of_reviews</th>\n",
       "      <th>calculated_host_listings_count</th>\n",
       "      <th>availability_365</th>\n",
       "      <th>rev_flag</th>\n",
       "    </tr>\n",
       "  </thead>\n",
       "  <tbody>\n",
       "    <tr>\n",
       "      <td>0</td>\n",
       "      <td>114674497</td>\n",
       "      <td>0</td>\n",
       "      <td>29</td>\n",
       "      <td>0</td>\n",
       "      <td>3</td>\n",
       "      <td>9</td>\n",
       "      <td>6</td>\n",
       "      <td>351</td>\n",
       "      <td>1</td>\n",
       "    </tr>\n",
       "    <tr>\n",
       "      <td>1</td>\n",
       "      <td>21900076</td>\n",
       "      <td>1</td>\n",
       "      <td>1</td>\n",
       "      <td>2</td>\n",
       "      <td>1</td>\n",
       "      <td>0</td>\n",
       "      <td>2</td>\n",
       "      <td>0</td>\n",
       "      <td>0</td>\n",
       "    </tr>\n",
       "    <tr>\n",
       "      <td>2</td>\n",
       "      <td>29799617</td>\n",
       "      <td>0</td>\n",
       "      <td>11</td>\n",
       "      <td>0</td>\n",
       "      <td>3</td>\n",
       "      <td>4</td>\n",
       "      <td>1</td>\n",
       "      <td>34</td>\n",
       "      <td>1</td>\n",
       "    </tr>\n",
       "    <tr>\n",
       "      <td>3</td>\n",
       "      <td>75175440</td>\n",
       "      <td>4</td>\n",
       "      <td>5</td>\n",
       "      <td>0</td>\n",
       "      <td>1</td>\n",
       "      <td>1</td>\n",
       "      <td>2</td>\n",
       "      <td>0</td>\n",
       "      <td>1</td>\n",
       "    </tr>\n",
       "    <tr>\n",
       "      <td>4</td>\n",
       "      <td>108408404</td>\n",
       "      <td>0</td>\n",
       "      <td>19</td>\n",
       "      <td>1</td>\n",
       "      <td>2</td>\n",
       "      <td>1</td>\n",
       "      <td>1</td>\n",
       "      <td>0</td>\n",
       "      <td>1</td>\n",
       "    </tr>\n",
       "  </tbody>\n",
       "</table>\n",
       "</div>"
      ],
      "text/plain": [
       "     host_id  neighbourhood_group  neighbourhood  room_type  minimum_nights  \\\n",
       "0  114674497                    0             29          0               3   \n",
       "1   21900076                    1              1          2               1   \n",
       "2   29799617                    0             11          0               3   \n",
       "3   75175440                    4              5          0               1   \n",
       "4  108408404                    0             19          1               2   \n",
       "\n",
       "   number_of_reviews  calculated_host_listings_count  availability_365  \\\n",
       "0                  9                               6               351   \n",
       "1                  0                               2                 0   \n",
       "2                  4                               1                34   \n",
       "3                  1                               2                 0   \n",
       "4                  1                               1                 0   \n",
       "\n",
       "   rev_flag  \n",
       "0         1  \n",
       "1         0  \n",
       "2         1  \n",
       "3         1  \n",
       "4         1  "
      ]
     },
     "execution_count": 235,
     "metadata": {},
     "output_type": "execute_result"
    }
   ],
   "source": [
    "X.head()"
   ]
  },
  {
   "cell_type": "code",
   "execution_count": 236,
   "metadata": {},
   "outputs": [],
   "source": [
    "# Use all 13 predictors to fit linear regression model\n",
    "a = lm.fit(X, df_oo.price)"
   ]
  },
  {
   "cell_type": "code",
   "execution_count": 237,
   "metadata": {
    "scrolled": true
   },
   "outputs": [
    {
     "data": {
      "text/plain": [
       "168.3229660228693"
      ]
     },
     "execution_count": 237,
     "metadata": {},
     "output_type": "execute_result"
    }
   ],
   "source": [
    "# your turn\n",
    "lm.coef_\n",
    "lm.intercept_"
   ]
  },
  {
   "cell_type": "code",
   "execution_count": 238,
   "metadata": {
    "scrolled": true
   },
   "outputs": [
    {
     "data": {
      "text/plain": [
       "array([ 3.66489464e-08, -4.29459766e+00,  2.57622609e-01, -8.25521772e+01,\n",
       "       -4.12379173e-01, -8.81629193e-02, -1.98024945e-02,  7.94914207e-02,\n",
       "       -1.11309074e+01])"
      ]
     },
     "execution_count": 238,
     "metadata": {},
     "output_type": "execute_result"
    }
   ],
   "source": [
    "lm.coef_"
   ]
  },
  {
   "cell_type": "code",
   "execution_count": 239,
   "metadata": {
    "scrolled": false
   },
   "outputs": [
    {
     "data": {
      "text/html": [
       "<div>\n",
       "<style scoped>\n",
       "    .dataframe tbody tr th:only-of-type {\n",
       "        vertical-align: middle;\n",
       "    }\n",
       "\n",
       "    .dataframe tbody tr th {\n",
       "        vertical-align: top;\n",
       "    }\n",
       "\n",
       "    .dataframe thead th {\n",
       "        text-align: right;\n",
       "    }\n",
       "</style>\n",
       "<table border=\"1\" class=\"dataframe\">\n",
       "  <thead>\n",
       "    <tr style=\"text-align: right;\">\n",
       "      <th></th>\n",
       "      <th>features</th>\n",
       "      <th>estimatedCoefficients</th>\n",
       "    </tr>\n",
       "  </thead>\n",
       "  <tbody>\n",
       "    <tr>\n",
       "      <td>0</td>\n",
       "      <td>host_id</td>\n",
       "      <td>3.664895e-08</td>\n",
       "    </tr>\n",
       "    <tr>\n",
       "      <td>1</td>\n",
       "      <td>neighbourhood_group</td>\n",
       "      <td>-4.294598e+00</td>\n",
       "    </tr>\n",
       "    <tr>\n",
       "      <td>2</td>\n",
       "      <td>neighbourhood</td>\n",
       "      <td>2.576226e-01</td>\n",
       "    </tr>\n",
       "    <tr>\n",
       "      <td>3</td>\n",
       "      <td>room_type</td>\n",
       "      <td>-8.255218e+01</td>\n",
       "    </tr>\n",
       "    <tr>\n",
       "      <td>4</td>\n",
       "      <td>minimum_nights</td>\n",
       "      <td>-4.123792e-01</td>\n",
       "    </tr>\n",
       "    <tr>\n",
       "      <td>5</td>\n",
       "      <td>number_of_reviews</td>\n",
       "      <td>-8.816292e-02</td>\n",
       "    </tr>\n",
       "    <tr>\n",
       "      <td>6</td>\n",
       "      <td>calculated_host_listings_count</td>\n",
       "      <td>-1.980249e-02</td>\n",
       "    </tr>\n",
       "    <tr>\n",
       "      <td>7</td>\n",
       "      <td>availability_365</td>\n",
       "      <td>7.949142e-02</td>\n",
       "    </tr>\n",
       "    <tr>\n",
       "      <td>8</td>\n",
       "      <td>rev_flag</td>\n",
       "      <td>-1.113091e+01</td>\n",
       "    </tr>\n",
       "  </tbody>\n",
       "</table>\n",
       "</div>"
      ],
      "text/plain": [
       "                         features  estimatedCoefficients\n",
       "0                         host_id           3.664895e-08\n",
       "1             neighbourhood_group          -4.294598e+00\n",
       "2                   neighbourhood           2.576226e-01\n",
       "3                       room_type          -8.255218e+01\n",
       "4                  minimum_nights          -4.123792e-01\n",
       "5               number_of_reviews          -8.816292e-02\n",
       "6  calculated_host_listings_count          -1.980249e-02\n",
       "7                availability_365           7.949142e-02\n",
       "8                        rev_flag          -1.113091e+01"
      ]
     },
     "execution_count": 239,
     "metadata": {},
     "output_type": "execute_result"
    }
   ],
   "source": [
    "# MAKING A DATAFRAME WITH THE COEFFICIENTS#\n",
    "pd.DataFrame({'features': X.columns, 'estimatedCoefficients': lm.coef_})[['features', 'estimatedCoefficients']]"
   ]
  },
  {
   "cell_type": "code",
   "execution_count": 240,
   "metadata": {},
   "outputs": [],
   "source": [
    "#making y dataset to create test and train samples\n",
    "\n",
    "y = df_oo['price']"
   ]
  },
  {
   "cell_type": "markdown",
   "metadata": {},
   "source": [
    "Now splitting training and testing dataset and trying the model"
   ]
  },
  {
   "cell_type": "code",
   "execution_count": 241,
   "metadata": {},
   "outputs": [],
   "source": [
    "from sklearn.model_selection import train_test_split"
   ]
  },
  {
   "cell_type": "code",
   "execution_count": 242,
   "metadata": {},
   "outputs": [],
   "source": [
    "X_train, X_test, y_train, y_test = train_test_split(X, y, test_size=0.2, random_state=101)"
   ]
  },
  {
   "cell_type": "code",
   "execution_count": 243,
   "metadata": {},
   "outputs": [
    {
     "data": {
      "text/plain": [
       "LinearRegression(copy_X=True, fit_intercept=True, n_jobs=None, normalize=False)"
      ]
     },
     "execution_count": 243,
     "metadata": {},
     "output_type": "execute_result"
    }
   ],
   "source": [
    "lm.fit(X_train,y_train)"
   ]
  },
  {
   "cell_type": "code",
   "execution_count": 244,
   "metadata": {
    "scrolled": false
   },
   "outputs": [
    {
     "data": {
      "text/html": [
       "<div>\n",
       "<style scoped>\n",
       "    .dataframe tbody tr th:only-of-type {\n",
       "        vertical-align: middle;\n",
       "    }\n",
       "\n",
       "    .dataframe tbody tr th {\n",
       "        vertical-align: top;\n",
       "    }\n",
       "\n",
       "    .dataframe thead th {\n",
       "        text-align: right;\n",
       "    }\n",
       "</style>\n",
       "<table border=\"1\" class=\"dataframe\">\n",
       "  <thead>\n",
       "    <tr style=\"text-align: right;\">\n",
       "      <th></th>\n",
       "      <th>Actual Values</th>\n",
       "      <th>Predicted Values</th>\n",
       "    </tr>\n",
       "  </thead>\n",
       "  <tbody>\n",
       "    <tr>\n",
       "      <td>0</td>\n",
       "      <td>139</td>\n",
       "      <td>204.546281</td>\n",
       "    </tr>\n",
       "    <tr>\n",
       "      <td>1</td>\n",
       "      <td>200</td>\n",
       "      <td>201.981001</td>\n",
       "    </tr>\n",
       "    <tr>\n",
       "      <td>2</td>\n",
       "      <td>94</td>\n",
       "      <td>159.285020</td>\n",
       "    </tr>\n",
       "    <tr>\n",
       "      <td>3</td>\n",
       "      <td>100</td>\n",
       "      <td>154.723189</td>\n",
       "    </tr>\n",
       "    <tr>\n",
       "      <td>4</td>\n",
       "      <td>100</td>\n",
       "      <td>164.362639</td>\n",
       "    </tr>\n",
       "  </tbody>\n",
       "</table>\n",
       "</div>"
      ],
      "text/plain": [
       "   Actual Values  Predicted Values\n",
       "0            139        204.546281\n",
       "1            200        201.981001\n",
       "2             94        159.285020\n",
       "3            100        154.723189\n",
       "4            100        164.362639"
      ]
     },
     "execution_count": 244,
     "metadata": {},
     "output_type": "execute_result"
    }
   ],
   "source": [
    "predicts = lm.predict(X_test)\n",
    "error_airbnb = pd.DataFrame({\n",
    "        'Actual Values': np.array(y_test).flatten(),\n",
    "        'Predicted Values': predicts.flatten()})\n",
    "error_airbnb.head()"
   ]
  },
  {
   "cell_type": "code",
   "execution_count": 245,
   "metadata": {},
   "outputs": [],
   "source": [
    "from sklearn.metrics import mean_squared_error"
   ]
  },
  {
   "cell_type": "code",
   "execution_count": 246,
   "metadata": {
    "scrolled": true
   },
   "outputs": [
    {
     "data": {
      "image/png": "[encoded data removed]",
      "text/plain": [
       "<Figure size 432x288 with 1 Axes>"
      ]
     },
     "metadata": {
      "needs_background": "light"
     },
     "output_type": "display_data"
    }
   ],
   "source": [
    "_ = plt.hist(y_test, color = 'green')\n",
    "_ = plt.hist(predicts, color = 'red')"
   ]
  },
  {
   "cell_type": "code",
   "execution_count": 247,
   "metadata": {
    "scrolled": true
   },
   "outputs": [
    {
     "data": {
      "text/plain": [
       "45.175677427413625"
      ]
     },
     "execution_count": 247,
     "metadata": {},
     "output_type": "execute_result"
    }
   ],
   "source": [
    "from sklearn.metrics import mean_absolute_error\n",
    "mean_absolute_error(y_test, predicts)"
   ]
  },
  {
   "cell_type": "code",
   "execution_count": 248,
   "metadata": {},
   "outputs": [
    {
     "data": {
      "text/plain": [
       "0.43091784871268846"
      ]
     },
     "execution_count": 248,
     "metadata": {},
     "output_type": "execute_result"
    }
   ],
   "source": [
    "from sklearn.metrics import r2_score\n",
    "r2_score(y_test,predicts) #r2 is 0.43"
   ]
  },
  {
   "cell_type": "code",
   "execution_count": 249,
   "metadata": {},
   "outputs": [],
   "source": [
    "from sklearn.metrics import mean_squared_error\n",
    "from math import sqrt\n",
    "\n",
    "rms = sqrt(mean_squared_error(y_test, predicts))"
   ]
  },
  {
   "cell_type": "code",
   "execution_count": 250,
   "metadata": {
    "scrolled": true
   },
   "outputs": [
    {
     "name": "stdout",
     "output_type": "stream",
     "text": [
      "57.992510491728204\n"
     ]
    }
   ],
   "source": [
    "print(rms)"
   ]
  },
  {
   "cell_type": "code",
   "execution_count": 251,
   "metadata": {},
   "outputs": [],
   "source": [
    "error_airbnb.to_csv(\"lm_error1.csv\",index=False)"
   ]
  },
  {
   "cell_type": "markdown",
   "metadata": {},
   "source": [
    "Attempting K Fold Cross Validation to see if the model is overfitting or under fitting"
   ]
  },
  {
   "cell_type": "code",
   "execution_count": 253,
   "metadata": {},
   "outputs": [],
   "source": [
    "from sklearn.model_selection import KFold # import KFold"
   ]
  },
  {
   "cell_type": "markdown",
   "metadata": {
    "scrolled": true
   },
   "source": [
    "kf = KFold(n_splits = 10) # Define the split - into 2 folds \n",
    "\n",
    "kf.get_n_splits(X) # returns the number of splitting iterations in the cross-validator\n",
    "\n"
   ]
  },
  {
   "cell_type": "markdown",
   "metadata": {},
   "source": [
    "print(kf) "
   ]
  },
  {
   "cell_type": "markdown",
   "metadata": {},
   "source": [
    "\n",
    "#splitting y into n folder\n",
    "\n",
    "for train, test in kf.split(X):\n",
    "\tprint('train: %s, test: %s' % (train, test))\n",
    "\n",
    "#splitting y into n folders\n",
    "\n",
    "for train, test in kf.split(y):\n",
    "\tprint('train: %s, test: %s' % (train, test))"
   ]
  },
  {
   "cell_type": "code",
   "execution_count": 255,
   "metadata": {},
   "outputs": [],
   "source": [
    "from sklearn.model_selection import cross_val_score\n",
    "from sklearn.model_selection import StratifiedKFold\n",
    "from sklearn import linear_model"
   ]
  },
  {
   "cell_type": "code",
   "execution_count": 256,
   "metadata": {},
   "outputs": [],
   "source": [
    "def get_score(model,X_train, X_test,y_train,y_test):\n",
    "    model.fit(X_train, y_train)\n",
    "    return model.score(X_test,y_test)"
   ]
  },
  {
   "cell_type": "code",
   "execution_count": 257,
   "metadata": {},
   "outputs": [
    {
     "data": {
      "text/plain": [
       "0.43091784871268846"
      ]
     },
     "execution_count": 257,
     "metadata": {},
     "output_type": "execute_result"
    }
   ],
   "source": [
    "get_score(LinearRegression(),X_train, X_test,y_train,y_test)\n",
    "#getting scores(r2) for 5 kfolds"
   ]
  },
  {
   "cell_type": "code",
   "execution_count": 258,
   "metadata": {
    "scrolled": false
   },
   "outputs": [
    {
     "name": "stdout",
     "output_type": "stream",
     "text": [
      "[ -40.85238379  -39.66792405  -30.19379829  -32.60577811  -50.18655098\n",
      "  -52.50460367  -38.59516535  -26.44677144  -62.00624395 -138.93710654]\n"
     ]
    },
    {
     "data": {
      "text/plain": [
       "51.19963261680637"
      ]
     },
     "execution_count": 258,
     "metadata": {},
     "output_type": "execute_result"
    }
   ],
   "source": [
    "scores_lr = cross_val_score(LinearRegression(),X,y,cv = 10, scoring = 'neg_mean_absolute_error')\n",
    "print(scores_lr)\n",
    "np.mean(scores_lr)*-1"
   ]
  },
  {
   "cell_type": "code",
   "execution_count": 259,
   "metadata": {
    "scrolled": false
   },
   "outputs": [
    {
     "data": {
      "text/plain": [
       "[<matplotlib.lines.Line2D at 0x1a28320790>]"
      ]
     },
     "execution_count": 259,
     "metadata": {},
     "output_type": "execute_result"
    },
    {
     "data": {
      "image/png": "[encoded data removed]",
      "text/plain": [
       "<Figure size 432x288 with 1 Axes>"
      ]
     },
     "metadata": {
      "needs_background": "light"
     },
     "output_type": "display_data"
    }
   ],
   "source": [
    "#plotting linear reg cross val scores\n",
    "plt.plot(-1*scores_lr)"
   ]
  },
  {
   "cell_type": "markdown",
   "metadata": {},
   "source": [
    "the error becomes huge for when for last 2ks"
   ]
  },
  {
   "cell_type": "code",
   "execution_count": 260,
   "metadata": {
    "scrolled": false
   },
   "outputs": [
    {
     "data": {
      "text/plain": [
       "0.4332635018044829"
      ]
     },
     "execution_count": 260,
     "metadata": {},
     "output_type": "execute_result"
    }
   ],
   "source": [
    "get_score(linear_model.Lasso(),X_train, X_test,y_train,y_test)\n",
    "#getting scores for 5 kfolds"
   ]
  },
  {
   "cell_type": "code",
   "execution_count": 261,
   "metadata": {
    "scrolled": true
   },
   "outputs": [
    {
     "name": "stdout",
     "output_type": "stream",
     "text": [
      "[ -43.6238661   -41.09723214  -31.15443172  -32.49870272  -48.96847365\n",
      "  -51.24793047  -37.44233075  -26.23398239  -63.74587163 -140.64618792]\n"
     ]
    },
    {
     "data": {
      "text/plain": [
       "51.66590094780413"
      ]
     },
     "execution_count": 261,
     "metadata": {},
     "output_type": "execute_result"
    }
   ],
   "source": [
    "scores_lass = cross_val_score(linear_model.Lasso(),X,y, cv = 10,scoring = 'neg_mean_absolute_error')\n",
    "print(scores_lass)\n",
    "np.mean(scores_lass)*-1"
   ]
  },
  {
   "cell_type": "code",
   "execution_count": 262,
   "metadata": {
    "scrolled": false
   },
   "outputs": [
    {
     "data": {
      "text/plain": [
       "[<matplotlib.lines.Line2D at 0x1c29e5e750>]"
      ]
     },
     "execution_count": 262,
     "metadata": {},
     "output_type": "execute_result"
    },
    {
     "data": {
      "image/png": "[encoded data removed]",
      "text/plain": [
       "<Figure size 432x288 with 1 Axes>"
      ]
     },
     "metadata": {
      "needs_background": "light"
     },
     "output_type": "display_data"
    }
   ],
   "source": [
    "#plotting lass reg scores\n",
    "\n",
    "plt.plot(-1*scores_lass)"
   ]
  },
  {
   "cell_type": "markdown",
   "metadata": {},
   "source": [
    "#### Summary of KFold \n",
    "\n",
    "Both lasso and lin reg's mean error is around 51 but error increases for the last fold. So now I will try to tune my parameters to see which parameters impact my MAE / model most\n",
    "\n"
   ]
  },
  {
   "cell_type": "markdown",
   "metadata": {},
   "source": [
    "### Parameter tuning for Linear Regression Model"
   ]
  },
  {
   "cell_type": "code",
   "execution_count": 264,
   "metadata": {
    "scrolled": false
   },
   "outputs": [
    {
     "name": "stdout",
     "output_type": "stream",
     "text": [
      "<class 'pandas.core.frame.DataFrame'>\n",
      "Int64Index: 7224 entries, 0 to 7223\n",
      "Data columns (total 9 columns):\n",
      "host_id                           7224 non-null int64\n",
      "neighbourhood_group               7224 non-null int64\n",
      "neighbourhood                     7224 non-null int64\n",
      "room_type                         7224 non-null int64\n",
      "minimum_nights                    7224 non-null int64\n",
      "number_of_reviews                 7224 non-null int64\n",
      "calculated_host_listings_count    7224 non-null int64\n",
      "availability_365                  7224 non-null int64\n",
      "rev_flag                          7224 non-null int64\n",
      "dtypes: int64(9)\n",
      "memory usage: 564.4 KB\n"
     ]
    }
   ],
   "source": [
    "#reviewing the parameters\n",
    "\n",
    "X.info()"
   ]
  },
  {
   "cell_type": "code",
   "execution_count": 265,
   "metadata": {
    "scrolled": false
   },
   "outputs": [],
   "source": [
    "param_range = list(range(1,len(X.columns)+1))\n"
   ]
  },
  {
   "cell_type": "code",
   "execution_count": 266,
   "metadata": {},
   "outputs": [
    {
     "name": "stdout",
     "output_type": "stream",
     "text": [
      "[-70.2165273195229, -68.22719003736115, -68.27965975941444, -52.56724987183195, -52.03695261461144, -51.98351470754576, -52.2671433445292, -51.4405525923411, -51.19963261680637]\n"
     ]
    }
   ],
   "source": [
    "# running a loop to see which additional variables linearly is reducing error most.\n",
    "mean_scores = []\n",
    "\n",
    "for i in param_range:\n",
    "    x = X.iloc[:,0:i]\n",
    "    y = y\n",
    "    lr = LinearRegression()\n",
    "    scores = cross_val_score(lr,x,y,cv = 10,scoring ='neg_mean_absolute_error')\n",
    "    mean_scores.append(scores.mean())\n",
    "    \n",
    "print(mean_scores)\n",
    "    "
   ]
  },
  {
   "cell_type": "markdown",
   "metadata": {},
   "source": [
    "0:1 -> host_id                                    = 70\n",
    "0:2 -> host_id + neigbourhood_group               = 68.227\n",
    "0:3 -> host_id + neigbourhood_group+neighbourhood = 68.28\n",
    "0:4 -> host_id + neigbourhood_group++neighbourhood+room_type = -52.5\n",
    "0:5 -> host_id + neigbourhood_group++neighbourhood+room_type+minimum_nights = -52.04\n",
    "0:6 -> host_id + neigbourhood_group++neighbourhood+room_type+minimum_nights+number_reviews = -51.9\n",
    "0:7 -> host_id + neigbourhood_group++neighbourhood+room_type+minimum_nights+number_reviews+host_listings_count = 52.26\n",
    "0:8 ->host_id+neigbourhood_group++neighbourhood+room_type+minimum_nights+number_reviews+host_listings_count+availability = 51.44\n",
    "0:9 >host_id+neigbourhood_group++neighbourhood+room_type+minimum_nights+number_reviews+host_listings_count+availability+rev_flag = 51.199"
   ]
  },
  {
   "cell_type": "markdown",
   "metadata": {},
   "source": [
    "Based on the above train a model with most important variables that reduce mae or in other words did not add anything"
   ]
  },
  {
   "cell_type": "code",
   "execution_count": 267,
   "metadata": {
    "scrolled": false
   },
   "outputs": [
    {
     "data": {
      "text/html": [
       "<div>\n",
       "<style scoped>\n",
       "    .dataframe tbody tr th:only-of-type {\n",
       "        vertical-align: middle;\n",
       "    }\n",
       "\n",
       "    .dataframe tbody tr th {\n",
       "        vertical-align: top;\n",
       "    }\n",
       "\n",
       "    .dataframe thead th {\n",
       "        text-align: right;\n",
       "    }\n",
       "</style>\n",
       "<table border=\"1\" class=\"dataframe\">\n",
       "  <thead>\n",
       "    <tr style=\"text-align: right;\">\n",
       "      <th></th>\n",
       "      <th>host_id</th>\n",
       "      <th>neighbourhood_group</th>\n",
       "      <th>neighbourhood</th>\n",
       "      <th>room_type</th>\n",
       "      <th>minimum_nights</th>\n",
       "      <th>number_of_reviews</th>\n",
       "      <th>calculated_host_listings_count</th>\n",
       "      <th>availability_365</th>\n",
       "      <th>rev_flag</th>\n",
       "    </tr>\n",
       "  </thead>\n",
       "  <tbody>\n",
       "    <tr>\n",
       "      <td>0</td>\n",
       "      <td>114674497</td>\n",
       "      <td>0</td>\n",
       "      <td>29</td>\n",
       "      <td>0</td>\n",
       "      <td>3</td>\n",
       "      <td>9</td>\n",
       "      <td>6</td>\n",
       "      <td>351</td>\n",
       "      <td>1</td>\n",
       "    </tr>\n",
       "    <tr>\n",
       "      <td>1</td>\n",
       "      <td>21900076</td>\n",
       "      <td>1</td>\n",
       "      <td>1</td>\n",
       "      <td>2</td>\n",
       "      <td>1</td>\n",
       "      <td>0</td>\n",
       "      <td>2</td>\n",
       "      <td>0</td>\n",
       "      <td>0</td>\n",
       "    </tr>\n",
       "    <tr>\n",
       "      <td>2</td>\n",
       "      <td>29799617</td>\n",
       "      <td>0</td>\n",
       "      <td>11</td>\n",
       "      <td>0</td>\n",
       "      <td>3</td>\n",
       "      <td>4</td>\n",
       "      <td>1</td>\n",
       "      <td>34</td>\n",
       "      <td>1</td>\n",
       "    </tr>\n",
       "    <tr>\n",
       "      <td>3</td>\n",
       "      <td>75175440</td>\n",
       "      <td>4</td>\n",
       "      <td>5</td>\n",
       "      <td>0</td>\n",
       "      <td>1</td>\n",
       "      <td>1</td>\n",
       "      <td>2</td>\n",
       "      <td>0</td>\n",
       "      <td>1</td>\n",
       "    </tr>\n",
       "    <tr>\n",
       "      <td>4</td>\n",
       "      <td>108408404</td>\n",
       "      <td>0</td>\n",
       "      <td>19</td>\n",
       "      <td>1</td>\n",
       "      <td>2</td>\n",
       "      <td>1</td>\n",
       "      <td>1</td>\n",
       "      <td>0</td>\n",
       "      <td>1</td>\n",
       "    </tr>\n",
       "  </tbody>\n",
       "</table>\n",
       "</div>"
      ],
      "text/plain": [
       "     host_id  neighbourhood_group  neighbourhood  room_type  minimum_nights  \\\n",
       "0  114674497                    0             29          0               3   \n",
       "1   21900076                    1              1          2               1   \n",
       "2   29799617                    0             11          0               3   \n",
       "3   75175440                    4              5          0               1   \n",
       "4  108408404                    0             19          1               2   \n",
       "\n",
       "   number_of_reviews  calculated_host_listings_count  availability_365  \\\n",
       "0                  9                               6               351   \n",
       "1                  0                               2                 0   \n",
       "2                  4                               1                34   \n",
       "3                  1                               2                 0   \n",
       "4                  1                               1                 0   \n",
       "\n",
       "   rev_flag  \n",
       "0         1  \n",
       "1         0  \n",
       "2         1  \n",
       "3         1  \n",
       "4         1  "
      ]
     },
     "execution_count": 267,
     "metadata": {},
     "output_type": "execute_result"
    }
   ],
   "source": [
    "X.head()"
   ]
  },
  {
   "cell_type": "code",
   "execution_count": 268,
   "metadata": {},
   "outputs": [],
   "source": [
    "#drop neigbourhood,listings_count\n",
    "from sklearn.linear_model import LinearRegression\n",
    "X_n = X.drop(['neighbourhood','calculated_host_listings_count'], axis = 1)"
   ]
  },
  {
   "cell_type": "code",
   "execution_count": 269,
   "metadata": {},
   "outputs": [
    {
     "name": "stdout",
     "output_type": "stream",
     "text": [
      "[ -40.61377641  -39.75184849  -29.91620627  -32.51535673  -50.22539243\n",
      "  -52.48560717  -38.25586442  -26.39252935  -62.06616173 -138.98583007]\n"
     ]
    },
    {
     "data": {
      "text/plain": [
       "51.120857306202915"
      ]
     },
     "execution_count": 269,
     "metadata": {},
     "output_type": "execute_result"
    }
   ],
   "source": [
    "#checking for cross val scores using new dataset with reduced variables\n",
    "scores_lr_n = cross_val_score(LinearRegression(),X_n,y,cv = 10, scoring = 'neg_mean_absolute_error')\n",
    "print(scores_lr_n)\n",
    "np.mean(scores_lr_n)*-1"
   ]
  },
  {
   "cell_type": "markdown",
   "metadata": {},
   "source": [
    "**MAE reduced from 51.66 to 51.12 after tuning parameters**"
   ]
  },
  {
   "cell_type": "markdown",
   "metadata": {},
   "source": [
    "####  UNDERSTANDING FEATURES MORE TO SEE IF MODEL CAN BE ENHANCED"
   ]
  },
  {
   "cell_type": "code",
   "execution_count": 270,
   "metadata": {},
   "outputs": [
    {
     "data": {
      "text/plain": [
       "171.51043983270725"
      ]
     },
     "execution_count": 270,
     "metadata": {},
     "output_type": "execute_result"
    }
   ],
   "source": [
    "a = lm.fit(X_n, y)\n",
    "lm.coef_\n",
    "lm.intercept_"
   ]
  },
  {
   "cell_type": "code",
   "execution_count": 271,
   "metadata": {
    "scrolled": true
   },
   "outputs": [
    {
     "data": {
      "text/plain": [
       "array([ 3.87497520e-08, -4.55009569e+00, -8.14337239e+01, -4.14260247e-01,\n",
       "       -7.94972178e-02,  7.74575946e-02, -1.08111920e+01])"
      ]
     },
     "execution_count": 271,
     "metadata": {},
     "output_type": "execute_result"
    }
   ],
   "source": [
    "lm.coef_"
   ]
  },
  {
   "cell_type": "code",
   "execution_count": 272,
   "metadata": {
    "scrolled": true
   },
   "outputs": [
    {
     "data": {
      "text/html": [
       "<div>\n",
       "<style scoped>\n",
       "    .dataframe tbody tr th:only-of-type {\n",
       "        vertical-align: middle;\n",
       "    }\n",
       "\n",
       "    .dataframe tbody tr th {\n",
       "        vertical-align: top;\n",
       "    }\n",
       "\n",
       "    .dataframe thead th {\n",
       "        text-align: right;\n",
       "    }\n",
       "</style>\n",
       "<table border=\"1\" class=\"dataframe\">\n",
       "  <thead>\n",
       "    <tr style=\"text-align: right;\">\n",
       "      <th></th>\n",
       "      <th>features</th>\n",
       "      <th>estimatedCoefficients</th>\n",
       "    </tr>\n",
       "  </thead>\n",
       "  <tbody>\n",
       "    <tr>\n",
       "      <td>0</td>\n",
       "      <td>host_id</td>\n",
       "      <td>3.874975e-08</td>\n",
       "    </tr>\n",
       "    <tr>\n",
       "      <td>1</td>\n",
       "      <td>neighbourhood_group</td>\n",
       "      <td>-4.550096e+00</td>\n",
       "    </tr>\n",
       "    <tr>\n",
       "      <td>2</td>\n",
       "      <td>room_type</td>\n",
       "      <td>-8.143372e+01</td>\n",
       "    </tr>\n",
       "    <tr>\n",
       "      <td>3</td>\n",
       "      <td>minimum_nights</td>\n",
       "      <td>-4.142602e-01</td>\n",
       "    </tr>\n",
       "    <tr>\n",
       "      <td>4</td>\n",
       "      <td>number_of_reviews</td>\n",
       "      <td>-7.949722e-02</td>\n",
       "    </tr>\n",
       "    <tr>\n",
       "      <td>5</td>\n",
       "      <td>availability_365</td>\n",
       "      <td>7.745759e-02</td>\n",
       "    </tr>\n",
       "    <tr>\n",
       "      <td>6</td>\n",
       "      <td>rev_flag</td>\n",
       "      <td>-1.081119e+01</td>\n",
       "    </tr>\n",
       "  </tbody>\n",
       "</table>\n",
       "</div>"
      ],
      "text/plain": [
       "              features  estimatedCoefficients\n",
       "0              host_id           3.874975e-08\n",
       "1  neighbourhood_group          -4.550096e+00\n",
       "2            room_type          -8.143372e+01\n",
       "3       minimum_nights          -4.142602e-01\n",
       "4    number_of_reviews          -7.949722e-02\n",
       "5     availability_365           7.745759e-02\n",
       "6             rev_flag          -1.081119e+01"
      ]
     },
     "execution_count": 272,
     "metadata": {},
     "output_type": "execute_result"
    }
   ],
   "source": [
    "# MAKING A DATAFRAME WITH THE COEFFICIENTS#\n",
    "pd.DataFrame({'features': X_n.columns, 'estimatedCoefficients': lm.coef_})[['features', 'estimatedCoefficients']]\n"
   ]
  },
  {
   "cell_type": "code",
   "execution_count": 273,
   "metadata": {},
   "outputs": [],
   "source": [
    "#Trying to see other feature patterns that may help optimize the model\n",
    "\n",
    "X_corr = X_n\n",
    "\n",
    "X_corr['price'] = df_oo['price']"
   ]
  },
  {
   "cell_type": "code",
   "execution_count": 274,
   "metadata": {},
   "outputs": [],
   "source": [
    "corr_tab = X_corr.corr()"
   ]
  },
  {
   "cell_type": "code",
   "execution_count": 275,
   "metadata": {},
   "outputs": [
    {
     "data": {
      "text/html": [
       "<div>\n",
       "<style scoped>\n",
       "    .dataframe tbody tr th:only-of-type {\n",
       "        vertical-align: middle;\n",
       "    }\n",
       "\n",
       "    .dataframe tbody tr th {\n",
       "        vertical-align: top;\n",
       "    }\n",
       "\n",
       "    .dataframe thead th {\n",
       "        text-align: right;\n",
       "    }\n",
       "</style>\n",
       "<table border=\"1\" class=\"dataframe\">\n",
       "  <thead>\n",
       "    <tr style=\"text-align: right;\">\n",
       "      <th></th>\n",
       "      <th>host_id</th>\n",
       "      <th>neighbourhood_group</th>\n",
       "      <th>room_type</th>\n",
       "      <th>minimum_nights</th>\n",
       "      <th>number_of_reviews</th>\n",
       "      <th>availability_365</th>\n",
       "      <th>rev_flag</th>\n",
       "      <th>price</th>\n",
       "    </tr>\n",
       "  </thead>\n",
       "  <tbody>\n",
       "    <tr>\n",
       "      <td>host_id</td>\n",
       "      <td>1.000000</td>\n",
       "      <td>-0.013517</td>\n",
       "      <td>-0.076691</td>\n",
       "      <td>-0.080414</td>\n",
       "      <td>-0.176793</td>\n",
       "      <td>0.033948</td>\n",
       "      <td>-0.198692</td>\n",
       "      <td>0.123357</td>\n",
       "    </tr>\n",
       "    <tr>\n",
       "      <td>neighbourhood_group</td>\n",
       "      <td>-0.013517</td>\n",
       "      <td>1.000000</td>\n",
       "      <td>0.186252</td>\n",
       "      <td>0.002815</td>\n",
       "      <td>-0.046732</td>\n",
       "      <td>-0.089712</td>\n",
       "      <td>-0.012951</td>\n",
       "      <td>-0.195800</td>\n",
       "    </tr>\n",
       "    <tr>\n",
       "      <td>room_type</td>\n",
       "      <td>-0.076691</td>\n",
       "      <td>0.186252</td>\n",
       "      <td>1.000000</td>\n",
       "      <td>-0.024950</td>\n",
       "      <td>0.021382</td>\n",
       "      <td>0.037770</td>\n",
       "      <td>0.043594</td>\n",
       "      <td>-0.632467</td>\n",
       "    </tr>\n",
       "    <tr>\n",
       "      <td>minimum_nights</td>\n",
       "      <td>-0.080414</td>\n",
       "      <td>0.002815</td>\n",
       "      <td>-0.024950</td>\n",
       "      <td>1.000000</td>\n",
       "      <td>-0.094432</td>\n",
       "      <td>0.183110</td>\n",
       "      <td>-0.162245</td>\n",
       "      <td>-0.078532</td>\n",
       "    </tr>\n",
       "    <tr>\n",
       "      <td>number_of_reviews</td>\n",
       "      <td>-0.176793</td>\n",
       "      <td>-0.046732</td>\n",
       "      <td>0.021382</td>\n",
       "      <td>-0.094432</td>\n",
       "      <td>1.000000</td>\n",
       "      <td>-0.061981</td>\n",
       "      <td>0.313871</td>\n",
       "      <td>-0.065125</td>\n",
       "    </tr>\n",
       "    <tr>\n",
       "      <td>availability_365</td>\n",
       "      <td>0.033948</td>\n",
       "      <td>-0.089712</td>\n",
       "      <td>0.037770</td>\n",
       "      <td>0.183110</td>\n",
       "      <td>-0.061981</td>\n",
       "      <td>1.000000</td>\n",
       "      <td>-0.057588</td>\n",
       "      <td>0.111448</td>\n",
       "    </tr>\n",
       "    <tr>\n",
       "      <td>rev_flag</td>\n",
       "      <td>-0.198692</td>\n",
       "      <td>-0.012951</td>\n",
       "      <td>0.043594</td>\n",
       "      <td>-0.162245</td>\n",
       "      <td>0.313871</td>\n",
       "      <td>-0.057588</td>\n",
       "      <td>1.000000</td>\n",
       "      <td>-0.096697</td>\n",
       "    </tr>\n",
       "    <tr>\n",
       "      <td>price</td>\n",
       "      <td>0.123357</td>\n",
       "      <td>-0.195800</td>\n",
       "      <td>-0.632467</td>\n",
       "      <td>-0.078532</td>\n",
       "      <td>-0.065125</td>\n",
       "      <td>0.111448</td>\n",
       "      <td>-0.096697</td>\n",
       "      <td>1.000000</td>\n",
       "    </tr>\n",
       "  </tbody>\n",
       "</table>\n",
       "</div>"
      ],
      "text/plain": [
       "                      host_id  neighbourhood_group  room_type  minimum_nights  \\\n",
       "host_id              1.000000            -0.013517  -0.076691       -0.080414   \n",
       "neighbourhood_group -0.013517             1.000000   0.186252        0.002815   \n",
       "room_type           -0.076691             0.186252   1.000000       -0.024950   \n",
       "minimum_nights      -0.080414             0.002815  -0.024950        1.000000   \n",
       "number_of_reviews   -0.176793            -0.046732   0.021382       -0.094432   \n",
       "availability_365     0.033948            -0.089712   0.037770        0.183110   \n",
       "rev_flag            -0.198692            -0.012951   0.043594       -0.162245   \n",
       "price                0.123357            -0.195800  -0.632467       -0.078532   \n",
       "\n",
       "                     number_of_reviews  availability_365  rev_flag     price  \n",
       "host_id                      -0.176793          0.033948 -0.198692  0.123357  \n",
       "neighbourhood_group          -0.046732         -0.089712 -0.012951 -0.195800  \n",
       "room_type                     0.021382          0.037770  0.043594 -0.632467  \n",
       "minimum_nights               -0.094432          0.183110 -0.162245 -0.078532  \n",
       "number_of_reviews             1.000000         -0.061981  0.313871 -0.065125  \n",
       "availability_365             -0.061981          1.000000 -0.057588  0.111448  \n",
       "rev_flag                      0.313871         -0.057588  1.000000 -0.096697  \n",
       "price                        -0.065125          0.111448 -0.096697  1.000000  "
      ]
     },
     "execution_count": 275,
     "metadata": {},
     "output_type": "execute_result"
    }
   ],
   "source": [
    "corr_tab.head(20)"
   ]
  },
  {
   "cell_type": "markdown",
   "metadata": {},
   "source": [
    "Neighbourhood grop and room types are slightly correlated with 0.18\n",
    "room type and price are most correlated at -0.63\n",
    "min nights and availability_365 are slightly correlated \n",
    "MOST CORRELATED WITH PRICE ARE NEIGHBOURHOOD GROUP AND ROOM TYPE WHICH ARE BOTH CATEGORICAL VARIABLES AND EXPLAIN THE PRICE VARIANCE"
   ]
  },
  {
   "cell_type": "code",
   "execution_count": 1279,
   "metadata": {},
   "outputs": [],
   "source": [
    "#trying log transformation for number of reviews \n",
    "\n"
   ]
  },
  {
   "cell_type": "code",
   "execution_count": 276,
   "metadata": {
    "scrolled": false
   },
   "outputs": [
    {
     "data": {
      "text/plain": [
       "count    7224.000000\n",
       "mean      130.250969\n",
       "std        77.901684\n",
       "min         0.000000\n",
       "25%        64.000000\n",
       "50%       118.000000\n",
       "75%       181.000000\n",
       "max       349.000000\n",
       "Name: price, dtype: float64"
      ]
     },
     "execution_count": 276,
     "metadata": {},
     "output_type": "execute_result"
    }
   ],
   "source": [
    "y.describe()"
   ]
  },
  {
   "cell_type": "code",
   "execution_count": 277,
   "metadata": {
    "scrolled": false
   },
   "outputs": [
    {
     "data": {
      "text/plain": [
       "(array([6.347e+03, 4.930e+02, 1.890e+02, 8.200e+01, 4.100e+01, 3.800e+01,\n",
       "        1.600e+01, 7.000e+00, 6.000e+00, 5.000e+00]),\n",
       " array([  0. ,  32.3,  64.6,  96.9, 129.2, 161.5, 193.8, 226.1, 258.4,\n",
       "        290.7, 323. ]),\n",
       " <a list of 10 Patch objects>)"
      ]
     },
     "execution_count": 277,
     "metadata": {},
     "output_type": "execute_result"
    },
    {
     "data": {
      "image/png": "[encoded data removed]",
      "text/plain": [
       "<Figure size 432x288 with 1 Axes>"
      ]
     },
     "metadata": {
      "needs_background": "light"
     },
     "output_type": "display_data"
    }
   ],
   "source": [
    "plt.hist(X_n.number_of_reviews)"
   ]
  },
  {
   "cell_type": "code",
   "execution_count": 134,
   "metadata": {},
   "outputs": [],
   "source": [
    "review_log = np.log(X_corr.number_of_reviews+1)\n",
    "minights_log = np.log(X_corr.minimum_nights +1)"
   ]
  },
  {
   "cell_type": "code",
   "execution_count": 278,
   "metadata": {},
   "outputs": [
    {
     "data": {
      "text/plain": [
       "(array([2434., 1561.,  581.,  732.,  466.,  560.,  419.,  292.,  132.,\n",
       "          47.]),\n",
       " array([0.        , 0.57807435, 1.1561487 , 1.73422305, 2.31229741,\n",
       "        2.89037176, 3.46844611, 4.04652046, 4.62459481, 5.20266916,\n",
       "        5.78074352]),\n",
       " <a list of 10 Patch objects>)"
      ]
     },
     "execution_count": 278,
     "metadata": {},
     "output_type": "execute_result"
    },
    {
     "data": {
      "image/png": "[encoded data removed]",
      "text/plain": [
       "<Figure size 432x288 with 1 Axes>"
      ]
     },
     "metadata": {
      "needs_background": "light"
     },
     "output_type": "display_data"
    }
   ],
   "source": [
    "plt.hist(review_log)\n"
   ]
  },
  {
   "cell_type": "code",
   "execution_count": 279,
   "metadata": {
    "scrolled": false
   },
   "outputs": [
    {
     "data": {
      "text/plain": [
       "(array([3187., 1064.,  590.,  565.,  257.,  361.,  557.,   15.,   47.,\n",
       "         581.]),\n",
       " array([0.69314718, 1.10341152, 1.51367585, 1.92394019, 2.33420453,\n",
       "        2.74446886, 3.1547332 , 3.56499754, 3.97526187, 4.38552621,\n",
       "        4.79579055]),\n",
       " <a list of 10 Patch objects>)"
      ]
     },
     "execution_count": 279,
     "metadata": {},
     "output_type": "execute_result"
    },
    {
     "data": {
      "image/png": "[encoded data removed]",
      "text/plain": [
       "<Figure size 432x288 with 1 Axes>"
      ]
     },
     "metadata": {
      "needs_background": "light"
     },
     "output_type": "display_data"
    }
   ],
   "source": [
    "plt.hist(minights_log)"
   ]
  },
  {
   "cell_type": "code",
   "execution_count": 281,
   "metadata": {},
   "outputs": [
    {
     "data": {
      "text/plain": [
       "(7224, 8)"
      ]
     },
     "execution_count": 281,
     "metadata": {},
     "output_type": "execute_result"
    }
   ],
   "source": [
    "X_n.shape"
   ]
  },
  {
   "cell_type": "markdown",
   "metadata": {},
   "source": [
    "Both logs seem better distributed so we will try enhancing the model with log variables 1 by 1"
   ]
  },
  {
   "cell_type": "code",
   "execution_count": 1297,
   "metadata": {},
   "outputs": [],
   "source": [
    "#Adding log transformed variables to X dataset"
   ]
  },
  {
   "cell_type": "code",
   "execution_count": 291,
   "metadata": {},
   "outputs": [],
   "source": [
    "X_n2 = X_n"
   ]
  },
  {
   "cell_type": "code",
   "execution_count": 293,
   "metadata": {
    "scrolled": true
   },
   "outputs": [],
   "source": [
    "X_n2['minnight'] = np.log(X_n2.minimum_nights+1)\n",
    "X_n2 = X_n2.drop(['minimum_nights','price'],axis =1)"
   ]
  },
  {
   "cell_type": "code",
   "execution_count": 295,
   "metadata": {},
   "outputs": [
    {
     "data": {
      "text/plain": [
       "(7224, 7)"
      ]
     },
     "execution_count": 295,
     "metadata": {},
     "output_type": "execute_result"
    }
   ],
   "source": [
    "y.shape\n",
    "X_n2.shape"
   ]
  },
  {
   "cell_type": "code",
   "execution_count": 296,
   "metadata": {
    "scrolled": true
   },
   "outputs": [
    {
     "name": "stdout",
     "output_type": "stream",
     "text": [
      "[ -39.14803029  -38.08111408  -29.96936936  -33.9464946   -50.42884936\n",
      "  -52.07589792  -36.53492708  -26.42879189  -60.32898776 -138.30214499]\n"
     ]
    },
    {
     "data": {
      "text/plain": [
       "50.52446073168891"
      ]
     },
     "execution_count": 296,
     "metadata": {},
     "output_type": "execute_result"
    }
   ],
   "source": [
    "#checking for cross val scores using new dataset with 1 new log variable for number of reviews\n",
    "scores_lr_n2 = cross_val_score(LinearRegression(),X_n2,y,cv = 10, scoring = 'neg_mean_absolute_error')\n",
    "print(scores_lr_n2)\n",
    "np.mean(scores_lr_n2)*-1"
   ]
  },
  {
   "cell_type": "markdown",
   "metadata": {},
   "source": [
    "**Predicting an absolute price for a listing may not be most relevant for the business as there is definite error in prediction. So we want to predict confidence intervals for each datapoint so that the Airbnb can use it with more confidence either to show customers the estimated price range for their selected room type, neighbour hood and length of stay or to hosts who want to list their apartments on the platform**"
   ]
  },
  {
   "cell_type": "markdown",
   "metadata": {},
   "source": [
    "To solve for this,I will attempt to predict intervals using gradient boosting regressor"
   ]
  },
  {
   "cell_type": "markdown",
   "metadata": {},
   "source": [
    "For the lower prediction, use GradientBoostingRegressor(loss=\n",
    "\"quantile\", alpha=lower_quantile) with lower_quantile representing the lower bound, say 0.1 for the 10th percentile\n",
    "For the upper prediction, use the GradientBoostingRegressor(loss=\n",
    "\"quantile\", alpha=upper_quantile) with upper_quantile representing the upper bound, say 0.9 for the 90th percentile\n",
    "For the mid prediction, use GradientBoostingRegressor(loss=\"quantile\", alpha=0.5) which predicts the median, or the default loss=\"ls\" (for least squares) which predicts the mean. The example in the docs uses the latter approach, and so will we."
   ]
  },
  {
   "cell_type": "code",
   "execution_count": 297,
   "metadata": {},
   "outputs": [],
   "source": [
    "from sklearn.ensemble import GradientBoostingRegressor\n",
    "# Set lower and upper quantile\n",
    "LOWER_ALPHA = 0.1\n",
    "UPPER_ALPHA = 0.9\n",
    "# Each model has to be separate\n",
    "lower_model = GradientBoostingRegressor(loss=\"quantile\",                   \n",
    "                                        alpha=LOWER_ALPHA)\n",
    "# The mid model will use the default loss\n",
    "mid_model = GradientBoostingRegressor(loss=\"ls\")\n",
    "upper_model = GradientBoostingRegressor(loss=\"quantile\",\n",
    "                                        alpha=UPPER_ALPHA)"
   ]
  },
  {
   "cell_type": "code",
   "execution_count": 298,
   "metadata": {},
   "outputs": [],
   "source": [
    "#Making sample datasets for training gbr\n",
    "X2_train, X2_test, y2_train, y2_test = train_test_split(X_n2, y, test_size=0.3, random_state=101)"
   ]
  },
  {
   "cell_type": "code",
   "execution_count": 299,
   "metadata": {},
   "outputs": [],
   "source": [
    "# Fit models\n",
    "lower_model.fit(X2_train, y2_train)\n",
    "mid_model.fit(X2_train, y2_train)\n",
    "upper_model.fit(X2_train, y2_train)\n",
    "# Record actual values on test set\n",
    "predictions = pd.DataFrame(y2_test)\n",
    "# Predict\n",
    "predictions['lower'] = lower_model.predict(X2_test)\n",
    "predictions['mid'] = mid_model.predict(X2_test)\n",
    "predictions['upper'] = upper_model.predict(X2_test)"
   ]
  },
  {
   "cell_type": "code",
   "execution_count": 300,
   "metadata": {},
   "outputs": [
    {
     "name": "stdout",
     "output_type": "stream",
     "text": [
      "      price       lower         mid       upper\n",
      "4430    139  121.650540  224.495834  319.126777\n",
      "5846    200  116.985432  193.458565  272.448115\n",
      "2858     94   89.742501  124.443703  208.308089\n",
      "3059    100   99.812639  190.440914  274.845458\n",
      "3198    100  101.297151  170.478029  247.723798\n"
     ]
    }
   ],
   "source": [
    "print(predictions.head())"
   ]
  },
  {
   "cell_type": "code",
   "execution_count": 301,
   "metadata": {},
   "outputs": [
    {
     "name": "stdout",
     "output_type": "stream",
     "text": [
      "[ -50.39225156  -30.51021547  -26.57529785  -32.28890499  -49.62377344\n",
      "  -52.0569209   -38.56387473  -30.10003459  -55.06350401 -131.91645521]\n"
     ]
    },
    {
     "data": {
      "text/plain": [
       "49.709123275386084"
      ]
     },
     "execution_count": 301,
     "metadata": {},
     "output_type": "execute_result"
    }
   ],
   "source": [
    "#checking for cross val scores using gradient boosting regressor alpa = median\n",
    "scores_lr_gbr = cross_val_score(GradientBoostingRegressor(loss=\"ls\"),X_n2,y,cv = 10, scoring = 'neg_mean_absolute_error')\n",
    "print(scores_lr_gbr)\n",
    "np.mean(scores_lr_gbr)*-1"
   ]
  },
  {
   "cell_type": "code",
   "execution_count": 302,
   "metadata": {
    "scrolled": true
   },
   "outputs": [
    {
     "name": "stdout",
     "output_type": "stream",
     "text": [
      "[ -17.16398918  -12.53665028  -23.14631477  -35.40129868  -34.20090923\n",
      "  -35.07805224  -54.85605411  -83.82591429 -123.5269559  -188.09756526]\n"
     ]
    },
    {
     "data": {
      "text/plain": [
       "60.783370395339986"
      ]
     },
     "execution_count": 302,
     "metadata": {},
     "output_type": "execute_result"
    }
   ],
   "source": [
    "#checking for cross val scores using gradient boosting regressor alpa = lowe alpha\n",
    "scores_lr_gbr_la = cross_val_score(GradientBoostingRegressor(loss=\"quantile\",                   \n",
    "                                        alpha=LOWER_ALPHA),X_n2,y,cv = 10, scoring = 'neg_mean_absolute_error')\n",
    "print(scores_lr_gbr_la)\n",
    "np.mean(scores_lr_gbr_la)*-1"
   ]
  },
  {
   "cell_type": "code",
   "execution_count": 235,
   "metadata": {
    "scrolled": true
   },
   "outputs": [
    {
     "name": "stdout",
     "output_type": "stream",
     "text": [
      "[-112.03663349  -80.25440383  -78.6087677   -92.08231404 -114.22816091\n",
      " -125.47853006 -111.60295255  -88.23762435  -58.24829345  -75.91369043]\n"
     ]
    },
    {
     "data": {
      "text/plain": [
       "93.66913707875777"
      ]
     },
     "execution_count": 235,
     "metadata": {},
     "output_type": "execute_result"
    }
   ],
   "source": [
    "#checking for cross val scores using gradient boosting regressor alpa = lowe alpha\n",
    "scores_lr_gbr_ua = cross_val_score(GradientBoostingRegressor(loss=\"quantile\",                   \n",
    "                                        alpha=UPPER_ALPHA),X_n2,y,cv = 10, scoring = 'neg_mean_absolute_error')\n",
    "print(scores_lr_gbr_ua)\n",
    "np.mean(scores_lr_gbr_ua)*-1"
   ]
  },
  {
   "cell_type": "code",
   "execution_count": 303,
   "metadata": {},
   "outputs": [
    {
     "data": {
      "text/plain": [
       "(7224, 7)"
      ]
     },
     "execution_count": 303,
     "metadata": {},
     "output_type": "execute_result"
    }
   ],
   "source": [
    "X_n2.shape"
   ]
  },
  {
   "cell_type": "code",
   "execution_count": 304,
   "metadata": {},
   "outputs": [
    {
     "data": {
      "text/plain": [
       "(7224,)"
      ]
     },
     "execution_count": 304,
     "metadata": {},
     "output_type": "execute_result"
    }
   ],
   "source": [
    "y.shape"
   ]
  },
  {
   "cell_type": "markdown",
   "metadata": {},
   "source": [
    "lower alpha and upper alpha are obviously higher as they are upper and lower level limits for the quartile and the error from the mean will become higher"
   ]
  },
  {
   "cell_type": "markdown",
   "metadata": {},
   "source": [
    "**LITERATURE REVIEW ON PREDICTION INTERVAL**\n",
    "https://machinelearningmastery.com/prediction-intervals-for-machine-learning/\n",
    "\n",
    "A prediction interval is calculated as some combination of the estimated variance of the model and the variance of the outcome variable.\n",
    "Prediction intervals are easy to describe, but difficult to calculate in practice.\n",
    "In simple cases like linear regression, we can estimate the confidence interval directly.\n",
    "In the cases of nonlinear regression algorithms, such as artificial neural networks, it is a lot more challenging and requires the choice and implementation of specialized techniques. General techniques such as the bootstrap resampling method can be used, but are computationally expensive to calculate.\n",
    "\n",
    "\n",
    "The paper “A Comprehensive Review of Neural Network-based Prediction Intervals and New Advances” provides a reasonably recent study of prediction intervals for nonlinear models in the context of neural networks. The following list summarizes some methods that can be used for prediction uncertainty for nonlinear machine learning models:\n",
    "\n",
    "The Delta Method, from the field of nonlinear regression.\n",
    "The Bayesian Method, from Bayesian modeling and statistics.\n",
    "The Mean-Variance Estimation Method, using estimated statistics.\n",
    "The Bootstrap Method, using data resampling and developing an ensemble of models.\n",
    "We can make the calculation of a prediction interval concrete with a worked example in the next section."
   ]
  },
  {
   "cell_type": "code",
   "execution_count": 305,
   "metadata": {},
   "outputs": [],
   "source": [
    "from numpy.random import randn\n",
    "from numpy.random import seed\n",
    "from numpy import power\n",
    "from numpy import sqrt\n",
    "from numpy import mean\n",
    "from numpy import std\n",
    "from numpy import sum as arraysum\n",
    "from scipy.stats import linregress\n",
    "from matplotlib import pyplot"
   ]
  },
  {
   "cell_type": "code",
   "execution_count": 306,
   "metadata": {},
   "outputs": [],
   "source": [
    "#Splitting dataset for this new model\n",
    "X3_train, X3_test, y3_train, y3_test = train_test_split(X_n2, y, test_size=0.3, random_state=101)\n"
   ]
  },
  {
   "cell_type": "code",
   "execution_count": 307,
   "metadata": {},
   "outputs": [
    {
     "data": {
      "text/plain": [
       "LinearRegression(copy_X=True, fit_intercept=True, n_jobs=None, normalize=False)"
      ]
     },
     "execution_count": 307,
     "metadata": {},
     "output_type": "execute_result"
    }
   ],
   "source": [
    "lm.fit(X3_train,y3_train)"
   ]
  },
  {
   "cell_type": "code",
   "execution_count": 308,
   "metadata": {
    "scrolled": false
   },
   "outputs": [
    {
     "data": {
      "text/html": [
       "<div>\n",
       "<style scoped>\n",
       "    .dataframe tbody tr th:only-of-type {\n",
       "        vertical-align: middle;\n",
       "    }\n",
       "\n",
       "    .dataframe tbody tr th {\n",
       "        vertical-align: top;\n",
       "    }\n",
       "\n",
       "    .dataframe thead th {\n",
       "        text-align: right;\n",
       "    }\n",
       "</style>\n",
       "<table border=\"1\" class=\"dataframe\">\n",
       "  <thead>\n",
       "    <tr style=\"text-align: right;\">\n",
       "      <th></th>\n",
       "      <th>y_actual</th>\n",
       "      <th>yhat</th>\n",
       "    </tr>\n",
       "  </thead>\n",
       "  <tbody>\n",
       "    <tr>\n",
       "      <td>0</td>\n",
       "      <td>139</td>\n",
       "      <td>207.005961</td>\n",
       "    </tr>\n",
       "    <tr>\n",
       "      <td>1</td>\n",
       "      <td>200</td>\n",
       "      <td>206.697276</td>\n",
       "    </tr>\n",
       "    <tr>\n",
       "      <td>2</td>\n",
       "      <td>94</td>\n",
       "      <td>159.712774</td>\n",
       "    </tr>\n",
       "    <tr>\n",
       "      <td>3</td>\n",
       "      <td>100</td>\n",
       "      <td>162.337063</td>\n",
       "    </tr>\n",
       "    <tr>\n",
       "      <td>4</td>\n",
       "      <td>100</td>\n",
       "      <td>171.970697</td>\n",
       "    </tr>\n",
       "  </tbody>\n",
       "</table>\n",
       "</div>"
      ],
      "text/plain": [
       "   y_actual        yhat\n",
       "0       139  207.005961\n",
       "1       200  206.697276\n",
       "2        94  159.712774\n",
       "3       100  162.337063\n",
       "4       100  171.970697"
      ]
     },
     "execution_count": 308,
     "metadata": {},
     "output_type": "execute_result"
    }
   ],
   "source": [
    "predicts = lm.predict(X3_test)\n",
    "X3_airbnb = pd.DataFrame({\n",
    "        'y_actual': np.array(y3_test).flatten(),\n",
    "        'yhat': predicts.flatten()})\n",
    "X3_airbnb.head()"
   ]
  },
  {
   "cell_type": "code",
   "execution_count": 310,
   "metadata": {},
   "outputs": [],
   "source": [
    "yhat = X3_airbnb['yhat']"
   ]
  },
  {
   "cell_type": "code",
   "execution_count": 311,
   "metadata": {},
   "outputs": [],
   "source": [
    "y_act = X3_airbnb['y_actual']"
   ]
  },
  {
   "cell_type": "code",
   "execution_count": 315,
   "metadata": {},
   "outputs": [],
   "source": [
    "y_out = y_act[0]"
   ]
  },
  {
   "cell_type": "code",
   "execution_count": 316,
   "metadata": {},
   "outputs": [
    {
     "name": "stdout",
     "output_type": "stream",
     "text": [
      "139\n"
     ]
    }
   ],
   "source": [
    "print(y_out)"
   ]
  },
  {
   "cell_type": "code",
   "execution_count": 317,
   "metadata": {},
   "outputs": [],
   "source": [
    "yhat_out = yhat[0]"
   ]
  },
  {
   "cell_type": "code",
   "execution_count": 318,
   "metadata": {},
   "outputs": [
    {
     "name": "stdout",
     "output_type": "stream",
     "text": [
      "207.00596102887397\n"
     ]
    }
   ],
   "source": [
    "print(yhat_out)"
   ]
  },
  {
   "cell_type": "code",
   "execution_count": 323,
   "metadata": {
    "scrolled": true
   },
   "outputs": [
    {
     "name": "stdout",
     "output_type": "stream",
     "text": [
      "Prediction Interval: 112.784\n"
     ]
    }
   ],
   "source": [
    "interval = []\n",
    "lower = []\n",
    "upper = []\n",
    "\n",
    "# estimate stdev of yhat\n",
    "sum_errs = arraysum((y_act - yhat)**2)\n",
    "stdev = sqrt(1/(len(y_act)-2) * sum_errs)\n",
    "\n",
    "# calculate prediction interval\n",
    "interval = 1.96 * stdev\n",
    "print('Prediction Interval: %.3f' % interval)\n",
    "\n"
   ]
  },
  {
   "cell_type": "code",
   "execution_count": 324,
   "metadata": {},
   "outputs": [
    {
     "data": {
      "text/plain": [
       "2168"
      ]
     },
     "execution_count": 324,
     "metadata": {},
     "output_type": "execute_result"
    }
   ],
   "source": [
    "len(X3_airbnb)"
   ]
  },
  {
   "cell_type": "code",
   "execution_count": 325,
   "metadata": {},
   "outputs": [],
   "source": [
    " param_range_new = list(range(0,len(X3_airbnb)))"
   ]
  },
  {
   "cell_type": "code",
   "execution_count": 331,
   "metadata": {},
   "outputs": [],
   "source": [
    "\n",
    "for i in  param_range_new:\n",
    "    y_fout = y_act[i]\n",
    "    lower_i, upper_i = y_fout - interval, y_fout + interval\n",
    "    lower.append(lower_i)\n",
    "    upper.append(upper_i)\n",
    "    \n",
    "#print('95%% likelihood that the true value is between %.3f and %.3f' % (lower, upper))\n",
    "#print('True value: %.3f' % y_out)\n",
    "#print('True value: %.3f' % yhat_out)"
   ]
  },
  {
   "cell_type": "code",
   "execution_count": 338,
   "metadata": {},
   "outputs": [],
   "source": [
    "#Making a dataframe with predicted value, lower and upper values\n",
    "\n",
    "y_final = pd.DataFrame({'Actual Price': y_act,'Predicted Price': yhat,'lower prediction range':lower,'upper prediction range':upper})"
   ]
  },
  {
   "cell_type": "code",
   "execution_count": 339,
   "metadata": {},
   "outputs": [
    {
     "data": {
      "text/html": [
       "<div>\n",
       "<style scoped>\n",
       "    .dataframe tbody tr th:only-of-type {\n",
       "        vertical-align: middle;\n",
       "    }\n",
       "\n",
       "    .dataframe tbody tr th {\n",
       "        vertical-align: top;\n",
       "    }\n",
       "\n",
       "    .dataframe thead th {\n",
       "        text-align: right;\n",
       "    }\n",
       "</style>\n",
       "<table border=\"1\" class=\"dataframe\">\n",
       "  <thead>\n",
       "    <tr style=\"text-align: right;\">\n",
       "      <th></th>\n",
       "      <th>Actual Price</th>\n",
       "      <th>Predicted Price</th>\n",
       "      <th>lower prediction range</th>\n",
       "      <th>upper prediction range</th>\n",
       "    </tr>\n",
       "  </thead>\n",
       "  <tbody>\n",
       "    <tr>\n",
       "      <td>0</td>\n",
       "      <td>139</td>\n",
       "      <td>207.005961</td>\n",
       "      <td>26.216455</td>\n",
       "      <td>251.783545</td>\n",
       "    </tr>\n",
       "    <tr>\n",
       "      <td>1</td>\n",
       "      <td>200</td>\n",
       "      <td>206.697276</td>\n",
       "      <td>87.216455</td>\n",
       "      <td>312.783545</td>\n",
       "    </tr>\n",
       "    <tr>\n",
       "      <td>2</td>\n",
       "      <td>94</td>\n",
       "      <td>159.712774</td>\n",
       "      <td>-18.783545</td>\n",
       "      <td>206.783545</td>\n",
       "    </tr>\n",
       "    <tr>\n",
       "      <td>3</td>\n",
       "      <td>100</td>\n",
       "      <td>162.337063</td>\n",
       "      <td>-12.783545</td>\n",
       "      <td>212.783545</td>\n",
       "    </tr>\n",
       "    <tr>\n",
       "      <td>4</td>\n",
       "      <td>100</td>\n",
       "      <td>171.970697</td>\n",
       "      <td>-12.783545</td>\n",
       "      <td>212.783545</td>\n",
       "    </tr>\n",
       "  </tbody>\n",
       "</table>\n",
       "</div>"
      ],
      "text/plain": [
       "   Actual Price  Predicted Price  lower prediction range  \\\n",
       "0           139       207.005961               26.216455   \n",
       "1           200       206.697276               87.216455   \n",
       "2            94       159.712774              -18.783545   \n",
       "3           100       162.337063              -12.783545   \n",
       "4           100       171.970697              -12.783545   \n",
       "\n",
       "   upper prediction range  \n",
       "0              251.783545  \n",
       "1              312.783545  \n",
       "2              206.783545  \n",
       "3              212.783545  \n",
       "4              212.783545  "
      ]
     },
     "execution_count": 339,
     "metadata": {},
     "output_type": "execute_result"
    }
   ],
   "source": [
    "y_final.head()"
   ]
  },
  {
   "cell_type": "markdown",
   "metadata": {},
   "source": [
    "** Y_Final is the New price prediction with lower and upper range with +/- 2 standard deviations**"
   ]
  }
 ],
 "metadata": {
  "kernelspec": {
   "display_name": "Python 3",
   "language": "python",
   "name": "python3"
  },
  "language_info": {
   "codemirror_mode": {
    "name": "ipython",
    "version": 3
   },
   "file_extension": ".py",
   "mimetype": "text/x-python",
   "name": "python",
   "nbconvert_exporter": "python",
   "pygments_lexer": "ipython3",
   "version": "3.7.4"
  }
 },
 "nbformat": 4,
 "nbformat_minor": 1
}
